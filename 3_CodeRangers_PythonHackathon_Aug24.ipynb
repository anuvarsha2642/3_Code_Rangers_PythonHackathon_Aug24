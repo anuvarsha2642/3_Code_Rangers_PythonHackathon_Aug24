{
 "cells": [
  {
   "cell_type": "markdown",
   "id": "2f104c40-8923-487a-a830-cdc0359d19f9",
   "metadata": {},
   "source": [
    "# Python Hackathon August 2024 Team 3 - Code Rangers"
   ]
  },
  {
   "cell_type": "code",
   "execution_count": 198,
   "id": "aabc6621",
   "metadata": {},
   "outputs": [],
   "source": [
    "#import required libraries\n",
    "#import numpy as np\n",
    "#import pandas as pd\n",
    "\n"
   ]
  },
  {
   "cell_type": "code",
   "execution_count": 200,
   "id": "b242712f",
   "metadata": {},
   "outputs": [],
   "source": [
    "#file_path_Athletes=\"./Athletes.csv\"\n",
    "#file_path_Kayaking=\"./Kayaking.csv\"\n",
    "#file_path_Triathlon=\"./Triathlon.csv\"\n",
    "#file_path_Fencing=\"./Fencing.csv\""
   ]
  },
  {
   "cell_type": "code",
   "execution_count": 202,
   "id": "be78ef6f",
   "metadata": {},
   "outputs": [],
   "source": [
    "#import pandas as pd\n",
    "#df_Athletes=pd.read_csv(file_path_Athletes)\n",
    "#df_Kayaking=pd.read_csv(file_path_Kayaking)\n",
    "#df_Triathlon=pd.read_csv(file_path_Triathlon)\n",
    "#df_Fencing=pd.read_csv(file_path_Fencing)"
   ]
  },
  {
   "cell_type": "code",
   "execution_count": 104,
   "id": "7e6e674d-534d-4f1f-8650-3108ace937e0",
   "metadata": {},
   "outputs": [],
   "source": [
    "#import required libraries\n",
    "import numpy as np\n",
    "import pandas as pd\n",
    "import seaborn as sns\n",
    "import matplotlib.pyplot as plt\n",
    "import warnings\n",
    "\n",
    "#ignore python warnings\n",
    "warnings.filterwarnings('ignore')"
   ]
  },
  {
   "cell_type": "code",
   "execution_count": 106,
   "id": "2fc91bad-dc30-4d33-952c-00bd0c7c6160",
   "metadata": {},
   "outputs": [],
   "source": [
    "#Read data from excel worksheets\n",
    "df_Kayaking =pd.read_excel(\"V02Max_Combined.xlsx\",sheet_name=\"Kayaking\")\n",
    "df_Athletes=pd.read_excel(\"V02Max_Combined.xlsx\",sheet_name=\"Athletes\")\n",
    "df_Triathlon=pd.read_excel(\"V02Max_Combined.xlsx\",sheet_name=\"Triathlon\")\n",
    "df_Fencing=pd.read_excel(\"V02Max_Combined.xlsx\",sheet_name=\"Fencing\")"
   ]
  },
  {
   "cell_type": "markdown",
   "id": "fe0ba540-a58a-45a7-98aa-e5b32e152701",
   "metadata": {},
   "source": [
    "1. Join all sport-related tables to produce one dataframe that has all athletes values. The final table should only have the same 5 columns: ID, time,power,RR, vo2. Write this dataframe to an excel file."
   ]
  },
  {
   "cell_type": "code",
   "execution_count": 108,
   "id": "6a56fef1-1da9-4a8d-b4e3-63a344ef0419",
   "metadata": {},
   "outputs": [],
   "source": [
    "#concatenate all sports data to form a single dataframe\n",
    "df_data = pd.concat([df_Fencing,df_Kayaking,df_Triathlon],ignore_index=True)"
   ]
  },
  {
   "cell_type": "code",
   "execution_count": 110,
   "id": "ae760f13-9596-43c5-b8e9-9ca7d2d80dc5",
   "metadata": {},
   "outputs": [
    {
     "data": {
      "text/html": [
       "<div>\n",
       "<style scoped>\n",
       "    .dataframe tbody tr th:only-of-type {\n",
       "        vertical-align: middle;\n",
       "    }\n",
       "\n",
       "    .dataframe tbody tr th {\n",
       "        vertical-align: top;\n",
       "    }\n",
       "\n",
       "    .dataframe thead th {\n",
       "        text-align: right;\n",
       "    }\n",
       "</style>\n",
       "<table border=\"1\" class=\"dataframe\">\n",
       "  <thead>\n",
       "    <tr style=\"text-align: right;\">\n",
       "      <th></th>\n",
       "      <th>ID</th>\n",
       "      <th>time</th>\n",
       "      <th>RR</th>\n",
       "      <th>VO2</th>\n",
       "      <th>power</th>\n",
       "    </tr>\n",
       "  </thead>\n",
       "  <tbody>\n",
       "    <tr>\n",
       "      <th>count</th>\n",
       "      <td>52062.000000</td>\n",
       "      <td>52062.00000</td>\n",
       "      <td>50914.000000</td>\n",
       "      <td>52062.000000</td>\n",
       "      <td>52062.000000</td>\n",
       "    </tr>\n",
       "    <tr>\n",
       "      <th>mean</th>\n",
       "      <td>9.518766</td>\n",
       "      <td>547.45914</td>\n",
       "      <td>443.583808</td>\n",
       "      <td>1.539104</td>\n",
       "      <td>106.528754</td>\n",
       "    </tr>\n",
       "    <tr>\n",
       "      <th>std</th>\n",
       "      <td>5.043902</td>\n",
       "      <td>386.29623</td>\n",
       "      <td>212.585991</td>\n",
       "      <td>0.799706</td>\n",
       "      <td>88.603627</td>\n",
       "    </tr>\n",
       "    <tr>\n",
       "      <th>min</th>\n",
       "      <td>1.000000</td>\n",
       "      <td>-219.87200</td>\n",
       "      <td>252.000000</td>\n",
       "      <td>0.069354</td>\n",
       "      <td>0.000000</td>\n",
       "    </tr>\n",
       "    <tr>\n",
       "      <th>25%</th>\n",
       "      <td>5.000000</td>\n",
       "      <td>244.29500</td>\n",
       "      <td>352.000000</td>\n",
       "      <td>0.972290</td>\n",
       "      <td>0.000000</td>\n",
       "    </tr>\n",
       "    <tr>\n",
       "      <th>50%</th>\n",
       "      <td>10.000000</td>\n",
       "      <td>542.03800</td>\n",
       "      <td>412.000000</td>\n",
       "      <td>1.419143</td>\n",
       "      <td>95.000000</td>\n",
       "    </tr>\n",
       "    <tr>\n",
       "      <th>75%</th>\n",
       "      <td>14.000000</td>\n",
       "      <td>822.13900</td>\n",
       "      <td>484.000000</td>\n",
       "      <td>2.043474</td>\n",
       "      <td>170.000000</td>\n",
       "    </tr>\n",
       "    <tr>\n",
       "      <th>max</th>\n",
       "      <td>18.000000</td>\n",
       "      <td>1504.05600</td>\n",
       "      <td>30500.000000</td>\n",
       "      <td>4.576774</td>\n",
       "      <td>335.000000</td>\n",
       "    </tr>\n",
       "  </tbody>\n",
       "</table>\n",
       "</div>"
      ],
      "text/plain": [
       "                 ID         time            RR           VO2         power\n",
       "count  52062.000000  52062.00000  50914.000000  52062.000000  52062.000000\n",
       "mean       9.518766    547.45914    443.583808      1.539104    106.528754\n",
       "std        5.043902    386.29623    212.585991      0.799706     88.603627\n",
       "min        1.000000   -219.87200    252.000000      0.069354      0.000000\n",
       "25%        5.000000    244.29500    352.000000      0.972290      0.000000\n",
       "50%       10.000000    542.03800    412.000000      1.419143     95.000000\n",
       "75%       14.000000    822.13900    484.000000      2.043474    170.000000\n",
       "max       18.000000   1504.05600  30500.000000      4.576774    335.000000"
      ]
     },
     "execution_count": 110,
     "metadata": {},
     "output_type": "execute_result"
    }
   ],
   "source": [
    "#verify data\n",
    "df_data.describe()"
   ]
  },
  {
   "cell_type": "code",
   "execution_count": 112,
   "id": "a2579d0a-bc5e-4411-80b0-6401587524e8",
   "metadata": {},
   "outputs": [],
   "source": [
    "# Export Dataframe to Excel by eliminating index\n",
    "df_data.to_excel(\"V02Max_Sports.xlsx\",sheet_name=\"All_Sports\",index=False)"
   ]
  },
  {
   "cell_type": "markdown",
   "id": "c80c0e41-ef2f-45f5-b131-66540c63036e",
   "metadata": {},
   "source": [
    "2. Divide the rows into 3 parts: Warm up, GET(graded exercise test) and cool down using the data def. Label each row accordingly"
   ]
  },
  {
   "cell_type": "code",
   "execution_count": 114,
   "id": "4a7e0ae1-6f58-46d7-95f9-5ee2d29c40d2",
   "metadata": {},
   "outputs": [],
   "source": [
    "# cooldown = time>0 and power =0\n",
    "# warmup = time<0 and power =0\n",
    "# GET(graded exercise test) =time>0 and power>0\n",
    "\n",
    "df_data[\"stage\"] = \"\"\n",
    "df_data.loc[df_data[\"power\"] == 0, \"stage\"] = \"cooldown\"\n",
    "df_data.loc[df_data[\"time\"] < 0, \"stage\"] = \"warmup\"\n",
    "df_data.loc[df_data[\"power\"] > 0, \"stage\"] = \"GET\""
   ]
  },
  {
   "cell_type": "code",
   "execution_count": 116,
   "id": "7578828a-2dc1-461e-82d1-c9b56e17a509",
   "metadata": {},
   "outputs": [
    {
     "data": {
      "text/html": [
       "<div>\n",
       "<style scoped>\n",
       "    .dataframe tbody tr th:only-of-type {\n",
       "        vertical-align: middle;\n",
       "    }\n",
       "\n",
       "    .dataframe tbody tr th {\n",
       "        vertical-align: top;\n",
       "    }\n",
       "\n",
       "    .dataframe thead th {\n",
       "        text-align: right;\n",
       "    }\n",
       "</style>\n",
       "<table border=\"1\" class=\"dataframe\">\n",
       "  <thead>\n",
       "    <tr style=\"text-align: right;\">\n",
       "      <th></th>\n",
       "      <th>ID</th>\n",
       "      <th>time</th>\n",
       "      <th>RR</th>\n",
       "      <th>VO2</th>\n",
       "      <th>power</th>\n",
       "      <th>stage</th>\n",
       "    </tr>\n",
       "  </thead>\n",
       "  <tbody>\n",
       "    <tr>\n",
       "      <th>0</th>\n",
       "      <td>1</td>\n",
       "      <td>-130.840</td>\n",
       "      <td>672.0</td>\n",
       "      <td>0.302008</td>\n",
       "      <td>0</td>\n",
       "      <td>warmup</td>\n",
       "    </tr>\n",
       "    <tr>\n",
       "      <th>1</th>\n",
       "      <td>1</td>\n",
       "      <td>-130.168</td>\n",
       "      <td>672.0</td>\n",
       "      <td>0.302008</td>\n",
       "      <td>0</td>\n",
       "      <td>warmup</td>\n",
       "    </tr>\n",
       "    <tr>\n",
       "      <th>2</th>\n",
       "      <td>1</td>\n",
       "      <td>-129.536</td>\n",
       "      <td>632.0</td>\n",
       "      <td>0.301336</td>\n",
       "      <td>0</td>\n",
       "      <td>warmup</td>\n",
       "    </tr>\n",
       "    <tr>\n",
       "      <th>3</th>\n",
       "      <td>1</td>\n",
       "      <td>-128.824</td>\n",
       "      <td>712.0</td>\n",
       "      <td>0.301336</td>\n",
       "      <td>0</td>\n",
       "      <td>warmup</td>\n",
       "    </tr>\n",
       "    <tr>\n",
       "      <th>4</th>\n",
       "      <td>1</td>\n",
       "      <td>-127.948</td>\n",
       "      <td>876.0</td>\n",
       "      <td>0.301336</td>\n",
       "      <td>0</td>\n",
       "      <td>warmup</td>\n",
       "    </tr>\n",
       "  </tbody>\n",
       "</table>\n",
       "</div>"
      ],
      "text/plain": [
       "   ID     time     RR       VO2  power   stage\n",
       "0   1 -130.840  672.0  0.302008      0  warmup\n",
       "1   1 -130.168  672.0  0.302008      0  warmup\n",
       "2   1 -129.536  632.0  0.301336      0  warmup\n",
       "3   1 -128.824  712.0  0.301336      0  warmup\n",
       "4   1 -127.948  876.0  0.301336      0  warmup"
      ]
     },
     "execution_count": 116,
     "metadata": {},
     "output_type": "execute_result"
    }
   ],
   "source": [
    "# Verify top five rows\n",
    "df_data.head()"
   ]
  },
  {
   "cell_type": "code",
   "execution_count": 118,
   "id": "0d78aab8-a998-4630-952e-68ae3efcefdf",
   "metadata": {},
   "outputs": [
    {
     "data": {
      "text/plain": [
       "stage\n",
       "GET         38733\n",
       "cooldown     9088\n",
       "warmup       4241\n",
       "Name: count, dtype: int64"
      ]
     },
     "execution_count": 118,
     "metadata": {},
     "output_type": "execute_result"
    }
   ],
   "source": [
    "#verify the count of rows for each stage\n",
    "df_data[\"stage\"].value_counts()"
   ]
  },
  {
   "cell_type": "markdown",
   "id": "e1e64259-a201-42d6-83a3-138834faeb13",
   "metadata": {},
   "source": [
    "3. What was the average time each tested lasted excluding warm up for all athletes?"
   ]
  },
  {
   "cell_type": "code",
   "execution_count": 120,
   "id": "c0a2ef32-401a-49d1-8c1d-4f01856cb94d",
   "metadata": {},
   "outputs": [
    {
     "name": "stdout",
     "output_type": "stream",
     "text": [
      "The average time each tested lasted excluding warm up for all athletes is  1096.9759999999999\n"
     ]
    }
   ],
   "source": [
    "#get max time of individual athelete excluding warmup stage. calculate mean of max time.\n",
    "avg_test_time = df_data[df_data[\"stage\"] != \"warmup\"].groupby(\"ID\")[\"time\"].max().mean()\n",
    "print(\"The average time each tested lasted excluding warm up for all athletes is \",avg_test_time)"
   ]
  },
  {
   "cell_type": "markdown",
   "id": "9ac5126f-a143-476e-b747-1003602c8249",
   "metadata": {},
   "source": [
    "4. Athletes from which sport had the highest average cardiorespiratory fitness in terms of HRV?"
   ]
  },
  {
   "cell_type": "code",
   "execution_count": 123,
   "id": "2d170399-f766-45b2-985f-b17e9f22f95e",
   "metadata": {},
   "outputs": [],
   "source": [
    "df_RR = df_data.copy()\n",
    "#calculated differences of RR_intervals\n",
    "df_RR[\"HRV\"]= df_RR.groupby(\"ID\")[\"RR\"].diff()\n",
    "# Calculated HRV as standard deviation of RR_interval diffrences and updated to the athelete dataframe. \n",
    "df_Athletes = pd.merge(df_Athletes,df_RR.groupby(\"ID\")[\"HRV\"].std(), on=\"ID\")"
   ]
  },
  {
   "cell_type": "code",
   "execution_count": 125,
   "id": "316cf130-fa09-414d-ae28-fee5dd737673",
   "metadata": {},
   "outputs": [
    {
     "name": "stdout",
     "output_type": "stream",
     "text": [
      "The sport that has the highest average cardiorespiratory fitness in terms of HRV is sport\n",
      "kayak    170.640909\n",
      "Name: HRV, dtype: float64\n"
     ]
    }
   ],
   "source": [
    "#calculated mean HRV value for each sport and displyed the highest average sport\n",
    "high_HRV_sport=df_Athletes.groupby(\"sport\")[\"HRV\"].mean().sort_values(ascending=False).head(1)\n",
    "print(\"The sport that has the highest average cardiorespiratory fitness in terms of HRV is\",high_HRV_sport)"
   ]
  },
  {
   "cell_type": "markdown",
   "id": "6ceb64fe-10b9-456c-93fc-99c3d75d5ccf",
   "metadata": {},
   "source": [
    "5. What was the average time each test lasted (including warm up) for all athletes?"
   ]
  },
  {
   "cell_type": "code",
   "execution_count": 129,
   "id": "05abc8df-1302-469c-80f6-59b24bf306d6",
   "metadata": {},
   "outputs": [
    {
     "name": "stdout",
     "output_type": "stream",
     "text": [
      "The average time each tested lasted including warm up for all athletes is  1277.8059999999998\n"
     ]
    }
   ],
   "source": [
    "#total test time calculated as difference between the maximum and minimum of time\n",
    "total_time_taken= df_data.groupby(\"ID\")[\"time\"].max() - df_data.groupby(\"ID\")[\"time\"].min()\n",
    "avg_total_time = total_time_taken.mean()\n",
    "print(\"The average time each tested lasted including warm up for all athletes is \",avg_total_time)"
   ]
  },
  {
   "cell_type": "markdown",
   "id": "626761e2-7e3f-4635-af0e-7af623efaf7a",
   "metadata": {},
   "source": [
    "6. What was the most common  wattage (above 0) achieved by participants and for how many seconds (average time)? You may choose to show averages based on any one/all sports"
   ]
  },
  {
   "cell_type": "code",
   "execution_count": 135,
   "id": "691a345d-50cf-4072-ba45-e4502336e599",
   "metadata": {},
   "outputs": [
    {
     "name": "stdout",
     "output_type": "stream",
     "text": [
      "The most common wattage after zero for all atheletes is 50\n",
      "The average time spent in common wattage for all atheletes is  177.77977777777778\n"
     ]
    }
   ],
   "source": [
    "#calculating most common wattage (above 0) interpretted as most data readings for a wattage after zero.\n",
    "common_watt = st.mode(df_data[df_data[\"power\"]!=0][\"power\"])\n",
    "print(\"The most common wattage after zero for all atheletes is\",common_watt)\n",
    "\n",
    "#totaltime spent in common wattage for each participant is calculated as difference between the maximum and minimum of time spent in that wattage.\n",
    "#Then calculated average time spent for all of the participants\n",
    "avg_common_watt_time = (df_data[df_data[\"power\"]==common_watt].groupby(\"ID\").max(\"time\")[\"time\"]\n",
    "                        -df_data[df_data[\"power\"]==common_watt].groupby(\"ID\").min(\"time\")[\"time\"]).mean()\n",
    "print(\"The average time spent in common wattage for all atheletes is \",avg_common_watt_time)"
   ]
  },
  {
   "cell_type": "markdown",
   "id": "61c91c45-c550-4598-aace-cf8bc1650a89",
   "metadata": {},
   "source": [
    "7. Create a correlation matrix to show the relationship between HR, BMI and sport."
   ]
  },
  {
   "cell_type": "code",
   "execution_count": 138,
   "id": "d1352d6d-5ded-4734-a653-76b43841d18d",
   "metadata": {},
   "outputs": [],
   "source": [
    "#calculting HR as 60/(RR value/1000) added HR to data table\n",
    "df_data[\"HR\"]= 60/(df_data[\"RR\"]/1000)\n",
    "\n",
    "#calculating BMI as weight(kg)(height(meter))^2\n",
    "df_Athletes[\"BMI\"] = df_Athletes[\"Weight\"]/(df_Athletes[\"Height\"]/100)**2\n",
    "\n",
    "#merged HR from data table and BMI and sport from atheletes table\n",
    "df_corr_BMI_HR = pd.merge(df_data[[\"ID\",\"HR\"]],df_Athletes[[\"ID\",\"sport\",\"BMI\"]],on=\"ID\")"
   ]
  },
  {
   "cell_type": "code",
   "execution_count": 146,
   "id": "e66e0bab-5631-4052-b4a1-fcd196117531",
   "metadata": {},
   "outputs": [
    {
     "data": {
      "image/png": "[encoded data removed]",
      "text/plain": [
       "<Figure size 800x600 with 8 Axes>"
      ]
     },
     "metadata": {},
     "output_type": "display_data"
    }
   ],
   "source": [
    "#correlation matrix represented as heat map for all Atheletes followed by individual sport:\n",
    "\n",
    "plt.style.use(\"default\")\n",
    "fig, (ax1, ax2) = plt.subplots(2, 2, figsize=(8, 6))\n",
    "\n",
    "ax1[0].set_title(\"All Athletes\")\n",
    "sns.heatmap(data=df_corr_BMI_HR[[\"HR\",\"BMI\"]].corr(),annot= True,ax=ax1[0])\n",
    "\n",
    "ax1[1].set_title(\"Fencing Athletes\")\n",
    "sns.heatmap(data=df_corr_BMI_HR[df_corr_BMI_HR[\"sport\"] == \"fencing\"][[\"HR\",\"BMI\"]].corr(),annot= True,ax=ax1[1])\n",
    "\n",
    "ax2[0].set_title(\"Kayak Athletes\")\n",
    "sns.heatmap(data=df_corr_BMI_HR[df_corr_BMI_HR[\"sport\"] == \"kayak\"][[\"HR\",\"BMI\"]].corr(),annot= True,ax=ax2[0])\n",
    "\n",
    "ax2[1].set_title(\"Triathlon Athletes\")\n",
    "sns.heatmap(data=df_corr_BMI_HR[df_corr_BMI_HR[\"sport\"] == \"triathlon\"][[\"HR\",\"BMI\"]].corr(),annot= True,ax=ax2[1])\n",
    "\n",
    "plt.tight_layout()\n",
    "plt.show()\n"
   ]
  },
  {
   "cell_type": "markdown",
   "id": "c63552a3-59a6-4459-9f73-94c3aa289d22",
   "metadata": {},
   "source": [
    "* Significantly low correaltion observed between HR and BMI.\n",
    "* No significant difference in the correlation between atheletes of different sports."
   ]
  },
  {
   "cell_type": "code",
   "execution_count": 149,
   "id": "f2384271-2723-4100-9681-9a1c31c3d776",
   "metadata": {},
   "outputs": [],
   "source": [
    "#dropping BMI column created\n",
    "df_Athletes=df_Athletes.drop(\"BMI\",axis=1)"
   ]
  },
  {
   "cell_type": "markdown",
   "id": "c5ace2e9-0642-4bdc-8161-925c7670445c",
   "metadata": {},
   "source": [
    "8. What are the names of the kayaking athletes?"
   ]
  },
  {
   "cell_type": "code",
   "execution_count": 152,
   "id": "77456856-e03c-4fa9-9913-34aed0fcf7cb",
   "metadata": {},
   "outputs": [
    {
     "name": "stdout",
     "output_type": "stream",
     "text": [
      "The names of the kayaking athletes are :\n",
      "['Isabella Griffin' 'Caleb Dixon' 'Mia Carpenter' 'Harper Mitchell'\n",
      " 'Mason Wallace' 'Logan Anderson']\n"
     ]
    }
   ],
   "source": [
    "#filterd athelets with sport as kayak and printed their names\n",
    "df_Athletes_kayak = df_Athletes[df_Athletes[\"sport\"]==\"kayak\"]\n",
    "print(\"The names of the kayaking athletes are :\")\n",
    "print(df_Athletes_kayak[\"First Name\"].values + \" \" + df_Athletes_kayak[\"Last Name\"].values)"
   ]
  },
  {
   "cell_type": "markdown",
   "id": "dbc7e3c3-d666-48ef-a5fc-44c2df514d2e",
   "metadata": {},
   "source": [
    "9. What was the average HRV of the triathletes?"
   ]
  },
  {
   "cell_type": "code",
   "execution_count": 155,
   "id": "cf50c390-1fd6-415b-9c69-64744802d620",
   "metadata": {},
   "outputs": [
    {
     "name": "stdout",
     "output_type": "stream",
     "text": [
      "The average HRV of triathletes is :  29.293777318936115\n"
     ]
    }
   ],
   "source": [
    "#From HRV calcultaed from 4th question calculated the mean of triathlon athletes \n",
    "print(\"The average HRV of triathletes is : \",df_Athletes[df_Athletes[\"sport\"]==\"triathlon\"][\"HRV\"].mean())"
   ]
  },
  {
   "cell_type": "markdown",
   "id": "dbd3564f-29da-4d50-a5dd-f3c7ff0d541c",
   "metadata": {},
   "source": [
    "10. How long was athlete 12 in HR Zone 5?\n",
    "    **Executed the code after Q15 as zoning is done in Q15**"
   ]
  },
  {
   "cell_type": "markdown",
   "id": "a675a654-2fcd-45ca-b33f-d411d489241b",
   "metadata": {},
   "source": [
    "11. Create any 3d plot using any data. Values do not have to be from the dataset given. **Attempted after Q16 as considred BMI for the 3Dplot**"
   ]
  },
  {
   "cell_type": "markdown",
   "id": "aa6558f5-6258-4efe-b4d7-feecde9fe5cc",
   "metadata": {},
   "source": [
    "12. What were the Highest 3 V02 Maxes recorded. Display all 3 names, sport and personal V02 Maxes."
   ]
  },
  {
   "cell_type": "code",
   "execution_count": 164,
   "id": "f1d21348-c9be-44e0-8992-48161e4cb381",
   "metadata": {},
   "outputs": [],
   "source": [
    "#Calculated sum of VO2 and added a temp column (VO2) in Athletes table\n",
    "df_Athletes = pd.merge(df_Athletes,df_data.groupby(\"ID\")[\"VO2\"].sum(), on=\"ID\")\n",
    "#calculated VO2 max as sum of V02 by weight of Athlete\n",
    "df_Athletes[\"VO2_max\"]= df_Athletes[\"VO2\"]/df_Athletes[\"Weight\"]\n",
    "#dropped the temp column VO2\n",
    "df_Athletes=df_Athletes.drop(\"VO2\",axis=1)"
   ]
  },
  {
   "cell_type": "code",
   "execution_count": 166,
   "id": "35357b66-4abd-40ab-ba88-b4eadaf9ee50",
   "metadata": {},
   "outputs": [
    {
     "name": "stdout",
     "output_type": "stream",
     "text": [
      "The highest three VO2_max are for the following athletes :\n"
     ]
    },
    {
     "data": {
      "text/html": [
       "<div>\n",
       "<style scoped>\n",
       "    .dataframe tbody tr th:only-of-type {\n",
       "        vertical-align: middle;\n",
       "    }\n",
       "\n",
       "    .dataframe tbody tr th {\n",
       "        vertical-align: top;\n",
       "    }\n",
       "\n",
       "    .dataframe thead th {\n",
       "        text-align: right;\n",
       "    }\n",
       "</style>\n",
       "<table border=\"1\" class=\"dataframe\">\n",
       "  <thead>\n",
       "    <tr style=\"text-align: right;\">\n",
       "      <th></th>\n",
       "      <th>First Name</th>\n",
       "      <th>Last Name</th>\n",
       "      <th>sport</th>\n",
       "      <th>VO2_max</th>\n",
       "    </tr>\n",
       "  </thead>\n",
       "  <tbody>\n",
       "    <tr>\n",
       "      <th>0</th>\n",
       "      <td>Caleb</td>\n",
       "      <td>Dixon</td>\n",
       "      <td>kayak</td>\n",
       "      <td>92.258212</td>\n",
       "    </tr>\n",
       "    <tr>\n",
       "      <th>1</th>\n",
       "      <td>Mia</td>\n",
       "      <td>Carpenter</td>\n",
       "      <td>kayak</td>\n",
       "      <td>90.758693</td>\n",
       "    </tr>\n",
       "    <tr>\n",
       "      <th>2</th>\n",
       "      <td>Isabella</td>\n",
       "      <td>Griffin</td>\n",
       "      <td>kayak</td>\n",
       "      <td>89.586903</td>\n",
       "    </tr>\n",
       "  </tbody>\n",
       "</table>\n",
       "</div>"
      ],
      "text/plain": [
       "  First Name  Last Name  sport    VO2_max\n",
       "0      Caleb      Dixon  kayak  92.258212\n",
       "1        Mia  Carpenter  kayak  90.758693\n",
       "2   Isabella    Griffin  kayak  89.586903"
      ]
     },
     "execution_count": 166,
     "metadata": {},
     "output_type": "execute_result"
    }
   ],
   "source": [
    "#Displayed the top three VO2_max Athletes\n",
    "print(\"The highest three VO2_max are for the following athletes :\")\n",
    "df_Athletes.sort_values(by=\"VO2_max\",ascending=False)[[\"First Name\",\"Last Name\",\"sport\",\"VO2_max\"]].head(3).reset_index(drop=True)"
   ]
  },
  {
   "cell_type": "markdown",
   "id": "fcda7cd9-a29b-48fe-91e5-71c9fcdbeeca",
   "metadata": {},
   "source": [
    "13. Calculate the year of birth of each athlete and store it as a column in the tables."
   ]
  },
  {
   "cell_type": "code",
   "execution_count": 169,
   "id": "ad45b509-04cf-4c63-8d9f-2b2edc2ce480",
   "metadata": {},
   "outputs": [
    {
     "data": {
      "text/html": [
       "<div>\n",
       "<style scoped>\n",
       "    .dataframe tbody tr th:only-of-type {\n",
       "        vertical-align: middle;\n",
       "    }\n",
       "\n",
       "    .dataframe tbody tr th {\n",
       "        vertical-align: top;\n",
       "    }\n",
       "\n",
       "    .dataframe thead th {\n",
       "        text-align: right;\n",
       "    }\n",
       "</style>\n",
       "<table border=\"1\" class=\"dataframe\">\n",
       "  <thead>\n",
       "    <tr style=\"text-align: right;\">\n",
       "      <th></th>\n",
       "      <th>ID</th>\n",
       "      <th>age</th>\n",
       "      <th>Weight</th>\n",
       "      <th>Height</th>\n",
       "      <th>P_vt1</th>\n",
       "      <th>P_vt2</th>\n",
       "      <th>sport</th>\n",
       "      <th>Gender</th>\n",
       "      <th>Ethnicity</th>\n",
       "      <th>First Name</th>\n",
       "      <th>Last Name</th>\n",
       "      <th>HRV</th>\n",
       "      <th>VO2_max</th>\n",
       "      <th>birth_year</th>\n",
       "    </tr>\n",
       "  </thead>\n",
       "  <tbody>\n",
       "    <tr>\n",
       "      <th>0</th>\n",
       "      <td>1</td>\n",
       "      <td>15</td>\n",
       "      <td>53.7</td>\n",
       "      <td>161</td>\n",
       "      <td>50</td>\n",
       "      <td>140</td>\n",
       "      <td>fencing</td>\n",
       "      <td>Female</td>\n",
       "      <td>African</td>\n",
       "      <td>Olivia</td>\n",
       "      <td>Martinez</td>\n",
       "      <td>25.844717</td>\n",
       "      <td>42.807730</td>\n",
       "      <td>2002</td>\n",
       "    </tr>\n",
       "    <tr>\n",
       "      <th>1</th>\n",
       "      <td>2</td>\n",
       "      <td>15</td>\n",
       "      <td>56.2</td>\n",
       "      <td>162</td>\n",
       "      <td>80</td>\n",
       "      <td>127</td>\n",
       "      <td>fencing</td>\n",
       "      <td>Male</td>\n",
       "      <td>African</td>\n",
       "      <td>Ethan</td>\n",
       "      <td>Reynolds</td>\n",
       "      <td>40.725284</td>\n",
       "      <td>38.632602</td>\n",
       "      <td>2002</td>\n",
       "    </tr>\n",
       "    <tr>\n",
       "      <th>2</th>\n",
       "      <td>3</td>\n",
       "      <td>16</td>\n",
       "      <td>89.9</td>\n",
       "      <td>191</td>\n",
       "      <td>155</td>\n",
       "      <td>300</td>\n",
       "      <td>fencing</td>\n",
       "      <td>Male</td>\n",
       "      <td>White</td>\n",
       "      <td>Jackson</td>\n",
       "      <td>Harper</td>\n",
       "      <td>20.398306</td>\n",
       "      <td>69.705657</td>\n",
       "      <td>2001</td>\n",
       "    </tr>\n",
       "    <tr>\n",
       "      <th>3</th>\n",
       "      <td>4</td>\n",
       "      <td>16</td>\n",
       "      <td>76.5</td>\n",
       "      <td>180</td>\n",
       "      <td>215</td>\n",
       "      <td>275</td>\n",
       "      <td>fencing</td>\n",
       "      <td>Male</td>\n",
       "      <td>White</td>\n",
       "      <td>Liam</td>\n",
       "      <td>Sanchez</td>\n",
       "      <td>33.334630</td>\n",
       "      <td>76.989878</td>\n",
       "      <td>2001</td>\n",
       "    </tr>\n",
       "    <tr>\n",
       "      <th>4</th>\n",
       "      <td>5</td>\n",
       "      <td>17</td>\n",
       "      <td>76.4</td>\n",
       "      <td>186</td>\n",
       "      <td>110</td>\n",
       "      <td>172</td>\n",
       "      <td>fencing</td>\n",
       "      <td>Female</td>\n",
       "      <td>White</td>\n",
       "      <td>Ava</td>\n",
       "      <td>Thompson</td>\n",
       "      <td>115.319339</td>\n",
       "      <td>86.742579</td>\n",
       "      <td>2000</td>\n",
       "    </tr>\n",
       "    <tr>\n",
       "      <th>5</th>\n",
       "      <td>6</td>\n",
       "      <td>17</td>\n",
       "      <td>65.6</td>\n",
       "      <td>169</td>\n",
       "      <td>131</td>\n",
       "      <td>186</td>\n",
       "      <td>fencing</td>\n",
       "      <td>Female</td>\n",
       "      <td>White</td>\n",
       "      <td>Sophia</td>\n",
       "      <td>Rodriguez</td>\n",
       "      <td>447.371626</td>\n",
       "      <td>71.679465</td>\n",
       "      <td>2000</td>\n",
       "    </tr>\n",
       "    <tr>\n",
       "      <th>6</th>\n",
       "      <td>7</td>\n",
       "      <td>15</td>\n",
       "      <td>49.8</td>\n",
       "      <td>165</td>\n",
       "      <td>65</td>\n",
       "      <td>108</td>\n",
       "      <td>fencing</td>\n",
       "      <td>Female</td>\n",
       "      <td>White</td>\n",
       "      <td>Grace</td>\n",
       "      <td>Simmons</td>\n",
       "      <td>23.696380</td>\n",
       "      <td>38.403988</td>\n",
       "      <td>2002</td>\n",
       "    </tr>\n",
       "    <tr>\n",
       "      <th>7</th>\n",
       "      <td>8</td>\n",
       "      <td>15</td>\n",
       "      <td>51.2</td>\n",
       "      <td>165</td>\n",
       "      <td>80</td>\n",
       "      <td>133</td>\n",
       "      <td>fencing</td>\n",
       "      <td>Female</td>\n",
       "      <td>White</td>\n",
       "      <td>Aiden</td>\n",
       "      <td>Bennett</td>\n",
       "      <td>504.482368</td>\n",
       "      <td>44.822092</td>\n",
       "      <td>2002</td>\n",
       "    </tr>\n",
       "    <tr>\n",
       "      <th>8</th>\n",
       "      <td>9</td>\n",
       "      <td>14</td>\n",
       "      <td>57.1</td>\n",
       "      <td>176</td>\n",
       "      <td>50</td>\n",
       "      <td>125</td>\n",
       "      <td>fencing</td>\n",
       "      <td>Female</td>\n",
       "      <td>African</td>\n",
       "      <td>Chloe</td>\n",
       "      <td>Price</td>\n",
       "      <td>22.540326</td>\n",
       "      <td>49.697342</td>\n",
       "      <td>2003</td>\n",
       "    </tr>\n",
       "    <tr>\n",
       "      <th>9</th>\n",
       "      <td>10</td>\n",
       "      <td>14</td>\n",
       "      <td>58.8</td>\n",
       "      <td>177</td>\n",
       "      <td>101</td>\n",
       "      <td>162</td>\n",
       "      <td>fencing</td>\n",
       "      <td>Female</td>\n",
       "      <td>African</td>\n",
       "      <td>Lily</td>\n",
       "      <td>Jordan</td>\n",
       "      <td>26.865031</td>\n",
       "      <td>55.122171</td>\n",
       "      <td>2003</td>\n",
       "    </tr>\n",
       "    <tr>\n",
       "      <th>10</th>\n",
       "      <td>11</td>\n",
       "      <td>18</td>\n",
       "      <td>84.8</td>\n",
       "      <td>182</td>\n",
       "      <td>174</td>\n",
       "      <td>268</td>\n",
       "      <td>kayak</td>\n",
       "      <td>Female</td>\n",
       "      <td>African</td>\n",
       "      <td>Isabella</td>\n",
       "      <td>Griffin</td>\n",
       "      <td>13.423014</td>\n",
       "      <td>89.586903</td>\n",
       "      <td>1999</td>\n",
       "    </tr>\n",
       "    <tr>\n",
       "      <th>11</th>\n",
       "      <td>12</td>\n",
       "      <td>18</td>\n",
       "      <td>86.0</td>\n",
       "      <td>183</td>\n",
       "      <td>170</td>\n",
       "      <td>294</td>\n",
       "      <td>kayak</td>\n",
       "      <td>Male</td>\n",
       "      <td>African</td>\n",
       "      <td>Caleb</td>\n",
       "      <td>Dixon</td>\n",
       "      <td>12.283399</td>\n",
       "      <td>92.258212</td>\n",
       "      <td>1999</td>\n",
       "    </tr>\n",
       "    <tr>\n",
       "      <th>12</th>\n",
       "      <td>13</td>\n",
       "      <td>18</td>\n",
       "      <td>83.9</td>\n",
       "      <td>183</td>\n",
       "      <td>144</td>\n",
       "      <td>267</td>\n",
       "      <td>kayak</td>\n",
       "      <td>Female</td>\n",
       "      <td>Asian</td>\n",
       "      <td>Mia</td>\n",
       "      <td>Carpenter</td>\n",
       "      <td>12.438721</td>\n",
       "      <td>90.758693</td>\n",
       "      <td>1999</td>\n",
       "    </tr>\n",
       "    <tr>\n",
       "      <th>13</th>\n",
       "      <td>14</td>\n",
       "      <td>13</td>\n",
       "      <td>62.3</td>\n",
       "      <td>171</td>\n",
       "      <td>140</td>\n",
       "      <td>170</td>\n",
       "      <td>kayak</td>\n",
       "      <td>Female</td>\n",
       "      <td>Asian</td>\n",
       "      <td>Harper</td>\n",
       "      <td>Mitchell</td>\n",
       "      <td>162.070949</td>\n",
       "      <td>54.869902</td>\n",
       "      <td>2004</td>\n",
       "    </tr>\n",
       "    <tr>\n",
       "      <th>14</th>\n",
       "      <td>15</td>\n",
       "      <td>13</td>\n",
       "      <td>63.5</td>\n",
       "      <td>172</td>\n",
       "      <td>125</td>\n",
       "      <td>156</td>\n",
       "      <td>kayak</td>\n",
       "      <td>Male</td>\n",
       "      <td>Latino</td>\n",
       "      <td>Mason</td>\n",
       "      <td>Wallace</td>\n",
       "      <td>28.801669</td>\n",
       "      <td>66.936066</td>\n",
       "      <td>2004</td>\n",
       "    </tr>\n",
       "    <tr>\n",
       "      <th>15</th>\n",
       "      <td>16</td>\n",
       "      <td>16</td>\n",
       "      <td>70.4</td>\n",
       "      <td>182</td>\n",
       "      <td>79</td>\n",
       "      <td>175</td>\n",
       "      <td>kayak</td>\n",
       "      <td>Male</td>\n",
       "      <td>Latino</td>\n",
       "      <td>Logan</td>\n",
       "      <td>Anderson</td>\n",
       "      <td>794.827705</td>\n",
       "      <td>69.661622</td>\n",
       "      <td>2001</td>\n",
       "    </tr>\n",
       "    <tr>\n",
       "      <th>16</th>\n",
       "      <td>17</td>\n",
       "      <td>12</td>\n",
       "      <td>39.9</td>\n",
       "      <td>156</td>\n",
       "      <td>101</td>\n",
       "      <td>145</td>\n",
       "      <td>triathlon</td>\n",
       "      <td>Male</td>\n",
       "      <td>Latino</td>\n",
       "      <td>Lucas</td>\n",
       "      <td>Foster</td>\n",
       "      <td>28.081705</td>\n",
       "      <td>73.789806</td>\n",
       "      <td>2005</td>\n",
       "    </tr>\n",
       "    <tr>\n",
       "      <th>17</th>\n",
       "      <td>18</td>\n",
       "      <td>12</td>\n",
       "      <td>39.7</td>\n",
       "      <td>158</td>\n",
       "      <td>65</td>\n",
       "      <td>168</td>\n",
       "      <td>triathlon</td>\n",
       "      <td>Male</td>\n",
       "      <td>Latino</td>\n",
       "      <td>Owen</td>\n",
       "      <td>Myers</td>\n",
       "      <td>30.505849</td>\n",
       "      <td>81.208775</td>\n",
       "      <td>2005</td>\n",
       "    </tr>\n",
       "  </tbody>\n",
       "</table>\n",
       "</div>"
      ],
      "text/plain": [
       "    ID  age  Weight  Height  P_vt1  P_vt2      sport  Gender Ethnicity  \\\n",
       "0    1   15    53.7     161     50    140    fencing  Female   African   \n",
       "1    2   15    56.2     162     80    127    fencing    Male   African   \n",
       "2    3   16    89.9     191    155    300    fencing    Male     White   \n",
       "3    4   16    76.5     180    215    275    fencing    Male     White   \n",
       "4    5   17    76.4     186    110    172    fencing  Female     White   \n",
       "5    6   17    65.6     169    131    186    fencing  Female     White   \n",
       "6    7   15    49.8     165     65    108    fencing  Female     White   \n",
       "7    8   15    51.2     165     80    133    fencing  Female     White   \n",
       "8    9   14    57.1     176     50    125    fencing  Female   African   \n",
       "9   10   14    58.8     177    101    162    fencing  Female   African   \n",
       "10  11   18    84.8     182    174    268      kayak  Female   African   \n",
       "11  12   18    86.0     183    170    294      kayak    Male   African   \n",
       "12  13   18    83.9     183    144    267      kayak  Female     Asian   \n",
       "13  14   13    62.3     171    140    170      kayak  Female     Asian   \n",
       "14  15   13    63.5     172    125    156      kayak    Male    Latino   \n",
       "15  16   16    70.4     182     79    175      kayak    Male    Latino   \n",
       "16  17   12    39.9     156    101    145  triathlon    Male    Latino   \n",
       "17  18   12    39.7     158     65    168  triathlon    Male    Latino   \n",
       "\n",
       "   First Name  Last Name         HRV    VO2_max  birth_year  \n",
       "0      Olivia   Martinez   25.844717  42.807730        2002  \n",
       "1       Ethan   Reynolds   40.725284  38.632602        2002  \n",
       "2     Jackson     Harper   20.398306  69.705657        2001  \n",
       "3        Liam    Sanchez   33.334630  76.989878        2001  \n",
       "4         Ava   Thompson  115.319339  86.742579        2000  \n",
       "5      Sophia  Rodriguez  447.371626  71.679465        2000  \n",
       "6       Grace    Simmons   23.696380  38.403988        2002  \n",
       "7       Aiden    Bennett  504.482368  44.822092        2002  \n",
       "8       Chloe      Price   22.540326  49.697342        2003  \n",
       "9        Lily     Jordan   26.865031  55.122171        2003  \n",
       "10   Isabella    Griffin   13.423014  89.586903        1999  \n",
       "11      Caleb      Dixon   12.283399  92.258212        1999  \n",
       "12        Mia  Carpenter   12.438721  90.758693        1999  \n",
       "13     Harper   Mitchell  162.070949  54.869902        2004  \n",
       "14      Mason    Wallace   28.801669  66.936066        2004  \n",
       "15      Logan   Anderson  794.827705  69.661622        2001  \n",
       "16      Lucas     Foster   28.081705  73.789806        2005  \n",
       "17       Owen      Myers   30.505849  81.208775        2005  "
      ]
     },
     "execution_count": 169,
     "metadata": {},
     "output_type": "execute_result"
    }
   ],
   "source": [
    "# year of birth is year data taken(2017 ) substracted by age\n",
    "df_Athletes[\"birth_year\"]= 2017-df_Athletes[\"age\"]\n",
    "df_Athletes"
   ]
  },
  {
   "cell_type": "markdown",
   "id": "e90847fb-d989-4e7c-9b53-6aee0215338a",
   "metadata": {},
   "source": [
    "14. What were the lowest 3 V02 Maxes recorded. Display all 3 names, sport and personal V02 Maxes. "
   ]
  },
  {
   "cell_type": "code",
   "execution_count": 172,
   "id": "6890283c-8ec2-4edc-be78-27475a3e82e3",
   "metadata": {},
   "outputs": [
    {
     "name": "stdout",
     "output_type": "stream",
     "text": [
      "The lowest three VO2_max are for the following athletes :\n"
     ]
    },
    {
     "data": {
      "text/html": [
       "<div>\n",
       "<style scoped>\n",
       "    .dataframe tbody tr th:only-of-type {\n",
       "        vertical-align: middle;\n",
       "    }\n",
       "\n",
       "    .dataframe tbody tr th {\n",
       "        vertical-align: top;\n",
       "    }\n",
       "\n",
       "    .dataframe thead th {\n",
       "        text-align: right;\n",
       "    }\n",
       "</style>\n",
       "<table border=\"1\" class=\"dataframe\">\n",
       "  <thead>\n",
       "    <tr style=\"text-align: right;\">\n",
       "      <th></th>\n",
       "      <th>First Name</th>\n",
       "      <th>Last Name</th>\n",
       "      <th>sport</th>\n",
       "      <th>VO2_max</th>\n",
       "    </tr>\n",
       "  </thead>\n",
       "  <tbody>\n",
       "    <tr>\n",
       "      <th>0</th>\n",
       "      <td>Grace</td>\n",
       "      <td>Simmons</td>\n",
       "      <td>fencing</td>\n",
       "      <td>38.403988</td>\n",
       "    </tr>\n",
       "    <tr>\n",
       "      <th>1</th>\n",
       "      <td>Ethan</td>\n",
       "      <td>Reynolds</td>\n",
       "      <td>fencing</td>\n",
       "      <td>38.632602</td>\n",
       "    </tr>\n",
       "    <tr>\n",
       "      <th>2</th>\n",
       "      <td>Olivia</td>\n",
       "      <td>Martinez</td>\n",
       "      <td>fencing</td>\n",
       "      <td>42.807730</td>\n",
       "    </tr>\n",
       "  </tbody>\n",
       "</table>\n",
       "</div>"
      ],
      "text/plain": [
       "  First Name Last Name    sport    VO2_max\n",
       "0      Grace   Simmons  fencing  38.403988\n",
       "1      Ethan  Reynolds  fencing  38.632602\n",
       "2     Olivia  Martinez  fencing  42.807730"
      ]
     },
     "execution_count": 172,
     "metadata": {},
     "output_type": "execute_result"
    }
   ],
   "source": [
    "#Displayed the bottom three VO2_max Athletes\n",
    "print(\"The lowest three VO2_max are for the following athletes :\")\n",
    "df_Athletes.sort_values(by=\"VO2_max\",ascending=True)[[\"First Name\",\"Last Name\",\"sport\",\"VO2_max\"]].head(3).reset_index(drop=True)"
   ]
  },
  {
   "cell_type": "markdown",
   "id": "408b0256-7db5-42fb-af45-b1e1da0b1b7c",
   "metadata": {},
   "source": [
    " 15. Assign 1 of the following 5 heart rate zones for every record for all sports and athletes and add this as a column to every table:\n",
    "* Zone 1 (recovery/easy) <100 HR max\n",
    "* Zone 2 (aerobic/base) 100-120 HR max\n",
    "* Zone 3 (tempo) 120-135 HR max\n",
    "* Zone 4 (lactate threshold) 135-155 HR max\n",
    "* Zone 5 (anaerobic) 155+ HR max and above"
   ]
  },
  {
   "cell_type": "code",
   "execution_count": 175,
   "id": "d21bfdb0-9f92-48ca-a672-8a5cc0b9cf5f",
   "metadata": {},
   "outputs": [],
   "source": [
    "#zoning based HR using the above stated conditions:\n",
    "df_data[\"zone\"]= df_data[\"HR\"].apply(lambda x: \"Zone 1\" if x <100 \n",
    "                                     else \"Zone 2\" if x<=120 \n",
    "                                     else \"Zone 3\" if x <= 135 \n",
    "                                     else \"Zone 4\" if x<=155 \n",
    "                                     else \"Zone 5\")"
   ]
  },
  {
   "cell_type": "code",
   "execution_count": 177,
   "id": "9d2f0000-0e32-4039-bbb9-bec9f9732eb4",
   "metadata": {},
   "outputs": [
    {
     "name": "stdout",
     "output_type": "stream",
     "text": [
      "Zone added to data table\n"
     ]
    },
    {
     "data": {
      "text/html": [
       "<div>\n",
       "<style scoped>\n",
       "    .dataframe tbody tr th:only-of-type {\n",
       "        vertical-align: middle;\n",
       "    }\n",
       "\n",
       "    .dataframe tbody tr th {\n",
       "        vertical-align: top;\n",
       "    }\n",
       "\n",
       "    .dataframe thead th {\n",
       "        text-align: right;\n",
       "    }\n",
       "</style>\n",
       "<table border=\"1\" class=\"dataframe\">\n",
       "  <thead>\n",
       "    <tr style=\"text-align: right;\">\n",
       "      <th></th>\n",
       "      <th>ID</th>\n",
       "      <th>time</th>\n",
       "      <th>RR</th>\n",
       "      <th>VO2</th>\n",
       "      <th>power</th>\n",
       "      <th>stage</th>\n",
       "      <th>HR</th>\n",
       "      <th>zone</th>\n",
       "    </tr>\n",
       "  </thead>\n",
       "  <tbody>\n",
       "    <tr>\n",
       "      <th>0</th>\n",
       "      <td>1</td>\n",
       "      <td>-130.840</td>\n",
       "      <td>672.0</td>\n",
       "      <td>0.302008</td>\n",
       "      <td>0</td>\n",
       "      <td>warmup</td>\n",
       "      <td>89.285714</td>\n",
       "      <td>Zone 1</td>\n",
       "    </tr>\n",
       "    <tr>\n",
       "      <th>1</th>\n",
       "      <td>1</td>\n",
       "      <td>-130.168</td>\n",
       "      <td>672.0</td>\n",
       "      <td>0.302008</td>\n",
       "      <td>0</td>\n",
       "      <td>warmup</td>\n",
       "      <td>89.285714</td>\n",
       "      <td>Zone 1</td>\n",
       "    </tr>\n",
       "    <tr>\n",
       "      <th>2</th>\n",
       "      <td>1</td>\n",
       "      <td>-129.536</td>\n",
       "      <td>632.0</td>\n",
       "      <td>0.301336</td>\n",
       "      <td>0</td>\n",
       "      <td>warmup</td>\n",
       "      <td>94.936709</td>\n",
       "      <td>Zone 1</td>\n",
       "    </tr>\n",
       "    <tr>\n",
       "      <th>3</th>\n",
       "      <td>1</td>\n",
       "      <td>-128.824</td>\n",
       "      <td>712.0</td>\n",
       "      <td>0.301336</td>\n",
       "      <td>0</td>\n",
       "      <td>warmup</td>\n",
       "      <td>84.269663</td>\n",
       "      <td>Zone 1</td>\n",
       "    </tr>\n",
       "    <tr>\n",
       "      <th>4</th>\n",
       "      <td>1</td>\n",
       "      <td>-127.948</td>\n",
       "      <td>876.0</td>\n",
       "      <td>0.301336</td>\n",
       "      <td>0</td>\n",
       "      <td>warmup</td>\n",
       "      <td>68.493151</td>\n",
       "      <td>Zone 1</td>\n",
       "    </tr>\n",
       "  </tbody>\n",
       "</table>\n",
       "</div>"
      ],
      "text/plain": [
       "   ID     time     RR       VO2  power   stage         HR    zone\n",
       "0   1 -130.840  672.0  0.302008      0  warmup  89.285714  Zone 1\n",
       "1   1 -130.168  672.0  0.302008      0  warmup  89.285714  Zone 1\n",
       "2   1 -129.536  632.0  0.301336      0  warmup  94.936709  Zone 1\n",
       "3   1 -128.824  712.0  0.301336      0  warmup  84.269663  Zone 1\n",
       "4   1 -127.948  876.0  0.301336      0  warmup  68.493151  Zone 1"
      ]
     },
     "execution_count": 177,
     "metadata": {},
     "output_type": "execute_result"
    }
   ],
   "source": [
    "print (\"Zone added to data table\")\n",
    "df_data.head()"
   ]
  },
  {
   "cell_type": "code",
   "execution_count": 179,
   "id": "aa5e98d4-4e77-4bb0-bfe2-a74c8f34322e",
   "metadata": {},
   "outputs": [],
   "source": [
    "#Merged zone values to all tables:\n",
    "df_Fencing = df_Fencing.merge(df_data[[\"ID\",\"RR\",\"time\",\"zone\"]],on=[\"ID\", \"RR\",\"time\"])\n",
    "df_Kayaking = df_Kayaking.merge(df_data[[\"ID\",\"RR\",\"time\",\"zone\"]],on=[\"ID\", \"RR\",\"time\"])\n",
    "df_Triathlon=df_Triathlon.merge(df_data[[\"ID\",\"RR\",\"time\",\"zone\"]],on=[\"ID\", \"RR\",\"time\"])"
   ]
  },
  {
   "cell_type": "code",
   "execution_count": 181,
   "id": "06f2ce0b-0cbd-4382-87bb-a0107e61b003",
   "metadata": {},
   "outputs": [
    {
     "name": "stdout",
     "output_type": "stream",
     "text": [
      "Zone added to Fencing table\n"
     ]
    },
    {
     "data": {
      "text/html": [
       "<div>\n",
       "<style scoped>\n",
       "    .dataframe tbody tr th:only-of-type {\n",
       "        vertical-align: middle;\n",
       "    }\n",
       "\n",
       "    .dataframe tbody tr th {\n",
       "        vertical-align: top;\n",
       "    }\n",
       "\n",
       "    .dataframe thead th {\n",
       "        text-align: right;\n",
       "    }\n",
       "</style>\n",
       "<table border=\"1\" class=\"dataframe\">\n",
       "  <thead>\n",
       "    <tr style=\"text-align: right;\">\n",
       "      <th></th>\n",
       "      <th>ID</th>\n",
       "      <th>time</th>\n",
       "      <th>RR</th>\n",
       "      <th>VO2</th>\n",
       "      <th>power</th>\n",
       "      <th>zone</th>\n",
       "    </tr>\n",
       "  </thead>\n",
       "  <tbody>\n",
       "    <tr>\n",
       "      <th>0</th>\n",
       "      <td>1</td>\n",
       "      <td>-130.840</td>\n",
       "      <td>672</td>\n",
       "      <td>0.302008</td>\n",
       "      <td>0</td>\n",
       "      <td>Zone 1</td>\n",
       "    </tr>\n",
       "    <tr>\n",
       "      <th>1</th>\n",
       "      <td>1</td>\n",
       "      <td>-130.168</td>\n",
       "      <td>672</td>\n",
       "      <td>0.302008</td>\n",
       "      <td>0</td>\n",
       "      <td>Zone 1</td>\n",
       "    </tr>\n",
       "    <tr>\n",
       "      <th>2</th>\n",
       "      <td>1</td>\n",
       "      <td>-129.536</td>\n",
       "      <td>632</td>\n",
       "      <td>0.301336</td>\n",
       "      <td>0</td>\n",
       "      <td>Zone 1</td>\n",
       "    </tr>\n",
       "    <tr>\n",
       "      <th>3</th>\n",
       "      <td>1</td>\n",
       "      <td>-128.824</td>\n",
       "      <td>712</td>\n",
       "      <td>0.301336</td>\n",
       "      <td>0</td>\n",
       "      <td>Zone 1</td>\n",
       "    </tr>\n",
       "    <tr>\n",
       "      <th>4</th>\n",
       "      <td>1</td>\n",
       "      <td>-127.948</td>\n",
       "      <td>876</td>\n",
       "      <td>0.301336</td>\n",
       "      <td>0</td>\n",
       "      <td>Zone 1</td>\n",
       "    </tr>\n",
       "  </tbody>\n",
       "</table>\n",
       "</div>"
      ],
      "text/plain": [
       "   ID     time   RR       VO2  power    zone\n",
       "0   1 -130.840  672  0.302008      0  Zone 1\n",
       "1   1 -130.168  672  0.302008      0  Zone 1\n",
       "2   1 -129.536  632  0.301336      0  Zone 1\n",
       "3   1 -128.824  712  0.301336      0  Zone 1\n",
       "4   1 -127.948  876  0.301336      0  Zone 1"
      ]
     },
     "execution_count": 181,
     "metadata": {},
     "output_type": "execute_result"
    }
   ],
   "source": [
    "print (\"Zone added to Fencing table\")\n",
    "df_Fencing.head()"
   ]
  },
  {
   "cell_type": "code",
   "execution_count": 183,
   "id": "94a46a50-091f-44ee-81cd-de212ae4d4bf",
   "metadata": {},
   "outputs": [
    {
     "name": "stdout",
     "output_type": "stream",
     "text": [
      "Zone added to Kayaking table\n"
     ]
    },
    {
     "data": {
      "text/html": [
       "<div>\n",
       "<style scoped>\n",
       "    .dataframe tbody tr th:only-of-type {\n",
       "        vertical-align: middle;\n",
       "    }\n",
       "\n",
       "    .dataframe tbody tr th {\n",
       "        vertical-align: top;\n",
       "    }\n",
       "\n",
       "    .dataframe thead th {\n",
       "        text-align: right;\n",
       "    }\n",
       "</style>\n",
       "<table border=\"1\" class=\"dataframe\">\n",
       "  <thead>\n",
       "    <tr style=\"text-align: right;\">\n",
       "      <th></th>\n",
       "      <th>ID</th>\n",
       "      <th>time</th>\n",
       "      <th>RR</th>\n",
       "      <th>VO2</th>\n",
       "      <th>power</th>\n",
       "      <th>zone</th>\n",
       "    </tr>\n",
       "  </thead>\n",
       "  <tbody>\n",
       "    <tr>\n",
       "      <th>0</th>\n",
       "      <td>11</td>\n",
       "      <td>-168.600</td>\n",
       "      <td>727.0</td>\n",
       "      <td>0.287147</td>\n",
       "      <td>0</td>\n",
       "      <td>Zone 1</td>\n",
       "    </tr>\n",
       "    <tr>\n",
       "      <th>1</th>\n",
       "      <td>11</td>\n",
       "      <td>-167.872</td>\n",
       "      <td>728.0</td>\n",
       "      <td>0.287147</td>\n",
       "      <td>0</td>\n",
       "      <td>Zone 1</td>\n",
       "    </tr>\n",
       "    <tr>\n",
       "      <th>2</th>\n",
       "      <td>11</td>\n",
       "      <td>-167.148</td>\n",
       "      <td>724.0</td>\n",
       "      <td>0.287147</td>\n",
       "      <td>0</td>\n",
       "      <td>Zone 1</td>\n",
       "    </tr>\n",
       "    <tr>\n",
       "      <th>3</th>\n",
       "      <td>11</td>\n",
       "      <td>-166.484</td>\n",
       "      <td>664.0</td>\n",
       "      <td>0.320580</td>\n",
       "      <td>0</td>\n",
       "      <td>Zone 1</td>\n",
       "    </tr>\n",
       "    <tr>\n",
       "      <th>4</th>\n",
       "      <td>11</td>\n",
       "      <td>-165.836</td>\n",
       "      <td>648.0</td>\n",
       "      <td>0.320580</td>\n",
       "      <td>0</td>\n",
       "      <td>Zone 1</td>\n",
       "    </tr>\n",
       "  </tbody>\n",
       "</table>\n",
       "</div>"
      ],
      "text/plain": [
       "   ID     time     RR       VO2  power    zone\n",
       "0  11 -168.600  727.0  0.287147      0  Zone 1\n",
       "1  11 -167.872  728.0  0.287147      0  Zone 1\n",
       "2  11 -167.148  724.0  0.287147      0  Zone 1\n",
       "3  11 -166.484  664.0  0.320580      0  Zone 1\n",
       "4  11 -165.836  648.0  0.320580      0  Zone 1"
      ]
     },
     "execution_count": 183,
     "metadata": {},
     "output_type": "execute_result"
    }
   ],
   "source": [
    "print (\"Zone added to Kayaking table\")\n",
    "df_Kayaking.head()"
   ]
  },
  {
   "cell_type": "code",
   "execution_count": 185,
   "id": "cbc1c9f5-8e54-4358-9c7b-1a1ab3a8f738",
   "metadata": {},
   "outputs": [
    {
     "name": "stdout",
     "output_type": "stream",
     "text": [
      "Zone added to Triathlon table\n"
     ]
    },
    {
     "data": {
      "text/html": [
       "<div>\n",
       "<style scoped>\n",
       "    .dataframe tbody tr th:only-of-type {\n",
       "        vertical-align: middle;\n",
       "    }\n",
       "\n",
       "    .dataframe tbody tr th {\n",
       "        vertical-align: top;\n",
       "    }\n",
       "\n",
       "    .dataframe thead th {\n",
       "        text-align: right;\n",
       "    }\n",
       "</style>\n",
       "<table border=\"1\" class=\"dataframe\">\n",
       "  <thead>\n",
       "    <tr style=\"text-align: right;\">\n",
       "      <th></th>\n",
       "      <th>ID</th>\n",
       "      <th>time</th>\n",
       "      <th>RR</th>\n",
       "      <th>VO2</th>\n",
       "      <th>power</th>\n",
       "      <th>zone</th>\n",
       "    </tr>\n",
       "  </thead>\n",
       "  <tbody>\n",
       "    <tr>\n",
       "      <th>0</th>\n",
       "      <td>17</td>\n",
       "      <td>-182.408</td>\n",
       "      <td>736.0</td>\n",
       "      <td>0.363762</td>\n",
       "      <td>0</td>\n",
       "      <td>Zone 1</td>\n",
       "    </tr>\n",
       "    <tr>\n",
       "      <th>1</th>\n",
       "      <td>17</td>\n",
       "      <td>-181.672</td>\n",
       "      <td>736.0</td>\n",
       "      <td>0.363762</td>\n",
       "      <td>0</td>\n",
       "      <td>Zone 1</td>\n",
       "    </tr>\n",
       "    <tr>\n",
       "      <th>2</th>\n",
       "      <td>17</td>\n",
       "      <td>-180.968</td>\n",
       "      <td>704.0</td>\n",
       "      <td>0.363762</td>\n",
       "      <td>0</td>\n",
       "      <td>Zone 1</td>\n",
       "    </tr>\n",
       "    <tr>\n",
       "      <th>3</th>\n",
       "      <td>17</td>\n",
       "      <td>-180.268</td>\n",
       "      <td>700.0</td>\n",
       "      <td>0.363762</td>\n",
       "      <td>0</td>\n",
       "      <td>Zone 1</td>\n",
       "    </tr>\n",
       "    <tr>\n",
       "      <th>4</th>\n",
       "      <td>17</td>\n",
       "      <td>-179.616</td>\n",
       "      <td>652.0</td>\n",
       "      <td>0.363762</td>\n",
       "      <td>0</td>\n",
       "      <td>Zone 1</td>\n",
       "    </tr>\n",
       "  </tbody>\n",
       "</table>\n",
       "</div>"
      ],
      "text/plain": [
       "   ID     time     RR       VO2  power    zone\n",
       "0  17 -182.408  736.0  0.363762      0  Zone 1\n",
       "1  17 -181.672  736.0  0.363762      0  Zone 1\n",
       "2  17 -180.968  704.0  0.363762      0  Zone 1\n",
       "3  17 -180.268  700.0  0.363762      0  Zone 1\n",
       "4  17 -179.616  652.0  0.363762      0  Zone 1"
      ]
     },
     "execution_count": 185,
     "metadata": {},
     "output_type": "execute_result"
    }
   ],
   "source": [
    "print (\"Zone added to Triathlon table\")\n",
    "df_Triathlon.head()"
   ]
  },
  {
   "cell_type": "markdown",
   "id": "c5dd0c02-5ab5-46a7-8c7e-5ca75247a3f7",
   "metadata": {},
   "source": [
    "10. How long was athlete 12 in HR Zone 5?"
   ]
  },
  {
   "cell_type": "code",
   "execution_count": 188,
   "id": "d5d7ae5e-e434-40db-9ad8-ebf292483a91",
   "metadata": {},
   "outputs": [
    {
     "name": "stdout",
     "output_type": "stream",
     "text": [
      "The total time athelete 12 was in Zone 5 is  8.0 minutes and  25.668000000000006 seconds\n"
     ]
    }
   ],
   "source": [
    "#Total time spent by Athelete 12 in zone 5 is the difference of maximum time and minimum time.\n",
    "time_z5_12 = df_data[df_data[\"ID\"]==12][df_data[\"zone\"]==\"Zone 5\"][\"time\"].max() - df_data[df_data[\"ID\"]==12][df_data[\"zone\"]==\"Zone 5\"][\"time\"].min()\n",
    "print(\"The total time athelete 12 was in Zone 5 is \",time_z5_12//60,\"minutes and \",time_z5_12%60,\"seconds\")"
   ]
  },
  {
   "cell_type": "markdown",
   "id": "b3eac5f6-4c89-4c1f-99ce-3b9aa6b1f801",
   "metadata": {},
   "source": [
    "16. Calculate the BMI of every athlete and display it as a list."
   ]
  },
  {
   "cell_type": "code",
   "execution_count": 193,
   "id": "d6344a4f-3949-4dbd-8a46-f1c40041f006",
   "metadata": {},
   "outputs": [
    {
     "name": "stdout",
     "output_type": "stream",
     "text": [
      "The list of athletes and their BMI is :\n"
     ]
    },
    {
     "data": {
      "text/plain": [
       "[['Olivia', 'Martinez', 20.716793333590523],\n",
       " ['Ethan', 'Reynolds', 21.414418533760095],\n",
       " ['Jackson', 'Harper', 24.642964831007923],\n",
       " ['Liam', 'Sanchez', 23.61111111111111],\n",
       " ['Ava', 'Thompson', 22.083477858711987],\n",
       " ['Sophia', 'Rodriguez', 22.968383459962887],\n",
       " ['Grace', 'Simmons', 18.29201101928375],\n",
       " ['Aiden', 'Bennett', 18.80624426078972],\n",
       " ['Chloe', 'Price', 18.433626033057852],\n",
       " ['Lily', 'Jordan', 18.768553097768837],\n",
       " ['Isabella', 'Griffin', 25.600772853520105],\n",
       " ['Caleb', 'Dixon', 25.680074054167036],\n",
       " ['Mia', 'Carpenter', 25.05300247842575],\n",
       " ['Harper', 'Mitchell', 21.305700899422046],\n",
       " ['Mason', 'Wallace', 21.464305029745812],\n",
       " ['Logan', 'Anderson', 21.253471802922352],\n",
       " ['Lucas', 'Foster', 16.395463510848124],\n",
       " ['Owen', 'Myers', 15.902900176253803]]"
      ]
     },
     "execution_count": 193,
     "metadata": {},
     "output_type": "execute_result"
    }
   ],
   "source": [
    "#calculated BMI as weight(kg)(height(meter))^2\n",
    "df_Athletes[\"BMI\"] = df_Athletes[\"Weight\"]/(df_Athletes[\"Height\"]/100)**2\n",
    "print(\"The list of athletes and their BMI is :\")\n",
    "df_Athletes.reset_index()[[\"First Name\",\"Last Name\",\"BMI\"]].values.tolist()"
   ]
  },
  {
   "cell_type": "markdown",
   "id": "f3543a68-4ecb-4e27-8d3c-7debb5dbea9c",
   "metadata": {},
   "source": [
    "11. Create any 3d plot using any data. Values do not have to be from the dataset given. "
   ]
  },
  {
   "cell_type": "code",
   "execution_count": 204,
   "id": "19f92e49-270f-4773-be0b-8fb9f5cc8969",
   "metadata": {},
   "outputs": [
    {
     "data": {
      "image/png": "[encoded data removed]",
      "text/plain": [
       "<Figure size 640x480 with 1 Axes>"
      ]
     },
     "metadata": {},
     "output_type": "display_data"
    }
   ],
   "source": [
    "#created 3D plot using BMI,Height and weight from Athletes table:\n",
    "plt.style.use(\"dark_background\")\n",
    "ax = plt.axes(projection = \"3d\")\n",
    "\n",
    "ax.set_title(\"Body Fat - Distribution of BMI based on height and weight\", fontsize=10)\n",
    "ax.set_xlabel(\"Height(cm)\")\n",
    "ax.set_ylabel(\"Weight(Kg)\")\n",
    "ax.set_zlabel(\"BMI(Kg/m^2)\")\n",
    "\n",
    "ax.scatter(df_Athletes[\"Height\"],df_Athletes[\"Weight\"],df_Athletes[\"BMI\"],color= 'r')\n",
    "plt.show()\n",
    "plt.style.use(\"default\")"
   ]
  },
  {
   "cell_type": "markdown",
   "id": "e045e013",
   "metadata": {},
   "source": [
    "Q65.[ 1,  2,  3,  4,  5],\n",
    "    [ 6,  7,  8,  9, 10],\n",
    "    [11, 12, 13, 14, 15],\n",
    "    [16, 17, 18, 19, 20],\n",
    "    [21, 22, 23, 24, 25],\n",
    "    [26, 27, 28, 29, 30]  Use array slicing to display elements 4,7,10,17.\""
   ]
  },
  {
   "cell_type": "code",
   "execution_count": 19,
   "id": "3dbe7b3c",
   "metadata": {},
   "outputs": [
    {
     "name": "stdout",
     "output_type": "stream",
     "text": [
      "4 , 7 , 10 , 17\n"
     ]
    }
   ],
   "source": [
    "import numpy as np\n",
    "#Array\n",
    "array = np.array([[ 1,  2,  3,  4,  5],\n",
    "                  [ 6,  7,  8,  9, 10],\n",
    "                  [11, 12, 13, 14, 15],\n",
    "                  [16, 17, 18, 19, 20],\n",
    "                  [21, 22, 23, 24, 25],\n",
    "                  [26, 27, 28, 29, 30]])\n",
    "\n",
    "print(array[0,3],\",\",array[1,1],\",\",array[1,4],\",\",array[3,1])\n"
   ]
  },
  {
   "cell_type": "markdown",
   "id": "f6e64ffb",
   "metadata": {},
   "source": [
    "Q66.On average, how long did each participant spend at 200 watts?"
   ]
  },
  {
   "cell_type": "code",
   "execution_count": 23,
   "id": "58963bde",
   "metadata": {},
   "outputs": [
    {
     "name": "stdout",
     "output_type": "stream",
     "text": [
      " ID             name   avg time\n",
      "  3   Jackson Harper 750.426811\n",
      "  4     Liam Sanchez 747.390507\n",
      "  5     Ava Thompson 752.161512\n",
      "  6 Sophia Rodriguez 747.582241\n",
      "  9      Chloe Price 689.205778\n",
      " 10      Lily Jordan 736.167525\n",
      " 11 Isabella Griffin 755.487523\n",
      " 12      Caleb Dixon 748.662993\n",
      " 13    Mia Carpenter 747.937121\n",
      " 14  Harper Mitchell 760.236267\n",
      " 15    Mason Wallace 749.079365\n",
      " 16   Logan Anderson 758.173876\n",
      " 18       Owen Myers 734.506952\n"
     ]
    }
   ],
   "source": [
    "#Filtering power==200\n",
    "df_power_200 = df_data[df_data['power'] == 200 ]\n",
    "df_power_avg = df_power_200.groupby('ID')['time'].mean()\n",
    "\n",
    "df_Athletes['Name']=df_Athletes['First Name']+ ' '+df_Athletes['Last Name']\n",
    "df_merged = pd.merge(df_power_avg, df_Athletes[['ID', 'Name']], on='ID')\n",
    "\n",
    "\n",
    "\n",
    "df_merged = df_merged[['ID','Name', 'time']]\n",
    "df_merged.rename(columns={'ID':'ID','Name': 'name', 'time': 'avg time',}, inplace=True)\n",
    "\n",
    "print(df_merged.to_string(index=False))"
   ]
  },
  {
   "cell_type": "markdown",
   "id": "6b975457",
   "metadata": {},
   "source": [
    "Q67.Athletes from which sport had the highest average cardiorespiratory fitness in terms of v02 max?\n"
   ]
  },
  {
   "cell_type": "code",
   "execution_count": 21,
   "id": "a9f3c048",
   "metadata": {},
   "outputs": [],
   "source": [
    "df_Sum_VO2=df_data.groupby('ID')['VO2'].sum().reset_index()\n",
    "\n",
    "df_merge_VO2=pd.merge(df_Athletes, df_Sum_VO2[['ID', 'VO2']], on='ID')\n",
    "df_merge_VO2['VO2max']=df_merge_VO2['VO2']/df_merge_VO2['Weight']\n",
    "df_merge_VO2_Sport=df_merge_VO2.groupby('sport').VO2max.mean().reset_index()\n",
    "highest_VO2max_sport = df_merge_VO2_Sport.loc[df_merge_VO2_Sport['VO2max'].idxmax()]"
   ]
  },
  {
   "cell_type": "code",
   "execution_count": 55,
   "id": "c425dd00",
   "metadata": {},
   "outputs": [
    {
     "data": {
      "text/plain": [
       "sport     triathlon\n",
       "VO2max    77.499291\n",
       "Name: 2, dtype: object"
      ]
     },
     "execution_count": 55,
     "metadata": {},
     "output_type": "execute_result"
    }
   ],
   "source": [
    "highest_VO2max_sport"
   ]
  },
  {
   "cell_type": "code",
   "execution_count": 27,
   "id": "72c303e0",
   "metadata": {
    "scrolled": true
   },
   "outputs": [
    {
     "data": {
      "text/html": [
       "<div>\n",
       "<style scoped>\n",
       "    .dataframe tbody tr th:only-of-type {\n",
       "        vertical-align: middle;\n",
       "    }\n",
       "\n",
       "    .dataframe tbody tr th {\n",
       "        vertical-align: top;\n",
       "    }\n",
       "\n",
       "    .dataframe thead th {\n",
       "        text-align: right;\n",
       "    }\n",
       "</style>\n",
       "<table border=\"1\" class=\"dataframe\">\n",
       "  <thead>\n",
       "    <tr style=\"text-align: right;\">\n",
       "      <th></th>\n",
       "      <th>ID</th>\n",
       "      <th>time</th>\n",
       "      <th>RR</th>\n",
       "      <th>VO2</th>\n",
       "      <th>power</th>\n",
       "      <th>stage</th>\n",
       "    </tr>\n",
       "  </thead>\n",
       "  <tbody>\n",
       "    <tr>\n",
       "      <th>0</th>\n",
       "      <td>11</td>\n",
       "      <td>-168.600</td>\n",
       "      <td>727.0</td>\n",
       "      <td>0.287147</td>\n",
       "      <td>0</td>\n",
       "      <td>warmup</td>\n",
       "    </tr>\n",
       "    <tr>\n",
       "      <th>1</th>\n",
       "      <td>11</td>\n",
       "      <td>-167.872</td>\n",
       "      <td>728.0</td>\n",
       "      <td>0.287147</td>\n",
       "      <td>0</td>\n",
       "      <td>warmup</td>\n",
       "    </tr>\n",
       "    <tr>\n",
       "      <th>2</th>\n",
       "      <td>11</td>\n",
       "      <td>-167.148</td>\n",
       "      <td>724.0</td>\n",
       "      <td>0.287147</td>\n",
       "      <td>0</td>\n",
       "      <td>warmup</td>\n",
       "    </tr>\n",
       "    <tr>\n",
       "      <th>3</th>\n",
       "      <td>11</td>\n",
       "      <td>-166.484</td>\n",
       "      <td>664.0</td>\n",
       "      <td>0.320580</td>\n",
       "      <td>0</td>\n",
       "      <td>warmup</td>\n",
       "    </tr>\n",
       "    <tr>\n",
       "      <th>4</th>\n",
       "      <td>11</td>\n",
       "      <td>-165.836</td>\n",
       "      <td>648.0</td>\n",
       "      <td>0.320580</td>\n",
       "      <td>0</td>\n",
       "      <td>warmup</td>\n",
       "    </tr>\n",
       "    <tr>\n",
       "      <th>...</th>\n",
       "      <td>...</td>\n",
       "      <td>...</td>\n",
       "      <td>...</td>\n",
       "      <td>...</td>\n",
       "      <td>...</td>\n",
       "      <td>...</td>\n",
       "    </tr>\n",
       "    <tr>\n",
       "      <th>52057</th>\n",
       "      <td>10</td>\n",
       "      <td>942.700</td>\n",
       "      <td>428.0</td>\n",
       "      <td>0.786363</td>\n",
       "      <td>0</td>\n",
       "      <td>cooldown</td>\n",
       "    </tr>\n",
       "    <tr>\n",
       "      <th>52058</th>\n",
       "      <td>10</td>\n",
       "      <td>943.124</td>\n",
       "      <td>424.0</td>\n",
       "      <td>0.786363</td>\n",
       "      <td>0</td>\n",
       "      <td>cooldown</td>\n",
       "    </tr>\n",
       "    <tr>\n",
       "      <th>52059</th>\n",
       "      <td>10</td>\n",
       "      <td>943.552</td>\n",
       "      <td>428.0</td>\n",
       "      <td>0.786363</td>\n",
       "      <td>0</td>\n",
       "      <td>cooldown</td>\n",
       "    </tr>\n",
       "    <tr>\n",
       "      <th>52060</th>\n",
       "      <td>10</td>\n",
       "      <td>943.976</td>\n",
       "      <td>424.0</td>\n",
       "      <td>0.786363</td>\n",
       "      <td>0</td>\n",
       "      <td>cooldown</td>\n",
       "    </tr>\n",
       "    <tr>\n",
       "      <th>52061</th>\n",
       "      <td>10</td>\n",
       "      <td>944.404</td>\n",
       "      <td>428.0</td>\n",
       "      <td>0.786363</td>\n",
       "      <td>0</td>\n",
       "      <td>cooldown</td>\n",
       "    </tr>\n",
       "  </tbody>\n",
       "</table>\n",
       "<p>52062 rows × 6 columns</p>\n",
       "</div>"
      ],
      "text/plain": [
       "       ID     time     RR       VO2  power     stage\n",
       "0      11 -168.600  727.0  0.287147      0    warmup\n",
       "1      11 -167.872  728.0  0.287147      0    warmup\n",
       "2      11 -167.148  724.0  0.287147      0    warmup\n",
       "3      11 -166.484  664.0  0.320580      0    warmup\n",
       "4      11 -165.836  648.0  0.320580      0    warmup\n",
       "...    ..      ...    ...       ...    ...       ...\n",
       "52057  10  942.700  428.0  0.786363      0  cooldown\n",
       "52058  10  943.124  424.0  0.786363      0  cooldown\n",
       "52059  10  943.552  428.0  0.786363      0  cooldown\n",
       "52060  10  943.976  424.0  0.786363      0  cooldown\n",
       "52061  10  944.404  428.0  0.786363      0  cooldown\n",
       "\n",
       "[52062 rows x 6 columns]"
      ]
     },
     "execution_count": 27,
     "metadata": {},
     "output_type": "execute_result"
    }
   ],
   "source": [
    "df_data"
   ]
  },
  {
   "cell_type": "markdown",
   "id": "68ee25ca",
   "metadata": {},
   "source": [
    "#Q68 What % of athletes exceeded 90% of max HR? (Max HR is calculated as 220-Age)"
   ]
  },
  {
   "cell_type": "code",
   "execution_count": 64,
   "id": "4961125b",
   "metadata": {},
   "outputs": [
    {
     "name": "stdout",
     "output_type": "stream",
     "text": [
      "Percentage of athletes with Heart Rate > 90% of maxHR: 6.91%\n"
     ]
    }
   ],
   "source": [
    "\n",
    "df_data_copy=df_data.copy()\n",
    "df_data_copy=pd.merge(df_data_copy,df_Athletes[['ID','age']],on='ID')\n",
    "df_data_copy['HeartRate_bpm']=60/(df_data_copy['RR']/1000) \n",
    "# Calculate maxHR as 220 - age\n",
    "df_data_copy['maxHR'] = 220 - df_data_copy['age']\n",
    "\n",
    "# Calculate 90% of maxHR\n",
    "df_data_copy['HR_90'] = df_data_copy['maxHR']*0.90\n",
    "\n",
    "# Filter rows where HeartRate_bpm is greater than or equal to 90% of maxHR\n",
    "filtered_result = df_data_copy[df_data_copy['HeartRate_bpm'] > df_data_copy['HR_90']]\n",
    "percentage = (len(filtered_result) / len(df_data_copy)) * 100\n",
    "\n",
    "print(f\"Percentage of athletes with Heart Rate > 90% of maxHR: {percentage:.2f}%\")\n"
   ]
  },
  {
   "cell_type": "markdown",
   "id": "c2520279",
   "metadata": {},
   "source": [
    "#Q69.What was the lowest heart rate recorded at a power wattage of 200"
   ]
  },
  {
   "cell_type": "code",
   "execution_count": 65,
   "id": "6187832c",
   "metadata": {},
   "outputs": [
    {
     "name": "stdout",
     "output_type": "stream",
     "text": [
      "The Lowest HeartRate recorded ata power Wattage of 200 is :  71.77\n"
     ]
    }
   ],
   "source": [
    "# Filter the rows where power is equal to 200\n",
    "filtered_df = df_data_copy[df_data_copy['power'] == 200]\n",
    "\n",
    "# Group the filtered DataFrame by 'ID' and calculate the minimum HeartRate_bpm for each group\n",
    "grouped_df = filtered_df.groupby('ID')['HeartRate_bpm'].min()\n",
    "\n",
    "# Display the result\n",
    "rounded_df=grouped_df.round(2)\n",
    "print(\"The Lowest HeartRate recorded ata power Wattage of 200 is : \",rounded_df.min())"
   ]
  },
  {
   "cell_type": "markdown",
   "id": "a50ccded",
   "metadata": {},
   "source": [
    "Q70.On Average how long did most athletes spend at 75% of MaxHR (Max HR is calculated as 220-Age)"
   ]
  },
  {
   "cell_type": "code",
   "execution_count": 67,
   "id": "5cf818a0",
   "metadata": {},
   "outputs": [
    {
     "data": {
      "text/html": [
       "<div>\n",
       "<style scoped>\n",
       "    .dataframe tbody tr th:only-of-type {\n",
       "        vertical-align: middle;\n",
       "    }\n",
       "\n",
       "    .dataframe tbody tr th {\n",
       "        vertical-align: top;\n",
       "    }\n",
       "\n",
       "    .dataframe thead th {\n",
       "        text-align: right;\n",
       "    }\n",
       "</style>\n",
       "<table border=\"1\" class=\"dataframe\">\n",
       "  <thead>\n",
       "    <tr style=\"text-align: right;\">\n",
       "      <th></th>\n",
       "      <th>ID</th>\n",
       "      <th>time</th>\n",
       "    </tr>\n",
       "  </thead>\n",
       "  <tbody>\n",
       "    <tr>\n",
       "      <th>0</th>\n",
       "      <td>1</td>\n",
       "      <td>463.144826</td>\n",
       "    </tr>\n",
       "    <tr>\n",
       "      <th>1</th>\n",
       "      <td>2</td>\n",
       "      <td>400.432221</td>\n",
       "    </tr>\n",
       "    <tr>\n",
       "      <th>2</th>\n",
       "      <td>3</td>\n",
       "      <td>998.309129</td>\n",
       "    </tr>\n",
       "    <tr>\n",
       "      <th>3</th>\n",
       "      <td>4</td>\n",
       "      <td>995.972448</td>\n",
       "    </tr>\n",
       "    <tr>\n",
       "      <th>4</th>\n",
       "      <td>5</td>\n",
       "      <td>818.720498</td>\n",
       "    </tr>\n",
       "    <tr>\n",
       "      <th>5</th>\n",
       "      <td>6</td>\n",
       "      <td>770.485261</td>\n",
       "    </tr>\n",
       "    <tr>\n",
       "      <th>6</th>\n",
       "      <td>7</td>\n",
       "      <td>482.628666</td>\n",
       "    </tr>\n",
       "    <tr>\n",
       "      <th>7</th>\n",
       "      <td>8</td>\n",
       "      <td>540.128857</td>\n",
       "    </tr>\n",
       "    <tr>\n",
       "      <th>8</th>\n",
       "      <td>9</td>\n",
       "      <td>487.720808</td>\n",
       "    </tr>\n",
       "    <tr>\n",
       "      <th>9</th>\n",
       "      <td>10</td>\n",
       "      <td>615.379955</td>\n",
       "    </tr>\n",
       "    <tr>\n",
       "      <th>10</th>\n",
       "      <td>11</td>\n",
       "      <td>1052.122841</td>\n",
       "    </tr>\n",
       "    <tr>\n",
       "      <th>11</th>\n",
       "      <td>12</td>\n",
       "      <td>961.323095</td>\n",
       "    </tr>\n",
       "    <tr>\n",
       "      <th>12</th>\n",
       "      <td>13</td>\n",
       "      <td>958.407877</td>\n",
       "    </tr>\n",
       "    <tr>\n",
       "      <th>13</th>\n",
       "      <td>14</td>\n",
       "      <td>727.665182</td>\n",
       "    </tr>\n",
       "    <tr>\n",
       "      <th>14</th>\n",
       "      <td>15</td>\n",
       "      <td>640.377848</td>\n",
       "    </tr>\n",
       "    <tr>\n",
       "      <th>15</th>\n",
       "      <td>16</td>\n",
       "      <td>720.307425</td>\n",
       "    </tr>\n",
       "    <tr>\n",
       "      <th>16</th>\n",
       "      <td>17</td>\n",
       "      <td>456.179177</td>\n",
       "    </tr>\n",
       "    <tr>\n",
       "      <th>17</th>\n",
       "      <td>18</td>\n",
       "      <td>591.699172</td>\n",
       "    </tr>\n",
       "  </tbody>\n",
       "</table>\n",
       "</div>"
      ],
      "text/plain": [
       "    ID         time\n",
       "0    1   463.144826\n",
       "1    2   400.432221\n",
       "2    3   998.309129\n",
       "3    4   995.972448\n",
       "4    5   818.720498\n",
       "5    6   770.485261\n",
       "6    7   482.628666\n",
       "7    8   540.128857\n",
       "8    9   487.720808\n",
       "9   10   615.379955\n",
       "10  11  1052.122841\n",
       "11  12   961.323095\n",
       "12  13   958.407877\n",
       "13  14   727.665182\n",
       "14  15   640.377848\n",
       "15  16   720.307425\n",
       "16  17   456.179177\n",
       "17  18   591.699172"
      ]
     },
     "execution_count": 67,
     "metadata": {},
     "output_type": "execute_result"
    }
   ],
   "source": [
    "# Merge the dataframes on the 'ID' column\n",
    "\n",
    "#df_data_heartRate = pd.merge(result, df_data[['ID', 'time', 'power','stage']], on='ID')\n",
    "# Calculate 75% of maxHR\n",
    "df_data_copy['HR_75%'] = df_data_copy['maxHR'] * 0.75\n",
    "\n",
    "# Filter the DataFrame to include only rows where HeartRate_bpm is between 70% and 90% of maxHR\n",
    "#df_filtered = df_data_copy[(df_data_copy['HeartRate_bpm'] >= df_data_copy['HR_75%'])]\n",
    "df_filtered = df_data_copy[(df_data_copy['HeartRate_bpm'] >= df_data_copy['HR_75%']) & \n",
    "                       (df_data_copy['HeartRate_bpm'] < df_data_copy['HR_90'])]\n",
    "\n",
    "average_time_per_athlete = df_filtered.groupby('ID')['time'].mean().reset_index()\n",
    "average_time_per_athlete\n",
    "\n",
    "\n"
   ]
  },
  {
   "cell_type": "markdown",
   "id": "7caa0d61",
   "metadata": {},
   "source": [
    "#Q71.Create a crosstab to show each sport as a column and each heart rate zone as rows with counts of rows that satisfy each condition as values"
   ]
  },
  {
   "cell_type": "code",
   "execution_count": 68,
   "id": "166bbbea",
   "metadata": {},
   "outputs": [
    {
     "data": {
      "text/html": [
       "<div>\n",
       "<style scoped>\n",
       "    .dataframe tbody tr th:only-of-type {\n",
       "        vertical-align: middle;\n",
       "    }\n",
       "\n",
       "    .dataframe tbody tr th {\n",
       "        vertical-align: top;\n",
       "    }\n",
       "\n",
       "    .dataframe thead th {\n",
       "        text-align: right;\n",
       "    }\n",
       "</style>\n",
       "<table border=\"1\" class=\"dataframe\">\n",
       "  <thead>\n",
       "    <tr style=\"text-align: right;\">\n",
       "      <th>zone</th>\n",
       "      <th>Zone 1</th>\n",
       "      <th>Zone 2</th>\n",
       "      <th>Zone 3</th>\n",
       "      <th>Zone 4</th>\n",
       "      <th>Zone 5</th>\n",
       "    </tr>\n",
       "    <tr>\n",
       "      <th>sport</th>\n",
       "      <th></th>\n",
       "      <th></th>\n",
       "      <th></th>\n",
       "      <th></th>\n",
       "      <th></th>\n",
       "    </tr>\n",
       "  </thead>\n",
       "  <tbody>\n",
       "    <tr>\n",
       "      <th>fencing</th>\n",
       "      <td>2258</td>\n",
       "      <td>3433</td>\n",
       "      <td>4269</td>\n",
       "      <td>6322</td>\n",
       "      <td>11321</td>\n",
       "    </tr>\n",
       "    <tr>\n",
       "      <th>kayak</th>\n",
       "      <td>1456</td>\n",
       "      <td>2621</td>\n",
       "      <td>3434</td>\n",
       "      <td>4464</td>\n",
       "      <td>6791</td>\n",
       "    </tr>\n",
       "    <tr>\n",
       "      <th>triathlon</th>\n",
       "      <td>464</td>\n",
       "      <td>318</td>\n",
       "      <td>1089</td>\n",
       "      <td>893</td>\n",
       "      <td>1781</td>\n",
       "    </tr>\n",
       "  </tbody>\n",
       "</table>\n",
       "</div>"
      ],
      "text/plain": [
       "zone       Zone 1  Zone 2  Zone 3  Zone 4  Zone 5\n",
       "sport                                            \n",
       "fencing      2258    3433    4269    6322   11321\n",
       "kayak        1456    2621    3434    4464    6791\n",
       "triathlon     464     318    1089     893    1781"
      ]
     },
     "execution_count": 68,
     "metadata": {},
     "output_type": "execute_result"
    }
   ],
   "source": [
    "df_data_zoning=df_data.copy()\n",
    "df_data_zoning=pd.merge(df_data,df_Athletes[['ID','age','sport']],on ='ID')\n",
    "df_data_zoning['HRMax']=220-df_data_zoning['age']\n",
    "df_data_zoning['HeartRateBPM'] = 60 / (df_data_zoning['RR'] / 1000)\n",
    "df_data_zoning['Heart_Rate_Percentage']=(df_data_zoning['HeartRateBPM']/df_data_zoning['HRMax'])*100\n",
    "#Zoning Code using pd.cut()\n",
    "\n",
    "df_data_zoning['zone'] = pd.cut(df_data_zoning['HeartRateBPM'], \n",
    "                          bins=[0, 100, 120, 135, 155, float('inf')], \n",
    "                          labels=['Zone 1', 'Zone 2', 'Zone 3', 'Zone 4', 'Zone 5'], \n",
    "                          right=False)\n",
    "\n",
    "ct = pd.crosstab(df_data_zoning['sport'], df_data_zoning['zone'])\n",
    "ct"
   ]
  },
  {
   "cell_type": "markdown",
   "id": "bfe77150",
   "metadata": {},
   "source": [
    "#Q72.Provide an example of a lambda function that multiplies any 2 input values."
   ]
  },
  {
   "cell_type": "code",
   "execution_count": 69,
   "id": "6ee0d0cc",
   "metadata": {},
   "outputs": [
    {
     "name": "stdout",
     "output_type": "stream",
     "text": [
      "6\n"
     ]
    }
   ],
   "source": [
    "def myfunc(n,y):\n",
    "  return lambda : n * y\n",
    "\n",
    "multiplier = myfunc(2,3)\n",
    "\n",
    "print(multiplier())"
   ]
  },
  {
   "cell_type": "markdown",
   "id": "0343819d",
   "metadata": {},
   "source": [
    "#Q73. How long was athlete 17s warm up"
   ]
  },
  {
   "cell_type": "code",
   "execution_count": 70,
   "id": "545e71de",
   "metadata": {},
   "outputs": [
    {
     "name": "stdout",
     "output_type": "stream",
     "text": [
      "   ID  time\n",
      "0  17  3.66\n"
     ]
    }
   ],
   "source": [
    "filtered_df = df_data_copy[(df_data_copy['stage'] == 'warmup') & (df_data_copy['ID'] == 17)]\n",
    "\n",
    "# Group by 'ID' and sum the 'time' column\n",
    "grouped_sum = ((filtered_df.groupby('ID')['time'].sum())/6000).abs().round(2).reset_index()\n",
    "print(grouped_sum)"
   ]
  },
  {
   "cell_type": "markdown",
   "id": "1a9ee15b",
   "metadata": {},
   "source": [
    "#Q74 Take a students full name and reverse it using a for loop"
   ]
  },
  {
   "cell_type": "code",
   "execution_count": 71,
   "id": "11600449",
   "metadata": {},
   "outputs": [
    {
     "name": "stdout",
     "output_type": "stream",
     "text": [
      "ardnesuS ahsravunA\n"
     ]
    }
   ],
   "source": [
    "def reverse(fullname):\n",
    "    reversed_name = \"\"\n",
    "    for i in range(len(fullname)):\n",
    "       reversed_name += fullname[(len(fullname)-1)-i]\n",
    "    return reversed_name\n",
    "\n",
    "print(reverse(\"Anuvarsha Susendra\"))"
   ]
  },
  {
   "cell_type": "markdown",
   "id": "99813d69",
   "metadata": {},
   "source": [
    "Q75.What was the maximum heart rate recorded during the test. Which athlete did it belong to? Display name, sport and HR"
   ]
  },
  {
   "cell_type": "code",
   "execution_count": 72,
   "id": "9d008b50",
   "metadata": {},
   "outputs": [
    {
     "name": "stdout",
     "output_type": "stream",
     "text": [
      "   ID             Name    sport  HeartRate_bpm\n",
      "0   1  Olivia Martinez  fencing     155.069723\n"
     ]
    }
   ],
   "source": [
    "#df_data_copy['HeartRate_bpm']=60/(df_data['RR']/1000) \n",
    "\n",
    "\n",
    "\n",
    "df_merged = pd.merge(df_Athletes, df_data_copy[['ID', 'HeartRate_bpm']], on='ID')\n",
    "\n",
    "# Calculate the mean Heart Rate for each athlete\n",
    "mean_heart_rate = df_merged.groupby('ID')['HeartRate_bpm'].mean().reset_index()\n",
    "\n",
    "# Merge mean heart rate with athlete details\n",
    "result = pd.merge(mean_heart_rate, df_Athletes, on='ID')\n",
    "\n",
    "max_heart_rate_row = result[result['HeartRate_bpm'] == result['HeartRate_bpm'].max()]\n",
    "\n",
    "print(max_heart_rate_row[['ID','Name','sport','HeartRate_bpm']])"
   ]
  },
  {
   "cell_type": "markdown",
   "id": "f02d90ba",
   "metadata": {},
   "source": [
    "Q76.np.arange(1,31).reshape(6,5),find array slicing to get the elements 2,5,13,25,30. #np.lib.stride_tricks.as_strided"
   ]
  },
  {
   "cell_type": "code",
   "execution_count": 73,
   "id": "d5ef751f",
   "metadata": {},
   "outputs": [
    {
     "name": "stdout",
     "output_type": "stream",
     "text": [
      "2 , 5 , 13 , 25 , 30\n"
     ]
    }
   ],
   "source": [
    "import numpy as np\n",
    "\n",
    "\n",
    "np.arange(1,31).reshape(6,5)\n",
    "\n",
    "print(array[0,1],\",\",array[0,4],\",\",array[2,2],\",\",array[4,4],\",\",array[5,4])"
   ]
  },
  {
   "cell_type": "markdown",
   "id": "b2fb7c73",
   "metadata": {},
   "source": [
    "Q77.Display a violin chart to show distribution of VO2Max against age.\n"
   ]
  },
  {
   "cell_type": "code",
   "execution_count": 75,
   "id": "27178a83",
   "metadata": {},
   "outputs": [
    {
     "data": {
      "text/plain": [
       "<Axes: xlabel='age', ylabel='VO2max'>"
      ]
     },
     "execution_count": 75,
     "metadata": {},
     "output_type": "execute_result"
    },
    {
     "data": {
      "image/png": "[encoded data removed]",
      "text/plain": [
       "<Figure size 640x480 with 1 Axes>"
      ]
     },
     "metadata": {},
     "output_type": "display_data"
    }
   ],
   "source": [
    "import seaborn as sns\n",
    "\n",
    "# plot\n",
    "sns.violinplot(x=df_merge_VO2['age'], y=df_merge_VO2['VO2max'])\n"
   ]
  },
  {
   "cell_type": "markdown",
   "id": "fb1eea26",
   "metadata": {},
   "source": [
    "Q78.Create a heatmap that show heart rate zones by minutes and the number of athletes in each HR and each minute."
   ]
  },
  {
   "cell_type": "code",
   "execution_count": 76,
   "id": "dbcf7232",
   "metadata": {},
   "outputs": [
    {
     "name": "stdout",
     "output_type": "stream",
     "text": [
      "zone      Zone 1  Zone 2  Zone 3  Zone 4  Zone 5\n",
      "time_min                                        \n",
      "0             18      18      18      18      18\n"
     ]
    },
    {
     "data": {
      "image/png": "[encoded data removed]",
      "text/plain": [
       "<Figure size 1200x800 with 2 Axes>"
      ]
     },
     "metadata": {},
     "output_type": "display_data"
    }
   ],
   "source": [
    "df_data_zoning['time_min'] = (df_data_zoning['time'] / 60000).astype(int)\n",
    "\n",
    "# Grouping to count unique athletes in each zone per minute\n",
    "grouped_df = df_data_zoning.groupby(['time_min', 'zone', 'ID']).size().reset_index(name='count')\n",
    "grouped_df = grouped_df.groupby(['time_min', 'zone'])['ID'].nunique().unstack(fill_value=0)\n",
    "\n",
    "# Check the grouped dataframe to ensure data is aggregated correctly\n",
    "print(grouped_df.head())\n",
    "\n",
    "# Plotting the heatmap\n",
    "plt.figure(figsize=(12, 8))\n",
    "sns.heatmap(grouped_df, cmap=\"viridis\", annot=True, fmt=\"d\")\n",
    "plt.title('Heatmap of Heart Rate Zones by Minutes (Unique Athletes)')\n",
    "plt.xlabel('Heart Rate Zone')\n",
    "plt.ylabel('Time (Minutes)')\n",
    "plt.show()"
   ]
  },
  {
   "cell_type": "markdown",
   "id": "de1fa6f4",
   "metadata": {},
   "source": [
    "#Q79.Plot the Donut chart athlete distrubution by Gender"
   ]
  },
  {
   "cell_type": "code",
   "execution_count": 51,
   "id": "dd044c29",
   "metadata": {},
   "outputs": [
    {
     "data": {
      "image/png": "[encoded data removed]",
      "text/plain": [
       "<Figure size 640x480 with 1 Axes>"
      ]
     },
     "metadata": {},
     "output_type": "display_data"
    }
   ],
   "source": [
    "import pandas as pd \n",
    "import matplotlib.pyplot as plt\n",
    "grouped_df = df_Athletes.groupby('Gender')['ID'].sum()\n",
    "  \n",
    "\n",
    "colors = ['#FF0000', '#0000FF']  \n",
    "explode = (0.05, 0.05)  \n",
    "grouped_df.plot.pie(\n",
    "    colors=colors,\n",
    "    labels=grouped_df.index, \n",
    "    autopct='%1.1f%%',\n",
    "    pctdistance=0.85,\n",
    "    explode=explode,\n",
    "    \n",
    "    startangle=140\n",
    ")\n",
    "\n",
    "centre_circle = plt.Circle((0, 0), 0.70, fc='white')\n",
    "fig = plt.gcf()  # Get current figure\n",
    "fig.gca().add_artist(centre_circle)\n",
    "\n",
    "\n",
    "plt.title('Athletes Distribution by Gender')\n",
    "\n",
    "plt.show()\n",
    "\n"
   ]
  },
  {
   "cell_type": "markdown",
   "id": "b6c3ec06",
   "metadata": {},
   "source": [
    "#Q80 find the size of a Tuple for any given input "
   ]
  },
  {
   "cell_type": "code",
   "execution_count": 52,
   "id": "45b3af36",
   "metadata": {},
   "outputs": [
    {
     "name": "stdout",
     "output_type": "stream",
     "text": [
      "Enter a list of tuples : \"ANu\",\"Varsha\"\n",
      "<class 'tuple'>\n",
      "2\n"
     ]
    }
   ],
   "source": [
    "# Prompt the user to enter a list of tuples \n",
    "user_input = input(\"Enter a list of tuples : \") \n",
    " \n",
    "# Convert the user input string to a list of tuples using eval() \n",
    "tuple_list = eval(user_input) \n",
    "print(type(tuple_list))\n",
    "print(len(tuple_list))"
   ]
  },
  {
   "cell_type": "code",
   "execution_count": null,
   "id": "972a88ef",
   "metadata": {},
   "outputs": [],
   "source": []
  },
  {
   "cell_type": "code",
   "execution_count": null,
   "id": "4bf508b6",
   "metadata": {},
   "outputs": [],
   "source": []
  }
 ],
 "metadata": {
  "kernelspec": {
   "display_name": "Python 3 (ipykernel)",
   "language": "python",
   "name": "python3"
  },
  "language_info": {
   "codemirror_mode": {
    "name": "ipython",
    "version": 3
   },
   "file_extension": ".py",
   "mimetype": "text/x-python",
   "name": "python",
   "nbconvert_exporter": "python",
   "pygments_lexer": "ipython3",
   "version": "3.12.4"
  }
 },
 "nbformat": 4,
 "nbformat_minor": 5
}
