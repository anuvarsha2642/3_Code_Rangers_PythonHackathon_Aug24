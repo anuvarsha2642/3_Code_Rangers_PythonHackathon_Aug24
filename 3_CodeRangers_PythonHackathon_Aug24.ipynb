{
 "cells": [
  {
   "cell_type": "markdown",
   "id": "2f104c40-8923-487a-a830-cdc0359d19f9",
   "metadata": {},
   "source": [
    "# Python Hackathon August 2024 Team 3 - Code Rangers"
   ]
  },
  {
   "cell_type": "code",
   "execution_count": 57,
   "id": "aabc6621",
   "metadata": {},
   "outputs": [],
   "source": [
    "#import required libraries\n",
    "import numpy as np\n",
    "import pandas as pd\n",
    "import warnings\n",
    "\n",
    "#ignore python warnings\n",
    "warnings.filterwarnings('ignore')"
   ]
  },
  {
   "cell_type": "markdown",
   "id": "fe0ba540-a58a-45a7-98aa-e5b32e152701",
   "metadata": {},
   "source": [
    "1. Join all sport-related tables to produce one dataframe that has all athletes values. The final table should only have the same 5 columns: ID, time,power,RR, vo2. Write this dataframe to an excel file."
   ]
  },
  {
   "cell_type": "code",
   "execution_count": 59,
   "id": "971baf20-79fa-423e-90a3-4de61abab91f",
   "metadata": {},
   "outputs": [],
   "source": [
    "#Read data from excel worksheets\n",
    "df_Kayaking =pd.read_excel(\"V02Max_Combined.xlsx\",sheet_name=\"Kayaking\")\n",
    "df_Athletes=pd.read_excel(\"V02Max_Combined.xlsx\",sheet_name=\"Athletes\")\n",
    "df_Triathlon=pd.read_excel(\"V02Max_Combined.xlsx\",sheet_name=\"Triathlon\")\n",
    "df_Fencing=pd.read_excel(\"V02Max_Combined.xlsx\",sheet_name=\"Fencing\")"
   ]
  },
  {
   "cell_type": "code",
   "execution_count": 60,
   "id": "6a56fef1-1da9-4a8d-b4e3-63a344ef0419",
   "metadata": {},
   "outputs": [],
   "source": [
    "#concatenate all sports data to form a single dataframe\n",
    "df_data = pd.concat([df_Fencing,df_Kayaking,df_Triathlon],ignore_index=True)"
   ]
  },
  {
   "cell_type": "code",
   "execution_count": 63,
   "id": "ae760f13-9596-43c5-b8e9-9ca7d2d80dc5",
   "metadata": {},
   "outputs": [
    {
     "data": {
      "text/html": [
       "<div>\n",
       "<style scoped>\n",
       "    .dataframe tbody tr th:only-of-type {\n",
       "        vertical-align: middle;\n",
       "    }\n",
       "\n",
       "    .dataframe tbody tr th {\n",
       "        vertical-align: top;\n",
       "    }\n",
       "\n",
       "    .dataframe thead th {\n",
       "        text-align: right;\n",
       "    }\n",
       "</style>\n",
       "<table border=\"1\" class=\"dataframe\">\n",
       "  <thead>\n",
       "    <tr style=\"text-align: right;\">\n",
       "      <th></th>\n",
       "      <th>ID</th>\n",
       "      <th>time</th>\n",
       "      <th>RR</th>\n",
       "      <th>VO2</th>\n",
       "      <th>power</th>\n",
       "    </tr>\n",
       "  </thead>\n",
       "  <tbody>\n",
       "    <tr>\n",
       "      <th>count</th>\n",
       "      <td>52062.000000</td>\n",
       "      <td>52062.00000</td>\n",
       "      <td>50914.000000</td>\n",
       "      <td>52062.000000</td>\n",
       "      <td>52062.000000</td>\n",
       "    </tr>\n",
       "    <tr>\n",
       "      <th>mean</th>\n",
       "      <td>9.518766</td>\n",
       "      <td>547.45914</td>\n",
       "      <td>443.583808</td>\n",
       "      <td>1.539104</td>\n",
       "      <td>106.528754</td>\n",
       "    </tr>\n",
       "    <tr>\n",
       "      <th>std</th>\n",
       "      <td>5.043902</td>\n",
       "      <td>386.29623</td>\n",
       "      <td>212.585991</td>\n",
       "      <td>0.799706</td>\n",
       "      <td>88.603627</td>\n",
       "    </tr>\n",
       "    <tr>\n",
       "      <th>min</th>\n",
       "      <td>1.000000</td>\n",
       "      <td>-219.87200</td>\n",
       "      <td>252.000000</td>\n",
       "      <td>0.069354</td>\n",
       "      <td>0.000000</td>\n",
       "    </tr>\n",
       "    <tr>\n",
       "      <th>25%</th>\n",
       "      <td>5.000000</td>\n",
       "      <td>244.29500</td>\n",
       "      <td>352.000000</td>\n",
       "      <td>0.972290</td>\n",
       "      <td>0.000000</td>\n",
       "    </tr>\n",
       "    <tr>\n",
       "      <th>50%</th>\n",
       "      <td>10.000000</td>\n",
       "      <td>542.03800</td>\n",
       "      <td>412.000000</td>\n",
       "      <td>1.419143</td>\n",
       "      <td>95.000000</td>\n",
       "    </tr>\n",
       "    <tr>\n",
       "      <th>75%</th>\n",
       "      <td>14.000000</td>\n",
       "      <td>822.13900</td>\n",
       "      <td>484.000000</td>\n",
       "      <td>2.043474</td>\n",
       "      <td>170.000000</td>\n",
       "    </tr>\n",
       "    <tr>\n",
       "      <th>max</th>\n",
       "      <td>18.000000</td>\n",
       "      <td>1504.05600</td>\n",
       "      <td>30500.000000</td>\n",
       "      <td>4.576774</td>\n",
       "      <td>335.000000</td>\n",
       "    </tr>\n",
       "  </tbody>\n",
       "</table>\n",
       "</div>"
      ],
      "text/plain": [
       "                 ID         time            RR           VO2         power\n",
       "count  52062.000000  52062.00000  50914.000000  52062.000000  52062.000000\n",
       "mean       9.518766    547.45914    443.583808      1.539104    106.528754\n",
       "std        5.043902    386.29623    212.585991      0.799706     88.603627\n",
       "min        1.000000   -219.87200    252.000000      0.069354      0.000000\n",
       "25%        5.000000    244.29500    352.000000      0.972290      0.000000\n",
       "50%       10.000000    542.03800    412.000000      1.419143     95.000000\n",
       "75%       14.000000    822.13900    484.000000      2.043474    170.000000\n",
       "max       18.000000   1504.05600  30500.000000      4.576774    335.000000"
      ]
     },
     "execution_count": 63,
     "metadata": {},
     "output_type": "execute_result"
    }
   ],
   "source": [
    "#verify data\n",
    "df_data.describe()"
   ]
  },
  {
   "cell_type": "code",
   "execution_count": 65,
   "id": "a2579d0a-bc5e-4411-80b0-6401587524e8",
   "metadata": {},
   "outputs": [],
   "source": [
    "# Export Dataframe to Excel by eliminating index\n",
    "df_data.to_excel(\"V02Max_Sports.xlsx\",sheet_name=\"All_Sports\",index=False)"
   ]
  },
  {
   "cell_type": "markdown",
   "id": "c80c0e41-ef2f-45f5-b131-66540c63036e",
   "metadata": {},
   "source": [
    "2. Divide the rows into 3 parts: Warm up, GET(graded exercise test) and cool down using the data def. Label each row accordingly"
   ]
  },
  {
   "cell_type": "code",
   "execution_count": 67,
   "id": "4a7e0ae1-6f58-46d7-95f9-5ee2d29c40d2",
   "metadata": {},
   "outputs": [],
   "source": [
    "# cooldown = time>0 and power =0\n",
    "# warmup = time<0 and power =0\n",
    "# GET(graded exercise test) =time>0 and power>0\n",
    "\n",
    "df_data[\"stage\"] = \"\"\n",
    "df_data.loc[df_data[\"power\"] == 0, \"stage\"] = \"cooldown\"\n",
    "df_data.loc[df_data[\"time\"] < 0, \"stage\"] = \"warmup\"\n",
    "df_data.loc[df_data[\"power\"] > 0, \"stage\"] = \"GET\""
   ]
  },
  {
   "cell_type": "code",
   "execution_count": 69,
   "id": "7578828a-2dc1-461e-82d1-c9b56e17a509",
   "metadata": {},
   "outputs": [
    {
     "data": {
      "text/html": [
       "<div>\n",
       "<style scoped>\n",
       "    .dataframe tbody tr th:only-of-type {\n",
       "        vertical-align: middle;\n",
       "    }\n",
       "\n",
       "    .dataframe tbody tr th {\n",
       "        vertical-align: top;\n",
       "    }\n",
       "\n",
       "    .dataframe thead th {\n",
       "        text-align: right;\n",
       "    }\n",
       "</style>\n",
       "<table border=\"1\" class=\"dataframe\">\n",
       "  <thead>\n",
       "    <tr style=\"text-align: right;\">\n",
       "      <th></th>\n",
       "      <th>ID</th>\n",
       "      <th>time</th>\n",
       "      <th>RR</th>\n",
       "      <th>VO2</th>\n",
       "      <th>power</th>\n",
       "      <th>stage</th>\n",
       "    </tr>\n",
       "  </thead>\n",
       "  <tbody>\n",
       "    <tr>\n",
       "      <th>0</th>\n",
       "      <td>1</td>\n",
       "      <td>-130.840</td>\n",
       "      <td>672.0</td>\n",
       "      <td>0.302008</td>\n",
       "      <td>0</td>\n",
       "      <td>warmup</td>\n",
       "    </tr>\n",
       "    <tr>\n",
       "      <th>1</th>\n",
       "      <td>1</td>\n",
       "      <td>-130.168</td>\n",
       "      <td>672.0</td>\n",
       "      <td>0.302008</td>\n",
       "      <td>0</td>\n",
       "      <td>warmup</td>\n",
       "    </tr>\n",
       "    <tr>\n",
       "      <th>2</th>\n",
       "      <td>1</td>\n",
       "      <td>-129.536</td>\n",
       "      <td>632.0</td>\n",
       "      <td>0.301336</td>\n",
       "      <td>0</td>\n",
       "      <td>warmup</td>\n",
       "    </tr>\n",
       "    <tr>\n",
       "      <th>3</th>\n",
       "      <td>1</td>\n",
       "      <td>-128.824</td>\n",
       "      <td>712.0</td>\n",
       "      <td>0.301336</td>\n",
       "      <td>0</td>\n",
       "      <td>warmup</td>\n",
       "    </tr>\n",
       "    <tr>\n",
       "      <th>4</th>\n",
       "      <td>1</td>\n",
       "      <td>-127.948</td>\n",
       "      <td>876.0</td>\n",
       "      <td>0.301336</td>\n",
       "      <td>0</td>\n",
       "      <td>warmup</td>\n",
       "    </tr>\n",
       "  </tbody>\n",
       "</table>\n",
       "</div>"
      ],
      "text/plain": [
       "   ID     time     RR       VO2  power   stage\n",
       "0   1 -130.840  672.0  0.302008      0  warmup\n",
       "1   1 -130.168  672.0  0.302008      0  warmup\n",
       "2   1 -129.536  632.0  0.301336      0  warmup\n",
       "3   1 -128.824  712.0  0.301336      0  warmup\n",
       "4   1 -127.948  876.0  0.301336      0  warmup"
      ]
     },
     "execution_count": 69,
     "metadata": {},
     "output_type": "execute_result"
    }
   ],
   "source": [
    "# Verify top five rows\n",
    "df_data.head()"
   ]
  },
  {
   "cell_type": "code",
   "execution_count": 71,
   "id": "0d78aab8-a998-4630-952e-68ae3efcefdf",
   "metadata": {},
   "outputs": [
    {
     "data": {
      "text/plain": [
       "stage\n",
       "GET         38733\n",
       "cooldown     9088\n",
       "warmup       4241\n",
       "Name: count, dtype: int64"
      ]
     },
     "execution_count": 71,
     "metadata": {},
     "output_type": "execute_result"
    }
   ],
   "source": [
    "#verify the count of rows for each stage\n",
    "df_data[\"stage\"].value_counts()"
   ]
  },
  {
   "cell_type": "markdown",
   "id": "e1e64259-a201-42d6-83a3-138834faeb13",
   "metadata": {},
   "source": [
    "3. What was the average time each tested lasted excluding warm up for all athletes?"
   ]
  },
  {
   "cell_type": "code",
   "execution_count": 73,
   "id": "c0a2ef32-401a-49d1-8c1d-4f01856cb94d",
   "metadata": {},
   "outputs": [
    {
     "name": "stdout",
     "output_type": "stream",
     "text": [
      "The average time each tested lasted excluding warm up for all athletes is  1096.9759999999999\n"
     ]
    }
   ],
   "source": [
    "#get max time of individual athelete excluding warmup stage. calculate mean of max time.\n",
    "avg_test_time = df_data[df_data[\"stage\"] != \"warmup\"].groupby(\"ID\")[\"time\"].max().mean()\n",
    "print(\"The average time each tested lasted excluding warm up for all athletes is \",avg_test_time)"
   ]
  },
  {
   "cell_type": "markdown",
   "id": "eb4137a7-8874-49d3-a1e3-100b272444fd",
   "metadata": {},
   "source": [
    "4. Athletes from which sport had the highest average cardiorespiratory fitness in terms of HRV?"
   ]
  },
  {
   "cell_type": "code",
   "execution_count": 76,
   "id": "900f4a15-daaf-4b80-a808-7bcbd19ca786",
   "metadata": {},
   "outputs": [],
   "source": [
    "df_RR = df_data.copy()\n",
    "#calculated differences of RR_intervals\n",
    "df_RR[\"HRV\"]= df_RR.groupby(\"ID\")[\"RR\"].diff()\n",
    "# Calculated HRV as standard deviation of RR_interval diffrences and updated to the athelete dataframe. \n",
    "df_Athletes = pd.merge(df_Athletes,df_RR.groupby(\"ID\")[\"HRV\"].std(), on=\"ID\")"
   ]
  },
  {
   "cell_type": "code",
   "execution_count": 78,
   "id": "7fd60cf4-7212-4328-987e-c957f71fbcc3",
   "metadata": {},
   "outputs": [
    {
     "name": "stdout",
     "output_type": "stream",
     "text": [
      "The sport that has the highest average cardiorespiratory fitness in terms of HRV is sport\n",
      "kayak    170.640909\n",
      "Name: HRV, dtype: float64\n"
     ]
    }
   ],
   "source": [
    "#calculated mean HRV value for each sport and displyed the highest average sport\n",
    "high_HRV_sport=df_Athletes.groupby(\"sport\")[\"HRV\"].mean().sort_values(ascending=False).head(1)\n",
    "print(\"The sport that has the highest average cardiorespiratory fitness in terms of HRV is\",high_HRV_sport)"
   ]
  },
  {
   "cell_type": "markdown",
   "id": "3e9aff0b-0681-4d55-84eb-419cf9a2b479",
   "metadata": {},
   "source": [
    "5. What was the average time each test lasted (including warm up) for all athletes?"
   ]
  },
  {
   "cell_type": "code",
   "execution_count": 81,
   "id": "f7799f50-12d6-4fb5-b1d0-24632c69ba0a",
   "metadata": {},
   "outputs": [
    {
     "name": "stdout",
     "output_type": "stream",
     "text": [
      "The average time each tested lasted including warm up for all athletes is  1277.8059999999998\n"
     ]
    }
   ],
   "source": [
    "#total test time calculated as difference between the maximum and minimum of time\n",
    "total_time_taken= df_data.groupby(\"ID\")[\"time\"].max() - df_data.groupby(\"ID\")[\"time\"].min()\n",
    "avg_total_time = total_time_taken.mean()\n",
    "print(\"The average time each tested lasted including warm up for all athletes is \",avg_total_time)"
   ]
  },
  {
   "cell_type": "markdown",
   "id": "1b284a09-1252-4f20-97a5-12d9daa0ef7c",
   "metadata": {},
   "source": [
    "8. What are the names of the kayaking athletes?"
   ]
  },
  {
   "cell_type": "code",
   "execution_count": 84,
   "id": "aefd5657-86cb-4aad-af7a-5709003de1e9",
   "metadata": {},
   "outputs": [
    {
     "name": "stdout",
     "output_type": "stream",
     "text": [
      "The names of the kayaking athletes are :\n",
      "['Isabella Griffin' 'Caleb Dixon' 'Mia Carpenter' 'Harper Mitchell'\n",
      " 'Mason Wallace' 'Logan Anderson']\n"
     ]
    }
   ],
   "source": [
    "#filterd athelets with sport as kayak and printed their names\n",
    "df_Athletes_kayak = df_Athletes[df_Athletes[\"sport\"]==\"kayak\"]\n",
    "print(\"The names of the kayaking athletes are :\")\n",
    "print(df_Athletes_kayak[\"First Name\"].values + \" \" + df_Athletes_kayak[\"Last Name\"].values)"
   ]
  },
  {
   "cell_type": "markdown",
   "id": "88763731-3c1d-406c-a02c-68a2ba872918",
   "metadata": {},
   "source": [
    "16. Calculate the BMI of every athlete and display it as a list."
   ]
  },
  {
   "cell_type": "code",
   "execution_count": 87,
   "id": "411ba380-8285-4dc2-b6b4-41469b4e8b84",
   "metadata": {},
   "outputs": [
    {
     "name": "stdout",
     "output_type": "stream",
     "text": [
      "The list of athletes and their BMI is :\n"
     ]
    },
    {
     "data": {
      "text/plain": [
       "[['Olivia', 'Martinez', 20.716793333590523],\n",
       " ['Ethan', 'Reynolds', 21.414418533760095],\n",
       " ['Jackson', 'Harper', 24.642964831007923],\n",
       " ['Liam', 'Sanchez', 23.61111111111111],\n",
       " ['Ava', 'Thompson', 22.083477858711987],\n",
       " ['Sophia', 'Rodriguez', 22.968383459962887],\n",
       " ['Grace', 'Simmons', 18.29201101928375],\n",
       " ['Aiden', 'Bennett', 18.80624426078972],\n",
       " ['Chloe', 'Price', 18.433626033057852],\n",
       " ['Lily', 'Jordan', 18.768553097768837],\n",
       " ['Isabella', 'Griffin', 25.600772853520105],\n",
       " ['Caleb', 'Dixon', 25.680074054167036],\n",
       " ['Mia', 'Carpenter', 25.05300247842575],\n",
       " ['Harper', 'Mitchell', 21.305700899422046],\n",
       " ['Mason', 'Wallace', 21.464305029745812],\n",
       " ['Logan', 'Anderson', 21.253471802922352],\n",
       " ['Lucas', 'Foster', 16.395463510848124],\n",
       " ['Owen', 'Myers', 15.902900176253803]]"
      ]
     },
     "execution_count": 87,
     "metadata": {},
     "output_type": "execute_result"
    }
   ],
   "source": [
    "#calculated BMI as weight(kg)(height(meter))^2\n",
    "df_Athletes[\"BMI\"] = df_Athletes[\"Weight\"]/(df_Athletes[\"Height\"]/100)**2\n",
    "print(\"The list of athletes and their BMI is :\")\n",
    "df_Athletes.reset_index()[[\"First Name\",\"Last Name\",\"BMI\"]].values.tolist()"
   ]
  },
  {
   "cell_type": "code",
   "execution_count": null,
   "id": "f0c89883-2356-4d49-a37d-5c956d2ba3ae",
   "metadata": {},
   "outputs": [],
   "source": []
  }
 ],
 "metadata": {
  "kernelspec": {
   "display_name": "Python 3 (ipykernel)",
   "language": "python",
   "name": "python3"
  },
  "language_info": {
   "codemirror_mode": {
    "name": "ipython",
    "version": 3
   },
   "file_extension": ".py",
   "mimetype": "text/x-python",
   "name": "python",
   "nbconvert_exporter": "python",
   "pygments_lexer": "ipython3",
   "version": "3.12.4"
  }
 },
 "nbformat": 4,
 "nbformat_minor": 5
}
