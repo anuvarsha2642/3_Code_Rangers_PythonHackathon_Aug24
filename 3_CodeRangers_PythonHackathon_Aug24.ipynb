{
 "cells": [
  {
   "cell_type": "markdown",
   "id": "2f104c40-8923-487a-a830-cdc0359d19f9",
   "metadata": {},
   "source": [
    "# Python Hackathon August 2024 Team 3 - Code Rangers"
   ]
  },
  {
   "cell_type": "code",
   "execution_count": 576,
   "id": "7e6e674d-534d-4f1f-8650-3108ace937e0",
   "metadata": {},
   "outputs": [],
   "source": [
    "#import required libraries\n",
    "import numpy as np\n",
    "import pandas as pd\n",
    "import seaborn as sns\n",
    "import matplotlib.pyplot as plt\n",
    "import warnings\n",
    "import statistics as st\n",
    "import re\n",
    "\n",
    "#show plots inline\n",
    "%matplotlib inline\n",
    "\n",
    "#ignore python warnings\n",
    "warnings.filterwarnings('ignore')"
   ]
  },
  {
   "cell_type": "code",
   "execution_count": 577,
   "id": "2fc91bad-dc30-4d33-952c-00bd0c7c6160",
   "metadata": {},
   "outputs": [],
   "source": [
    "#Read data from excel worksheets\n",
    "df_Kayaking =pd.read_excel(\"V02Max_Combined.xlsx\",sheet_name=\"Kayaking\")\n",
    "df_Athletes=pd.read_excel(\"V02Max_Combined.xlsx\",sheet_name=\"Athletes\")\n",
    "df_Triathlon=pd.read_excel(\"V02Max_Combined.xlsx\",sheet_name=\"Triathlon\")\n",
    "df_Fencing=pd.read_excel(\"V02Max_Combined.xlsx\",sheet_name=\"Fencing\")"
   ]
  },
  {
   "cell_type": "markdown",
   "id": "fe0ba540-a58a-45a7-98aa-e5b32e152701",
   "metadata": {},
   "source": [
    "#### 1. Join all sport-related tables to produce one dataframe that has all athletes values. The final table should only have the same 5 columns: ID, time,power,RR, vo2. Write this dataframe to an excel file."
   ]
  },
  {
   "cell_type": "code",
   "execution_count": 579,
   "id": "6a56fef1-1da9-4a8d-b4e3-63a344ef0419",
   "metadata": {},
   "outputs": [],
   "source": [
    "#concatenate all sports data to form a single dataframe\n",
    "df_data = pd.concat([df_Fencing,df_Kayaking,df_Triathlon],ignore_index=True)"
   ]
  },
  {
   "cell_type": "code",
   "execution_count": 580,
   "id": "ae760f13-9596-43c5-b8e9-9ca7d2d80dc5",
   "metadata": {},
   "outputs": [
    {
     "data": {
      "text/html": [
       "<div>\n",
       "<style scoped>\n",
       "    .dataframe tbody tr th:only-of-type {\n",
       "        vertical-align: middle;\n",
       "    }\n",
       "\n",
       "    .dataframe tbody tr th {\n",
       "        vertical-align: top;\n",
       "    }\n",
       "\n",
       "    .dataframe thead th {\n",
       "        text-align: right;\n",
       "    }\n",
       "</style>\n",
       "<table border=\"1\" class=\"dataframe\">\n",
       "  <thead>\n",
       "    <tr style=\"text-align: right;\">\n",
       "      <th></th>\n",
       "      <th>ID</th>\n",
       "      <th>time</th>\n",
       "      <th>RR</th>\n",
       "      <th>VO2</th>\n",
       "      <th>power</th>\n",
       "    </tr>\n",
       "  </thead>\n",
       "  <tbody>\n",
       "    <tr>\n",
       "      <th>count</th>\n",
       "      <td>52062.000000</td>\n",
       "      <td>52062.00000</td>\n",
       "      <td>50914.000000</td>\n",
       "      <td>52062.000000</td>\n",
       "      <td>52062.000000</td>\n",
       "    </tr>\n",
       "    <tr>\n",
       "      <th>mean</th>\n",
       "      <td>9.518766</td>\n",
       "      <td>547.45914</td>\n",
       "      <td>443.583808</td>\n",
       "      <td>1.539104</td>\n",
       "      <td>106.528754</td>\n",
       "    </tr>\n",
       "    <tr>\n",
       "      <th>std</th>\n",
       "      <td>5.043902</td>\n",
       "      <td>386.29623</td>\n",
       "      <td>212.585991</td>\n",
       "      <td>0.799706</td>\n",
       "      <td>88.603627</td>\n",
       "    </tr>\n",
       "    <tr>\n",
       "      <th>min</th>\n",
       "      <td>1.000000</td>\n",
       "      <td>-219.87200</td>\n",
       "      <td>252.000000</td>\n",
       "      <td>0.069354</td>\n",
       "      <td>0.000000</td>\n",
       "    </tr>\n",
       "    <tr>\n",
       "      <th>25%</th>\n",
       "      <td>5.000000</td>\n",
       "      <td>244.29500</td>\n",
       "      <td>352.000000</td>\n",
       "      <td>0.972290</td>\n",
       "      <td>0.000000</td>\n",
       "    </tr>\n",
       "    <tr>\n",
       "      <th>50%</th>\n",
       "      <td>10.000000</td>\n",
       "      <td>542.03800</td>\n",
       "      <td>412.000000</td>\n",
       "      <td>1.419143</td>\n",
       "      <td>95.000000</td>\n",
       "    </tr>\n",
       "    <tr>\n",
       "      <th>75%</th>\n",
       "      <td>14.000000</td>\n",
       "      <td>822.13900</td>\n",
       "      <td>484.000000</td>\n",
       "      <td>2.043474</td>\n",
       "      <td>170.000000</td>\n",
       "    </tr>\n",
       "    <tr>\n",
       "      <th>max</th>\n",
       "      <td>18.000000</td>\n",
       "      <td>1504.05600</td>\n",
       "      <td>30500.000000</td>\n",
       "      <td>4.576774</td>\n",
       "      <td>335.000000</td>\n",
       "    </tr>\n",
       "  </tbody>\n",
       "</table>\n",
       "</div>"
      ],
      "text/plain": [
       "                 ID         time            RR           VO2         power\n",
       "count  52062.000000  52062.00000  50914.000000  52062.000000  52062.000000\n",
       "mean       9.518766    547.45914    443.583808      1.539104    106.528754\n",
       "std        5.043902    386.29623    212.585991      0.799706     88.603627\n",
       "min        1.000000   -219.87200    252.000000      0.069354      0.000000\n",
       "25%        5.000000    244.29500    352.000000      0.972290      0.000000\n",
       "50%       10.000000    542.03800    412.000000      1.419143     95.000000\n",
       "75%       14.000000    822.13900    484.000000      2.043474    170.000000\n",
       "max       18.000000   1504.05600  30500.000000      4.576774    335.000000"
      ]
     },
     "execution_count": 580,
     "metadata": {},
     "output_type": "execute_result"
    }
   ],
   "source": [
    "#verify data\n",
    "df_data.describe()"
   ]
  },
  {
   "cell_type": "code",
   "execution_count": 581,
   "id": "a2579d0a-bc5e-4411-80b0-6401587524e8",
   "metadata": {},
   "outputs": [],
   "source": [
    "# Export Dataframe to Excel by eliminating index\n",
    "df_data.to_excel(\"V02Max_Sports.xlsx\",sheet_name=\"All_Sports\",index=False)"
   ]
  },
  {
   "cell_type": "markdown",
   "id": "c80c0e41-ef2f-45f5-b131-66540c63036e",
   "metadata": {},
   "source": [
    "#### 2. Divide the rows into 3 parts: Warm up, GET(graded exercise test) and cool down using the data def. Label each row accordingly"
   ]
  },
  {
   "cell_type": "code",
   "execution_count": 583,
   "id": "4a7e0ae1-6f58-46d7-95f9-5ee2d29c40d2",
   "metadata": {},
   "outputs": [],
   "source": [
    "# cooldown = time>0 and power =0\n",
    "# warmup = time<0 and power =0\n",
    "# GET(graded exercise test) =time>0 and power>0\n",
    "\n",
    "df_data[\"stage\"] = \"\"\n",
    "df_data.loc[df_data[\"power\"] == 0, \"stage\"] = \"cooldown\"\n",
    "df_data.loc[df_data[\"time\"] < 0, \"stage\"] = \"warmup\"\n",
    "df_data.loc[df_data[\"power\"] > 0, \"stage\"] = \"GET\""
   ]
  },
  {
   "cell_type": "code",
   "execution_count": 584,
   "id": "7578828a-2dc1-461e-82d1-c9b56e17a509",
   "metadata": {},
   "outputs": [
    {
     "data": {
      "text/html": [
       "<div>\n",
       "<style scoped>\n",
       "    .dataframe tbody tr th:only-of-type {\n",
       "        vertical-align: middle;\n",
       "    }\n",
       "\n",
       "    .dataframe tbody tr th {\n",
       "        vertical-align: top;\n",
       "    }\n",
       "\n",
       "    .dataframe thead th {\n",
       "        text-align: right;\n",
       "    }\n",
       "</style>\n",
       "<table border=\"1\" class=\"dataframe\">\n",
       "  <thead>\n",
       "    <tr style=\"text-align: right;\">\n",
       "      <th></th>\n",
       "      <th>ID</th>\n",
       "      <th>time</th>\n",
       "      <th>RR</th>\n",
       "      <th>VO2</th>\n",
       "      <th>power</th>\n",
       "      <th>stage</th>\n",
       "    </tr>\n",
       "  </thead>\n",
       "  <tbody>\n",
       "    <tr>\n",
       "      <th>0</th>\n",
       "      <td>1</td>\n",
       "      <td>-130.840</td>\n",
       "      <td>672.0</td>\n",
       "      <td>0.302008</td>\n",
       "      <td>0</td>\n",
       "      <td>warmup</td>\n",
       "    </tr>\n",
       "    <tr>\n",
       "      <th>1</th>\n",
       "      <td>1</td>\n",
       "      <td>-130.168</td>\n",
       "      <td>672.0</td>\n",
       "      <td>0.302008</td>\n",
       "      <td>0</td>\n",
       "      <td>warmup</td>\n",
       "    </tr>\n",
       "    <tr>\n",
       "      <th>2</th>\n",
       "      <td>1</td>\n",
       "      <td>-129.536</td>\n",
       "      <td>632.0</td>\n",
       "      <td>0.301336</td>\n",
       "      <td>0</td>\n",
       "      <td>warmup</td>\n",
       "    </tr>\n",
       "    <tr>\n",
       "      <th>3</th>\n",
       "      <td>1</td>\n",
       "      <td>-128.824</td>\n",
       "      <td>712.0</td>\n",
       "      <td>0.301336</td>\n",
       "      <td>0</td>\n",
       "      <td>warmup</td>\n",
       "    </tr>\n",
       "    <tr>\n",
       "      <th>4</th>\n",
       "      <td>1</td>\n",
       "      <td>-127.948</td>\n",
       "      <td>876.0</td>\n",
       "      <td>0.301336</td>\n",
       "      <td>0</td>\n",
       "      <td>warmup</td>\n",
       "    </tr>\n",
       "  </tbody>\n",
       "</table>\n",
       "</div>"
      ],
      "text/plain": [
       "   ID     time     RR       VO2  power   stage\n",
       "0   1 -130.840  672.0  0.302008      0  warmup\n",
       "1   1 -130.168  672.0  0.302008      0  warmup\n",
       "2   1 -129.536  632.0  0.301336      0  warmup\n",
       "3   1 -128.824  712.0  0.301336      0  warmup\n",
       "4   1 -127.948  876.0  0.301336      0  warmup"
      ]
     },
     "execution_count": 584,
     "metadata": {},
     "output_type": "execute_result"
    }
   ],
   "source": [
    "# Verify top five rows\n",
    "df_data.head()"
   ]
  },
  {
   "cell_type": "code",
   "execution_count": 585,
   "id": "0d78aab8-a998-4630-952e-68ae3efcefdf",
   "metadata": {},
   "outputs": [
    {
     "data": {
      "text/plain": [
       "stage\n",
       "GET         38733\n",
       "cooldown     9088\n",
       "warmup       4241\n",
       "Name: count, dtype: int64"
      ]
     },
     "execution_count": 585,
     "metadata": {},
     "output_type": "execute_result"
    }
   ],
   "source": [
    "#verify the count of rows for each stage\n",
    "df_data[\"stage\"].value_counts()"
   ]
  },
  {
   "cell_type": "markdown",
   "id": "e1e64259-a201-42d6-83a3-138834faeb13",
   "metadata": {},
   "source": [
    "#### 3. What was the average time each tested lasted excluding warm up for all athletes?"
   ]
  },
  {
   "cell_type": "code",
   "execution_count": 587,
   "id": "c0a2ef32-401a-49d1-8c1d-4f01856cb94d",
   "metadata": {},
   "outputs": [
    {
     "name": "stdout",
     "output_type": "stream",
     "text": [
      "The average time each tested lasted excluding warm up for all athletes is  1096.9759999999999\n"
     ]
    }
   ],
   "source": [
    "#get max time of individual athelete excluding warmup stage. calculate mean of max time.\n",
    "avg_test_time = df_data[df_data[\"stage\"] != \"warmup\"].groupby(\"ID\")[\"time\"].max().mean()\n",
    "print(\"The average time each tested lasted excluding warm up for all athletes is \",avg_test_time)"
   ]
  },
  {
   "cell_type": "markdown",
   "id": "9ac5126f-a143-476e-b747-1003602c8249",
   "metadata": {},
   "source": [
    "#### 4. Athletes from which sport had the highest average cardiorespiratory fitness in terms of HRV?"
   ]
  },
  {
   "cell_type": "code",
   "execution_count": 589,
   "id": "2d170399-f766-45b2-985f-b17e9f22f95e",
   "metadata": {},
   "outputs": [],
   "source": [
    "df_RR = df_data.copy()\n",
    "#calculated differences of RR_intervals\n",
    "df_RR[\"HRV\"]= df_RR.groupby(\"ID\")[\"RR\"].diff()\n",
    "# Calculated HRV as standard deviation of RR_interval diffrences and updated to the athelete dataframe. \n",
    "df_Athletes = pd.merge(df_Athletes,df_RR.groupby(\"ID\")[\"HRV\"].std(), on=\"ID\")"
   ]
  },
  {
   "cell_type": "code",
   "execution_count": 590,
   "id": "316cf130-fa09-414d-ae28-fee5dd737673",
   "metadata": {},
   "outputs": [
    {
     "name": "stdout",
     "output_type": "stream",
     "text": [
      "The sport that has the highest average cardiorespiratory fitness in terms of HRV is sport\n",
      "kayak    170.640909\n",
      "Name: HRV, dtype: float64\n"
     ]
    }
   ],
   "source": [
    "#calculated mean HRV value for each sport and displyed the highest average sport\n",
    "high_HRV_sport=df_Athletes.groupby(\"sport\")[\"HRV\"].mean().sort_values(ascending=False).head(1)\n",
    "print(\"The sport that has the highest average cardiorespiratory fitness in terms of HRV is\",high_HRV_sport)"
   ]
  },
  {
   "cell_type": "markdown",
   "id": "6ceb64fe-10b9-456c-93fc-99c3d75d5ccf",
   "metadata": {},
   "source": [
    "#### 5. What was the average time each test lasted (including warm up) for all athletes?"
   ]
  },
  {
   "cell_type": "code",
   "execution_count": 592,
   "id": "05abc8df-1302-469c-80f6-59b24bf306d6",
   "metadata": {},
   "outputs": [
    {
     "name": "stdout",
     "output_type": "stream",
     "text": [
      "The average time each tested lasted including warm up for all athletes is  1277.8059999999998\n"
     ]
    }
   ],
   "source": [
    "#total test time calculated as difference between the maximum and minimum of time\n",
    "total_time_taken= df_data.groupby(\"ID\")[\"time\"].max() - df_data.groupby(\"ID\")[\"time\"].min()\n",
    "avg_total_time = total_time_taken.mean()\n",
    "print(\"The average time each tested lasted including warm up for all athletes is \",avg_total_time)"
   ]
  },
  {
   "cell_type": "markdown",
   "id": "626761e2-7e3f-4635-af0e-7af623efaf7a",
   "metadata": {},
   "source": [
    "#### 6. What was the most common  wattage (above 0) achieved by participants and for how many seconds (average time)? You may choose to show averages based on any one/all sports"
   ]
  },
  {
   "cell_type": "code",
   "execution_count": 594,
   "id": "691a345d-50cf-4072-ba45-e4502336e599",
   "metadata": {},
   "outputs": [
    {
     "name": "stdout",
     "output_type": "stream",
     "text": [
      "The most common wattage after zero for all atheletes is 50\n",
      "The average time spent in common wattage for all atheletes is  177.77977777777778\n"
     ]
    }
   ],
   "source": [
    "#calculating most common wattage (above 0) interpretted as most data readings for a wattage after zero.\n",
    "common_watt = st.mode(df_data[df_data[\"power\"]!=0][\"power\"])\n",
    "print(\"The most common wattage after zero for all atheletes is\",common_watt)\n",
    "\n",
    "#totaltime spent in common wattage for each participant is calculated as difference between the maximum and minimum of time spent in that wattage.\n",
    "#Then calculated average time spent for all of the participants\n",
    "avg_common_watt_time = (df_data[df_data[\"power\"]==common_watt].groupby(\"ID\").max(\"time\")[\"time\"]\n",
    "                        -df_data[df_data[\"power\"]==common_watt].groupby(\"ID\").min(\"time\")[\"time\"]).mean()\n",
    "print(\"The average time spent in common wattage for all atheletes is \",avg_common_watt_time)"
   ]
  },
  {
   "cell_type": "markdown",
   "id": "61c91c45-c550-4598-aace-cf8bc1650a89",
   "metadata": {},
   "source": [
    "#### 7. Create a correlation matrix to show the relationship between HR, BMI and sport."
   ]
  },
  {
   "cell_type": "code",
   "execution_count": 596,
   "id": "d1352d6d-5ded-4734-a653-76b43841d18d",
   "metadata": {},
   "outputs": [],
   "source": [
    "#calculting HR as 60/(RR value/1000) added HR to data table\n",
    "df_data[\"HR\"]= 60/(df_data[\"RR\"]/1000)\n",
    "\n",
    "#calculating BMI as weight(kg)(height(meter))^2\n",
    "df_Athletes[\"BMI\"] = df_Athletes[\"Weight\"]/(df_Athletes[\"Height\"]/100)**2\n",
    "\n",
    "#merged HR from data table and BMI and sport from atheletes table\n",
    "df_corr_BMI_HR = pd.merge(df_data[[\"ID\",\"HR\"]],df_Athletes[[\"ID\",\"sport\",\"BMI\"]],on=\"ID\")"
   ]
  },
  {
   "cell_type": "code",
   "execution_count": 597,
   "id": "e66e0bab-5631-4052-b4a1-fcd196117531",
   "metadata": {},
   "outputs": [
    {
     "data": {
      "image/png": "[encoded data removed]",
      "text/plain": [
       "<Figure size 800x600 with 8 Axes>"
      ]
     },
     "metadata": {},
     "output_type": "display_data"
    }
   ],
   "source": [
    "#correlation matrix represented as heat map for all Atheletes followed by individual sport:\n",
    "\n",
    "plt.style.use(\"default\")\n",
    "fig, (ax1, ax2) = plt.subplots(2, 2, figsize=(8, 6))\n",
    "\n",
    "ax1[0].set_title(\"All Athletes\")\n",
    "sns.heatmap(data=df_corr_BMI_HR[[\"HR\",\"BMI\"]].corr(),annot= True,ax=ax1[0])\n",
    "\n",
    "ax1[1].set_title(\"Fencing Athletes\")\n",
    "sns.heatmap(data=df_corr_BMI_HR[df_corr_BMI_HR[\"sport\"] == \"fencing\"][[\"HR\",\"BMI\"]].corr(),annot= True,ax=ax1[1])\n",
    "\n",
    "ax2[0].set_title(\"Kayak Athletes\")\n",
    "sns.heatmap(data=df_corr_BMI_HR[df_corr_BMI_HR[\"sport\"] == \"kayak\"][[\"HR\",\"BMI\"]].corr(),annot= True,ax=ax2[0])\n",
    "\n",
    "ax2[1].set_title(\"Triathlon Athletes\")\n",
    "sns.heatmap(data=df_corr_BMI_HR[df_corr_BMI_HR[\"sport\"] == \"triathlon\"][[\"HR\",\"BMI\"]].corr(),annot= True,ax=ax2[1])\n",
    "\n",
    "plt.tight_layout()\n",
    "plt.show()\n"
   ]
  },
  {
   "cell_type": "markdown",
   "id": "c63552a3-59a6-4459-9f73-94c3aa289d22",
   "metadata": {},
   "source": [
    "* Significantly low correaltion observed between HR and BMI.\n",
    "* No significant difference in the correlation between atheletes of different sports."
   ]
  },
  {
   "cell_type": "code",
   "execution_count": 599,
   "id": "f2384271-2723-4100-9681-9a1c31c3d776",
   "metadata": {},
   "outputs": [],
   "source": [
    "#dropping BMI column created\n",
    "df_Athletes=df_Athletes.drop(\"BMI\",axis=1)"
   ]
  },
  {
   "cell_type": "markdown",
   "id": "c5ace2e9-0642-4bdc-8161-925c7670445c",
   "metadata": {},
   "source": [
    "#### 8. What are the names of the kayaking athletes?"
   ]
  },
  {
   "cell_type": "code",
   "execution_count": 601,
   "id": "77456856-e03c-4fa9-9913-34aed0fcf7cb",
   "metadata": {},
   "outputs": [
    {
     "name": "stdout",
     "output_type": "stream",
     "text": [
      "The names of the kayaking athletes are :\n",
      "['Isabella Griffin' 'Caleb Dixon' 'Mia Carpenter' 'Harper Mitchell'\n",
      " 'Mason Wallace' 'Logan Anderson']\n"
     ]
    }
   ],
   "source": [
    "#filterd athelets with sport as kayak and printed their names\n",
    "df_Athletes_kayak = df_Athletes[df_Athletes[\"sport\"]==\"kayak\"]\n",
    "print(\"The names of the kayaking athletes are :\")\n",
    "print(df_Athletes_kayak[\"First Name\"].values + \" \" + df_Athletes_kayak[\"Last Name\"].values)"
   ]
  },
  {
   "cell_type": "markdown",
   "id": "dbc7e3c3-d666-48ef-a5fc-44c2df514d2e",
   "metadata": {},
   "source": [
    "#### 9. What was the average HRV of the triathletes?"
   ]
  },
  {
   "cell_type": "code",
   "execution_count": 603,
   "id": "cf50c390-1fd6-415b-9c69-64744802d620",
   "metadata": {},
   "outputs": [
    {
     "name": "stdout",
     "output_type": "stream",
     "text": [
      "The average HRV of triathletes is :  29.293777318936115\n"
     ]
    }
   ],
   "source": [
    "#From HRV calcultaed from 4th question calculated the mean of triathlon athletes \n",
    "print(\"The average HRV of triathletes is : \",df_Athletes[df_Athletes[\"sport\"]==\"triathlon\"][\"HRV\"].mean())"
   ]
  },
  {
   "cell_type": "markdown",
   "id": "dbd3564f-29da-4d50-a5dd-f3c7ff0d541c",
   "metadata": {},
   "source": [
    "#### 10. How long was athlete 12 in HR Zone 5?\n",
    "\n",
    "> **Executed the code after Q15 as zoning is done in Q15**"
   ]
  },
  {
   "cell_type": "markdown",
   "id": "a675a654-2fcd-45ca-b33f-d411d489241b",
   "metadata": {},
   "source": [
    "#### 11. Create any 3d plot using any data. Values do not have to be from the dataset given.\n",
    "> **Attempted after Q16 as considred BMI for the 3Dplot**"
   ]
  },
  {
   "cell_type": "markdown",
   "id": "aa6558f5-6258-4efe-b4d7-feecde9fe5cc",
   "metadata": {},
   "source": [
    "#### 12. What were the Highest 3 V02 Maxes recorded. Display all 3 names, sport and personal V02 Maxes."
   ]
  },
  {
   "cell_type": "code",
   "execution_count": 607,
   "id": "f1d21348-c9be-44e0-8992-48161e4cb381",
   "metadata": {},
   "outputs": [],
   "source": [
    "#Calculated sum of VO2 and added a temp column (VO2) in Athletes table\n",
    "df_Athletes = pd.merge(df_Athletes,df_data.groupby(\"ID\")[\"VO2\"].sum(), on=\"ID\")\n",
    "#calculated VO2 max as sum of V02 by weight of Athlete\n",
    "df_Athletes[\"VO2_max\"]= df_Athletes[\"VO2\"]/df_Athletes[\"Weight\"]\n",
    "#dropped the temp column VO2\n",
    "df_Athletes=df_Athletes.drop(\"VO2\",axis=1)"
   ]
  },
  {
   "cell_type": "code",
   "execution_count": 608,
   "id": "35357b66-4abd-40ab-ba88-b4eadaf9ee50",
   "metadata": {},
   "outputs": [
    {
     "name": "stdout",
     "output_type": "stream",
     "text": [
      "The highest three VO2_max are for the following athletes :\n"
     ]
    },
    {
     "data": {
      "text/html": [
       "<div>\n",
       "<style scoped>\n",
       "    .dataframe tbody tr th:only-of-type {\n",
       "        vertical-align: middle;\n",
       "    }\n",
       "\n",
       "    .dataframe tbody tr th {\n",
       "        vertical-align: top;\n",
       "    }\n",
       "\n",
       "    .dataframe thead th {\n",
       "        text-align: right;\n",
       "    }\n",
       "</style>\n",
       "<table border=\"1\" class=\"dataframe\">\n",
       "  <thead>\n",
       "    <tr style=\"text-align: right;\">\n",
       "      <th></th>\n",
       "      <th>First Name</th>\n",
       "      <th>Last Name</th>\n",
       "      <th>sport</th>\n",
       "      <th>VO2_max</th>\n",
       "    </tr>\n",
       "  </thead>\n",
       "  <tbody>\n",
       "    <tr>\n",
       "      <th>0</th>\n",
       "      <td>Caleb</td>\n",
       "      <td>Dixon</td>\n",
       "      <td>kayak</td>\n",
       "      <td>92.258212</td>\n",
       "    </tr>\n",
       "    <tr>\n",
       "      <th>1</th>\n",
       "      <td>Mia</td>\n",
       "      <td>Carpenter</td>\n",
       "      <td>kayak</td>\n",
       "      <td>90.758693</td>\n",
       "    </tr>\n",
       "    <tr>\n",
       "      <th>2</th>\n",
       "      <td>Isabella</td>\n",
       "      <td>Griffin</td>\n",
       "      <td>kayak</td>\n",
       "      <td>89.586903</td>\n",
       "    </tr>\n",
       "  </tbody>\n",
       "</table>\n",
       "</div>"
      ],
      "text/plain": [
       "  First Name  Last Name  sport    VO2_max\n",
       "0      Caleb      Dixon  kayak  92.258212\n",
       "1        Mia  Carpenter  kayak  90.758693\n",
       "2   Isabella    Griffin  kayak  89.586903"
      ]
     },
     "execution_count": 608,
     "metadata": {},
     "output_type": "execute_result"
    }
   ],
   "source": [
    "#Displayed the top three VO2_max Athletes\n",
    "print(\"The highest three VO2_max are for the following athletes :\")\n",
    "df_Athletes.sort_values(by=\"VO2_max\",ascending=False)[[\"First Name\",\"Last Name\",\"sport\",\"VO2_max\"]].head(3).reset_index(drop=True)"
   ]
  },
  {
   "cell_type": "markdown",
   "id": "fcda7cd9-a29b-48fe-91e5-71c9fcdbeeca",
   "metadata": {},
   "source": [
    "#### 13. Calculate the year of birth of each athlete and store it as a column in the tables."
   ]
  },
  {
   "cell_type": "code",
   "execution_count": 610,
   "id": "ad45b509-04cf-4c63-8d9f-2b2edc2ce480",
   "metadata": {},
   "outputs": [
    {
     "data": {
      "text/html": [
       "<div>\n",
       "<style scoped>\n",
       "    .dataframe tbody tr th:only-of-type {\n",
       "        vertical-align: middle;\n",
       "    }\n",
       "\n",
       "    .dataframe tbody tr th {\n",
       "        vertical-align: top;\n",
       "    }\n",
       "\n",
       "    .dataframe thead th {\n",
       "        text-align: right;\n",
       "    }\n",
       "</style>\n",
       "<table border=\"1\" class=\"dataframe\">\n",
       "  <thead>\n",
       "    <tr style=\"text-align: right;\">\n",
       "      <th></th>\n",
       "      <th>ID</th>\n",
       "      <th>age</th>\n",
       "      <th>Weight</th>\n",
       "      <th>Height</th>\n",
       "      <th>P_vt1</th>\n",
       "      <th>P_vt2</th>\n",
       "      <th>sport</th>\n",
       "      <th>Gender</th>\n",
       "      <th>Ethnicity</th>\n",
       "      <th>First Name</th>\n",
       "      <th>Last Name</th>\n",
       "      <th>HRV</th>\n",
       "      <th>VO2_max</th>\n",
       "      <th>birth_year</th>\n",
       "    </tr>\n",
       "  </thead>\n",
       "  <tbody>\n",
       "    <tr>\n",
       "      <th>0</th>\n",
       "      <td>1</td>\n",
       "      <td>15</td>\n",
       "      <td>53.7</td>\n",
       "      <td>161</td>\n",
       "      <td>50</td>\n",
       "      <td>140</td>\n",
       "      <td>fencing</td>\n",
       "      <td>Female</td>\n",
       "      <td>African</td>\n",
       "      <td>Olivia</td>\n",
       "      <td>Martinez</td>\n",
       "      <td>25.844717</td>\n",
       "      <td>42.807730</td>\n",
       "      <td>2002</td>\n",
       "    </tr>\n",
       "    <tr>\n",
       "      <th>1</th>\n",
       "      <td>2</td>\n",
       "      <td>15</td>\n",
       "      <td>56.2</td>\n",
       "      <td>162</td>\n",
       "      <td>80</td>\n",
       "      <td>127</td>\n",
       "      <td>fencing</td>\n",
       "      <td>Male</td>\n",
       "      <td>African</td>\n",
       "      <td>Ethan</td>\n",
       "      <td>Reynolds</td>\n",
       "      <td>40.725284</td>\n",
       "      <td>38.632602</td>\n",
       "      <td>2002</td>\n",
       "    </tr>\n",
       "    <tr>\n",
       "      <th>2</th>\n",
       "      <td>3</td>\n",
       "      <td>16</td>\n",
       "      <td>89.9</td>\n",
       "      <td>191</td>\n",
       "      <td>155</td>\n",
       "      <td>300</td>\n",
       "      <td>fencing</td>\n",
       "      <td>Male</td>\n",
       "      <td>White</td>\n",
       "      <td>Jackson</td>\n",
       "      <td>Harper</td>\n",
       "      <td>20.398306</td>\n",
       "      <td>69.705657</td>\n",
       "      <td>2001</td>\n",
       "    </tr>\n",
       "    <tr>\n",
       "      <th>3</th>\n",
       "      <td>4</td>\n",
       "      <td>16</td>\n",
       "      <td>76.5</td>\n",
       "      <td>180</td>\n",
       "      <td>215</td>\n",
       "      <td>275</td>\n",
       "      <td>fencing</td>\n",
       "      <td>Male</td>\n",
       "      <td>White</td>\n",
       "      <td>Liam</td>\n",
       "      <td>Sanchez</td>\n",
       "      <td>33.334630</td>\n",
       "      <td>76.989878</td>\n",
       "      <td>2001</td>\n",
       "    </tr>\n",
       "    <tr>\n",
       "      <th>4</th>\n",
       "      <td>5</td>\n",
       "      <td>17</td>\n",
       "      <td>76.4</td>\n",
       "      <td>186</td>\n",
       "      <td>110</td>\n",
       "      <td>172</td>\n",
       "      <td>fencing</td>\n",
       "      <td>Female</td>\n",
       "      <td>White</td>\n",
       "      <td>Ava</td>\n",
       "      <td>Thompson</td>\n",
       "      <td>115.319339</td>\n",
       "      <td>86.742579</td>\n",
       "      <td>2000</td>\n",
       "    </tr>\n",
       "    <tr>\n",
       "      <th>5</th>\n",
       "      <td>6</td>\n",
       "      <td>17</td>\n",
       "      <td>65.6</td>\n",
       "      <td>169</td>\n",
       "      <td>131</td>\n",
       "      <td>186</td>\n",
       "      <td>fencing</td>\n",
       "      <td>Female</td>\n",
       "      <td>White</td>\n",
       "      <td>Sophia</td>\n",
       "      <td>Rodriguez</td>\n",
       "      <td>447.371626</td>\n",
       "      <td>71.679465</td>\n",
       "      <td>2000</td>\n",
       "    </tr>\n",
       "    <tr>\n",
       "      <th>6</th>\n",
       "      <td>7</td>\n",
       "      <td>15</td>\n",
       "      <td>49.8</td>\n",
       "      <td>165</td>\n",
       "      <td>65</td>\n",
       "      <td>108</td>\n",
       "      <td>fencing</td>\n",
       "      <td>Female</td>\n",
       "      <td>White</td>\n",
       "      <td>Grace</td>\n",
       "      <td>Simmons</td>\n",
       "      <td>23.696380</td>\n",
       "      <td>38.403988</td>\n",
       "      <td>2002</td>\n",
       "    </tr>\n",
       "    <tr>\n",
       "      <th>7</th>\n",
       "      <td>8</td>\n",
       "      <td>15</td>\n",
       "      <td>51.2</td>\n",
       "      <td>165</td>\n",
       "      <td>80</td>\n",
       "      <td>133</td>\n",
       "      <td>fencing</td>\n",
       "      <td>Female</td>\n",
       "      <td>White</td>\n",
       "      <td>Aiden</td>\n",
       "      <td>Bennett</td>\n",
       "      <td>504.482368</td>\n",
       "      <td>44.822092</td>\n",
       "      <td>2002</td>\n",
       "    </tr>\n",
       "    <tr>\n",
       "      <th>8</th>\n",
       "      <td>9</td>\n",
       "      <td>14</td>\n",
       "      <td>57.1</td>\n",
       "      <td>176</td>\n",
       "      <td>50</td>\n",
       "      <td>125</td>\n",
       "      <td>fencing</td>\n",
       "      <td>Female</td>\n",
       "      <td>African</td>\n",
       "      <td>Chloe</td>\n",
       "      <td>Price</td>\n",
       "      <td>22.540326</td>\n",
       "      <td>49.697342</td>\n",
       "      <td>2003</td>\n",
       "    </tr>\n",
       "    <tr>\n",
       "      <th>9</th>\n",
       "      <td>10</td>\n",
       "      <td>14</td>\n",
       "      <td>58.8</td>\n",
       "      <td>177</td>\n",
       "      <td>101</td>\n",
       "      <td>162</td>\n",
       "      <td>fencing</td>\n",
       "      <td>Female</td>\n",
       "      <td>African</td>\n",
       "      <td>Lily</td>\n",
       "      <td>Jordan</td>\n",
       "      <td>26.865031</td>\n",
       "      <td>55.122171</td>\n",
       "      <td>2003</td>\n",
       "    </tr>\n",
       "    <tr>\n",
       "      <th>10</th>\n",
       "      <td>11</td>\n",
       "      <td>18</td>\n",
       "      <td>84.8</td>\n",
       "      <td>182</td>\n",
       "      <td>174</td>\n",
       "      <td>268</td>\n",
       "      <td>kayak</td>\n",
       "      <td>Female</td>\n",
       "      <td>African</td>\n",
       "      <td>Isabella</td>\n",
       "      <td>Griffin</td>\n",
       "      <td>13.423014</td>\n",
       "      <td>89.586903</td>\n",
       "      <td>1999</td>\n",
       "    </tr>\n",
       "    <tr>\n",
       "      <th>11</th>\n",
       "      <td>12</td>\n",
       "      <td>18</td>\n",
       "      <td>86.0</td>\n",
       "      <td>183</td>\n",
       "      <td>170</td>\n",
       "      <td>294</td>\n",
       "      <td>kayak</td>\n",
       "      <td>Male</td>\n",
       "      <td>African</td>\n",
       "      <td>Caleb</td>\n",
       "      <td>Dixon</td>\n",
       "      <td>12.283399</td>\n",
       "      <td>92.258212</td>\n",
       "      <td>1999</td>\n",
       "    </tr>\n",
       "    <tr>\n",
       "      <th>12</th>\n",
       "      <td>13</td>\n",
       "      <td>18</td>\n",
       "      <td>83.9</td>\n",
       "      <td>183</td>\n",
       "      <td>144</td>\n",
       "      <td>267</td>\n",
       "      <td>kayak</td>\n",
       "      <td>Female</td>\n",
       "      <td>Asian</td>\n",
       "      <td>Mia</td>\n",
       "      <td>Carpenter</td>\n",
       "      <td>12.438721</td>\n",
       "      <td>90.758693</td>\n",
       "      <td>1999</td>\n",
       "    </tr>\n",
       "    <tr>\n",
       "      <th>13</th>\n",
       "      <td>14</td>\n",
       "      <td>13</td>\n",
       "      <td>62.3</td>\n",
       "      <td>171</td>\n",
       "      <td>140</td>\n",
       "      <td>170</td>\n",
       "      <td>kayak</td>\n",
       "      <td>Female</td>\n",
       "      <td>Asian</td>\n",
       "      <td>Harper</td>\n",
       "      <td>Mitchell</td>\n",
       "      <td>162.070949</td>\n",
       "      <td>54.869902</td>\n",
       "      <td>2004</td>\n",
       "    </tr>\n",
       "    <tr>\n",
       "      <th>14</th>\n",
       "      <td>15</td>\n",
       "      <td>13</td>\n",
       "      <td>63.5</td>\n",
       "      <td>172</td>\n",
       "      <td>125</td>\n",
       "      <td>156</td>\n",
       "      <td>kayak</td>\n",
       "      <td>Male</td>\n",
       "      <td>Latino</td>\n",
       "      <td>Mason</td>\n",
       "      <td>Wallace</td>\n",
       "      <td>28.801669</td>\n",
       "      <td>66.936066</td>\n",
       "      <td>2004</td>\n",
       "    </tr>\n",
       "    <tr>\n",
       "      <th>15</th>\n",
       "      <td>16</td>\n",
       "      <td>16</td>\n",
       "      <td>70.4</td>\n",
       "      <td>182</td>\n",
       "      <td>79</td>\n",
       "      <td>175</td>\n",
       "      <td>kayak</td>\n",
       "      <td>Male</td>\n",
       "      <td>Latino</td>\n",
       "      <td>Logan</td>\n",
       "      <td>Anderson</td>\n",
       "      <td>794.827705</td>\n",
       "      <td>69.661622</td>\n",
       "      <td>2001</td>\n",
       "    </tr>\n",
       "    <tr>\n",
       "      <th>16</th>\n",
       "      <td>17</td>\n",
       "      <td>12</td>\n",
       "      <td>39.9</td>\n",
       "      <td>156</td>\n",
       "      <td>101</td>\n",
       "      <td>145</td>\n",
       "      <td>triathlon</td>\n",
       "      <td>Male</td>\n",
       "      <td>Latino</td>\n",
       "      <td>Lucas</td>\n",
       "      <td>Foster</td>\n",
       "      <td>28.081705</td>\n",
       "      <td>73.789806</td>\n",
       "      <td>2005</td>\n",
       "    </tr>\n",
       "    <tr>\n",
       "      <th>17</th>\n",
       "      <td>18</td>\n",
       "      <td>12</td>\n",
       "      <td>39.7</td>\n",
       "      <td>158</td>\n",
       "      <td>65</td>\n",
       "      <td>168</td>\n",
       "      <td>triathlon</td>\n",
       "      <td>Male</td>\n",
       "      <td>Latino</td>\n",
       "      <td>Owen</td>\n",
       "      <td>Myers</td>\n",
       "      <td>30.505849</td>\n",
       "      <td>81.208775</td>\n",
       "      <td>2005</td>\n",
       "    </tr>\n",
       "  </tbody>\n",
       "</table>\n",
       "</div>"
      ],
      "text/plain": [
       "    ID  age  Weight  Height  P_vt1  P_vt2      sport  Gender Ethnicity  \\\n",
       "0    1   15    53.7     161     50    140    fencing  Female   African   \n",
       "1    2   15    56.2     162     80    127    fencing    Male   African   \n",
       "2    3   16    89.9     191    155    300    fencing    Male     White   \n",
       "3    4   16    76.5     180    215    275    fencing    Male     White   \n",
       "4    5   17    76.4     186    110    172    fencing  Female     White   \n",
       "5    6   17    65.6     169    131    186    fencing  Female     White   \n",
       "6    7   15    49.8     165     65    108    fencing  Female     White   \n",
       "7    8   15    51.2     165     80    133    fencing  Female     White   \n",
       "8    9   14    57.1     176     50    125    fencing  Female   African   \n",
       "9   10   14    58.8     177    101    162    fencing  Female   African   \n",
       "10  11   18    84.8     182    174    268      kayak  Female   African   \n",
       "11  12   18    86.0     183    170    294      kayak    Male   African   \n",
       "12  13   18    83.9     183    144    267      kayak  Female     Asian   \n",
       "13  14   13    62.3     171    140    170      kayak  Female     Asian   \n",
       "14  15   13    63.5     172    125    156      kayak    Male    Latino   \n",
       "15  16   16    70.4     182     79    175      kayak    Male    Latino   \n",
       "16  17   12    39.9     156    101    145  triathlon    Male    Latino   \n",
       "17  18   12    39.7     158     65    168  triathlon    Male    Latino   \n",
       "\n",
       "   First Name  Last Name         HRV    VO2_max  birth_year  \n",
       "0      Olivia   Martinez   25.844717  42.807730        2002  \n",
       "1       Ethan   Reynolds   40.725284  38.632602        2002  \n",
       "2     Jackson     Harper   20.398306  69.705657        2001  \n",
       "3        Liam    Sanchez   33.334630  76.989878        2001  \n",
       "4         Ava   Thompson  115.319339  86.742579        2000  \n",
       "5      Sophia  Rodriguez  447.371626  71.679465        2000  \n",
       "6       Grace    Simmons   23.696380  38.403988        2002  \n",
       "7       Aiden    Bennett  504.482368  44.822092        2002  \n",
       "8       Chloe      Price   22.540326  49.697342        2003  \n",
       "9        Lily     Jordan   26.865031  55.122171        2003  \n",
       "10   Isabella    Griffin   13.423014  89.586903        1999  \n",
       "11      Caleb      Dixon   12.283399  92.258212        1999  \n",
       "12        Mia  Carpenter   12.438721  90.758693        1999  \n",
       "13     Harper   Mitchell  162.070949  54.869902        2004  \n",
       "14      Mason    Wallace   28.801669  66.936066        2004  \n",
       "15      Logan   Anderson  794.827705  69.661622        2001  \n",
       "16      Lucas     Foster   28.081705  73.789806        2005  \n",
       "17       Owen      Myers   30.505849  81.208775        2005  "
      ]
     },
     "execution_count": 610,
     "metadata": {},
     "output_type": "execute_result"
    }
   ],
   "source": [
    "# year of birth is year data taken(2017 ) substracted by age\n",
    "df_Athletes[\"birth_year\"]= 2017-df_Athletes[\"age\"]\n",
    "df_Athletes"
   ]
  },
  {
   "cell_type": "markdown",
   "id": "e90847fb-d989-4e7c-9b53-6aee0215338a",
   "metadata": {},
   "source": [
    "#### 14. What were the lowest 3 V02 Maxes recorded. Display all 3 names, sport and personal V02 Maxes. "
   ]
  },
  {
   "cell_type": "code",
   "execution_count": 612,
   "id": "6890283c-8ec2-4edc-be78-27475a3e82e3",
   "metadata": {},
   "outputs": [
    {
     "name": "stdout",
     "output_type": "stream",
     "text": [
      "The lowest three VO2_max are for the following athletes :\n"
     ]
    },
    {
     "data": {
      "text/html": [
       "<div>\n",
       "<style scoped>\n",
       "    .dataframe tbody tr th:only-of-type {\n",
       "        vertical-align: middle;\n",
       "    }\n",
       "\n",
       "    .dataframe tbody tr th {\n",
       "        vertical-align: top;\n",
       "    }\n",
       "\n",
       "    .dataframe thead th {\n",
       "        text-align: right;\n",
       "    }\n",
       "</style>\n",
       "<table border=\"1\" class=\"dataframe\">\n",
       "  <thead>\n",
       "    <tr style=\"text-align: right;\">\n",
       "      <th></th>\n",
       "      <th>First Name</th>\n",
       "      <th>Last Name</th>\n",
       "      <th>sport</th>\n",
       "      <th>VO2_max</th>\n",
       "    </tr>\n",
       "  </thead>\n",
       "  <tbody>\n",
       "    <tr>\n",
       "      <th>0</th>\n",
       "      <td>Grace</td>\n",
       "      <td>Simmons</td>\n",
       "      <td>fencing</td>\n",
       "      <td>38.403988</td>\n",
       "    </tr>\n",
       "    <tr>\n",
       "      <th>1</th>\n",
       "      <td>Ethan</td>\n",
       "      <td>Reynolds</td>\n",
       "      <td>fencing</td>\n",
       "      <td>38.632602</td>\n",
       "    </tr>\n",
       "    <tr>\n",
       "      <th>2</th>\n",
       "      <td>Olivia</td>\n",
       "      <td>Martinez</td>\n",
       "      <td>fencing</td>\n",
       "      <td>42.807730</td>\n",
       "    </tr>\n",
       "  </tbody>\n",
       "</table>\n",
       "</div>"
      ],
      "text/plain": [
       "  First Name Last Name    sport    VO2_max\n",
       "0      Grace   Simmons  fencing  38.403988\n",
       "1      Ethan  Reynolds  fencing  38.632602\n",
       "2     Olivia  Martinez  fencing  42.807730"
      ]
     },
     "execution_count": 612,
     "metadata": {},
     "output_type": "execute_result"
    }
   ],
   "source": [
    "#Displayed the bottom three VO2_max Athletes\n",
    "print(\"The lowest three VO2_max are for the following athletes :\")\n",
    "df_Athletes.sort_values(by=\"VO2_max\",ascending=True)[[\"First Name\",\"Last Name\",\"sport\",\"VO2_max\"]].head(3).reset_index(drop=True)"
   ]
  },
  {
   "cell_type": "markdown",
   "id": "408b0256-7db5-42fb-af45-b1e1da0b1b7c",
   "metadata": {},
   "source": [
    "#### 15. Assign 1 of the following 5 heart rate zones for every record for all sports and athletes and add this as a column to every table:\n",
    "* Zone 1 (recovery/easy) <100 HR max\n",
    "* Zone 2 (aerobic/base) 100-120 HR max\n",
    "* Zone 3 (tempo) 120-135 HR max\n",
    "* Zone 4 (lactate threshold) 135-155 HR max\n",
    "* Zone 5 (anaerobic) 155+ HR max and above"
   ]
  },
  {
   "cell_type": "code",
   "execution_count": 614,
   "id": "d21bfdb0-9f92-48ca-a672-8a5cc0b9cf5f",
   "metadata": {},
   "outputs": [],
   "source": [
    "#zoning based HR using the above stated conditions:\n",
    "df_data[\"zone\"]= df_data[\"HR\"].apply(lambda x: \"Zone 1\" if x <100 \n",
    "                                     else \"Zone 2\" if x<=120 \n",
    "                                     else \"Zone 3\" if x <= 135 \n",
    "                                     else \"Zone 4\" if x<=155 \n",
    "                                     else \"Zone 5\")"
   ]
  },
  {
   "cell_type": "code",
   "execution_count": 615,
   "id": "9d2f0000-0e32-4039-bbb9-bec9f9732eb4",
   "metadata": {},
   "outputs": [
    {
     "name": "stdout",
     "output_type": "stream",
     "text": [
      "Zone added to data table\n"
     ]
    },
    {
     "data": {
      "text/html": [
       "<div>\n",
       "<style scoped>\n",
       "    .dataframe tbody tr th:only-of-type {\n",
       "        vertical-align: middle;\n",
       "    }\n",
       "\n",
       "    .dataframe tbody tr th {\n",
       "        vertical-align: top;\n",
       "    }\n",
       "\n",
       "    .dataframe thead th {\n",
       "        text-align: right;\n",
       "    }\n",
       "</style>\n",
       "<table border=\"1\" class=\"dataframe\">\n",
       "  <thead>\n",
       "    <tr style=\"text-align: right;\">\n",
       "      <th></th>\n",
       "      <th>ID</th>\n",
       "      <th>time</th>\n",
       "      <th>RR</th>\n",
       "      <th>VO2</th>\n",
       "      <th>power</th>\n",
       "      <th>stage</th>\n",
       "      <th>HR</th>\n",
       "      <th>zone</th>\n",
       "    </tr>\n",
       "  </thead>\n",
       "  <tbody>\n",
       "    <tr>\n",
       "      <th>0</th>\n",
       "      <td>1</td>\n",
       "      <td>-130.840</td>\n",
       "      <td>672.0</td>\n",
       "      <td>0.302008</td>\n",
       "      <td>0</td>\n",
       "      <td>warmup</td>\n",
       "      <td>89.285714</td>\n",
       "      <td>Zone 1</td>\n",
       "    </tr>\n",
       "    <tr>\n",
       "      <th>1</th>\n",
       "      <td>1</td>\n",
       "      <td>-130.168</td>\n",
       "      <td>672.0</td>\n",
       "      <td>0.302008</td>\n",
       "      <td>0</td>\n",
       "      <td>warmup</td>\n",
       "      <td>89.285714</td>\n",
       "      <td>Zone 1</td>\n",
       "    </tr>\n",
       "    <tr>\n",
       "      <th>2</th>\n",
       "      <td>1</td>\n",
       "      <td>-129.536</td>\n",
       "      <td>632.0</td>\n",
       "      <td>0.301336</td>\n",
       "      <td>0</td>\n",
       "      <td>warmup</td>\n",
       "      <td>94.936709</td>\n",
       "      <td>Zone 1</td>\n",
       "    </tr>\n",
       "    <tr>\n",
       "      <th>3</th>\n",
       "      <td>1</td>\n",
       "      <td>-128.824</td>\n",
       "      <td>712.0</td>\n",
       "      <td>0.301336</td>\n",
       "      <td>0</td>\n",
       "      <td>warmup</td>\n",
       "      <td>84.269663</td>\n",
       "      <td>Zone 1</td>\n",
       "    </tr>\n",
       "    <tr>\n",
       "      <th>4</th>\n",
       "      <td>1</td>\n",
       "      <td>-127.948</td>\n",
       "      <td>876.0</td>\n",
       "      <td>0.301336</td>\n",
       "      <td>0</td>\n",
       "      <td>warmup</td>\n",
       "      <td>68.493151</td>\n",
       "      <td>Zone 1</td>\n",
       "    </tr>\n",
       "  </tbody>\n",
       "</table>\n",
       "</div>"
      ],
      "text/plain": [
       "   ID     time     RR       VO2  power   stage         HR    zone\n",
       "0   1 -130.840  672.0  0.302008      0  warmup  89.285714  Zone 1\n",
       "1   1 -130.168  672.0  0.302008      0  warmup  89.285714  Zone 1\n",
       "2   1 -129.536  632.0  0.301336      0  warmup  94.936709  Zone 1\n",
       "3   1 -128.824  712.0  0.301336      0  warmup  84.269663  Zone 1\n",
       "4   1 -127.948  876.0  0.301336      0  warmup  68.493151  Zone 1"
      ]
     },
     "execution_count": 615,
     "metadata": {},
     "output_type": "execute_result"
    }
   ],
   "source": [
    "print (\"Zone added to data table\")\n",
    "df_data.head()"
   ]
  },
  {
   "cell_type": "code",
   "execution_count": 616,
   "id": "aa5e98d4-4e77-4bb0-bfe2-a74c8f34322e",
   "metadata": {},
   "outputs": [],
   "source": [
    "#Merged zone values to all tables:\n",
    "df_Fencing = df_Fencing.merge(df_data[[\"ID\",\"RR\",\"time\",\"zone\"]],on=[\"ID\", \"RR\",\"time\"])\n",
    "df_Kayaking = df_Kayaking.merge(df_data[[\"ID\",\"RR\",\"time\",\"zone\"]],on=[\"ID\", \"RR\",\"time\"])\n",
    "df_Triathlon=df_Triathlon.merge(df_data[[\"ID\",\"RR\",\"time\",\"zone\"]],on=[\"ID\", \"RR\",\"time\"])"
   ]
  },
  {
   "cell_type": "code",
   "execution_count": 617,
   "id": "06f2ce0b-0cbd-4382-87bb-a0107e61b003",
   "metadata": {},
   "outputs": [
    {
     "name": "stdout",
     "output_type": "stream",
     "text": [
      "Zone added to Fencing table\n"
     ]
    },
    {
     "data": {
      "text/html": [
       "<div>\n",
       "<style scoped>\n",
       "    .dataframe tbody tr th:only-of-type {\n",
       "        vertical-align: middle;\n",
       "    }\n",
       "\n",
       "    .dataframe tbody tr th {\n",
       "        vertical-align: top;\n",
       "    }\n",
       "\n",
       "    .dataframe thead th {\n",
       "        text-align: right;\n",
       "    }\n",
       "</style>\n",
       "<table border=\"1\" class=\"dataframe\">\n",
       "  <thead>\n",
       "    <tr style=\"text-align: right;\">\n",
       "      <th></th>\n",
       "      <th>ID</th>\n",
       "      <th>time</th>\n",
       "      <th>RR</th>\n",
       "      <th>VO2</th>\n",
       "      <th>power</th>\n",
       "      <th>zone</th>\n",
       "    </tr>\n",
       "  </thead>\n",
       "  <tbody>\n",
       "    <tr>\n",
       "      <th>0</th>\n",
       "      <td>1</td>\n",
       "      <td>-130.840</td>\n",
       "      <td>672</td>\n",
       "      <td>0.302008</td>\n",
       "      <td>0</td>\n",
       "      <td>Zone 1</td>\n",
       "    </tr>\n",
       "    <tr>\n",
       "      <th>1</th>\n",
       "      <td>1</td>\n",
       "      <td>-130.168</td>\n",
       "      <td>672</td>\n",
       "      <td>0.302008</td>\n",
       "      <td>0</td>\n",
       "      <td>Zone 1</td>\n",
       "    </tr>\n",
       "    <tr>\n",
       "      <th>2</th>\n",
       "      <td>1</td>\n",
       "      <td>-129.536</td>\n",
       "      <td>632</td>\n",
       "      <td>0.301336</td>\n",
       "      <td>0</td>\n",
       "      <td>Zone 1</td>\n",
       "    </tr>\n",
       "    <tr>\n",
       "      <th>3</th>\n",
       "      <td>1</td>\n",
       "      <td>-128.824</td>\n",
       "      <td>712</td>\n",
       "      <td>0.301336</td>\n",
       "      <td>0</td>\n",
       "      <td>Zone 1</td>\n",
       "    </tr>\n",
       "    <tr>\n",
       "      <th>4</th>\n",
       "      <td>1</td>\n",
       "      <td>-127.948</td>\n",
       "      <td>876</td>\n",
       "      <td>0.301336</td>\n",
       "      <td>0</td>\n",
       "      <td>Zone 1</td>\n",
       "    </tr>\n",
       "  </tbody>\n",
       "</table>\n",
       "</div>"
      ],
      "text/plain": [
       "   ID     time   RR       VO2  power    zone\n",
       "0   1 -130.840  672  0.302008      0  Zone 1\n",
       "1   1 -130.168  672  0.302008      0  Zone 1\n",
       "2   1 -129.536  632  0.301336      0  Zone 1\n",
       "3   1 -128.824  712  0.301336      0  Zone 1\n",
       "4   1 -127.948  876  0.301336      0  Zone 1"
      ]
     },
     "execution_count": 617,
     "metadata": {},
     "output_type": "execute_result"
    }
   ],
   "source": [
    "print (\"Zone added to Fencing table\")\n",
    "df_Fencing.head()"
   ]
  },
  {
   "cell_type": "code",
   "execution_count": 618,
   "id": "94a46a50-091f-44ee-81cd-de212ae4d4bf",
   "metadata": {},
   "outputs": [
    {
     "name": "stdout",
     "output_type": "stream",
     "text": [
      "Zone added to Kayaking table\n"
     ]
    },
    {
     "data": {
      "text/html": [
       "<div>\n",
       "<style scoped>\n",
       "    .dataframe tbody tr th:only-of-type {\n",
       "        vertical-align: middle;\n",
       "    }\n",
       "\n",
       "    .dataframe tbody tr th {\n",
       "        vertical-align: top;\n",
       "    }\n",
       "\n",
       "    .dataframe thead th {\n",
       "        text-align: right;\n",
       "    }\n",
       "</style>\n",
       "<table border=\"1\" class=\"dataframe\">\n",
       "  <thead>\n",
       "    <tr style=\"text-align: right;\">\n",
       "      <th></th>\n",
       "      <th>ID</th>\n",
       "      <th>time</th>\n",
       "      <th>RR</th>\n",
       "      <th>VO2</th>\n",
       "      <th>power</th>\n",
       "      <th>zone</th>\n",
       "    </tr>\n",
       "  </thead>\n",
       "  <tbody>\n",
       "    <tr>\n",
       "      <th>0</th>\n",
       "      <td>11</td>\n",
       "      <td>-168.600</td>\n",
       "      <td>727.0</td>\n",
       "      <td>0.287147</td>\n",
       "      <td>0</td>\n",
       "      <td>Zone 1</td>\n",
       "    </tr>\n",
       "    <tr>\n",
       "      <th>1</th>\n",
       "      <td>11</td>\n",
       "      <td>-167.872</td>\n",
       "      <td>728.0</td>\n",
       "      <td>0.287147</td>\n",
       "      <td>0</td>\n",
       "      <td>Zone 1</td>\n",
       "    </tr>\n",
       "    <tr>\n",
       "      <th>2</th>\n",
       "      <td>11</td>\n",
       "      <td>-167.148</td>\n",
       "      <td>724.0</td>\n",
       "      <td>0.287147</td>\n",
       "      <td>0</td>\n",
       "      <td>Zone 1</td>\n",
       "    </tr>\n",
       "    <tr>\n",
       "      <th>3</th>\n",
       "      <td>11</td>\n",
       "      <td>-166.484</td>\n",
       "      <td>664.0</td>\n",
       "      <td>0.320580</td>\n",
       "      <td>0</td>\n",
       "      <td>Zone 1</td>\n",
       "    </tr>\n",
       "    <tr>\n",
       "      <th>4</th>\n",
       "      <td>11</td>\n",
       "      <td>-165.836</td>\n",
       "      <td>648.0</td>\n",
       "      <td>0.320580</td>\n",
       "      <td>0</td>\n",
       "      <td>Zone 1</td>\n",
       "    </tr>\n",
       "  </tbody>\n",
       "</table>\n",
       "</div>"
      ],
      "text/plain": [
       "   ID     time     RR       VO2  power    zone\n",
       "0  11 -168.600  727.0  0.287147      0  Zone 1\n",
       "1  11 -167.872  728.0  0.287147      0  Zone 1\n",
       "2  11 -167.148  724.0  0.287147      0  Zone 1\n",
       "3  11 -166.484  664.0  0.320580      0  Zone 1\n",
       "4  11 -165.836  648.0  0.320580      0  Zone 1"
      ]
     },
     "execution_count": 618,
     "metadata": {},
     "output_type": "execute_result"
    }
   ],
   "source": [
    "print (\"Zone added to Kayaking table\")\n",
    "df_Kayaking.head()"
   ]
  },
  {
   "cell_type": "code",
   "execution_count": 619,
   "id": "cbc1c9f5-8e54-4358-9c7b-1a1ab3a8f738",
   "metadata": {},
   "outputs": [
    {
     "name": "stdout",
     "output_type": "stream",
     "text": [
      "Zone added to Triathlon table\n"
     ]
    },
    {
     "data": {
      "text/html": [
       "<div>\n",
       "<style scoped>\n",
       "    .dataframe tbody tr th:only-of-type {\n",
       "        vertical-align: middle;\n",
       "    }\n",
       "\n",
       "    .dataframe tbody tr th {\n",
       "        vertical-align: top;\n",
       "    }\n",
       "\n",
       "    .dataframe thead th {\n",
       "        text-align: right;\n",
       "    }\n",
       "</style>\n",
       "<table border=\"1\" class=\"dataframe\">\n",
       "  <thead>\n",
       "    <tr style=\"text-align: right;\">\n",
       "      <th></th>\n",
       "      <th>ID</th>\n",
       "      <th>time</th>\n",
       "      <th>RR</th>\n",
       "      <th>VO2</th>\n",
       "      <th>power</th>\n",
       "      <th>zone</th>\n",
       "    </tr>\n",
       "  </thead>\n",
       "  <tbody>\n",
       "    <tr>\n",
       "      <th>0</th>\n",
       "      <td>17</td>\n",
       "      <td>-182.408</td>\n",
       "      <td>736.0</td>\n",
       "      <td>0.363762</td>\n",
       "      <td>0</td>\n",
       "      <td>Zone 1</td>\n",
       "    </tr>\n",
       "    <tr>\n",
       "      <th>1</th>\n",
       "      <td>17</td>\n",
       "      <td>-181.672</td>\n",
       "      <td>736.0</td>\n",
       "      <td>0.363762</td>\n",
       "      <td>0</td>\n",
       "      <td>Zone 1</td>\n",
       "    </tr>\n",
       "    <tr>\n",
       "      <th>2</th>\n",
       "      <td>17</td>\n",
       "      <td>-180.968</td>\n",
       "      <td>704.0</td>\n",
       "      <td>0.363762</td>\n",
       "      <td>0</td>\n",
       "      <td>Zone 1</td>\n",
       "    </tr>\n",
       "    <tr>\n",
       "      <th>3</th>\n",
       "      <td>17</td>\n",
       "      <td>-180.268</td>\n",
       "      <td>700.0</td>\n",
       "      <td>0.363762</td>\n",
       "      <td>0</td>\n",
       "      <td>Zone 1</td>\n",
       "    </tr>\n",
       "    <tr>\n",
       "      <th>4</th>\n",
       "      <td>17</td>\n",
       "      <td>-179.616</td>\n",
       "      <td>652.0</td>\n",
       "      <td>0.363762</td>\n",
       "      <td>0</td>\n",
       "      <td>Zone 1</td>\n",
       "    </tr>\n",
       "  </tbody>\n",
       "</table>\n",
       "</div>"
      ],
      "text/plain": [
       "   ID     time     RR       VO2  power    zone\n",
       "0  17 -182.408  736.0  0.363762      0  Zone 1\n",
       "1  17 -181.672  736.0  0.363762      0  Zone 1\n",
       "2  17 -180.968  704.0  0.363762      0  Zone 1\n",
       "3  17 -180.268  700.0  0.363762      0  Zone 1\n",
       "4  17 -179.616  652.0  0.363762      0  Zone 1"
      ]
     },
     "execution_count": 619,
     "metadata": {},
     "output_type": "execute_result"
    }
   ],
   "source": [
    "print (\"Zone added to Triathlon table\")\n",
    "df_Triathlon.head()"
   ]
  },
  {
   "cell_type": "markdown",
   "id": "c5dd0c02-5ab5-46a7-8c7e-5ca75247a3f7",
   "metadata": {},
   "source": [
    "#### 10. How long was athlete 12 in HR Zone 5?"
   ]
  },
  {
   "cell_type": "code",
   "execution_count": 621,
   "id": "d5d7ae5e-e434-40db-9ad8-ebf292483a91",
   "metadata": {},
   "outputs": [
    {
     "name": "stdout",
     "output_type": "stream",
     "text": [
      "The total time athelete 12 was in Zone 5 is  8.0 minutes and  25.668000000000006 seconds\n"
     ]
    }
   ],
   "source": [
    "#Total time spent by Athelete 12 in zone 5 is the difference of maximum time and minimum time.\n",
    "time_z5_12 = df_data[df_data[\"ID\"]==12][df_data[\"zone\"]==\"Zone 5\"][\"time\"].max() - df_data[df_data[\"ID\"]==12][df_data[\"zone\"]==\"Zone 5\"][\"time\"].min()\n",
    "print(\"The total time athelete 12 was in Zone 5 is \",time_z5_12//60,\"minutes and \",time_z5_12%60,\"seconds\")"
   ]
  },
  {
   "cell_type": "markdown",
   "id": "b3eac5f6-4c89-4c1f-99ce-3b9aa6b1f801",
   "metadata": {},
   "source": [
    "#### 16. Calculate the BMI of every athlete and display it as a list."
   ]
  },
  {
   "cell_type": "code",
   "execution_count": 623,
   "id": "d6344a4f-3949-4dbd-8a46-f1c40041f006",
   "metadata": {},
   "outputs": [
    {
     "name": "stdout",
     "output_type": "stream",
     "text": [
      "The list of athletes and their BMI is :\n"
     ]
    },
    {
     "data": {
      "text/plain": [
       "[['Olivia', 'Martinez', 20.716793333590523],\n",
       " ['Ethan', 'Reynolds', 21.414418533760095],\n",
       " ['Jackson', 'Harper', 24.642964831007923],\n",
       " ['Liam', 'Sanchez', 23.61111111111111],\n",
       " ['Ava', 'Thompson', 22.083477858711987],\n",
       " ['Sophia', 'Rodriguez', 22.968383459962887],\n",
       " ['Grace', 'Simmons', 18.29201101928375],\n",
       " ['Aiden', 'Bennett', 18.80624426078972],\n",
       " ['Chloe', 'Price', 18.433626033057852],\n",
       " ['Lily', 'Jordan', 18.768553097768837],\n",
       " ['Isabella', 'Griffin', 25.600772853520105],\n",
       " ['Caleb', 'Dixon', 25.680074054167036],\n",
       " ['Mia', 'Carpenter', 25.05300247842575],\n",
       " ['Harper', 'Mitchell', 21.305700899422046],\n",
       " ['Mason', 'Wallace', 21.464305029745812],\n",
       " ['Logan', 'Anderson', 21.253471802922352],\n",
       " ['Lucas', 'Foster', 16.395463510848124],\n",
       " ['Owen', 'Myers', 15.902900176253803]]"
      ]
     },
     "execution_count": 623,
     "metadata": {},
     "output_type": "execute_result"
    }
   ],
   "source": [
    "#calculated BMI as weight(kg)(height(meter))^2\n",
    "df_Athletes[\"BMI\"] = df_Athletes[\"Weight\"]/(df_Athletes[\"Height\"]/100)**2\n",
    "print(\"The list of athletes and their BMI is :\")\n",
    "df_Athletes.reset_index()[[\"First Name\",\"Last Name\",\"BMI\"]].values.tolist()"
   ]
  },
  {
   "cell_type": "markdown",
   "id": "f3543a68-4ecb-4e27-8d3c-7debb5dbea9c",
   "metadata": {},
   "source": [
    "#### 11. Create any 3d plot using any data. Values do not have to be from the dataset given. "
   ]
  },
  {
   "cell_type": "code",
   "execution_count": 625,
   "id": "19f92e49-270f-4773-be0b-8fb9f5cc8969",
   "metadata": {},
   "outputs": [
    {
     "data": {
      "image/png": "[encoded data removed]",
      "text/plain": [
       "<Figure size 640x480 with 1 Axes>"
      ]
     },
     "metadata": {},
     "output_type": "display_data"
    }
   ],
   "source": [
    "#created 3D plot using BMI,Height and weight from Athletes table:\n",
    "plt.style.use(\"dark_background\")\n",
    "ax = plt.axes(projection = \"3d\")\n",
    "\n",
    "ax.set_title(\"Body Fat - Distribution of BMI based on height and weight\", fontsize=10)\n",
    "ax.set_xlabel(\"Height(cm)\")\n",
    "ax.set_ylabel(\"Weight(Kg)\")\n",
    "ax.set_zlabel(\"BMI(Kg/m^2)\")\n",
    "\n",
    "ax.scatter(df_Athletes[\"Height\"],df_Athletes[\"Weight\"],df_Athletes[\"BMI\"],color= 'r')\n",
    "plt.show()\n",
    "plt.style.use(\"default\")"
   ]
  },
  {
   "cell_type": "markdown",
   "id": "503aba37-3444-41be-9497-cfca5fe57e30",
   "metadata": {},
   "source": [
    "#### 17. What is the maximum ventilatory threshold for triathletes."
   ]
  },
  {
   "cell_type": "code",
   "execution_count": 627,
   "id": "d1d0887d-47a7-4f75-85ad-903a33284560",
   "metadata": {},
   "outputs": [],
   "source": [
    "#df_data[\"HR\"]= 60/(df_data[\"RR\"]/1000)\n",
    "def calculate_vt_max(HR, VO2, power):\n",
    "    vt_hr = max(HR) * 0.85\n",
    "    closest_hr_idx = (HR - vt_hr).abs().idxmin()\n",
    "    vt_power = power.iloc[closest_hr_idx]\n",
    "    return vt_hr, vt_power"
   ]
  },
  {
   "cell_type": "code",
   "execution_count": 628,
   "id": "a051729a-3bda-44bb-9976-da72172171eb",
   "metadata": {},
   "outputs": [],
   "source": [
    "HR = df_data[\"HR\"]\n",
    "VO2 = df_data[\"VO2\"]\n",
    "power = df_data[\"power\"]"
   ]
  },
  {
   "cell_type": "code",
   "execution_count": 629,
   "id": "816390d1-be6c-4752-bc34-f8f76d362685",
   "metadata": {},
   "outputs": [
    {
     "name": "stdout",
     "output_type": "stream",
     "text": [
      "Maximum Ventilatory Threshold HR: 202.38095238095238 bpm\n",
      "Power at VT: 290 watts\n"
     ]
    }
   ],
   "source": [
    "vt_hr, vt_power = calculate_vt_max(HR, VO2, power)\n",
    "print(f\"Maximum Ventilatory Threshold HR: {vt_hr} bpm\")\n",
    "print(f\"Power at VT: {vt_power} watts\")"
   ]
  },
  {
   "cell_type": "markdown",
   "id": "b10e3d41-a762-40e3-837d-ee80c68f10d3",
   "metadata": {},
   "source": [
    "#### 18. Display the number of athletes in every sport against the name of the sport.\n"
   ]
  },
  {
   "cell_type": "code",
   "execution_count": 631,
   "id": "eb79ab0c-a418-4083-a251-7db26a1efa37",
   "metadata": {},
   "outputs": [
    {
     "name": "stdout",
     "output_type": "stream",
     "text": [
      "       sport   0\n",
      "0    fencing  10\n",
      "1      kayak   6\n",
      "2  triathlon   2\n"
     ]
    }
   ],
   "source": [
    "athelet_count = df_Athletes.groupby(['sport']).size().reset_index()\n",
    "print(athelet_count)"
   ]
  },
  {
   "cell_type": "markdown",
   "id": "3ac4815b-2c5d-4577-b4bf-bcef99bf839b",
   "metadata": {},
   "source": [
    "#### 19. Display a bar chart showing the average V02 Max by sport.\n"
   ]
  },
  {
   "cell_type": "code",
   "execution_count": 633,
   "id": "5bc0bbf9-c04d-4887-a8a4-b9ef9ef05038",
   "metadata": {},
   "outputs": [
    {
     "data": {
      "text/plain": [
       "<Axes: title={'center': 'Avg of VO2 by sport'}, xlabel='sport'>"
      ]
     },
     "execution_count": 633,
     "metadata": {},
     "output_type": "execute_result"
    },
    {
     "data": {
      "image/png": "[encoded data removed]",
      "text/plain": [
       "<Figure size 640x480 with 1 Axes>"
      ]
     },
     "metadata": {},
     "output_type": "display_data"
    }
   ],
   "source": [
    "#Using VO2 Max from df_Athlete\n",
    "df_Athletes.groupby(\"sport\")['VO2_max'].mean().plot(kind='bar', title='Avg of VO2 by sport', color='orange')\n"
   ]
  },
  {
   "cell_type": "markdown",
   "id": "3f85e8e8-4794-4461-a6c2-33848b9d3df0",
   "metadata": {},
   "source": [
    "#### 20. Analyze the trend of HR at the start of the test vs the middle and the end.What is the overall trend? \n"
   ]
  },
  {
   "cell_type": "code",
   "execution_count": 635,
   "id": "b3e7c518-1e52-4a76-929e-3d5720df41e9",
   "metadata": {},
   "outputs": [
    {
     "data": {
      "image/png": "[encoded data removed]",
      "text/plain": [
       "<Figure size 800x500 with 1 Axes>"
      ]
     },
     "metadata": {},
     "output_type": "display_data"
    }
   ],
   "source": [
    "\n",
    "average_rr = df_data.groupby('ID')['RR'].mean()\n",
    "plt.figure(figsize=(8, 5))\n",
    "plt.plot(average_rr.index, average_rr.values, marker='o', color='blue')\n",
    "plt.grid(True)\n",
    "plt.show()\n"
   ]
  },
  {
   "cell_type": "markdown",
   "id": "86a4c524-4e33-4d35-a870-b8175b7c4906",
   "metadata": {},
   "source": [
    "#### 21. Display a pie chart of number of athletes by sport.\n"
   ]
  },
  {
   "cell_type": "code",
   "execution_count": 637,
   "id": "553483c5-3413-48fb-854c-785c93d10882",
   "metadata": {},
   "outputs": [],
   "source": [
    "pie_sport_counts = df_Athletes['sport'].value_counts()\n"
   ]
  },
  {
   "cell_type": "code",
   "execution_count": 638,
   "id": "d5773d25-f531-4400-bedd-e9f52e9bf4df",
   "metadata": {},
   "outputs": [
    {
     "data": {
      "text/plain": [
       "<Axes: title={'center': 'Sport Distribution'}, ylabel='count'>"
      ]
     },
     "execution_count": 638,
     "metadata": {},
     "output_type": "execute_result"
    },
    {
     "data": {
      "image/png": "[encoded data removed]",
      "text/plain": [
       "<Figure size 640x480 with 1 Axes>"
      ]
     },
     "metadata": {},
     "output_type": "display_data"
    }
   ],
   "source": [
    "pie_sport_counts.plot(kind='pie', title='Sport Distribution', autopct='%1.1f%%')"
   ]
  },
  {
   "cell_type": "markdown",
   "id": "c4f0fa6a-0796-4963-9c98-a51b17f2c906",
   "metadata": {},
   "source": [
    "#### 22. Using any 10 HR values print even if the value is an even number and odd if its an odd number"
   ]
  },
  {
   "cell_type": "code",
   "execution_count": 640,
   "id": "1956ef9a-4622-4285-a442-1f546d62a2e7",
   "metadata": {},
   "outputs": [
    {
     "name": "stdout",
     "output_type": "stream",
     "text": [
      "89.0 is odd\n",
      "89.0 is odd\n",
      "95.0 is odd\n",
      "84.0 is even\n",
      "68.0 is even\n",
      "84.0 is even\n",
      "78.0 is even\n",
      "70.0 is even\n",
      "86.0 is even\n",
      "78.0 is even\n"
     ]
    }
   ],
   "source": [
    "df_data[\"HR_int\"] = df_data[\"HR\"].round(0)\n",
    "\n",
    "for value in df_data[\"HR_int\"].head(10):\n",
    "     if value%2 == 0:\n",
    "        print(f'{value} is even')\n",
    "     else:\n",
    "        print(f'{value} is odd')\n"
   ]
  },
  {
   "cell_type": "code",
   "execution_count": 641,
   "id": "7ac36fd6-b454-43a0-96b5-bcce697a3863",
   "metadata": {},
   "outputs": [],
   "source": [
    "#dropping HR_int column created\n",
    "df_data=df_data.drop(\"HR_int\",axis=1)"
   ]
  },
  {
   "cell_type": "markdown",
   "id": "8207420b-119e-48c4-85f9-9fbec1aeeac3",
   "metadata": {},
   "source": [
    "#### 23. Which heart rate zone did most participants spend the longest duration of time in?"
   ]
  },
  {
   "cell_type": "code",
   "execution_count": 643,
   "id": "34a1107f-8bf4-456d-bcf9-3aefe7d27a7b",
   "metadata": {},
   "outputs": [
    {
     "name": "stdout",
     "output_type": "stream",
     "text": [
      "The heart rate zone where most participants spent the longest duration of time is: Zone 5\n"
     ]
    }
   ],
   "source": [
    "time_in_zones = df_data.groupby(['ID', 'zone'])['time'].sum().reset_index()\n",
    "max_time_zone = time_in_zones.loc[time_in_zones.groupby('ID')['time'].idxmax()]\n",
    "most_common_zone = max_time_zone['zone'].mode()[0]\n",
    "print(f\"The heart rate zone where most participants spent the longest duration of time is: {most_common_zone}\")"
   ]
  },
  {
   "cell_type": "markdown",
   "id": "578ec3c7-cd5f-4757-a8df-49ddae4c976a",
   "metadata": {},
   "source": [
    "#### 24. Store athlete name and sport in a dictionary as a pair of values."
   ]
  },
  {
   "cell_type": "code",
   "execution_count": 645,
   "id": "9aa927a5-9c57-4700-a1ac-98546806d991",
   "metadata": {},
   "outputs": [
    {
     "name": "stdout",
     "output_type": "stream",
     "text": [
      "{'First Name': {0: 'Olivia', 1: 'Ethan', 2: 'Jackson', 3: 'Liam', 4: 'Ava', 5: 'Sophia', 6: 'Grace', 7: 'Aiden', 8: 'Chloe', 9: 'Lily', 10: 'Isabella', 11: 'Caleb', 12: 'Mia', 13: 'Harper', 14: 'Mason', 15: 'Logan', 16: 'Lucas', 17: 'Owen'}, 'sport': {0: 'fencing', 1: 'fencing', 2: 'fencing', 3: 'fencing', 4: 'fencing', 5: 'fencing', 6: 'fencing', 7: 'fencing', 8: 'fencing', 9: 'fencing', 10: 'kayak', 11: 'kayak', 12: 'kayak', 13: 'kayak', 14: 'kayak', 15: 'kayak', 16: 'triathlon', 17: 'triathlon'}}\n"
     ]
    }
   ],
   "source": [
    "selected_data = df_Athletes.loc[:,['First Name', 'sport']]\n",
    "\n",
    "athlete_dict = selected_data.to_dict(orient='dict')\n",
    "\n",
    "print(athlete_dict)"
   ]
  },
  {
   "cell_type": "markdown",
   "id": "8e05e1a3-219a-4a55-81aa-df2235b2ee77",
   "metadata": {},
   "source": [
    "#### 25. Using arrays and loops, find the count of athletes based on gender."
   ]
  },
  {
   "cell_type": "code",
   "execution_count": 647,
   "id": "5c881836-e389-4db8-95aa-1b011db04fc8",
   "metadata": {},
   "outputs": [
    {
     "name": "stdout",
     "output_type": "stream",
     "text": [
      "male 8\n",
      "female 10\n"
     ]
    }
   ],
   "source": [
    "male_count = 0\n",
    "female_count = 0\n",
    "\n",
    "for Gender in df_Athletes['Gender']:\n",
    "    if Gender == 'Male':\n",
    "        male_count += 1\n",
    "    elif Gender == 'Female':\n",
    "        female_count += 1\n",
    "\n",
    "\n",
    "print(\"male\", male_count)\n",
    "print(\"female\", female_count)"
   ]
  },
  {
   "cell_type": "markdown",
   "id": "c9870e5c-5b8d-43c7-9d53-ab62a162bf45",
   "metadata": {},
   "source": [
    "#### 26. Create a sankey diagram to show the groups of race within each sport"
   ]
  },
  {
   "cell_type": "code",
   "execution_count": 649,
   "id": "5066249c-fb91-4cad-92d3-c298c8d4082e",
   "metadata": {},
   "outputs": [
    {
     "data": {
      "application/vnd.plotly.v1+json": {
       "config": {
        "plotlyServerURL": "https://plot.ly"
       },
       "data": [
        {
         "link": {
          "source": [
           0,
           0,
           1,
           2,
           3,
           3
          ],
          "target": [
           4,
           5,
           4,
           5,
           5,
           6
          ],
          "value": [
           4,
           2,
           6,
           2,
           2,
           2
          ]
         },
         "node": {
          "label": [
           "African",
           "White",
           "Asian",
           "Latino",
           "fencing",
           "kayak",
           "triathlon"
          ],
          "line": {
           "color": "black",
           "width": 0.5
          },
          "pad": 15,
          "thickness": 20
         },
         "type": "sankey"
        }
       ],
       "layout": {
        "autosize": true,
        "font": {
         "size": 10
        },
        "template": {
         "data": {
          "bar": [
           {
            "error_x": {
             "color": "#2a3f5f"
            },
            "error_y": {
             "color": "#2a3f5f"
            },
            "marker": {
             "line": {
              "color": "#E5ECF6",
              "width": 0.5
             },
             "pattern": {
              "fillmode": "overlay",
              "size": 10,
              "solidity": 0.2
             }
            },
            "type": "bar"
           }
          ],
          "barpolar": [
           {
            "marker": {
             "line": {
              "color": "#E5ECF6",
              "width": 0.5
             },
             "pattern": {
              "fillmode": "overlay",
              "size": 10,
              "solidity": 0.2
             }
            },
            "type": "barpolar"
           }
          ],
          "carpet": [
           {
            "aaxis": {
             "endlinecolor": "#2a3f5f",
             "gridcolor": "white",
             "linecolor": "white",
             "minorgridcolor": "white",
             "startlinecolor": "#2a3f5f"
            },
            "baxis": {
             "endlinecolor": "#2a3f5f",
             "gridcolor": "white",
             "linecolor": "white",
             "minorgridcolor": "white",
             "startlinecolor": "#2a3f5f"
            },
            "type": "carpet"
           }
          ],
          "choropleth": [
           {
            "colorbar": {
             "outlinewidth": 0,
             "ticks": ""
            },
            "type": "choropleth"
           }
          ],
          "contour": [
           {
            "colorbar": {
             "outlinewidth": 0,
             "ticks": ""
            },
            "colorscale": [
             [
              0,
              "#0d0887"
             ],
             [
              0.1111111111111111,
              "#46039f"
             ],
             [
              0.2222222222222222,
              "#7201a8"
             ],
             [
              0.3333333333333333,
              "#9c179e"
             ],
             [
              0.4444444444444444,
              "#bd3786"
             ],
             [
              0.5555555555555556,
              "#d8576b"
             ],
             [
              0.6666666666666666,
              "#ed7953"
             ],
             [
              0.7777777777777778,
              "#fb9f3a"
             ],
             [
              0.8888888888888888,
              "#fdca26"
             ],
             [
              1,
              "#f0f921"
             ]
            ],
            "type": "contour"
           }
          ],
          "contourcarpet": [
           {
            "colorbar": {
             "outlinewidth": 0,
             "ticks": ""
            },
            "type": "contourcarpet"
           }
          ],
          "heatmap": [
           {
            "colorbar": {
             "outlinewidth": 0,
             "ticks": ""
            },
            "colorscale": [
             [
              0,
              "#0d0887"
             ],
             [
              0.1111111111111111,
              "#46039f"
             ],
             [
              0.2222222222222222,
              "#7201a8"
             ],
             [
              0.3333333333333333,
              "#9c179e"
             ],
             [
              0.4444444444444444,
              "#bd3786"
             ],
             [
              0.5555555555555556,
              "#d8576b"
             ],
             [
              0.6666666666666666,
              "#ed7953"
             ],
             [
              0.7777777777777778,
              "#fb9f3a"
             ],
             [
              0.8888888888888888,
              "#fdca26"
             ],
             [
              1,
              "#f0f921"
             ]
            ],
            "type": "heatmap"
           }
          ],
          "heatmapgl": [
           {
            "colorbar": {
             "outlinewidth": 0,
             "ticks": ""
            },
            "colorscale": [
             [
              0,
              "#0d0887"
             ],
             [
              0.1111111111111111,
              "#46039f"
             ],
             [
              0.2222222222222222,
              "#7201a8"
             ],
             [
              0.3333333333333333,
              "#9c179e"
             ],
             [
              0.4444444444444444,
              "#bd3786"
             ],
             [
              0.5555555555555556,
              "#d8576b"
             ],
             [
              0.6666666666666666,
              "#ed7953"
             ],
             [
              0.7777777777777778,
              "#fb9f3a"
             ],
             [
              0.8888888888888888,
              "#fdca26"
             ],
             [
              1,
              "#f0f921"
             ]
            ],
            "type": "heatmapgl"
           }
          ],
          "histogram": [
           {
            "marker": {
             "pattern": {
              "fillmode": "overlay",
              "size": 10,
              "solidity": 0.2
             }
            },
            "type": "histogram"
           }
          ],
          "histogram2d": [
           {
            "colorbar": {
             "outlinewidth": 0,
             "ticks": ""
            },
            "colorscale": [
             [
              0,
              "#0d0887"
             ],
             [
              0.1111111111111111,
              "#46039f"
             ],
             [
              0.2222222222222222,
              "#7201a8"
             ],
             [
              0.3333333333333333,
              "#9c179e"
             ],
             [
              0.4444444444444444,
              "#bd3786"
             ],
             [
              0.5555555555555556,
              "#d8576b"
             ],
             [
              0.6666666666666666,
              "#ed7953"
             ],
             [
              0.7777777777777778,
              "#fb9f3a"
             ],
             [
              0.8888888888888888,
              "#fdca26"
             ],
             [
              1,
              "#f0f921"
             ]
            ],
            "type": "histogram2d"
           }
          ],
          "histogram2dcontour": [
           {
            "colorbar": {
             "outlinewidth": 0,
             "ticks": ""
            },
            "colorscale": [
             [
              0,
              "#0d0887"
             ],
             [
              0.1111111111111111,
              "#46039f"
             ],
             [
              0.2222222222222222,
              "#7201a8"
             ],
             [
              0.3333333333333333,
              "#9c179e"
             ],
             [
              0.4444444444444444,
              "#bd3786"
             ],
             [
              0.5555555555555556,
              "#d8576b"
             ],
             [
              0.6666666666666666,
              "#ed7953"
             ],
             [
              0.7777777777777778,
              "#fb9f3a"
             ],
             [
              0.8888888888888888,
              "#fdca26"
             ],
             [
              1,
              "#f0f921"
             ]
            ],
            "type": "histogram2dcontour"
           }
          ],
          "mesh3d": [
           {
            "colorbar": {
             "outlinewidth": 0,
             "ticks": ""
            },
            "type": "mesh3d"
           }
          ],
          "parcoords": [
           {
            "line": {
             "colorbar": {
              "outlinewidth": 0,
              "ticks": ""
             }
            },
            "type": "parcoords"
           }
          ],
          "pie": [
           {
            "automargin": true,
            "type": "pie"
           }
          ],
          "scatter": [
           {
            "fillpattern": {
             "fillmode": "overlay",
             "size": 10,
             "solidity": 0.2
            },
            "type": "scatter"
           }
          ],
          "scatter3d": [
           {
            "line": {
             "colorbar": {
              "outlinewidth": 0,
              "ticks": ""
             }
            },
            "marker": {
             "colorbar": {
              "outlinewidth": 0,
              "ticks": ""
             }
            },
            "type": "scatter3d"
           }
          ],
          "scattercarpet": [
           {
            "marker": {
             "colorbar": {
              "outlinewidth": 0,
              "ticks": ""
             }
            },
            "type": "scattercarpet"
           }
          ],
          "scattergeo": [
           {
            "marker": {
             "colorbar": {
              "outlinewidth": 0,
              "ticks": ""
             }
            },
            "type": "scattergeo"
           }
          ],
          "scattergl": [
           {
            "marker": {
             "colorbar": {
              "outlinewidth": 0,
              "ticks": ""
             }
            },
            "type": "scattergl"
           }
          ],
          "scattermapbox": [
           {
            "marker": {
             "colorbar": {
              "outlinewidth": 0,
              "ticks": ""
             }
            },
            "type": "scattermapbox"
           }
          ],
          "scatterpolar": [
           {
            "marker": {
             "colorbar": {
              "outlinewidth": 0,
              "ticks": ""
             }
            },
            "type": "scatterpolar"
           }
          ],
          "scatterpolargl": [
           {
            "marker": {
             "colorbar": {
              "outlinewidth": 0,
              "ticks": ""
             }
            },
            "type": "scatterpolargl"
           }
          ],
          "scatterternary": [
           {
            "marker": {
             "colorbar": {
              "outlinewidth": 0,
              "ticks": ""
             }
            },
            "type": "scatterternary"
           }
          ],
          "surface": [
           {
            "colorbar": {
             "outlinewidth": 0,
             "ticks": ""
            },
            "colorscale": [
             [
              0,
              "#0d0887"
             ],
             [
              0.1111111111111111,
              "#46039f"
             ],
             [
              0.2222222222222222,
              "#7201a8"
             ],
             [
              0.3333333333333333,
              "#9c179e"
             ],
             [
              0.4444444444444444,
              "#bd3786"
             ],
             [
              0.5555555555555556,
              "#d8576b"
             ],
             [
              0.6666666666666666,
              "#ed7953"
             ],
             [
              0.7777777777777778,
              "#fb9f3a"
             ],
             [
              0.8888888888888888,
              "#fdca26"
             ],
             [
              1,
              "#f0f921"
             ]
            ],
            "type": "surface"
           }
          ],
          "table": [
           {
            "cells": {
             "fill": {
              "color": "#EBF0F8"
             },
             "line": {
              "color": "white"
             }
            },
            "header": {
             "fill": {
              "color": "#C8D4E3"
             },
             "line": {
              "color": "white"
             }
            },
            "type": "table"
           }
          ]
         },
         "layout": {
          "annotationdefaults": {
           "arrowcolor": "#2a3f5f",
           "arrowhead": 0,
           "arrowwidth": 1
          },
          "autotypenumbers": "strict",
          "coloraxis": {
           "colorbar": {
            "outlinewidth": 0,
            "ticks": ""
           }
          },
          "colorscale": {
           "diverging": [
            [
             0,
             "#8e0152"
            ],
            [
             0.1,
             "#c51b7d"
            ],
            [
             0.2,
             "#de77ae"
            ],
            [
             0.3,
             "#f1b6da"
            ],
            [
             0.4,
             "#fde0ef"
            ],
            [
             0.5,
             "#f7f7f7"
            ],
            [
             0.6,
             "#e6f5d0"
            ],
            [
             0.7,
             "#b8e186"
            ],
            [
             0.8,
             "#7fbc41"
            ],
            [
             0.9,
             "#4d9221"
            ],
            [
             1,
             "#276419"
            ]
           ],
           "sequential": [
            [
             0,
             "#0d0887"
            ],
            [
             0.1111111111111111,
             "#46039f"
            ],
            [
             0.2222222222222222,
             "#7201a8"
            ],
            [
             0.3333333333333333,
             "#9c179e"
            ],
            [
             0.4444444444444444,
             "#bd3786"
            ],
            [
             0.5555555555555556,
             "#d8576b"
            ],
            [
             0.6666666666666666,
             "#ed7953"
            ],
            [
             0.7777777777777778,
             "#fb9f3a"
            ],
            [
             0.8888888888888888,
             "#fdca26"
            ],
            [
             1,
             "#f0f921"
            ]
           ],
           "sequentialminus": [
            [
             0,
             "#0d0887"
            ],
            [
             0.1111111111111111,
             "#46039f"
            ],
            [
             0.2222222222222222,
             "#7201a8"
            ],
            [
             0.3333333333333333,
             "#9c179e"
            ],
            [
             0.4444444444444444,
             "#bd3786"
            ],
            [
             0.5555555555555556,
             "#d8576b"
            ],
            [
             0.6666666666666666,
             "#ed7953"
            ],
            [
             0.7777777777777778,
             "#fb9f3a"
            ],
            [
             0.8888888888888888,
             "#fdca26"
            ],
            [
             1,
             "#f0f921"
            ]
           ]
          },
          "colorway": [
           "#636efa",
           "#EF553B",
           "#00cc96",
           "#ab63fa",
           "#FFA15A",
           "#19d3f3",
           "#FF6692",
           "#B6E880",
           "#FF97FF",
           "#FECB52"
          ],
          "font": {
           "color": "#2a3f5f"
          },
          "geo": {
           "bgcolor": "white",
           "lakecolor": "white",
           "landcolor": "#E5ECF6",
           "showlakes": true,
           "showland": true,
           "subunitcolor": "white"
          },
          "hoverlabel": {
           "align": "left"
          },
          "hovermode": "closest",
          "mapbox": {
           "style": "light"
          },
          "paper_bgcolor": "white",
          "plot_bgcolor": "#E5ECF6",
          "polar": {
           "angularaxis": {
            "gridcolor": "white",
            "linecolor": "white",
            "ticks": ""
           },
           "bgcolor": "#E5ECF6",
           "radialaxis": {
            "gridcolor": "white",
            "linecolor": "white",
            "ticks": ""
           }
          },
          "scene": {
           "xaxis": {
            "backgroundcolor": "#E5ECF6",
            "gridcolor": "white",
            "gridwidth": 2,
            "linecolor": "white",
            "showbackground": true,
            "ticks": "",
            "zerolinecolor": "white"
           },
           "yaxis": {
            "backgroundcolor": "#E5ECF6",
            "gridcolor": "white",
            "gridwidth": 2,
            "linecolor": "white",
            "showbackground": true,
            "ticks": "",
            "zerolinecolor": "white"
           },
           "zaxis": {
            "backgroundcolor": "#E5ECF6",
            "gridcolor": "white",
            "gridwidth": 2,
            "linecolor": "white",
            "showbackground": true,
            "ticks": "",
            "zerolinecolor": "white"
           }
          },
          "shapedefaults": {
           "line": {
            "color": "#2a3f5f"
           }
          },
          "ternary": {
           "aaxis": {
            "gridcolor": "white",
            "linecolor": "white",
            "ticks": ""
           },
           "baxis": {
            "gridcolor": "white",
            "linecolor": "white",
            "ticks": ""
           },
           "bgcolor": "#E5ECF6",
           "caxis": {
            "gridcolor": "white",
            "linecolor": "white",
            "ticks": ""
           }
          },
          "title": {
           "x": 0.05
          },
          "xaxis": {
           "automargin": true,
           "gridcolor": "white",
           "linecolor": "white",
           "ticks": "",
           "title": {
            "standoff": 15
           },
           "zerolinecolor": "white",
           "zerolinewidth": 2
          },
          "yaxis": {
           "automargin": true,
           "gridcolor": "white",
           "linecolor": "white",
           "ticks": "",
           "title": {
            "standoff": 15
           },
           "zerolinecolor": "white",
           "zerolinewidth": 2
          }
         }
        },
        "title": {
         "text": "Sankey Diagram: Distribution of Race within Each Sport"
        }
       }
      },
      "image/png": "[encoded data removed]",
      "text/html": [
       "<div>                            <div id=\"8889c3c8-a634-4efb-a4f1-e7c0eb7dc8ce\" class=\"plotly-graph-div\" style=\"height:525px; width:100%;\"></div>            <script type=\"text/javascript\">                require([\"plotly\"], function(Plotly) {                    window.PLOTLYENV=window.PLOTLYENV || {};                                    if (document.getElementById(\"8889c3c8-a634-4efb-a4f1-e7c0eb7dc8ce\")) {                    Plotly.newPlot(                        \"8889c3c8-a634-4efb-a4f1-e7c0eb7dc8ce\",                        [{\"link\":{\"source\":[0,0,1,2,3,3],\"target\":[4,5,4,5,5,6],\"value\":[4,2,6,2,2,2]},\"node\":{\"label\":[\"African\",\"White\",\"Asian\",\"Latino\",\"fencing\",\"kayak\",\"triathlon\"],\"line\":{\"color\":\"black\",\"width\":0.5},\"pad\":15,\"thickness\":20},\"type\":\"sankey\"}],                        {\"template\":{\"data\":{\"histogram2dcontour\":[{\"type\":\"histogram2dcontour\",\"colorbar\":{\"outlinewidth\":0,\"ticks\":\"\"},\"colorscale\":[[0.0,\"#0d0887\"],[0.1111111111111111,\"#46039f\"],[0.2222222222222222,\"#7201a8\"],[0.3333333333333333,\"#9c179e\"],[0.4444444444444444,\"#bd3786\"],[0.5555555555555556,\"#d8576b\"],[0.6666666666666666,\"#ed7953\"],[0.7777777777777778,\"#fb9f3a\"],[0.8888888888888888,\"#fdca26\"],[1.0,\"#f0f921\"]]}],\"choropleth\":[{\"type\":\"choropleth\",\"colorbar\":{\"outlinewidth\":0,\"ticks\":\"\"}}],\"histogram2d\":[{\"type\":\"histogram2d\",\"colorbar\":{\"outlinewidth\":0,\"ticks\":\"\"},\"colorscale\":[[0.0,\"#0d0887\"],[0.1111111111111111,\"#46039f\"],[0.2222222222222222,\"#7201a8\"],[0.3333333333333333,\"#9c179e\"],[0.4444444444444444,\"#bd3786\"],[0.5555555555555556,\"#d8576b\"],[0.6666666666666666,\"#ed7953\"],[0.7777777777777778,\"#fb9f3a\"],[0.8888888888888888,\"#fdca26\"],[1.0,\"#f0f921\"]]}],\"heatmap\":[{\"type\":\"heatmap\",\"colorbar\":{\"outlinewidth\":0,\"ticks\":\"\"},\"colorscale\":[[0.0,\"#0d0887\"],[0.1111111111111111,\"#46039f\"],[0.2222222222222222,\"#7201a8\"],[0.3333333333333333,\"#9c179e\"],[0.4444444444444444,\"#bd3786\"],[0.5555555555555556,\"#d8576b\"],[0.6666666666666666,\"#ed7953\"],[0.7777777777777778,\"#fb9f3a\"],[0.8888888888888888,\"#fdca26\"],[1.0,\"#f0f921\"]]}],\"heatmapgl\":[{\"type\":\"heatmapgl\",\"colorbar\":{\"outlinewidth\":0,\"ticks\":\"\"},\"colorscale\":[[0.0,\"#0d0887\"],[0.1111111111111111,\"#46039f\"],[0.2222222222222222,\"#7201a8\"],[0.3333333333333333,\"#9c179e\"],[0.4444444444444444,\"#bd3786\"],[0.5555555555555556,\"#d8576b\"],[0.6666666666666666,\"#ed7953\"],[0.7777777777777778,\"#fb9f3a\"],[0.8888888888888888,\"#fdca26\"],[1.0,\"#f0f921\"]]}],\"contourcarpet\":[{\"type\":\"contourcarpet\",\"colorbar\":{\"outlinewidth\":0,\"ticks\":\"\"}}],\"contour\":[{\"type\":\"contour\",\"colorbar\":{\"outlinewidth\":0,\"ticks\":\"\"},\"colorscale\":[[0.0,\"#0d0887\"],[0.1111111111111111,\"#46039f\"],[0.2222222222222222,\"#7201a8\"],[0.3333333333333333,\"#9c179e\"],[0.4444444444444444,\"#bd3786\"],[0.5555555555555556,\"#d8576b\"],[0.6666666666666666,\"#ed7953\"],[0.7777777777777778,\"#fb9f3a\"],[0.8888888888888888,\"#fdca26\"],[1.0,\"#f0f921\"]]}],\"surface\":[{\"type\":\"surface\",\"colorbar\":{\"outlinewidth\":0,\"ticks\":\"\"},\"colorscale\":[[0.0,\"#0d0887\"],[0.1111111111111111,\"#46039f\"],[0.2222222222222222,\"#7201a8\"],[0.3333333333333333,\"#9c179e\"],[0.4444444444444444,\"#bd3786\"],[0.5555555555555556,\"#d8576b\"],[0.6666666666666666,\"#ed7953\"],[0.7777777777777778,\"#fb9f3a\"],[0.8888888888888888,\"#fdca26\"],[1.0,\"#f0f921\"]]}],\"mesh3d\":[{\"type\":\"mesh3d\",\"colorbar\":{\"outlinewidth\":0,\"ticks\":\"\"}}],\"scatter\":[{\"fillpattern\":{\"fillmode\":\"overlay\",\"size\":10,\"solidity\":0.2},\"type\":\"scatter\"}],\"parcoords\":[{\"type\":\"parcoords\",\"line\":{\"colorbar\":{\"outlinewidth\":0,\"ticks\":\"\"}}}],\"scatterpolargl\":[{\"type\":\"scatterpolargl\",\"marker\":{\"colorbar\":{\"outlinewidth\":0,\"ticks\":\"\"}}}],\"bar\":[{\"error_x\":{\"color\":\"#2a3f5f\"},\"error_y\":{\"color\":\"#2a3f5f\"},\"marker\":{\"line\":{\"color\":\"#E5ECF6\",\"width\":0.5},\"pattern\":{\"fillmode\":\"overlay\",\"size\":10,\"solidity\":0.2}},\"type\":\"bar\"}],\"scattergeo\":[{\"type\":\"scattergeo\",\"marker\":{\"colorbar\":{\"outlinewidth\":0,\"ticks\":\"\"}}}],\"scatterpolar\":[{\"type\":\"scatterpolar\",\"marker\":{\"colorbar\":{\"outlinewidth\":0,\"ticks\":\"\"}}}],\"histogram\":[{\"marker\":{\"pattern\":{\"fillmode\":\"overlay\",\"size\":10,\"solidity\":0.2}},\"type\":\"histogram\"}],\"scattergl\":[{\"type\":\"scattergl\",\"marker\":{\"colorbar\":{\"outlinewidth\":0,\"ticks\":\"\"}}}],\"scatter3d\":[{\"type\":\"scatter3d\",\"line\":{\"colorbar\":{\"outlinewidth\":0,\"ticks\":\"\"}},\"marker\":{\"colorbar\":{\"outlinewidth\":0,\"ticks\":\"\"}}}],\"scattermapbox\":[{\"type\":\"scattermapbox\",\"marker\":{\"colorbar\":{\"outlinewidth\":0,\"ticks\":\"\"}}}],\"scatterternary\":[{\"type\":\"scatterternary\",\"marker\":{\"colorbar\":{\"outlinewidth\":0,\"ticks\":\"\"}}}],\"scattercarpet\":[{\"type\":\"scattercarpet\",\"marker\":{\"colorbar\":{\"outlinewidth\":0,\"ticks\":\"\"}}}],\"carpet\":[{\"aaxis\":{\"endlinecolor\":\"#2a3f5f\",\"gridcolor\":\"white\",\"linecolor\":\"white\",\"minorgridcolor\":\"white\",\"startlinecolor\":\"#2a3f5f\"},\"baxis\":{\"endlinecolor\":\"#2a3f5f\",\"gridcolor\":\"white\",\"linecolor\":\"white\",\"minorgridcolor\":\"white\",\"startlinecolor\":\"#2a3f5f\"},\"type\":\"carpet\"}],\"table\":[{\"cells\":{\"fill\":{\"color\":\"#EBF0F8\"},\"line\":{\"color\":\"white\"}},\"header\":{\"fill\":{\"color\":\"#C8D4E3\"},\"line\":{\"color\":\"white\"}},\"type\":\"table\"}],\"barpolar\":[{\"marker\":{\"line\":{\"color\":\"#E5ECF6\",\"width\":0.5},\"pattern\":{\"fillmode\":\"overlay\",\"size\":10,\"solidity\":0.2}},\"type\":\"barpolar\"}],\"pie\":[{\"automargin\":true,\"type\":\"pie\"}]},\"layout\":{\"autotypenumbers\":\"strict\",\"colorway\":[\"#636efa\",\"#EF553B\",\"#00cc96\",\"#ab63fa\",\"#FFA15A\",\"#19d3f3\",\"#FF6692\",\"#B6E880\",\"#FF97FF\",\"#FECB52\"],\"font\":{\"color\":\"#2a3f5f\"},\"hovermode\":\"closest\",\"hoverlabel\":{\"align\":\"left\"},\"paper_bgcolor\":\"white\",\"plot_bgcolor\":\"#E5ECF6\",\"polar\":{\"bgcolor\":\"#E5ECF6\",\"angularaxis\":{\"gridcolor\":\"white\",\"linecolor\":\"white\",\"ticks\":\"\"},\"radialaxis\":{\"gridcolor\":\"white\",\"linecolor\":\"white\",\"ticks\":\"\"}},\"ternary\":{\"bgcolor\":\"#E5ECF6\",\"aaxis\":{\"gridcolor\":\"white\",\"linecolor\":\"white\",\"ticks\":\"\"},\"baxis\":{\"gridcolor\":\"white\",\"linecolor\":\"white\",\"ticks\":\"\"},\"caxis\":{\"gridcolor\":\"white\",\"linecolor\":\"white\",\"ticks\":\"\"}},\"coloraxis\":{\"colorbar\":{\"outlinewidth\":0,\"ticks\":\"\"}},\"colorscale\":{\"sequential\":[[0.0,\"#0d0887\"],[0.1111111111111111,\"#46039f\"],[0.2222222222222222,\"#7201a8\"],[0.3333333333333333,\"#9c179e\"],[0.4444444444444444,\"#bd3786\"],[0.5555555555555556,\"#d8576b\"],[0.6666666666666666,\"#ed7953\"],[0.7777777777777778,\"#fb9f3a\"],[0.8888888888888888,\"#fdca26\"],[1.0,\"#f0f921\"]],\"sequentialminus\":[[0.0,\"#0d0887\"],[0.1111111111111111,\"#46039f\"],[0.2222222222222222,\"#7201a8\"],[0.3333333333333333,\"#9c179e\"],[0.4444444444444444,\"#bd3786\"],[0.5555555555555556,\"#d8576b\"],[0.6666666666666666,\"#ed7953\"],[0.7777777777777778,\"#fb9f3a\"],[0.8888888888888888,\"#fdca26\"],[1.0,\"#f0f921\"]],\"diverging\":[[0,\"#8e0152\"],[0.1,\"#c51b7d\"],[0.2,\"#de77ae\"],[0.3,\"#f1b6da\"],[0.4,\"#fde0ef\"],[0.5,\"#f7f7f7\"],[0.6,\"#e6f5d0\"],[0.7,\"#b8e186\"],[0.8,\"#7fbc41\"],[0.9,\"#4d9221\"],[1,\"#276419\"]]},\"xaxis\":{\"gridcolor\":\"white\",\"linecolor\":\"white\",\"ticks\":\"\",\"title\":{\"standoff\":15},\"zerolinecolor\":\"white\",\"automargin\":true,\"zerolinewidth\":2},\"yaxis\":{\"gridcolor\":\"white\",\"linecolor\":\"white\",\"ticks\":\"\",\"title\":{\"standoff\":15},\"zerolinecolor\":\"white\",\"automargin\":true,\"zerolinewidth\":2},\"scene\":{\"xaxis\":{\"backgroundcolor\":\"#E5ECF6\",\"gridcolor\":\"white\",\"linecolor\":\"white\",\"showbackground\":true,\"ticks\":\"\",\"zerolinecolor\":\"white\",\"gridwidth\":2},\"yaxis\":{\"backgroundcolor\":\"#E5ECF6\",\"gridcolor\":\"white\",\"linecolor\":\"white\",\"showbackground\":true,\"ticks\":\"\",\"zerolinecolor\":\"white\",\"gridwidth\":2},\"zaxis\":{\"backgroundcolor\":\"#E5ECF6\",\"gridcolor\":\"white\",\"linecolor\":\"white\",\"showbackground\":true,\"ticks\":\"\",\"zerolinecolor\":\"white\",\"gridwidth\":2}},\"shapedefaults\":{\"line\":{\"color\":\"#2a3f5f\"}},\"annotationdefaults\":{\"arrowcolor\":\"#2a3f5f\",\"arrowhead\":0,\"arrowwidth\":1},\"geo\":{\"bgcolor\":\"white\",\"landcolor\":\"#E5ECF6\",\"subunitcolor\":\"white\",\"showland\":true,\"showlakes\":true,\"lakecolor\":\"white\"},\"title\":{\"x\":0.05},\"mapbox\":{\"style\":\"light\"}}},\"title\":{\"text\":\"Sankey Diagram: Distribution of Race within Each Sport\"},\"font\":{\"size\":10}},                        {\"responsive\": true}                    ).then(function(){\n",
       "                            \n",
       "var gd = document.getElementById('8889c3c8-a634-4efb-a4f1-e7c0eb7dc8ce');\n",
       "var x = new MutationObserver(function (mutations, observer) {{\n",
       "        var display = window.getComputedStyle(gd).display;\n",
       "        if (!display || display === 'none') {{\n",
       "            console.log([gd, 'removed!']);\n",
       "            Plotly.purge(gd);\n",
       "            observer.disconnect();\n",
       "        }}\n",
       "}});\n",
       "\n",
       "// Listen for the removal of the full notebook cells\n",
       "var notebookContainer = gd.closest('#notebook-container');\n",
       "if (notebookContainer) {{\n",
       "    x.observe(notebookContainer, {childList: true});\n",
       "}}\n",
       "\n",
       "// Listen for the clearing of the current output cell\n",
       "var outputEl = gd.closest('.output');\n",
       "if (outputEl) {{\n",
       "    x.observe(outputEl, {childList: true});\n",
       "}}\n",
       "\n",
       "                        })                };                });            </script>        </div>"
      ]
     },
     "metadata": {},
     "output_type": "display_data"
    }
   ],
   "source": [
    "import plotly.graph_objects as go\n",
    "\n",
    "\n",
    "ethni_col = 'Ethnicity' \n",
    "sport_col = 'sport' \n",
    "\n",
    "races = df_Athletes[ethni_col].unique()\n",
    "sports = df_Athletes[sport_col].unique()\n",
    "\n",
    "labels = list(races) + list(sports)\n",
    "\n",
    "source = []\n",
    "target = []\n",
    "value = []\n",
    "\n",
    "for i, race in enumerate(races):\n",
    "    for j, sport in enumerate(sports):\n",
    "        count = df_Athletes[(df_Athletes[ethni_col] == race) & (df_Athletes[sport_col] == sport)].shape[0]\n",
    "        if count > 0:\n",
    "            source.append(i)  # Index of the race in the labels list\n",
    "            target.append(len(races) + j)  # Index of the sport in the labels list\n",
    "            value.append(count)\n",
    "\n",
    "\n",
    "fig = go.Figure(data=[go.Sankey(\n",
    "    node=dict(\n",
    "        pad=15,\n",
    "        thickness=20,\n",
    "        line=dict(color=\"black\", width=0.5),\n",
    "        label=labels,\n",
    "    ),\n",
    "    link=dict(\n",
    "        source=source,\n",
    "        target=target,\n",
    "        value=value,\n",
    "    )\n",
    ")])\n",
    "\n",
    "fig.update_layout(title_text=\"Sankey Diagram: Distribution of Race within Each Sport\", font_size=10)\n",
    "fig.show()\n"
   ]
  },
  {
   "cell_type": "markdown",
   "id": "0f776f4e-7c81-4bea-baa5-ba41e48db0ac",
   "metadata": {},
   "source": [
    "#### 27. Calculate the average heart rate for every minute for every athlete and add it as a column in the same dataframe."
   ]
  },
  {
   "cell_type": "code",
   "execution_count": 651,
   "id": "dc9618f4-6bb0-4ae2-b959-5df36e39470b",
   "metadata": {},
   "outputs": [],
   "source": [
    "#df_data[\"HR\"] = 60/(df_data.RR/1000)\n",
    "#df_data.head(10)\n",
    "df_data['time1'] = pd.to_datetime(df_data['time'])"
   ]
  },
  {
   "cell_type": "code",
   "execution_count": 652,
   "id": "52512701-9bb4-4382-8661-18ba3aefeeff",
   "metadata": {},
   "outputs": [
    {
     "name": "stdout",
     "output_type": "stream",
     "text": [
      "    ID              Minute          HR\n",
      "0    1 1969-12-31 23:59:00   79.963765\n",
      "1    1 1970-01-01 00:00:00  160.860053\n",
      "2    2 1969-12-31 23:59:00   66.849938\n",
      "3    2 1970-01-01 00:00:00  149.153597\n",
      "4    3 1969-12-31 23:59:00   79.753352\n",
      "5    3 1970-01-01 00:00:00  140.814953\n",
      "6    4 1969-12-31 23:59:00   91.991801\n",
      "7    4 1970-01-01 00:00:00  153.574522\n",
      "8    5 1969-12-31 23:59:00   80.898999\n",
      "9    5 1970-01-01 00:00:00  150.043190\n",
      "10   6 1969-12-31 23:59:00   69.405487\n",
      "11   6 1970-01-01 00:00:00  142.446076\n",
      "12   7 1969-12-31 23:59:00   83.598328\n",
      "13   7 1970-01-01 00:00:00  152.689638\n",
      "14   8 1969-12-31 23:59:00   67.463899\n",
      "15   8 1970-01-01 00:00:00  144.979835\n",
      "16   9 1969-12-31 23:59:00   89.641731\n",
      "17   9 1970-01-01 00:00:00  161.330672\n",
      "18  10 1969-12-31 23:59:00   78.811642\n",
      "19  10 1970-01-01 00:00:00  157.287459\n",
      "20  11 1969-12-31 23:59:00   87.165139\n",
      "21  11 1970-01-01 00:00:00  143.796829\n",
      "22  12 1969-12-31 23:59:00   83.630795\n",
      "23  12 1970-01-01 00:00:00  146.222918\n",
      "24  13 1969-12-31 23:59:00   90.143456\n",
      "25  13 1970-01-01 00:00:00  147.412888\n",
      "26  14 1969-12-31 23:59:00   78.368361\n",
      "27  14 1970-01-01 00:00:00  147.923948\n",
      "28  15 1969-12-31 23:59:00   75.677637\n",
      "29  15 1970-01-01 00:00:00  151.352027\n",
      "30  16 1969-12-31 23:59:00   81.739784\n",
      "31  16 1970-01-01 00:00:00  147.839541\n",
      "32  17 1969-12-31 23:59:00   79.930107\n",
      "33  17 1970-01-01 00:00:00  147.114514\n",
      "34  18 1969-12-31 23:59:00   70.961443\n",
      "35  18 1970-01-01 00:00:00  152.868421\n"
     ]
    }
   ],
   "source": [
    "df_data['Minute'] = df_data['time1'].dt.floor('T')\n",
    "avg_hr_rate = df_data.groupby(['ID', 'Minute'])['HR'].mean().reset_index()\n",
    "print(avg_hr_rate)"
   ]
  },
  {
   "cell_type": "code",
   "execution_count": 653,
   "id": "13cbec3e-da7f-4270-b679-aa9f0c548d81",
   "metadata": {},
   "outputs": [],
   "source": [
    "#dropping time1 column created\n",
    "df_data=df_data.drop(\"time1\",axis=1)"
   ]
  },
  {
   "cell_type": "markdown",
   "id": "eb0b999b-d6dd-4e37-bfa2-5441db347a87",
   "metadata": {},
   "source": [
    "#### 28.  Print athlete 15s Age and Pvt1 using the format() function"
   ]
  },
  {
   "cell_type": "code",
   "execution_count": 655,
   "id": "c07b6475-ae73-48e1-b56a-31697ae9c7d9",
   "metadata": {},
   "outputs": [
    {
     "name": "stdout",
     "output_type": "stream",
     "text": [
      "Athlete 15's Age is 15 and Pvt1 is 50\n"
     ]
    }
   ],
   "source": [
    "age_athlete = df_Athletes[df_Athletes['age'] == 15].iloc[0] \n",
    "\n",
    "age = age_athlete['age']\n",
    "pvt1 = age_athlete['P_vt1']\n",
    "\n",
    "\n",
    "print(\"Athlete 15's Age is {} and Pvt1 is {}\".format(age, pvt1))\n"
   ]
  },
  {
   "cell_type": "markdown",
   "id": "19105cdc-6580-453d-b71b-e42a9ff2eb49",
   "metadata": {},
   "source": [
    "#### 29. On average how long was each participants’ warm up?"
   ]
  },
  {
   "cell_type": "code",
   "execution_count": 657,
   "id": "40ef1e5e-271c-49e0-94e6-d54418c66f36",
   "metadata": {},
   "outputs": [
    {
     "name": "stdout",
     "output_type": "stream",
     "text": [
      "On average, each participant's warm-up time was 90.06 minutes.\n"
     ]
    }
   ],
   "source": [
    "warmup_times = df_data.loc[df_data[\"stage\"] == 'warmup','time'].abs()\n",
    "\n",
    "avg_wp_time = warmup_times.mean()\n",
    "\n",
    "print(f\"On average, each participant's warm-up time was {avg_wp_time:.2f} minutes.\")\n"
   ]
  },
  {
   "cell_type": "markdown",
   "id": "6ea6f754-75d4-40d4-a734-bff2e0f3ce9f",
   "metadata": {},
   "source": [
    "#### 30. Display the HRV of each athlete?"
   ]
  },
  {
   "cell_type": "code",
   "execution_count": 659,
   "id": "3fdaff82-282e-4204-a60e-5268d77febff",
   "metadata": {},
   "outputs": [],
   "source": [
    "#df_RR = df_data.copy()\n",
    "#calculated differences of RR_intervals\n",
    "#df_RR[\"HRV\"]= df_RR.groupby(\"ID\")[\"RR\"].diff()\n",
    "# Calculated HRV as standard deviation of RR_interval diffrences and updated to the athelete dataframe. \n",
    "#df_Athletes = pd.merge(df_Athletes,df_RR.groupby(\"ID\")[\"HRV\"].std(), on=\"ID\")\n"
   ]
  },
  {
   "cell_type": "code",
   "execution_count": 660,
   "id": "1cbdf078-2a61-4b0c-81e4-5025cd1ce9c5",
   "metadata": {},
   "outputs": [
    {
     "data": {
      "text/plain": [
       "[['Olivia', 'Martinez', 25.844717076544153],\n",
       " ['Ethan', 'Reynolds', 40.72528415960331],\n",
       " ['Jackson', 'Harper', 20.39830606111458],\n",
       " ['Liam', 'Sanchez', 33.334629637835405],\n",
       " ['Ava', 'Thompson', 115.3193392459483],\n",
       " ['Sophia', 'Rodriguez', 447.37162618030663],\n",
       " ['Grace', 'Simmons', 23.696379926492725],\n",
       " ['Aiden', 'Bennett', 504.4823684371257],\n",
       " ['Chloe', 'Price', 22.54032611482897],\n",
       " ['Lily', 'Jordan', 26.865031374225165],\n",
       " ['Isabella', 'Griffin', 13.4230137463987],\n",
       " ['Caleb', 'Dixon', 12.283398886657952],\n",
       " ['Mia', 'Carpenter', 12.43872101599183],\n",
       " ['Harper', 'Mitchell', 162.07094853250086],\n",
       " ['Mason', 'Wallace', 28.80166946540728],\n",
       " ['Logan', 'Anderson', 794.827705293772],\n",
       " ['Lucas', 'Foster', 28.08170524834132],\n",
       " ['Owen', 'Myers', 30.505849389530912]]"
      ]
     },
     "execution_count": 660,
     "metadata": {},
     "output_type": "execute_result"
    }
   ],
   "source": [
    "#HRV already calculated earlier and updated to df_Athlete table\n",
    "df_Athletes.reset_index()[[\"First Name\",\"Last Name\",\"HRV\"]].values.tolist()"
   ]
  },
  {
   "cell_type": "markdown",
   "id": "fc364d97-2c37-4386-986a-bb1c82961638",
   "metadata": {},
   "source": [
    "#### 31. Return the count of athletes for any sport that the user inputs."
   ]
  },
  {
   "cell_type": "code",
   "execution_count": 662,
   "id": "d7379871-4734-4943-bb71-f62cc5b9692e",
   "metadata": {},
   "outputs": [
    {
     "name": "stdin",
     "output_type": "stream",
     "text": [
      "Enter a sport:  fencing\n"
     ]
    },
    {
     "name": "stdout",
     "output_type": "stream",
     "text": [
      "Number of athletes participating in fencing: 10\n"
     ]
    }
   ],
   "source": [
    "\n",
    "def count_athletes_for_sport(sport):\n",
    "    # Check if the sport exists in the DataFrame\n",
    "    if sport in df_Athletes['sport'].values:\n",
    "        # Filter DataFrame for the specified sport and count unique athletes\n",
    "        count =df_Athletes[df_Athletes['sport'] == sport]['ID'].nunique()\n",
    "        return count\n",
    "    else:\n",
    "        return \"Sport not found in the DataFrame.\"\n",
    "\n",
    "# Example user input\n",
    "user_input_sport = input(\"Enter a sport: \")\n",
    "athlete_count = count_athletes_for_sport(user_input_sport)\n",
    "print(f\"Number of athletes participating in {user_input_sport}: {athlete_count}\")"
   ]
  },
  {
   "cell_type": "markdown",
   "id": "d273fde7-b490-445a-bf17-bd2852c2b1f0",
   "metadata": {},
   "source": [
    "#### 32. Insert the name of every athlete into an array and display the length of that array.\n"
   ]
  },
  {
   "cell_type": "code",
   "execution_count": 664,
   "id": "34f78af9-bfa8-45fc-8c9b-582b870eef63",
   "metadata": {},
   "outputs": [
    {
     "name": "stdout",
     "output_type": "stream",
     "text": [
      "Length of the list: 18\n"
     ]
    }
   ],
   "source": [
    "athlete_names =df_Athletes['First Name'].tolist()\n",
    "print(\"Length of the list:\", len(athlete_names))"
   ]
  },
  {
   "cell_type": "markdown",
   "id": "ddb6738b-e298-4a0b-8d77-a97cc7041291",
   "metadata": {},
   "source": [
    "#### 33. Create a list and a tuple. Print the types and lengths of both."
   ]
  },
  {
   "cell_type": "code",
   "execution_count": 666,
   "id": "e8522a06-8346-4559-8d0e-9844d03e5864",
   "metadata": {},
   "outputs": [
    {
     "name": "stdout",
     "output_type": "stream",
     "text": [
      "['Chicago', 'NewYork', 'Denver', 'Bostan', 'Houston', 'San Diego', 'San Jose', 'Seattle', 'Oklahoma City', 'Nashville', 'Las Vegas', 'Albuquerque']\n",
      "<class 'list'>\n",
      "The length of list is:  12\n"
     ]
    }
   ],
   "source": [
    "cities=[\"Chicago\",\"NewYork\",\"Denver\",\"Bostan\",\"Houston\",\"San Diego\",\"San Jose\",\"Seattle\",\"Oklahoma City\",\"Nashville\",\"Las Vegas\",\"Albuquerque\"]\n",
    "print(cities)\n",
    "print(type(cities))\n",
    "n = len(cities)\n",
    "print(\"The length of list is: \", n)"
   ]
  },
  {
   "cell_type": "markdown",
   "id": "6da9a4de-7bd6-4441-82ed-beb95d642d81",
   "metadata": {},
   "source": [
    "**Tuple Example**"
   ]
  },
  {
   "cell_type": "code",
   "execution_count": 668,
   "id": "775a3918-abf9-4124-a4b0-b82209f1de8a",
   "metadata": {},
   "outputs": [
    {
     "name": "stdout",
     "output_type": "stream",
     "text": [
      "['Chicago', 'NewYork', 'Denver', 'Bostan']\n",
      "<class 'list'>\n",
      "The length of list is:  4\n"
     ]
    }
   ],
   "source": [
    "y=[\"Chicago\",\"NewYork\",\"Denver\",\"Bostan\"]\n",
    "print(y)\n",
    "print(type(y))\n",
    "m = len(y)\n",
    "print(\"The length of list is: \", m)"
   ]
  },
  {
   "cell_type": "markdown",
   "id": "803ec8bc-6564-4ce1-a190-04a0612d28a1",
   "metadata": {},
   "source": [
    "#### 34. Display a word cloud using any values in the dataset"
   ]
  },
  {
   "cell_type": "code",
   "execution_count": 670,
   "id": "833165b5-ccb0-4c98-9f8e-fd48bc8e434e",
   "metadata": {},
   "outputs": [
    {
     "data": {
      "image/png": "[encoded data removed]",
      "text/plain": [
       "<Figure size 1000x500 with 1 Axes>"
      ]
     },
     "metadata": {},
     "output_type": "display_data"
    }
   ],
   "source": [
    "from wordcloud import WordCloud\n",
    "import matplotlib.pyplot as plt\n",
    "\n",
    "# joining all values in sport column into string \n",
    "sports_text = ' '.join(df_Athletes['sport'].dropna().astype(str))\n",
    "\n",
    "# Generate the word cloud\n",
    "wordcloud = WordCloud(width=1500, height=900, background_color='white').generate(sports_text)\n",
    "\n",
    "# Display the word cloud \n",
    "plt.figure(figsize=(10, 5))\n",
    "plt.imshow(wordcloud, interpolation='bilinear')\n",
    "plt.axis('off') \n",
    "plt.show()"
   ]
  },
  {
   "cell_type": "markdown",
   "id": "983dabc8-9c65-48f8-9642-7f4bce5822e1",
   "metadata": {},
   "source": [
    "#### 35. Create a Regression Plot on Max V02 and mean BMI for any sport of your choice"
   ]
  },
  {
   "cell_type": "code",
   "execution_count": 672,
   "id": "6a0b61cb-78f0-481b-ad23-70dc3eff1965",
   "metadata": {},
   "outputs": [],
   "source": [
    "#calculating BMI as weight(kg)(height(meter))^2\n",
    "#df_Athletes[\"BMI\"] = df_Athletes[\"Weight\"]/(df_Athletes[\"Height\"]/100)**2\n",
    "mean_BMI = df_Athletes['BMI'].mean()"
   ]
  },
  {
   "cell_type": "code",
   "execution_count": 673,
   "id": "3780b2b9-675e-4899-8ae1-5b4e23caf8e2",
   "metadata": {},
   "outputs": [
    {
     "data": {
      "image/png": "[encoded data removed]",
      "text/plain": [
       "<Figure size 1000x600 with 1 Axes>"
      ]
     },
     "metadata": {},
     "output_type": "display_data"
    }
   ],
   "source": [
    "df_sport = df_Athletes[df_Athletes['sport'] == 'kayak']\n",
    "\n",
    "\n",
    "plt.figure(figsize=(10, 6))\n",
    "sns.regplot(x='VO2_max', y='BMI', data=df_sport, scatter_kws={'s': 30}, line_kws={'color': 'red'})\n",
    "plt.title('Regression Plot: Max VO2 vs Mean BMI for Kayaking')\n",
    "plt.xlabel('Max VO2')\n",
    "plt.ylabel('Mean BMI')\n",
    "plt.axhline(y=mean_BMI, color=\"g\",label=\"Mean BMI\")\n",
    "plt.legend()\n",
    "plt.grid(True)\n",
    "plt.show()"
   ]
  },
  {
   "cell_type": "markdown",
   "id": "07a73322-6962-4971-b979-b0bda49924a3",
   "metadata": {},
   "source": [
    "#### 36. Plot the time series of HR( every 5 mins) of athlete 1\t\t\t\t\t\t\t\t\t\t\t\t\t\t\t\t\t\t\t\t\t\t\t"
   ]
  },
  {
   "cell_type": "code",
   "execution_count": 675,
   "id": "0df32201-7bed-4a3b-a7d4-4a8f680bb221",
   "metadata": {},
   "outputs": [],
   "source": [
    "#calculting HR as 60/(RR value/1000) added HR to data table\n",
    "#df_data[\"HR\"]= 60/(df_data[\"RR\"]/1000)"
   ]
  },
  {
   "cell_type": "code",
   "execution_count": 676,
   "id": "290adc80-c159-498d-9a93-4d0561885f50",
   "metadata": {},
   "outputs": [
    {
     "data": {
      "image/png": "[encoded data removed]",
      "text/plain": [
       "<Figure size 640x480 with 1 Axes>"
      ]
     },
     "metadata": {},
     "output_type": "display_data"
    }
   ],
   "source": [
    "df_data_zoning = df_data.copy()\n",
    "df_data_zoning['HeartRateBPM'] = 60 / (df_data_zoning['RR'] / 1000)\n",
    "df_data_zoning = pd.merge(df_data_zoning, df_Athletes[['ID', 'age', 'sport']], on='ID')\n",
    "df_filtered = df_data_zoning.loc[df_data_zoning['ID'] == 1].copy()\n",
    "# Convert time from milliseconds to minutes\n",
    "df_filtered['time_min'] = df_filtered['time'] / 60000\n",
    "# Group time into 5-minute intervals\n",
    "df_filtered['time_group'] = (df_filtered['time_min'] // 5) * 5\n",
    "plt.plot(df_filtered['time_group'], df_filtered['HeartRateBPM'])\n",
    "plt.xlabel('Time Group (5-minute intervals)')\n",
    "plt.ylabel('Heart Rate (BPM)')\n",
    "plt.title('Heart Rate vs. Time Group for Athlete 1')\n",
    "# Display the plot\n",
    "plt.show()"
   ]
  },
  {
   "cell_type": "markdown",
   "id": "6d535c0c-59cc-47f8-9642-29a0c64727d4",
   "metadata": {},
   "source": [
    "#### 37. What was the maximum power achieved in terms of watts, which participant achieved it? Display name, sport and watts."
   ]
  },
  {
   "cell_type": "code",
   "execution_count": 678,
   "id": "bffbb558-9a90-42aa-8a15-fe20fb18ce09",
   "metadata": {},
   "outputs": [
    {
     "name": "stdout",
     "output_type": "stream",
     "text": [
      "  Last Name    sport  max_power\n",
      "2    Harper  fencing        300\n"
     ]
    }
   ],
   "source": [
    "#calculate maximum power between P_vt1 and Pvt2\n",
    "df_Athletes['max_power']= df_Athletes[ [ 'P_vt1','P_vt2'] ].max(axis=1)\n",
    "# Athletic who has maximum power\n",
    "max_wattage=df_Athletes ['max_power'].max()\n",
    "max_power_athlete= df_Athletes [ df_Athletes['max_power']== max_wattage]\n",
    "# display details of Athletes\n",
    "print(max_power_athlete[['Last Name','sport','max_power']])"
   ]
  },
  {
   "cell_type": "code",
   "execution_count": 679,
   "id": "8a46e0fb-f1b0-418c-b52a-4c30d6a42cf8",
   "metadata": {},
   "outputs": [],
   "source": [
    "#dropping max_power column created\n",
    "df_Athletes=df_Athletes.drop(\"max_power\",axis=1)"
   ]
  },
  {
   "cell_type": "markdown",
   "id": "33c1f1f8-bed1-4710-8efd-74d54fea3396",
   "metadata": {},
   "source": [
    "#### 38. What is the average difference in IBI during the warm up Vs the actual test?"
   ]
  },
  {
   "cell_type": "code",
   "execution_count": 681,
   "id": "b2b5ab46-8f8a-4493-ae57-961eba3dec96",
   "metadata": {},
   "outputs": [
    {
     "name": "stdout",
     "output_type": "stream",
     "text": [
      "The average difference in IBI during the warm up Vs the actual test is:  365.24\n"
     ]
    }
   ],
   "source": [
    "df_IBIMean = df_data[(df_data[\"stage\"]== \"warmup\")].groupby(\"ID\")[\"RR\"].mean() - df_data[(df_data[\"stage\"]== \"GET\")].groupby(\"ID\")[\"RR\"].mean()\n",
    "df_avg_IBI= round(df_IBIMean.mean(),2)\n",
    "print('The average difference in IBI during the warm up Vs the actual test is: ',df_avg_IBI)"
   ]
  },
  {
   "cell_type": "markdown",
   "id": "b838bde2-123b-4cfb-a6d8-92a112e5ab37",
   "metadata": {},
   "source": [
    "#### 39. Print out what's in indexes 7, 10, and 3 for the array in Q33. "
   ]
  },
  {
   "cell_type": "code",
   "execution_count": 683,
   "id": "18b499e9-8dd6-4fcd-b68a-ee95592cc3aa",
   "metadata": {},
   "outputs": [
    {
     "name": "stdout",
     "output_type": "stream",
     "text": [
      "Index 3: Seattle\n",
      "Index 7: Las Vegas\n",
      "Index 10: Bostan\n"
     ]
    }
   ],
   "source": [
    "cities = [\"Chicago\", \"NewYork\", \"Denver\", \"Bostan\", \"Houston\", \"San Diego\", \"San Jose\", \n",
    "          \"Seattle\", \"Oklahoma City\", \"Nashville\", \"Las Vegas\", \"Albuquerque\"]\n",
    "\n",
    "# print the elements at indexes 7, 10, and 3\n",
    "print(\"Index 3:\", cities[7])\n",
    "print(\"Index 7:\", cities[10])\n",
    "print(\"Index 10:\", cities[3])"
   ]
  },
  {
   "cell_type": "markdown",
   "id": "33a2e192-4352-4770-b1c9-8dbfe781e313",
   "metadata": {},
   "source": [
    "#### 40. Use array slicing to display elements 1,3,5. If the value is less than 4 display it as 99 \n",
    "[ 1, 2, 3, 4, 5], [ 6, 7, 8, 9, 10], [11, 12, 13, 14, 15], [16, 17, 18, 19, 20], [21, 22, 23, 24, 25], [26, 27, 28, 29, 30] \n",
    "    "
   ]
  },
  {
   "cell_type": "code",
   "execution_count": 685,
   "id": "acae279b-573a-48d2-aa29-0074cc69959c",
   "metadata": {},
   "outputs": [
    {
     "name": "stdout",
     "output_type": "stream",
     "text": [
      "[99 99  5]\n"
     ]
    }
   ],
   "source": [
    "array=np.array([\n",
    "[ 1, 2, 3, 4, 5],\n",
    "[ 6, 7, 8, 9, 10],\n",
    "[11, 12, 13, 14, 15],\n",
    "[16, 17, 18, 19, 20],\n",
    "[21, 22, 23, 24, 25],\n",
    "[26, 27, 28, 29, 30] \n",
    "])\n",
    "\n",
    "z=array[0,[0,2,4]]\n",
    "z=np.where(z < 4,99,z)\n",
    "print(z)\n"
   ]
  },
  {
   "cell_type": "markdown",
   "id": "438a777c-511b-4523-a003-5a553f72781e",
   "metadata": {},
   "source": [
    "#### 41 What was lowest wattage achieved at the end of a test and by which participant? Display name, sport and watts "
   ]
  },
  {
   "cell_type": "code",
   "execution_count": 687,
   "id": "4d232c89-8e1e-46d7-9d15-cadcca6e8683",
   "metadata": {},
   "outputs": [
    {
     "name": "stdout",
     "output_type": "stream",
     "text": [
      "140\n",
      "['Ethan Reynolds']\n",
      "1    fencing\n",
      "Name: sport, dtype: object\n",
      "The lowest wattage achieved at the end of the test is 140 by ['Ethan Reynolds'] in the sport 1    fencing\n",
      "Name: sport, dtype: object.\n"
     ]
    }
   ],
   "source": [
    "lowest_max_wattage = df_data.groupby(\"ID\")[\"power\"].max().min()\n",
    "lowest_max_wattage_id = df_data.groupby(\"ID\")[\"power\"].max().idxmin()\n",
    "lowest_max_wattage_name = df_Athletes[df_Athletes[\"ID\"]== lowest_max_wattage_id][\"First Name\"].values + \" \" + df_Athletes[df_Athletes[\"ID\"]== lowest_max_wattage_id][\"Last Name\"].values\n",
    "lowest_max_wattage_sport = df_Athletes[df_Athletes[\"ID\"]== lowest_max_wattage_id][\"sport\"]\n",
    "print (lowest_max_wattage)\n",
    "print (lowest_max_wattage_name)\n",
    "print (lowest_max_wattage_sport)\n",
    "\n",
    "print(f'The lowest wattage achieved at the end of the test is {lowest_max_wattage} by {lowest_max_wattage_name} in the sport {lowest_max_wattage_sport}.')\n"
   ]
  },
  {
   "cell_type": "markdown",
   "id": "46928f13-95fa-40b8-90a1-816a8c6bcf13",
   "metadata": {},
   "source": [
    "#### 42. What was the difference in heart rate between warm up and GET for athlete 1 "
   ]
  },
  {
   "cell_type": "code",
   "execution_count": 689,
   "id": "adb10845-405d-4a25-9302-7b4b55a3467a",
   "metadata": {},
   "outputs": [
    {
     "name": "stdout",
     "output_type": "stream",
     "text": [
      "The Heart rate between warm up and GET for athlete 1 is  82.49\n"
     ]
    }
   ],
   "source": [
    "df_heart_rate_athlete1= round (df_data[(df_data[\"stage\"]== \"GET\") & (df_data[\"ID\"]== 1)][\"HR\"].mean()- df_data[(df_data[\"stage\"]== \"warmup\") & (df_data[\"ID\"]== 1)][\"HR\"].mean(),2)\n",
    "print('The Heart rate between warm up and GET for athlete 1 is ',df_heart_rate_athlete1)"
   ]
  },
  {
   "cell_type": "markdown",
   "id": "844a05f1-882a-4ada-86d6-de9c60efb77c",
   "metadata": {},
   "source": [
    "#### 43. Create a pivot table that shows count of patients within each age group and sport "
   ]
  },
  {
   "cell_type": "code",
   "execution_count": 691,
   "id": "a1836350-78c7-4f77-ae8c-d968efb569e0",
   "metadata": {},
   "outputs": [
    {
     "name": "stdout",
     "output_type": "stream",
     "text": [
      "age\n",
      "15    4\n",
      "16    3\n",
      "18    3\n",
      "17    2\n",
      "14    2\n",
      "13    2\n",
      "12    2\n",
      "Name: count, dtype: int64 sport\n",
      "fencing      10\n",
      "kayak         6\n",
      "triathlon     2\n",
      "Name: count, dtype: int64\n"
     ]
    }
   ],
   "source": [
    "Pivot=df_Athletes\n",
    "age=Pivot['age'].value_counts()\n",
    "sport=Pivot['sport'].value_counts()\n",
    "print(age,sport)"
   ]
  },
  {
   "cell_type": "code",
   "execution_count": 692,
   "id": "56646fac-3d22-4780-a8f1-1619e3f14bec",
   "metadata": {},
   "outputs": [
    {
     "data": {
      "text/html": [
       "<div>\n",
       "<style scoped>\n",
       "    .dataframe tbody tr th:only-of-type {\n",
       "        vertical-align: middle;\n",
       "    }\n",
       "\n",
       "    .dataframe tbody tr th {\n",
       "        vertical-align: top;\n",
       "    }\n",
       "\n",
       "    .dataframe thead th {\n",
       "        text-align: right;\n",
       "    }\n",
       "</style>\n",
       "<table border=\"1\" class=\"dataframe\">\n",
       "  <thead>\n",
       "    <tr style=\"text-align: right;\">\n",
       "      <th></th>\n",
       "      <th></th>\n",
       "      <th>BMI</th>\n",
       "      <th>Ethnicity</th>\n",
       "      <th>First Name</th>\n",
       "      <th>Gender</th>\n",
       "      <th>HRV</th>\n",
       "      <th>Height</th>\n",
       "      <th>ID</th>\n",
       "      <th>Last Name</th>\n",
       "      <th>P_vt1</th>\n",
       "      <th>P_vt2</th>\n",
       "      <th>VO2_max</th>\n",
       "      <th>Weight</th>\n",
       "      <th>birth_year</th>\n",
       "    </tr>\n",
       "    <tr>\n",
       "      <th>age</th>\n",
       "      <th>sport</th>\n",
       "      <th></th>\n",
       "      <th></th>\n",
       "      <th></th>\n",
       "      <th></th>\n",
       "      <th></th>\n",
       "      <th></th>\n",
       "      <th></th>\n",
       "      <th></th>\n",
       "      <th></th>\n",
       "      <th></th>\n",
       "      <th></th>\n",
       "      <th></th>\n",
       "      <th></th>\n",
       "    </tr>\n",
       "  </thead>\n",
       "  <tbody>\n",
       "    <tr>\n",
       "      <th>12</th>\n",
       "      <th>triathlon</th>\n",
       "      <td>2</td>\n",
       "      <td>2</td>\n",
       "      <td>2</td>\n",
       "      <td>2</td>\n",
       "      <td>2</td>\n",
       "      <td>2</td>\n",
       "      <td>2</td>\n",
       "      <td>2</td>\n",
       "      <td>2</td>\n",
       "      <td>2</td>\n",
       "      <td>2</td>\n",
       "      <td>2</td>\n",
       "      <td>2</td>\n",
       "    </tr>\n",
       "    <tr>\n",
       "      <th>13</th>\n",
       "      <th>kayak</th>\n",
       "      <td>2</td>\n",
       "      <td>2</td>\n",
       "      <td>2</td>\n",
       "      <td>2</td>\n",
       "      <td>2</td>\n",
       "      <td>2</td>\n",
       "      <td>2</td>\n",
       "      <td>2</td>\n",
       "      <td>2</td>\n",
       "      <td>2</td>\n",
       "      <td>2</td>\n",
       "      <td>2</td>\n",
       "      <td>2</td>\n",
       "    </tr>\n",
       "    <tr>\n",
       "      <th>14</th>\n",
       "      <th>fencing</th>\n",
       "      <td>2</td>\n",
       "      <td>2</td>\n",
       "      <td>2</td>\n",
       "      <td>2</td>\n",
       "      <td>2</td>\n",
       "      <td>2</td>\n",
       "      <td>2</td>\n",
       "      <td>2</td>\n",
       "      <td>2</td>\n",
       "      <td>2</td>\n",
       "      <td>2</td>\n",
       "      <td>2</td>\n",
       "      <td>2</td>\n",
       "    </tr>\n",
       "    <tr>\n",
       "      <th>15</th>\n",
       "      <th>fencing</th>\n",
       "      <td>4</td>\n",
       "      <td>4</td>\n",
       "      <td>4</td>\n",
       "      <td>4</td>\n",
       "      <td>4</td>\n",
       "      <td>4</td>\n",
       "      <td>4</td>\n",
       "      <td>4</td>\n",
       "      <td>4</td>\n",
       "      <td>4</td>\n",
       "      <td>4</td>\n",
       "      <td>4</td>\n",
       "      <td>4</td>\n",
       "    </tr>\n",
       "    <tr>\n",
       "      <th rowspan=\"2\" valign=\"top\">16</th>\n",
       "      <th>fencing</th>\n",
       "      <td>2</td>\n",
       "      <td>2</td>\n",
       "      <td>2</td>\n",
       "      <td>2</td>\n",
       "      <td>2</td>\n",
       "      <td>2</td>\n",
       "      <td>2</td>\n",
       "      <td>2</td>\n",
       "      <td>2</td>\n",
       "      <td>2</td>\n",
       "      <td>2</td>\n",
       "      <td>2</td>\n",
       "      <td>2</td>\n",
       "    </tr>\n",
       "    <tr>\n",
       "      <th>kayak</th>\n",
       "      <td>1</td>\n",
       "      <td>1</td>\n",
       "      <td>1</td>\n",
       "      <td>1</td>\n",
       "      <td>1</td>\n",
       "      <td>1</td>\n",
       "      <td>1</td>\n",
       "      <td>1</td>\n",
       "      <td>1</td>\n",
       "      <td>1</td>\n",
       "      <td>1</td>\n",
       "      <td>1</td>\n",
       "      <td>1</td>\n",
       "    </tr>\n",
       "    <tr>\n",
       "      <th>17</th>\n",
       "      <th>fencing</th>\n",
       "      <td>2</td>\n",
       "      <td>2</td>\n",
       "      <td>2</td>\n",
       "      <td>2</td>\n",
       "      <td>2</td>\n",
       "      <td>2</td>\n",
       "      <td>2</td>\n",
       "      <td>2</td>\n",
       "      <td>2</td>\n",
       "      <td>2</td>\n",
       "      <td>2</td>\n",
       "      <td>2</td>\n",
       "      <td>2</td>\n",
       "    </tr>\n",
       "    <tr>\n",
       "      <th>18</th>\n",
       "      <th>kayak</th>\n",
       "      <td>3</td>\n",
       "      <td>3</td>\n",
       "      <td>3</td>\n",
       "      <td>3</td>\n",
       "      <td>3</td>\n",
       "      <td>3</td>\n",
       "      <td>3</td>\n",
       "      <td>3</td>\n",
       "      <td>3</td>\n",
       "      <td>3</td>\n",
       "      <td>3</td>\n",
       "      <td>3</td>\n",
       "      <td>3</td>\n",
       "    </tr>\n",
       "  </tbody>\n",
       "</table>\n",
       "</div>"
      ],
      "text/plain": [
       "               BMI  Ethnicity  First Name  Gender  HRV  Height  ID  Last Name  \\\n",
       "age sport                                                                       \n",
       "12  triathlon    2          2           2       2    2       2   2          2   \n",
       "13  kayak        2          2           2       2    2       2   2          2   \n",
       "14  fencing      2          2           2       2    2       2   2          2   \n",
       "15  fencing      4          4           4       4    4       4   4          4   \n",
       "16  fencing      2          2           2       2    2       2   2          2   \n",
       "    kayak        1          1           1       1    1       1   1          1   \n",
       "17  fencing      2          2           2       2    2       2   2          2   \n",
       "18  kayak        3          3           3       3    3       3   3          3   \n",
       "\n",
       "               P_vt1  P_vt2  VO2_max  Weight  birth_year  \n",
       "age sport                                                 \n",
       "12  triathlon      2      2        2       2           2  \n",
       "13  kayak          2      2        2       2           2  \n",
       "14  fencing        2      2        2       2           2  \n",
       "15  fencing        4      4        4       4           4  \n",
       "16  fencing        2      2        2       2           2  \n",
       "    kayak          1      1        1       1           1  \n",
       "17  fencing        2      2        2       2           2  \n",
       "18  kayak          3      3        3       3           3  "
      ]
     },
     "execution_count": 692,
     "metadata": {},
     "output_type": "execute_result"
    }
   ],
   "source": [
    "pivot_table=Pivot.pivot_table(index=['age','sport'],aggfunc='count')\n",
    "pivot_table"
   ]
  },
  {
   "cell_type": "markdown",
   "id": "e5bc218b-2c0a-4cba-a84f-acb4051c3fcc",
   "metadata": {},
   "source": [
    "#### 44. Display a distribution chart of MAX V02 for all athletes "
   ]
  },
  {
   "cell_type": "code",
   "execution_count": 694,
   "id": "2c8a1302-1471-4d03-b8f6-74a9de2ea8d9",
   "metadata": {},
   "outputs": [
    {
     "data": {
      "image/png": "[encoded data removed]",
      "text/plain": [
       "<Figure size 500x300 with 1 Axes>"
      ]
     },
     "metadata": {},
     "output_type": "display_data"
    }
   ],
   "source": [
    "#Creating distribuation chart using VO2_Max column\n",
    "plt.figure(figsize=(5,3))\n",
    "sns.histplot(df_Athletes['VO2_max'],kde=True, bins=20, color='green')\n",
    "\n",
    "\n",
    "plt.title('Distribution chart of VO2 Max')\n",
    "plt.xlabel('Max VO2')\n",
    "plt.ylabel('Frequency')\n",
    "\n",
    "plt.grid(True)\n",
    "plt.show()"
   ]
  },
  {
   "cell_type": "markdown",
   "id": "d547e21f-12ff-4ac5-8b69-d85aca9c6861",
   "metadata": {},
   "source": [
    "#### 45. Create a dummy array with no data with a size of 15."
   ]
  },
  {
   "cell_type": "code",
   "execution_count": 696,
   "id": "5b2da37f-3ae1-44cf-8a14-7015c201c163",
   "metadata": {},
   "outputs": [
    {
     "name": "stdout",
     "output_type": "stream",
     "text": [
      "[0, 0, 0, 0, 0, 0, 0, 0, 0, 0, 0, 0, 0, 0, 0]\n",
      "[]\n"
     ]
    }
   ],
   "source": [
    "list_empty = [0] * 15\n",
    "\n",
    "print(list_empty)\n",
    "d=[]*15\n",
    "print(d)"
   ]
  },
  {
   "cell_type": "markdown",
   "id": "cb834712-644e-47fc-ab5a-c6319e1327af",
   "metadata": {},
   "source": [
    "#### 46. How many minutes did participant 15s exercise last and what was the total V02 max consumed during the test?"
   ]
  },
  {
   "cell_type": "code",
   "execution_count": 698,
   "id": "e7a1dfbe-c0eb-45ca-a1e6-557cf393b45c",
   "metadata": {},
   "outputs": [
    {
     "name": "stdout",
     "output_type": "stream",
     "text": [
      "participant 15s exercise last for  13.421\n"
     ]
    }
   ],
   "source": [
    "#Assuming excercise time as time in GET.\n",
    "df_exercise_time=(df_data[(df_data[\"stage\"]== \"GET\") & (df_data[\"ID\"]== 15)][\"time\"].max()-df_data[(df_data[\"stage\"]== \"GET\") & (df_data[\"ID\"]== 15)][\"time\"].min())/60\n",
    "print('participant 15s exercise last for ',df_exercise_time)\n"
   ]
  },
  {
   "cell_type": "code",
   "execution_count": 699,
   "id": "d0735c80-8c28-4b73-94b4-96e3023c79cf",
   "metadata": {},
   "outputs": [
    {
     "name": "stdout",
     "output_type": "stream",
     "text": [
      "Total VO2 max consumed during test is :  14    66.936066\n",
      "Name: Weight, dtype: float64\n"
     ]
    }
   ],
   "source": [
    "df_total_VO2_max=df_data[df_data[\"ID\"]== 15][\"VO2\"].sum()/df_Athletes[df_Athletes[\"ID\"]== 15][\"Weight\"]\n",
    "print('Total VO2 max consumed during test is : ',df_total_VO2_max)"
   ]
  },
  {
   "cell_type": "markdown",
   "id": "8ffd0932-5e34-4b61-8f56-aa3eec45b0a4",
   "metadata": {},
   "source": [
    "#### 47. Convert ' sport' into a numeric field through Label encoding"
   ]
  },
  {
   "cell_type": "code",
   "execution_count": 701,
   "id": "1779cfdc-bb4d-4fc0-b5ae-b45820334374",
   "metadata": {},
   "outputs": [
    {
     "name": "stdout",
     "output_type": "stream",
     "text": [
      "        sport  Sport_Codes\n",
      "0     fencing            0\n",
      "1     fencing            0\n",
      "2     fencing            0\n",
      "3     fencing            0\n",
      "4     fencing            0\n",
      "5     fencing            0\n",
      "6     fencing            0\n",
      "7     fencing            0\n",
      "8     fencing            0\n",
      "9     fencing            0\n",
      "10      kayak            1\n",
      "11      kayak            1\n",
      "12      kayak            1\n",
      "13      kayak            1\n",
      "14      kayak            1\n",
      "15      kayak            1\n",
      "16  triathlon            2\n",
      "17  triathlon            2\n"
     ]
    }
   ],
   "source": [
    "#print Athletes_d7\n",
    "Athletes_d7=df_Athletes['sport']\n",
    "\n",
    "#using cat.code convert data into numbers\n",
    "Athletes_d1= Athletes_d7.astype('category')\n",
    "df_Athletes['Sport_Codes']= Athletes_d1.cat.codes\n",
    "\n",
    "#join both data frames\n",
    "result=pd.concat([Athletes_d1, df_Athletes['Sport_Codes']], axis=1)\n",
    "print(result)\n",
    "\n"
   ]
  },
  {
   "cell_type": "markdown",
   "id": "80c3284b-bc17-4be8-9df0-ef8ecd8328a2",
   "metadata": {},
   "source": [
    "#### 48. What was the average age of the athletes?"
   ]
  },
  {
   "cell_type": "code",
   "execution_count": 703,
   "id": "e1c045c1-850a-4adb-b613-60f9a096b98e",
   "metadata": {},
   "outputs": [
    {
     "name": "stdout",
     "output_type": "stream",
     "text": [
      "The average age of athletes is  15\n"
     ]
    }
   ],
   "source": [
    "age_average=df_Athletes.age.mean()\n",
    "age_average=round(age_average)\n",
    "print(\"The average age of athletes is \",age_average)\n"
   ]
  },
  {
   "cell_type": "markdown",
   "id": "699cb268",
   "metadata": {},
   "source": [
    "#### 49 Retrieve the row with minimum IBI for fencing athletes using sorting technique."
   ]
  },
  {
   "cell_type": "code",
   "execution_count": 705,
   "id": "0cad958a",
   "metadata": {},
   "outputs": [],
   "source": [
    "df_Fencing['IBI'] = df_Fencing['RR']/1000"
   ]
  },
  {
   "cell_type": "code",
   "execution_count": 706,
   "id": "3f1576df",
   "metadata": {},
   "outputs": [
    {
     "data": {
      "text/html": [
       "<div>\n",
       "<style scoped>\n",
       "    .dataframe tbody tr th:only-of-type {\n",
       "        vertical-align: middle;\n",
       "    }\n",
       "\n",
       "    .dataframe tbody tr th {\n",
       "        vertical-align: top;\n",
       "    }\n",
       "\n",
       "    .dataframe thead th {\n",
       "        text-align: right;\n",
       "    }\n",
       "</style>\n",
       "<table border=\"1\" class=\"dataframe\">\n",
       "  <thead>\n",
       "    <tr style=\"text-align: right;\">\n",
       "      <th></th>\n",
       "      <th>ID</th>\n",
       "      <th>time</th>\n",
       "      <th>RR</th>\n",
       "      <th>VO2</th>\n",
       "      <th>power</th>\n",
       "      <th>zone</th>\n",
       "      <th>IBI</th>\n",
       "    </tr>\n",
       "  </thead>\n",
       "  <tbody>\n",
       "    <tr>\n",
       "      <th>0</th>\n",
       "      <td>1</td>\n",
       "      <td>-130.840</td>\n",
       "      <td>672</td>\n",
       "      <td>0.302008</td>\n",
       "      <td>0</td>\n",
       "      <td>Zone 1</td>\n",
       "      <td>0.672</td>\n",
       "    </tr>\n",
       "    <tr>\n",
       "      <th>1</th>\n",
       "      <td>1</td>\n",
       "      <td>-130.168</td>\n",
       "      <td>672</td>\n",
       "      <td>0.302008</td>\n",
       "      <td>0</td>\n",
       "      <td>Zone 1</td>\n",
       "      <td>0.672</td>\n",
       "    </tr>\n",
       "    <tr>\n",
       "      <th>2</th>\n",
       "      <td>1</td>\n",
       "      <td>-129.536</td>\n",
       "      <td>632</td>\n",
       "      <td>0.301336</td>\n",
       "      <td>0</td>\n",
       "      <td>Zone 1</td>\n",
       "      <td>0.632</td>\n",
       "    </tr>\n",
       "    <tr>\n",
       "      <th>3</th>\n",
       "      <td>1</td>\n",
       "      <td>-128.824</td>\n",
       "      <td>712</td>\n",
       "      <td>0.301336</td>\n",
       "      <td>0</td>\n",
       "      <td>Zone 1</td>\n",
       "      <td>0.712</td>\n",
       "    </tr>\n",
       "    <tr>\n",
       "      <th>4</th>\n",
       "      <td>1</td>\n",
       "      <td>-127.948</td>\n",
       "      <td>876</td>\n",
       "      <td>0.301336</td>\n",
       "      <td>0</td>\n",
       "      <td>Zone 1</td>\n",
       "      <td>0.876</td>\n",
       "    </tr>\n",
       "    <tr>\n",
       "      <th>...</th>\n",
       "      <td>...</td>\n",
       "      <td>...</td>\n",
       "      <td>...</td>\n",
       "      <td>...</td>\n",
       "      <td>...</td>\n",
       "      <td>...</td>\n",
       "      <td>...</td>\n",
       "    </tr>\n",
       "    <tr>\n",
       "      <th>27598</th>\n",
       "      <td>10</td>\n",
       "      <td>942.700</td>\n",
       "      <td>428</td>\n",
       "      <td>0.786363</td>\n",
       "      <td>0</td>\n",
       "      <td>Zone 4</td>\n",
       "      <td>0.428</td>\n",
       "    </tr>\n",
       "    <tr>\n",
       "      <th>27599</th>\n",
       "      <td>10</td>\n",
       "      <td>943.124</td>\n",
       "      <td>424</td>\n",
       "      <td>0.786363</td>\n",
       "      <td>0</td>\n",
       "      <td>Zone 4</td>\n",
       "      <td>0.424</td>\n",
       "    </tr>\n",
       "    <tr>\n",
       "      <th>27600</th>\n",
       "      <td>10</td>\n",
       "      <td>943.552</td>\n",
       "      <td>428</td>\n",
       "      <td>0.786363</td>\n",
       "      <td>0</td>\n",
       "      <td>Zone 4</td>\n",
       "      <td>0.428</td>\n",
       "    </tr>\n",
       "    <tr>\n",
       "      <th>27601</th>\n",
       "      <td>10</td>\n",
       "      <td>943.976</td>\n",
       "      <td>424</td>\n",
       "      <td>0.786363</td>\n",
       "      <td>0</td>\n",
       "      <td>Zone 4</td>\n",
       "      <td>0.424</td>\n",
       "    </tr>\n",
       "    <tr>\n",
       "      <th>27602</th>\n",
       "      <td>10</td>\n",
       "      <td>944.404</td>\n",
       "      <td>428</td>\n",
       "      <td>0.786363</td>\n",
       "      <td>0</td>\n",
       "      <td>Zone 4</td>\n",
       "      <td>0.428</td>\n",
       "    </tr>\n",
       "  </tbody>\n",
       "</table>\n",
       "<p>27603 rows × 7 columns</p>\n",
       "</div>"
      ],
      "text/plain": [
       "       ID     time   RR       VO2  power    zone    IBI\n",
       "0       1 -130.840  672  0.302008      0  Zone 1  0.672\n",
       "1       1 -130.168  672  0.302008      0  Zone 1  0.672\n",
       "2       1 -129.536  632  0.301336      0  Zone 1  0.632\n",
       "3       1 -128.824  712  0.301336      0  Zone 1  0.712\n",
       "4       1 -127.948  876  0.301336      0  Zone 1  0.876\n",
       "...    ..      ...  ...       ...    ...     ...    ...\n",
       "27598  10  942.700  428  0.786363      0  Zone 4  0.428\n",
       "27599  10  943.124  424  0.786363      0  Zone 4  0.424\n",
       "27600  10  943.552  428  0.786363      0  Zone 4  0.428\n",
       "27601  10  943.976  424  0.786363      0  Zone 4  0.424\n",
       "27602  10  944.404  428  0.786363      0  Zone 4  0.428\n",
       "\n",
       "[27603 rows x 7 columns]"
      ]
     },
     "execution_count": 706,
     "metadata": {},
     "output_type": "execute_result"
    }
   ],
   "source": [
    "df_Fencing"
   ]
  },
  {
   "cell_type": "code",
   "execution_count": 707,
   "id": "0317b5d9",
   "metadata": {},
   "outputs": [
    {
     "data": {
      "text/plain": [
       "ID              7\n",
       "time      596.372\n",
       "RR            252\n",
       "VO2      1.293014\n",
       "power         155\n",
       "zone       Zone 5\n",
       "IBI         0.252\n",
       "Name: 19582, dtype: object"
      ]
     },
     "execution_count": 707,
     "metadata": {},
     "output_type": "execute_result"
    }
   ],
   "source": [
    "df_Fencing.sort_values(by='IBI',ascending=True).iloc[0]"
   ]
  },
  {
   "cell_type": "code",
   "execution_count": 708,
   "id": "8ed42590",
   "metadata": {},
   "outputs": [],
   "source": [
    "df_Fencing.drop(columns=['IBI'], inplace=True)"
   ]
  },
  {
   "cell_type": "markdown",
   "id": "01d94695",
   "metadata": {},
   "source": [
    "#### 50. Create a violin chart using any 2 columns in the dataset"
   ]
  },
  {
   "cell_type": "code",
   "execution_count": 710,
   "id": "d607826d",
   "metadata": {},
   "outputs": [
    {
     "data": {
      "image/png": "[encoded data removed]",
      "text/plain": [
       "<Figure size 500x500 with 1 Axes>"
      ]
     },
     "metadata": {},
     "output_type": "display_data"
    }
   ],
   "source": [
    "plt.figure(figsize=(5,5))\n",
    "ax=sns.violinplot(x ='Gender',y='age', data = df_Athletes,inner='quartile')\n",
    "plt.title('Gender vs Age')\n",
    "\n",
    "plt.show()"
   ]
  },
  {
   "cell_type": "markdown",
   "id": "39c3dfec",
   "metadata": {},
   "source": [
    "#### 51. List every athletes VO2"
   ]
  },
  {
   "cell_type": "code",
   "execution_count": 712,
   "id": "c024ed95",
   "metadata": {},
   "outputs": [
    {
     "data": {
      "text/html": [
       "<div>\n",
       "<style scoped>\n",
       "    .dataframe tbody tr th:only-of-type {\n",
       "        vertical-align: middle;\n",
       "    }\n",
       "\n",
       "    .dataframe tbody tr th {\n",
       "        vertical-align: top;\n",
       "    }\n",
       "\n",
       "    .dataframe thead th {\n",
       "        text-align: right;\n",
       "    }\n",
       "</style>\n",
       "<table border=\"1\" class=\"dataframe\">\n",
       "  <thead>\n",
       "    <tr style=\"text-align: right;\">\n",
       "      <th></th>\n",
       "      <th>ID</th>\n",
       "      <th>age</th>\n",
       "      <th>Weight</th>\n",
       "      <th>Height</th>\n",
       "      <th>P_vt1</th>\n",
       "      <th>P_vt2</th>\n",
       "      <th>sport</th>\n",
       "      <th>Gender</th>\n",
       "      <th>Ethnicity</th>\n",
       "      <th>First Name</th>\n",
       "      <th>Last Name</th>\n",
       "      <th>HRV</th>\n",
       "      <th>VO2_max</th>\n",
       "      <th>birth_year</th>\n",
       "      <th>BMI</th>\n",
       "      <th>Sport_Codes</th>\n",
       "      <th>VO2</th>\n",
       "      <th>VO2max</th>\n",
       "    </tr>\n",
       "  </thead>\n",
       "  <tbody>\n",
       "    <tr>\n",
       "      <th>0</th>\n",
       "      <td>1</td>\n",
       "      <td>15</td>\n",
       "      <td>53.7</td>\n",
       "      <td>161</td>\n",
       "      <td>50</td>\n",
       "      <td>140</td>\n",
       "      <td>fencing</td>\n",
       "      <td>Female</td>\n",
       "      <td>African</td>\n",
       "      <td>Olivia</td>\n",
       "      <td>Martinez</td>\n",
       "      <td>25.844717</td>\n",
       "      <td>42.807730</td>\n",
       "      <td>2002</td>\n",
       "      <td>20.716793</td>\n",
       "      <td>0</td>\n",
       "      <td>2298.775092</td>\n",
       "      <td>42.807730</td>\n",
       "    </tr>\n",
       "    <tr>\n",
       "      <th>1</th>\n",
       "      <td>2</td>\n",
       "      <td>15</td>\n",
       "      <td>56.2</td>\n",
       "      <td>162</td>\n",
       "      <td>80</td>\n",
       "      <td>127</td>\n",
       "      <td>fencing</td>\n",
       "      <td>Male</td>\n",
       "      <td>African</td>\n",
       "      <td>Ethan</td>\n",
       "      <td>Reynolds</td>\n",
       "      <td>40.725284</td>\n",
       "      <td>38.632602</td>\n",
       "      <td>2002</td>\n",
       "      <td>21.414419</td>\n",
       "      <td>0</td>\n",
       "      <td>2171.152256</td>\n",
       "      <td>38.632602</td>\n",
       "    </tr>\n",
       "    <tr>\n",
       "      <th>2</th>\n",
       "      <td>3</td>\n",
       "      <td>16</td>\n",
       "      <td>89.9</td>\n",
       "      <td>191</td>\n",
       "      <td>155</td>\n",
       "      <td>300</td>\n",
       "      <td>fencing</td>\n",
       "      <td>Male</td>\n",
       "      <td>White</td>\n",
       "      <td>Jackson</td>\n",
       "      <td>Harper</td>\n",
       "      <td>20.398306</td>\n",
       "      <td>69.705657</td>\n",
       "      <td>2001</td>\n",
       "      <td>24.642965</td>\n",
       "      <td>0</td>\n",
       "      <td>6266.538536</td>\n",
       "      <td>69.705657</td>\n",
       "    </tr>\n",
       "    <tr>\n",
       "      <th>3</th>\n",
       "      <td>4</td>\n",
       "      <td>16</td>\n",
       "      <td>76.5</td>\n",
       "      <td>180</td>\n",
       "      <td>215</td>\n",
       "      <td>275</td>\n",
       "      <td>fencing</td>\n",
       "      <td>Male</td>\n",
       "      <td>White</td>\n",
       "      <td>Liam</td>\n",
       "      <td>Sanchez</td>\n",
       "      <td>33.334630</td>\n",
       "      <td>76.989878</td>\n",
       "      <td>2001</td>\n",
       "      <td>23.611111</td>\n",
       "      <td>0</td>\n",
       "      <td>5889.725663</td>\n",
       "      <td>76.989878</td>\n",
       "    </tr>\n",
       "    <tr>\n",
       "      <th>4</th>\n",
       "      <td>5</td>\n",
       "      <td>17</td>\n",
       "      <td>76.4</td>\n",
       "      <td>186</td>\n",
       "      <td>110</td>\n",
       "      <td>172</td>\n",
       "      <td>fencing</td>\n",
       "      <td>Female</td>\n",
       "      <td>White</td>\n",
       "      <td>Ava</td>\n",
       "      <td>Thompson</td>\n",
       "      <td>115.319339</td>\n",
       "      <td>86.742579</td>\n",
       "      <td>2000</td>\n",
       "      <td>22.083478</td>\n",
       "      <td>0</td>\n",
       "      <td>6627.133058</td>\n",
       "      <td>86.742579</td>\n",
       "    </tr>\n",
       "    <tr>\n",
       "      <th>5</th>\n",
       "      <td>6</td>\n",
       "      <td>17</td>\n",
       "      <td>65.6</td>\n",
       "      <td>169</td>\n",
       "      <td>131</td>\n",
       "      <td>186</td>\n",
       "      <td>fencing</td>\n",
       "      <td>Female</td>\n",
       "      <td>White</td>\n",
       "      <td>Sophia</td>\n",
       "      <td>Rodriguez</td>\n",
       "      <td>447.371626</td>\n",
       "      <td>71.679465</td>\n",
       "      <td>2000</td>\n",
       "      <td>22.968383</td>\n",
       "      <td>0</td>\n",
       "      <td>4702.172897</td>\n",
       "      <td>71.679465</td>\n",
       "    </tr>\n",
       "    <tr>\n",
       "      <th>6</th>\n",
       "      <td>7</td>\n",
       "      <td>15</td>\n",
       "      <td>49.8</td>\n",
       "      <td>165</td>\n",
       "      <td>65</td>\n",
       "      <td>108</td>\n",
       "      <td>fencing</td>\n",
       "      <td>Female</td>\n",
       "      <td>White</td>\n",
       "      <td>Grace</td>\n",
       "      <td>Simmons</td>\n",
       "      <td>23.696380</td>\n",
       "      <td>38.403988</td>\n",
       "      <td>2002</td>\n",
       "      <td>18.292011</td>\n",
       "      <td>0</td>\n",
       "      <td>1912.518617</td>\n",
       "      <td>38.403988</td>\n",
       "    </tr>\n",
       "    <tr>\n",
       "      <th>7</th>\n",
       "      <td>8</td>\n",
       "      <td>15</td>\n",
       "      <td>51.2</td>\n",
       "      <td>165</td>\n",
       "      <td>80</td>\n",
       "      <td>133</td>\n",
       "      <td>fencing</td>\n",
       "      <td>Female</td>\n",
       "      <td>White</td>\n",
       "      <td>Aiden</td>\n",
       "      <td>Bennett</td>\n",
       "      <td>504.482368</td>\n",
       "      <td>44.822092</td>\n",
       "      <td>2002</td>\n",
       "      <td>18.806244</td>\n",
       "      <td>0</td>\n",
       "      <td>2294.891090</td>\n",
       "      <td>44.822092</td>\n",
       "    </tr>\n",
       "    <tr>\n",
       "      <th>8</th>\n",
       "      <td>9</td>\n",
       "      <td>14</td>\n",
       "      <td>57.1</td>\n",
       "      <td>176</td>\n",
       "      <td>50</td>\n",
       "      <td>125</td>\n",
       "      <td>fencing</td>\n",
       "      <td>Female</td>\n",
       "      <td>African</td>\n",
       "      <td>Chloe</td>\n",
       "      <td>Price</td>\n",
       "      <td>22.540326</td>\n",
       "      <td>49.697342</td>\n",
       "      <td>2003</td>\n",
       "      <td>18.433626</td>\n",
       "      <td>0</td>\n",
       "      <td>2837.718226</td>\n",
       "      <td>49.697342</td>\n",
       "    </tr>\n",
       "    <tr>\n",
       "      <th>9</th>\n",
       "      <td>10</td>\n",
       "      <td>14</td>\n",
       "      <td>58.8</td>\n",
       "      <td>177</td>\n",
       "      <td>101</td>\n",
       "      <td>162</td>\n",
       "      <td>fencing</td>\n",
       "      <td>Female</td>\n",
       "      <td>African</td>\n",
       "      <td>Lily</td>\n",
       "      <td>Jordan</td>\n",
       "      <td>26.865031</td>\n",
       "      <td>55.122171</td>\n",
       "      <td>2003</td>\n",
       "      <td>18.768553</td>\n",
       "      <td>0</td>\n",
       "      <td>3241.183654</td>\n",
       "      <td>55.122171</td>\n",
       "    </tr>\n",
       "    <tr>\n",
       "      <th>10</th>\n",
       "      <td>11</td>\n",
       "      <td>18</td>\n",
       "      <td>84.8</td>\n",
       "      <td>182</td>\n",
       "      <td>174</td>\n",
       "      <td>268</td>\n",
       "      <td>kayak</td>\n",
       "      <td>Female</td>\n",
       "      <td>African</td>\n",
       "      <td>Isabella</td>\n",
       "      <td>Griffin</td>\n",
       "      <td>13.423014</td>\n",
       "      <td>89.586903</td>\n",
       "      <td>1999</td>\n",
       "      <td>25.600773</td>\n",
       "      <td>1</td>\n",
       "      <td>7596.969334</td>\n",
       "      <td>89.586903</td>\n",
       "    </tr>\n",
       "    <tr>\n",
       "      <th>11</th>\n",
       "      <td>12</td>\n",
       "      <td>18</td>\n",
       "      <td>86.0</td>\n",
       "      <td>183</td>\n",
       "      <td>170</td>\n",
       "      <td>294</td>\n",
       "      <td>kayak</td>\n",
       "      <td>Male</td>\n",
       "      <td>African</td>\n",
       "      <td>Caleb</td>\n",
       "      <td>Dixon</td>\n",
       "      <td>12.283399</td>\n",
       "      <td>92.258212</td>\n",
       "      <td>1999</td>\n",
       "      <td>25.680074</td>\n",
       "      <td>1</td>\n",
       "      <td>7934.206192</td>\n",
       "      <td>92.258212</td>\n",
       "    </tr>\n",
       "    <tr>\n",
       "      <th>12</th>\n",
       "      <td>13</td>\n",
       "      <td>18</td>\n",
       "      <td>83.9</td>\n",
       "      <td>183</td>\n",
       "      <td>144</td>\n",
       "      <td>267</td>\n",
       "      <td>kayak</td>\n",
       "      <td>Female</td>\n",
       "      <td>Asian</td>\n",
       "      <td>Mia</td>\n",
       "      <td>Carpenter</td>\n",
       "      <td>12.438721</td>\n",
       "      <td>90.758693</td>\n",
       "      <td>1999</td>\n",
       "      <td>25.053002</td>\n",
       "      <td>1</td>\n",
       "      <td>7614.654355</td>\n",
       "      <td>90.758693</td>\n",
       "    </tr>\n",
       "    <tr>\n",
       "      <th>13</th>\n",
       "      <td>14</td>\n",
       "      <td>13</td>\n",
       "      <td>62.3</td>\n",
       "      <td>171</td>\n",
       "      <td>140</td>\n",
       "      <td>170</td>\n",
       "      <td>kayak</td>\n",
       "      <td>Female</td>\n",
       "      <td>Asian</td>\n",
       "      <td>Harper</td>\n",
       "      <td>Mitchell</td>\n",
       "      <td>162.070949</td>\n",
       "      <td>54.869902</td>\n",
       "      <td>2004</td>\n",
       "      <td>21.305701</td>\n",
       "      <td>1</td>\n",
       "      <td>3418.394901</td>\n",
       "      <td>54.869902</td>\n",
       "    </tr>\n",
       "    <tr>\n",
       "      <th>14</th>\n",
       "      <td>15</td>\n",
       "      <td>13</td>\n",
       "      <td>63.5</td>\n",
       "      <td>172</td>\n",
       "      <td>125</td>\n",
       "      <td>156</td>\n",
       "      <td>kayak</td>\n",
       "      <td>Male</td>\n",
       "      <td>Latino</td>\n",
       "      <td>Mason</td>\n",
       "      <td>Wallace</td>\n",
       "      <td>28.801669</td>\n",
       "      <td>66.936066</td>\n",
       "      <td>2004</td>\n",
       "      <td>21.464305</td>\n",
       "      <td>1</td>\n",
       "      <td>4250.440182</td>\n",
       "      <td>66.936066</td>\n",
       "    </tr>\n",
       "    <tr>\n",
       "      <th>15</th>\n",
       "      <td>16</td>\n",
       "      <td>16</td>\n",
       "      <td>70.4</td>\n",
       "      <td>182</td>\n",
       "      <td>79</td>\n",
       "      <td>175</td>\n",
       "      <td>kayak</td>\n",
       "      <td>Male</td>\n",
       "      <td>Latino</td>\n",
       "      <td>Logan</td>\n",
       "      <td>Anderson</td>\n",
       "      <td>794.827705</td>\n",
       "      <td>69.661622</td>\n",
       "      <td>2001</td>\n",
       "      <td>21.253472</td>\n",
       "      <td>1</td>\n",
       "      <td>4904.178169</td>\n",
       "      <td>69.661622</td>\n",
       "    </tr>\n",
       "    <tr>\n",
       "      <th>16</th>\n",
       "      <td>17</td>\n",
       "      <td>12</td>\n",
       "      <td>39.9</td>\n",
       "      <td>156</td>\n",
       "      <td>101</td>\n",
       "      <td>145</td>\n",
       "      <td>triathlon</td>\n",
       "      <td>Male</td>\n",
       "      <td>Latino</td>\n",
       "      <td>Lucas</td>\n",
       "      <td>Foster</td>\n",
       "      <td>28.081705</td>\n",
       "      <td>73.789806</td>\n",
       "      <td>2005</td>\n",
       "      <td>16.395464</td>\n",
       "      <td>2</td>\n",
       "      <td>2944.213260</td>\n",
       "      <td>73.789806</td>\n",
       "    </tr>\n",
       "    <tr>\n",
       "      <th>17</th>\n",
       "      <td>18</td>\n",
       "      <td>12</td>\n",
       "      <td>39.7</td>\n",
       "      <td>158</td>\n",
       "      <td>65</td>\n",
       "      <td>168</td>\n",
       "      <td>triathlon</td>\n",
       "      <td>Male</td>\n",
       "      <td>Latino</td>\n",
       "      <td>Owen</td>\n",
       "      <td>Myers</td>\n",
       "      <td>30.505849</td>\n",
       "      <td>81.208775</td>\n",
       "      <td>2005</td>\n",
       "      <td>15.902900</td>\n",
       "      <td>2</td>\n",
       "      <td>3223.988381</td>\n",
       "      <td>81.208775</td>\n",
       "    </tr>\n",
       "  </tbody>\n",
       "</table>\n",
       "</div>"
      ],
      "text/plain": [
       "    ID  age  Weight  Height  P_vt1  P_vt2      sport  Gender Ethnicity  \\\n",
       "0    1   15    53.7     161     50    140    fencing  Female   African   \n",
       "1    2   15    56.2     162     80    127    fencing    Male   African   \n",
       "2    3   16    89.9     191    155    300    fencing    Male     White   \n",
       "3    4   16    76.5     180    215    275    fencing    Male     White   \n",
       "4    5   17    76.4     186    110    172    fencing  Female     White   \n",
       "5    6   17    65.6     169    131    186    fencing  Female     White   \n",
       "6    7   15    49.8     165     65    108    fencing  Female     White   \n",
       "7    8   15    51.2     165     80    133    fencing  Female     White   \n",
       "8    9   14    57.1     176     50    125    fencing  Female   African   \n",
       "9   10   14    58.8     177    101    162    fencing  Female   African   \n",
       "10  11   18    84.8     182    174    268      kayak  Female   African   \n",
       "11  12   18    86.0     183    170    294      kayak    Male   African   \n",
       "12  13   18    83.9     183    144    267      kayak  Female     Asian   \n",
       "13  14   13    62.3     171    140    170      kayak  Female     Asian   \n",
       "14  15   13    63.5     172    125    156      kayak    Male    Latino   \n",
       "15  16   16    70.4     182     79    175      kayak    Male    Latino   \n",
       "16  17   12    39.9     156    101    145  triathlon    Male    Latino   \n",
       "17  18   12    39.7     158     65    168  triathlon    Male    Latino   \n",
       "\n",
       "   First Name  Last Name         HRV    VO2_max  birth_year        BMI  \\\n",
       "0      Olivia   Martinez   25.844717  42.807730        2002  20.716793   \n",
       "1       Ethan   Reynolds   40.725284  38.632602        2002  21.414419   \n",
       "2     Jackson     Harper   20.398306  69.705657        2001  24.642965   \n",
       "3        Liam    Sanchez   33.334630  76.989878        2001  23.611111   \n",
       "4         Ava   Thompson  115.319339  86.742579        2000  22.083478   \n",
       "5      Sophia  Rodriguez  447.371626  71.679465        2000  22.968383   \n",
       "6       Grace    Simmons   23.696380  38.403988        2002  18.292011   \n",
       "7       Aiden    Bennett  504.482368  44.822092        2002  18.806244   \n",
       "8       Chloe      Price   22.540326  49.697342        2003  18.433626   \n",
       "9        Lily     Jordan   26.865031  55.122171        2003  18.768553   \n",
       "10   Isabella    Griffin   13.423014  89.586903        1999  25.600773   \n",
       "11      Caleb      Dixon   12.283399  92.258212        1999  25.680074   \n",
       "12        Mia  Carpenter   12.438721  90.758693        1999  25.053002   \n",
       "13     Harper   Mitchell  162.070949  54.869902        2004  21.305701   \n",
       "14      Mason    Wallace   28.801669  66.936066        2004  21.464305   \n",
       "15      Logan   Anderson  794.827705  69.661622        2001  21.253472   \n",
       "16      Lucas     Foster   28.081705  73.789806        2005  16.395464   \n",
       "17       Owen      Myers   30.505849  81.208775        2005  15.902900   \n",
       "\n",
       "    Sport_Codes          VO2     VO2max  \n",
       "0             0  2298.775092  42.807730  \n",
       "1             0  2171.152256  38.632602  \n",
       "2             0  6266.538536  69.705657  \n",
       "3             0  5889.725663  76.989878  \n",
       "4             0  6627.133058  86.742579  \n",
       "5             0  4702.172897  71.679465  \n",
       "6             0  1912.518617  38.403988  \n",
       "7             0  2294.891090  44.822092  \n",
       "8             0  2837.718226  49.697342  \n",
       "9             0  3241.183654  55.122171  \n",
       "10            1  7596.969334  89.586903  \n",
       "11            1  7934.206192  92.258212  \n",
       "12            1  7614.654355  90.758693  \n",
       "13            1  3418.394901  54.869902  \n",
       "14            1  4250.440182  66.936066  \n",
       "15            1  4904.178169  69.661622  \n",
       "16            2  2944.213260  73.789806  \n",
       "17            2  3223.988381  81.208775  "
      ]
     },
     "execution_count": 712,
     "metadata": {},
     "output_type": "execute_result"
    }
   ],
   "source": [
    "df_Sum_VO2=df_data.groupby('ID')['VO2'].sum().reset_index()\n",
    "\n",
    "df_merge_VO2=pd.merge(df_Athletes, df_Sum_VO2[['ID', 'VO2']], on='ID')\n",
    "df_merge_VO2['VO2max']=df_merge_VO2['VO2']/df_merge_VO2['Weight']\n",
    "df_merge_VO2"
   ]
  },
  {
   "cell_type": "code",
   "execution_count": 713,
   "id": "1044a61f",
   "metadata": {},
   "outputs": [
    {
     "data": {
      "text/html": [
       "<div>\n",
       "<style scoped>\n",
       "    .dataframe tbody tr th:only-of-type {\n",
       "        vertical-align: middle;\n",
       "    }\n",
       "\n",
       "    .dataframe tbody tr th {\n",
       "        vertical-align: top;\n",
       "    }\n",
       "\n",
       "    .dataframe thead th {\n",
       "        text-align: right;\n",
       "    }\n",
       "</style>\n",
       "<table border=\"1\" class=\"dataframe\">\n",
       "  <thead>\n",
       "    <tr style=\"text-align: right;\">\n",
       "      <th></th>\n",
       "      <th>ID</th>\n",
       "      <th>VO2max</th>\n",
       "    </tr>\n",
       "  </thead>\n",
       "  <tbody>\n",
       "    <tr>\n",
       "      <th>0</th>\n",
       "      <td>1</td>\n",
       "      <td>42.807730</td>\n",
       "    </tr>\n",
       "    <tr>\n",
       "      <th>1</th>\n",
       "      <td>2</td>\n",
       "      <td>38.632602</td>\n",
       "    </tr>\n",
       "    <tr>\n",
       "      <th>2</th>\n",
       "      <td>3</td>\n",
       "      <td>69.705657</td>\n",
       "    </tr>\n",
       "    <tr>\n",
       "      <th>3</th>\n",
       "      <td>4</td>\n",
       "      <td>76.989878</td>\n",
       "    </tr>\n",
       "    <tr>\n",
       "      <th>4</th>\n",
       "      <td>5</td>\n",
       "      <td>86.742579</td>\n",
       "    </tr>\n",
       "    <tr>\n",
       "      <th>5</th>\n",
       "      <td>6</td>\n",
       "      <td>71.679465</td>\n",
       "    </tr>\n",
       "    <tr>\n",
       "      <th>6</th>\n",
       "      <td>7</td>\n",
       "      <td>38.403988</td>\n",
       "    </tr>\n",
       "    <tr>\n",
       "      <th>7</th>\n",
       "      <td>8</td>\n",
       "      <td>44.822092</td>\n",
       "    </tr>\n",
       "    <tr>\n",
       "      <th>8</th>\n",
       "      <td>9</td>\n",
       "      <td>49.697342</td>\n",
       "    </tr>\n",
       "    <tr>\n",
       "      <th>9</th>\n",
       "      <td>10</td>\n",
       "      <td>55.122171</td>\n",
       "    </tr>\n",
       "    <tr>\n",
       "      <th>10</th>\n",
       "      <td>11</td>\n",
       "      <td>89.586903</td>\n",
       "    </tr>\n",
       "    <tr>\n",
       "      <th>11</th>\n",
       "      <td>12</td>\n",
       "      <td>92.258212</td>\n",
       "    </tr>\n",
       "    <tr>\n",
       "      <th>12</th>\n",
       "      <td>13</td>\n",
       "      <td>90.758693</td>\n",
       "    </tr>\n",
       "    <tr>\n",
       "      <th>13</th>\n",
       "      <td>14</td>\n",
       "      <td>54.869902</td>\n",
       "    </tr>\n",
       "    <tr>\n",
       "      <th>14</th>\n",
       "      <td>15</td>\n",
       "      <td>66.936066</td>\n",
       "    </tr>\n",
       "    <tr>\n",
       "      <th>15</th>\n",
       "      <td>16</td>\n",
       "      <td>69.661622</td>\n",
       "    </tr>\n",
       "    <tr>\n",
       "      <th>16</th>\n",
       "      <td>17</td>\n",
       "      <td>73.789806</td>\n",
       "    </tr>\n",
       "    <tr>\n",
       "      <th>17</th>\n",
       "      <td>18</td>\n",
       "      <td>81.208775</td>\n",
       "    </tr>\n",
       "  </tbody>\n",
       "</table>\n",
       "</div>"
      ],
      "text/plain": [
       "    ID     VO2max\n",
       "0    1  42.807730\n",
       "1    2  38.632602\n",
       "2    3  69.705657\n",
       "3    4  76.989878\n",
       "4    5  86.742579\n",
       "5    6  71.679465\n",
       "6    7  38.403988\n",
       "7    8  44.822092\n",
       "8    9  49.697342\n",
       "9   10  55.122171\n",
       "10  11  89.586903\n",
       "11  12  92.258212\n",
       "12  13  90.758693\n",
       "13  14  54.869902\n",
       "14  15  66.936066\n",
       "15  16  69.661622\n",
       "16  17  73.789806\n",
       "17  18  81.208775"
      ]
     },
     "execution_count": 713,
     "metadata": {},
     "output_type": "execute_result"
    }
   ],
   "source": [
    "df_merge_VO2[['ID','VO2max']]"
   ]
  },
  {
   "cell_type": "markdown",
   "id": "cdd05866",
   "metadata": {},
   "source": [
    "#### 52. Using all markers of fitness available to you, who is fittest athlete. Write 1-2 lines about the analysis that led to your insight."
   ]
  },
  {
   "cell_type": "code",
   "execution_count": 715,
   "id": "86476829",
   "metadata": {},
   "outputs": [
    {
     "data": {
      "text/plain": [
       "4.576773815"
      ]
     },
     "execution_count": 715,
     "metadata": {},
     "output_type": "execute_result"
    }
   ],
   "source": [
    "df_data['VO2'].max()"
   ]
  },
  {
   "cell_type": "code",
   "execution_count": 716,
   "id": "95766fc2",
   "metadata": {},
   "outputs": [
    {
     "data": {
      "text/plain": [
       "335"
      ]
     },
     "execution_count": 716,
     "metadata": {},
     "output_type": "execute_result"
    }
   ],
   "source": [
    "df_data['power'].max()"
   ]
  },
  {
   "cell_type": "code",
   "execution_count": 717,
   "id": "ebb8496a",
   "metadata": {},
   "outputs": [],
   "source": [
    "df_data['fit'] = df_data['power'] + df_data['VO2']"
   ]
  },
  {
   "cell_type": "code",
   "execution_count": 718,
   "id": "01cbf5ac",
   "metadata": {},
   "outputs": [
    {
     "data": {
      "text/plain": [
       "337.849358344"
      ]
     },
     "execution_count": 718,
     "metadata": {},
     "output_type": "execute_result"
    }
   ],
   "source": [
    "df_maxfit=df_data['fit'].max()\n",
    "df_maxfit"
   ]
  },
  {
   "cell_type": "code",
   "execution_count": 719,
   "id": "9c7269de",
   "metadata": {},
   "outputs": [],
   "source": [
    "df_data_fit = df_data[df_data['fit']==df_maxfit]"
   ]
  },
  {
   "cell_type": "code",
   "execution_count": 720,
   "id": "7b431daa",
   "metadata": {},
   "outputs": [
    {
     "data": {
      "text/html": [
       "<div>\n",
       "<style scoped>\n",
       "    .dataframe tbody tr th:only-of-type {\n",
       "        vertical-align: middle;\n",
       "    }\n",
       "\n",
       "    .dataframe tbody tr th {\n",
       "        vertical-align: top;\n",
       "    }\n",
       "\n",
       "    .dataframe thead th {\n",
       "        text-align: right;\n",
       "    }\n",
       "</style>\n",
       "<table border=\"1\" class=\"dataframe\">\n",
       "  <thead>\n",
       "    <tr style=\"text-align: right;\">\n",
       "      <th></th>\n",
       "      <th>ID</th>\n",
       "      <th>time</th>\n",
       "      <th>RR</th>\n",
       "      <th>VO2</th>\n",
       "      <th>power</th>\n",
       "      <th>stage</th>\n",
       "      <th>HR</th>\n",
       "      <th>zone</th>\n",
       "      <th>Minute</th>\n",
       "      <th>fit</th>\n",
       "    </tr>\n",
       "  </thead>\n",
       "  <tbody>\n",
       "    <tr>\n",
       "      <th>30921</th>\n",
       "      <td>11</td>\n",
       "      <td>1267.480</td>\n",
       "      <td>320.0</td>\n",
       "      <td>2.849358</td>\n",
       "      <td>335</td>\n",
       "      <td>GET</td>\n",
       "      <td>187.500000</td>\n",
       "      <td>Zone 5</td>\n",
       "      <td>1970-01-01</td>\n",
       "      <td>337.849358</td>\n",
       "    </tr>\n",
       "    <tr>\n",
       "      <th>30922</th>\n",
       "      <td>11</td>\n",
       "      <td>1267.808</td>\n",
       "      <td>328.0</td>\n",
       "      <td>2.849358</td>\n",
       "      <td>335</td>\n",
       "      <td>GET</td>\n",
       "      <td>182.926829</td>\n",
       "      <td>Zone 5</td>\n",
       "      <td>1970-01-01</td>\n",
       "      <td>337.849358</td>\n",
       "    </tr>\n",
       "  </tbody>\n",
       "</table>\n",
       "</div>"
      ],
      "text/plain": [
       "       ID      time     RR       VO2  power stage          HR    zone  \\\n",
       "30921  11  1267.480  320.0  2.849358    335   GET  187.500000  Zone 5   \n",
       "30922  11  1267.808  328.0  2.849358    335   GET  182.926829  Zone 5   \n",
       "\n",
       "          Minute         fit  \n",
       "30921 1970-01-01  337.849358  \n",
       "30922 1970-01-01  337.849358  "
      ]
     },
     "execution_count": 720,
     "metadata": {},
     "output_type": "execute_result"
    }
   ],
   "source": [
    "df_data_fit"
   ]
  },
  {
   "cell_type": "code",
   "execution_count": 721,
   "id": "bcd0ed92",
   "metadata": {},
   "outputs": [],
   "source": [
    "# The athlete who is the fittest among other is selected based on having maximum VO2 and power combined."
   ]
  },
  {
   "cell_type": "markdown",
   "id": "05d54238",
   "metadata": {},
   "source": [
    "#### 53. phonebook={\"john\":938477566,\"Jack\":938377264,\"Jill\":947662781} ,find the phone number of Jill"
   ]
  },
  {
   "cell_type": "code",
   "execution_count": 723,
   "id": "7503bfcd",
   "metadata": {},
   "outputs": [],
   "source": [
    "phonebook={\"john\":938477566,\"Jack\":938377264,\"Jill\":947662781} "
   ]
  },
  {
   "cell_type": "code",
   "execution_count": 724,
   "id": "3cd13a4d",
   "metadata": {},
   "outputs": [
    {
     "name": "stdout",
     "output_type": "stream",
     "text": [
      "{'john': 938477566, 'Jack': 938377264, 'Jill': 947662781}\n"
     ]
    }
   ],
   "source": [
    "print(phonebook)"
   ]
  },
  {
   "cell_type": "code",
   "execution_count": 725,
   "id": "7267bd48",
   "metadata": {},
   "outputs": [
    {
     "name": "stdout",
     "output_type": "stream",
     "text": [
      "947662781\n"
     ]
    }
   ],
   "source": [
    "print(phonebook[\"Jill\"])"
   ]
  },
  {
   "cell_type": "markdown",
   "id": "bf428826",
   "metadata": {},
   "source": [
    "#### 54. Create a Pie chart for  Athletes and explode the wedge with Highest V02 kg/ml in and Label by Athlete ID"
   ]
  },
  {
   "cell_type": "code",
   "execution_count": 727,
   "id": "1fcd0a99",
   "metadata": {},
   "outputs": [
    {
     "data": {
      "text/plain": [
       "Text(0.5, 1.0, 'Athletes with highest VO2')"
      ]
     },
     "execution_count": 727,
     "metadata": {},
     "output_type": "execute_result"
    },
    {
     "data": {
      "text/plain": [
       "<Figure size 1200x1200 with 0 Axes>"
      ]
     },
     "metadata": {},
     "output_type": "display_data"
    },
    {
     "data": {
      "image/png": "[encoded data removed]",
      "text/plain": [
       "<Figure size 640x480 with 1 Axes>"
      ]
     },
     "metadata": {},
     "output_type": "display_data"
    }
   ],
   "source": [
    "plt.figure(figsize=(12, 12))\n",
    "df_merge_VO2.plot.pie(y='VO2max', autopct='%1.1f%%', startangle=140, legend=False)\n",
    "plt.ylabel('ID') \n",
    "plt.title('Athletes with highest VO2')"
   ]
  },
  {
   "cell_type": "markdown",
   "id": "122fc147",
   "metadata": {},
   "source": [
    "#### 55. Using a for loop iterate through HR for all triathletes and display all details of the athlete with the highest heart rate"
   ]
  },
  {
   "cell_type": "code",
   "execution_count": 729,
   "id": "3333b0a2",
   "metadata": {},
   "outputs": [],
   "source": [
    "df_Triathlon['HR'] = 60/(df_Triathlon['RR']/1000)"
   ]
  },
  {
   "cell_type": "code",
   "execution_count": 730,
   "id": "bdf884e4",
   "metadata": {},
   "outputs": [
    {
     "data": {
      "text/html": [
       "<div>\n",
       "<style scoped>\n",
       "    .dataframe tbody tr th:only-of-type {\n",
       "        vertical-align: middle;\n",
       "    }\n",
       "\n",
       "    .dataframe tbody tr th {\n",
       "        vertical-align: top;\n",
       "    }\n",
       "\n",
       "    .dataframe thead th {\n",
       "        text-align: right;\n",
       "    }\n",
       "</style>\n",
       "<table border=\"1\" class=\"dataframe\">\n",
       "  <thead>\n",
       "    <tr style=\"text-align: right;\">\n",
       "      <th></th>\n",
       "      <th>ID</th>\n",
       "      <th>time</th>\n",
       "      <th>RR</th>\n",
       "      <th>VO2</th>\n",
       "      <th>power</th>\n",
       "      <th>zone</th>\n",
       "      <th>HR</th>\n",
       "    </tr>\n",
       "  </thead>\n",
       "  <tbody>\n",
       "    <tr>\n",
       "      <th>0</th>\n",
       "      <td>17</td>\n",
       "      <td>-182.408</td>\n",
       "      <td>736.0</td>\n",
       "      <td>0.363762</td>\n",
       "      <td>0</td>\n",
       "      <td>Zone 1</td>\n",
       "      <td>81.521739</td>\n",
       "    </tr>\n",
       "    <tr>\n",
       "      <th>1</th>\n",
       "      <td>17</td>\n",
       "      <td>-181.672</td>\n",
       "      <td>736.0</td>\n",
       "      <td>0.363762</td>\n",
       "      <td>0</td>\n",
       "      <td>Zone 1</td>\n",
       "      <td>81.521739</td>\n",
       "    </tr>\n",
       "    <tr>\n",
       "      <th>2</th>\n",
       "      <td>17</td>\n",
       "      <td>-180.968</td>\n",
       "      <td>704.0</td>\n",
       "      <td>0.363762</td>\n",
       "      <td>0</td>\n",
       "      <td>Zone 1</td>\n",
       "      <td>85.227273</td>\n",
       "    </tr>\n",
       "    <tr>\n",
       "      <th>3</th>\n",
       "      <td>17</td>\n",
       "      <td>-180.268</td>\n",
       "      <td>700.0</td>\n",
       "      <td>0.363762</td>\n",
       "      <td>0</td>\n",
       "      <td>Zone 1</td>\n",
       "      <td>85.714286</td>\n",
       "    </tr>\n",
       "    <tr>\n",
       "      <th>4</th>\n",
       "      <td>17</td>\n",
       "      <td>-179.616</td>\n",
       "      <td>652.0</td>\n",
       "      <td>0.363762</td>\n",
       "      <td>0</td>\n",
       "      <td>Zone 1</td>\n",
       "      <td>92.024540</td>\n",
       "    </tr>\n",
       "    <tr>\n",
       "      <th>...</th>\n",
       "      <td>...</td>\n",
       "      <td>...</td>\n",
       "      <td>...</td>\n",
       "      <td>...</td>\n",
       "      <td>...</td>\n",
       "      <td>...</td>\n",
       "      <td>...</td>\n",
       "    </tr>\n",
       "    <tr>\n",
       "      <th>4976</th>\n",
       "      <td>18</td>\n",
       "      <td>947.288</td>\n",
       "      <td>536.0</td>\n",
       "      <td>0.507071</td>\n",
       "      <td>0</td>\n",
       "      <td>Zone 2</td>\n",
       "      <td>111.940299</td>\n",
       "    </tr>\n",
       "    <tr>\n",
       "      <th>4977</th>\n",
       "      <td>18</td>\n",
       "      <td>947.816</td>\n",
       "      <td>528.0</td>\n",
       "      <td>0.507071</td>\n",
       "      <td>0</td>\n",
       "      <td>Zone 2</td>\n",
       "      <td>113.636364</td>\n",
       "    </tr>\n",
       "    <tr>\n",
       "      <th>4978</th>\n",
       "      <td>18</td>\n",
       "      <td>948.344</td>\n",
       "      <td>528.0</td>\n",
       "      <td>0.507071</td>\n",
       "      <td>0</td>\n",
       "      <td>Zone 2</td>\n",
       "      <td>113.636364</td>\n",
       "    </tr>\n",
       "    <tr>\n",
       "      <th>4979</th>\n",
       "      <td>18</td>\n",
       "      <td>948.884</td>\n",
       "      <td>540.0</td>\n",
       "      <td>0.507071</td>\n",
       "      <td>0</td>\n",
       "      <td>Zone 2</td>\n",
       "      <td>111.111111</td>\n",
       "    </tr>\n",
       "    <tr>\n",
       "      <th>4980</th>\n",
       "      <td>18</td>\n",
       "      <td>949.424</td>\n",
       "      <td>540.0</td>\n",
       "      <td>0.507071</td>\n",
       "      <td>0</td>\n",
       "      <td>Zone 2</td>\n",
       "      <td>111.111111</td>\n",
       "    </tr>\n",
       "  </tbody>\n",
       "</table>\n",
       "<p>4981 rows × 7 columns</p>\n",
       "</div>"
      ],
      "text/plain": [
       "      ID     time     RR       VO2  power    zone          HR\n",
       "0     17 -182.408  736.0  0.363762      0  Zone 1   81.521739\n",
       "1     17 -181.672  736.0  0.363762      0  Zone 1   81.521739\n",
       "2     17 -180.968  704.0  0.363762      0  Zone 1   85.227273\n",
       "3     17 -180.268  700.0  0.363762      0  Zone 1   85.714286\n",
       "4     17 -179.616  652.0  0.363762      0  Zone 1   92.024540\n",
       "...   ..      ...    ...       ...    ...     ...         ...\n",
       "4976  18  947.288  536.0  0.507071      0  Zone 2  111.940299\n",
       "4977  18  947.816  528.0  0.507071      0  Zone 2  113.636364\n",
       "4978  18  948.344  528.0  0.507071      0  Zone 2  113.636364\n",
       "4979  18  948.884  540.0  0.507071      0  Zone 2  111.111111\n",
       "4980  18  949.424  540.0  0.507071      0  Zone 2  111.111111\n",
       "\n",
       "[4981 rows x 7 columns]"
      ]
     },
     "execution_count": 730,
     "metadata": {},
     "output_type": "execute_result"
    }
   ],
   "source": [
    "df_Triathlon"
   ]
  },
  {
   "cell_type": "code",
   "execution_count": 731,
   "id": "04d13e16",
   "metadata": {},
   "outputs": [
    {
     "data": {
      "text/plain": [
       "197.3684210526316"
      ]
     },
     "execution_count": 731,
     "metadata": {},
     "output_type": "execute_result"
    }
   ],
   "source": [
    "max_HR= df_Triathlon['HR'].max()\n",
    "max_HR"
   ]
  },
  {
   "cell_type": "code",
   "execution_count": 732,
   "id": "16ed5c6b",
   "metadata": {},
   "outputs": [],
   "source": [
    "row_max_HR=[]"
   ]
  },
  {
   "cell_type": "code",
   "execution_count": 733,
   "id": "24317e31",
   "metadata": {},
   "outputs": [
    {
     "data": {
      "text/html": [
       "<div>\n",
       "<style scoped>\n",
       "    .dataframe tbody tr th:only-of-type {\n",
       "        vertical-align: middle;\n",
       "    }\n",
       "\n",
       "    .dataframe tbody tr th {\n",
       "        vertical-align: top;\n",
       "    }\n",
       "\n",
       "    .dataframe thead th {\n",
       "        text-align: right;\n",
       "    }\n",
       "</style>\n",
       "<table border=\"1\" class=\"dataframe\">\n",
       "  <thead>\n",
       "    <tr style=\"text-align: right;\">\n",
       "      <th></th>\n",
       "      <th>ID</th>\n",
       "      <th>time</th>\n",
       "      <th>RR</th>\n",
       "      <th>VO2</th>\n",
       "      <th>power</th>\n",
       "      <th>zone</th>\n",
       "      <th>HR</th>\n",
       "    </tr>\n",
       "  </thead>\n",
       "  <tbody>\n",
       "    <tr>\n",
       "      <th>4152</th>\n",
       "      <td>18</td>\n",
       "      <td>628.644</td>\n",
       "      <td>304.0</td>\n",
       "      <td>1.909147</td>\n",
       "      <td>170</td>\n",
       "      <td>Zone 5</td>\n",
       "      <td>197.368421</td>\n",
       "    </tr>\n",
       "  </tbody>\n",
       "</table>\n",
       "</div>"
      ],
      "text/plain": [
       "      ID     time     RR       VO2  power    zone          HR\n",
       "4152  18  628.644  304.0  1.909147    170  Zone 5  197.368421"
      ]
     },
     "execution_count": 733,
     "metadata": {},
     "output_type": "execute_result"
    }
   ],
   "source": [
    "for index,row in df_Triathlon.iterrows():\n",
    "    if row['HR'] == max_HR :\n",
    "        row_max_HR.append(row)\n",
    "        \n",
    "row_max_HR = pd.DataFrame(row_max_HR)\n",
    "row_max_HR"
   ]
  },
  {
   "cell_type": "markdown",
   "id": "a991b240",
   "metadata": {},
   "source": [
    "#### 56. Display a histogram to show distribution of athletes by sport."
   ]
  },
  {
   "cell_type": "code",
   "execution_count": 735,
   "id": "5dd21291",
   "metadata": {},
   "outputs": [
    {
     "data": {
      "image/png": "[encoded data removed]",
      "text/plain": [
       "<Figure size 500x500 with 1 Axes>"
      ]
     },
     "metadata": {},
     "output_type": "display_data"
    }
   ],
   "source": [
    "plt.figure(figsize=(5,5))\n",
    "ax=sns.histplot(x ='sport', data = df_Athletes)\n",
    "ax.bar_label(ax.containers[0])\n",
    "plt.title('Athletes by Sport')\n",
    "plt.show()"
   ]
  },
  {
   "cell_type": "markdown",
   "id": "98ac82bf",
   "metadata": {},
   "source": [
    "#### 57. Get the first letter of last name of students using for loops and RegEX"
   ]
  },
  {
   "cell_type": "code",
   "execution_count": 737,
   "id": "15cf2ba5",
   "metadata": {},
   "outputs": [],
   "source": [
    "firstname_list = df_Athletes['First Name'].tolist()"
   ]
  },
  {
   "cell_type": "code",
   "execution_count": 738,
   "id": "98af0e6b",
   "metadata": {},
   "outputs": [
    {
     "name": "stdout",
     "output_type": "stream",
     "text": [
      "Olivia\n",
      "O\n",
      "Ethan\n",
      "E\n",
      "Jackson\n",
      "J\n",
      "Liam\n",
      "L\n",
      "Ava\n",
      "A\n",
      "Sophia\n",
      "S\n",
      "Grace\n",
      "G\n",
      "Aiden\n",
      "A\n",
      "Chloe\n",
      "C\n",
      "Lily\n",
      "L\n",
      "Isabella\n",
      "I\n",
      "Caleb\n",
      "C\n",
      "Mia\n",
      "M\n",
      "Harper\n",
      "H\n",
      "Mason\n",
      "M\n",
      "Logan\n",
      "L\n",
      "Lucas\n",
      "L\n",
      "Owen\n",
      "O\n"
     ]
    }
   ],
   "source": [
    "for i in firstname_list :\n",
    "    print(i)\n",
    "    matchedLetter=re.search(r'^.', i)\n",
    "    if matchedLetter:\n",
    "        print(matchedLetter.group())"
   ]
  },
  {
   "cell_type": "markdown",
   "id": "547e0be6",
   "metadata": {},
   "source": [
    " #### 58. What is the average % difference in heart rate between warm up and GET for all athletes?"
   ]
  },
  {
   "cell_type": "code",
   "execution_count": 740,
   "id": "86b0fd1d",
   "metadata": {},
   "outputs": [
    {
     "data": {
      "text/plain": [
       "91.66258053384702"
      ]
     },
     "execution_count": 740,
     "metadata": {},
     "output_type": "execute_result"
    }
   ],
   "source": [
    "df_HR_diff= 100*(df_data[(df_data[\"stage\"]== \"GET\")].groupby(\"ID\")[\"HR\"].mean()\n",
    "                 - df_data[(df_data[\"stage\"]== \"warmup\")].groupby(\"ID\")[\"HR\"].mean())/df_data[(df_data[\"stage\"]== \"warmup\")].groupby(\"ID\")[\"HR\"].mean()\n",
    "df_HR_diff.mean()"
   ]
  },
  {
   "cell_type": "markdown",
   "id": "af02dea3",
   "metadata": {},
   "source": [
    "#### 59. Who is the tallest athlete in the dataset. What is his sport and his Vo2 ml/kg?"
   ]
  },
  {
   "cell_type": "code",
   "execution_count": 742,
   "id": "ac41e8f0",
   "metadata": {},
   "outputs": [
    {
     "data": {
      "text/html": [
       "<div>\n",
       "<style scoped>\n",
       "    .dataframe tbody tr th:only-of-type {\n",
       "        vertical-align: middle;\n",
       "    }\n",
       "\n",
       "    .dataframe tbody tr th {\n",
       "        vertical-align: top;\n",
       "    }\n",
       "\n",
       "    .dataframe thead th {\n",
       "        text-align: right;\n",
       "    }\n",
       "</style>\n",
       "<table border=\"1\" class=\"dataframe\">\n",
       "  <thead>\n",
       "    <tr style=\"text-align: right;\">\n",
       "      <th></th>\n",
       "      <th>ID</th>\n",
       "      <th>age</th>\n",
       "      <th>Weight</th>\n",
       "      <th>Height</th>\n",
       "      <th>P_vt1</th>\n",
       "      <th>P_vt2</th>\n",
       "      <th>sport</th>\n",
       "      <th>Gender</th>\n",
       "      <th>Ethnicity</th>\n",
       "      <th>First Name</th>\n",
       "      <th>Last Name</th>\n",
       "      <th>HRV</th>\n",
       "      <th>VO2_max</th>\n",
       "      <th>birth_year</th>\n",
       "      <th>BMI</th>\n",
       "      <th>Sport_Codes</th>\n",
       "      <th>VO2</th>\n",
       "      <th>VO2max</th>\n",
       "    </tr>\n",
       "  </thead>\n",
       "  <tbody>\n",
       "    <tr>\n",
       "      <th>0</th>\n",
       "      <td>1</td>\n",
       "      <td>15</td>\n",
       "      <td>53.7</td>\n",
       "      <td>161</td>\n",
       "      <td>50</td>\n",
       "      <td>140</td>\n",
       "      <td>fencing</td>\n",
       "      <td>Female</td>\n",
       "      <td>African</td>\n",
       "      <td>Olivia</td>\n",
       "      <td>Martinez</td>\n",
       "      <td>25.844717</td>\n",
       "      <td>42.807730</td>\n",
       "      <td>2002</td>\n",
       "      <td>20.716793</td>\n",
       "      <td>0</td>\n",
       "      <td>2298.775092</td>\n",
       "      <td>42.807730</td>\n",
       "    </tr>\n",
       "    <tr>\n",
       "      <th>1</th>\n",
       "      <td>2</td>\n",
       "      <td>15</td>\n",
       "      <td>56.2</td>\n",
       "      <td>162</td>\n",
       "      <td>80</td>\n",
       "      <td>127</td>\n",
       "      <td>fencing</td>\n",
       "      <td>Male</td>\n",
       "      <td>African</td>\n",
       "      <td>Ethan</td>\n",
       "      <td>Reynolds</td>\n",
       "      <td>40.725284</td>\n",
       "      <td>38.632602</td>\n",
       "      <td>2002</td>\n",
       "      <td>21.414419</td>\n",
       "      <td>0</td>\n",
       "      <td>2171.152256</td>\n",
       "      <td>38.632602</td>\n",
       "    </tr>\n",
       "    <tr>\n",
       "      <th>2</th>\n",
       "      <td>3</td>\n",
       "      <td>16</td>\n",
       "      <td>89.9</td>\n",
       "      <td>191</td>\n",
       "      <td>155</td>\n",
       "      <td>300</td>\n",
       "      <td>fencing</td>\n",
       "      <td>Male</td>\n",
       "      <td>White</td>\n",
       "      <td>Jackson</td>\n",
       "      <td>Harper</td>\n",
       "      <td>20.398306</td>\n",
       "      <td>69.705657</td>\n",
       "      <td>2001</td>\n",
       "      <td>24.642965</td>\n",
       "      <td>0</td>\n",
       "      <td>6266.538536</td>\n",
       "      <td>69.705657</td>\n",
       "    </tr>\n",
       "    <tr>\n",
       "      <th>3</th>\n",
       "      <td>4</td>\n",
       "      <td>16</td>\n",
       "      <td>76.5</td>\n",
       "      <td>180</td>\n",
       "      <td>215</td>\n",
       "      <td>275</td>\n",
       "      <td>fencing</td>\n",
       "      <td>Male</td>\n",
       "      <td>White</td>\n",
       "      <td>Liam</td>\n",
       "      <td>Sanchez</td>\n",
       "      <td>33.334630</td>\n",
       "      <td>76.989878</td>\n",
       "      <td>2001</td>\n",
       "      <td>23.611111</td>\n",
       "      <td>0</td>\n",
       "      <td>5889.725663</td>\n",
       "      <td>76.989878</td>\n",
       "    </tr>\n",
       "    <tr>\n",
       "      <th>4</th>\n",
       "      <td>5</td>\n",
       "      <td>17</td>\n",
       "      <td>76.4</td>\n",
       "      <td>186</td>\n",
       "      <td>110</td>\n",
       "      <td>172</td>\n",
       "      <td>fencing</td>\n",
       "      <td>Female</td>\n",
       "      <td>White</td>\n",
       "      <td>Ava</td>\n",
       "      <td>Thompson</td>\n",
       "      <td>115.319339</td>\n",
       "      <td>86.742579</td>\n",
       "      <td>2000</td>\n",
       "      <td>22.083478</td>\n",
       "      <td>0</td>\n",
       "      <td>6627.133058</td>\n",
       "      <td>86.742579</td>\n",
       "    </tr>\n",
       "    <tr>\n",
       "      <th>5</th>\n",
       "      <td>6</td>\n",
       "      <td>17</td>\n",
       "      <td>65.6</td>\n",
       "      <td>169</td>\n",
       "      <td>131</td>\n",
       "      <td>186</td>\n",
       "      <td>fencing</td>\n",
       "      <td>Female</td>\n",
       "      <td>White</td>\n",
       "      <td>Sophia</td>\n",
       "      <td>Rodriguez</td>\n",
       "      <td>447.371626</td>\n",
       "      <td>71.679465</td>\n",
       "      <td>2000</td>\n",
       "      <td>22.968383</td>\n",
       "      <td>0</td>\n",
       "      <td>4702.172897</td>\n",
       "      <td>71.679465</td>\n",
       "    </tr>\n",
       "    <tr>\n",
       "      <th>6</th>\n",
       "      <td>7</td>\n",
       "      <td>15</td>\n",
       "      <td>49.8</td>\n",
       "      <td>165</td>\n",
       "      <td>65</td>\n",
       "      <td>108</td>\n",
       "      <td>fencing</td>\n",
       "      <td>Female</td>\n",
       "      <td>White</td>\n",
       "      <td>Grace</td>\n",
       "      <td>Simmons</td>\n",
       "      <td>23.696380</td>\n",
       "      <td>38.403988</td>\n",
       "      <td>2002</td>\n",
       "      <td>18.292011</td>\n",
       "      <td>0</td>\n",
       "      <td>1912.518617</td>\n",
       "      <td>38.403988</td>\n",
       "    </tr>\n",
       "    <tr>\n",
       "      <th>7</th>\n",
       "      <td>8</td>\n",
       "      <td>15</td>\n",
       "      <td>51.2</td>\n",
       "      <td>165</td>\n",
       "      <td>80</td>\n",
       "      <td>133</td>\n",
       "      <td>fencing</td>\n",
       "      <td>Female</td>\n",
       "      <td>White</td>\n",
       "      <td>Aiden</td>\n",
       "      <td>Bennett</td>\n",
       "      <td>504.482368</td>\n",
       "      <td>44.822092</td>\n",
       "      <td>2002</td>\n",
       "      <td>18.806244</td>\n",
       "      <td>0</td>\n",
       "      <td>2294.891090</td>\n",
       "      <td>44.822092</td>\n",
       "    </tr>\n",
       "    <tr>\n",
       "      <th>8</th>\n",
       "      <td>9</td>\n",
       "      <td>14</td>\n",
       "      <td>57.1</td>\n",
       "      <td>176</td>\n",
       "      <td>50</td>\n",
       "      <td>125</td>\n",
       "      <td>fencing</td>\n",
       "      <td>Female</td>\n",
       "      <td>African</td>\n",
       "      <td>Chloe</td>\n",
       "      <td>Price</td>\n",
       "      <td>22.540326</td>\n",
       "      <td>49.697342</td>\n",
       "      <td>2003</td>\n",
       "      <td>18.433626</td>\n",
       "      <td>0</td>\n",
       "      <td>2837.718226</td>\n",
       "      <td>49.697342</td>\n",
       "    </tr>\n",
       "    <tr>\n",
       "      <th>9</th>\n",
       "      <td>10</td>\n",
       "      <td>14</td>\n",
       "      <td>58.8</td>\n",
       "      <td>177</td>\n",
       "      <td>101</td>\n",
       "      <td>162</td>\n",
       "      <td>fencing</td>\n",
       "      <td>Female</td>\n",
       "      <td>African</td>\n",
       "      <td>Lily</td>\n",
       "      <td>Jordan</td>\n",
       "      <td>26.865031</td>\n",
       "      <td>55.122171</td>\n",
       "      <td>2003</td>\n",
       "      <td>18.768553</td>\n",
       "      <td>0</td>\n",
       "      <td>3241.183654</td>\n",
       "      <td>55.122171</td>\n",
       "    </tr>\n",
       "    <tr>\n",
       "      <th>10</th>\n",
       "      <td>11</td>\n",
       "      <td>18</td>\n",
       "      <td>84.8</td>\n",
       "      <td>182</td>\n",
       "      <td>174</td>\n",
       "      <td>268</td>\n",
       "      <td>kayak</td>\n",
       "      <td>Female</td>\n",
       "      <td>African</td>\n",
       "      <td>Isabella</td>\n",
       "      <td>Griffin</td>\n",
       "      <td>13.423014</td>\n",
       "      <td>89.586903</td>\n",
       "      <td>1999</td>\n",
       "      <td>25.600773</td>\n",
       "      <td>1</td>\n",
       "      <td>7596.969334</td>\n",
       "      <td>89.586903</td>\n",
       "    </tr>\n",
       "    <tr>\n",
       "      <th>11</th>\n",
       "      <td>12</td>\n",
       "      <td>18</td>\n",
       "      <td>86.0</td>\n",
       "      <td>183</td>\n",
       "      <td>170</td>\n",
       "      <td>294</td>\n",
       "      <td>kayak</td>\n",
       "      <td>Male</td>\n",
       "      <td>African</td>\n",
       "      <td>Caleb</td>\n",
       "      <td>Dixon</td>\n",
       "      <td>12.283399</td>\n",
       "      <td>92.258212</td>\n",
       "      <td>1999</td>\n",
       "      <td>25.680074</td>\n",
       "      <td>1</td>\n",
       "      <td>7934.206192</td>\n",
       "      <td>92.258212</td>\n",
       "    </tr>\n",
       "    <tr>\n",
       "      <th>12</th>\n",
       "      <td>13</td>\n",
       "      <td>18</td>\n",
       "      <td>83.9</td>\n",
       "      <td>183</td>\n",
       "      <td>144</td>\n",
       "      <td>267</td>\n",
       "      <td>kayak</td>\n",
       "      <td>Female</td>\n",
       "      <td>Asian</td>\n",
       "      <td>Mia</td>\n",
       "      <td>Carpenter</td>\n",
       "      <td>12.438721</td>\n",
       "      <td>90.758693</td>\n",
       "      <td>1999</td>\n",
       "      <td>25.053002</td>\n",
       "      <td>1</td>\n",
       "      <td>7614.654355</td>\n",
       "      <td>90.758693</td>\n",
       "    </tr>\n",
       "    <tr>\n",
       "      <th>13</th>\n",
       "      <td>14</td>\n",
       "      <td>13</td>\n",
       "      <td>62.3</td>\n",
       "      <td>171</td>\n",
       "      <td>140</td>\n",
       "      <td>170</td>\n",
       "      <td>kayak</td>\n",
       "      <td>Female</td>\n",
       "      <td>Asian</td>\n",
       "      <td>Harper</td>\n",
       "      <td>Mitchell</td>\n",
       "      <td>162.070949</td>\n",
       "      <td>54.869902</td>\n",
       "      <td>2004</td>\n",
       "      <td>21.305701</td>\n",
       "      <td>1</td>\n",
       "      <td>3418.394901</td>\n",
       "      <td>54.869902</td>\n",
       "    </tr>\n",
       "    <tr>\n",
       "      <th>14</th>\n",
       "      <td>15</td>\n",
       "      <td>13</td>\n",
       "      <td>63.5</td>\n",
       "      <td>172</td>\n",
       "      <td>125</td>\n",
       "      <td>156</td>\n",
       "      <td>kayak</td>\n",
       "      <td>Male</td>\n",
       "      <td>Latino</td>\n",
       "      <td>Mason</td>\n",
       "      <td>Wallace</td>\n",
       "      <td>28.801669</td>\n",
       "      <td>66.936066</td>\n",
       "      <td>2004</td>\n",
       "      <td>21.464305</td>\n",
       "      <td>1</td>\n",
       "      <td>4250.440182</td>\n",
       "      <td>66.936066</td>\n",
       "    </tr>\n",
       "    <tr>\n",
       "      <th>15</th>\n",
       "      <td>16</td>\n",
       "      <td>16</td>\n",
       "      <td>70.4</td>\n",
       "      <td>182</td>\n",
       "      <td>79</td>\n",
       "      <td>175</td>\n",
       "      <td>kayak</td>\n",
       "      <td>Male</td>\n",
       "      <td>Latino</td>\n",
       "      <td>Logan</td>\n",
       "      <td>Anderson</td>\n",
       "      <td>794.827705</td>\n",
       "      <td>69.661622</td>\n",
       "      <td>2001</td>\n",
       "      <td>21.253472</td>\n",
       "      <td>1</td>\n",
       "      <td>4904.178169</td>\n",
       "      <td>69.661622</td>\n",
       "    </tr>\n",
       "    <tr>\n",
       "      <th>16</th>\n",
       "      <td>17</td>\n",
       "      <td>12</td>\n",
       "      <td>39.9</td>\n",
       "      <td>156</td>\n",
       "      <td>101</td>\n",
       "      <td>145</td>\n",
       "      <td>triathlon</td>\n",
       "      <td>Male</td>\n",
       "      <td>Latino</td>\n",
       "      <td>Lucas</td>\n",
       "      <td>Foster</td>\n",
       "      <td>28.081705</td>\n",
       "      <td>73.789806</td>\n",
       "      <td>2005</td>\n",
       "      <td>16.395464</td>\n",
       "      <td>2</td>\n",
       "      <td>2944.213260</td>\n",
       "      <td>73.789806</td>\n",
       "    </tr>\n",
       "    <tr>\n",
       "      <th>17</th>\n",
       "      <td>18</td>\n",
       "      <td>12</td>\n",
       "      <td>39.7</td>\n",
       "      <td>158</td>\n",
       "      <td>65</td>\n",
       "      <td>168</td>\n",
       "      <td>triathlon</td>\n",
       "      <td>Male</td>\n",
       "      <td>Latino</td>\n",
       "      <td>Owen</td>\n",
       "      <td>Myers</td>\n",
       "      <td>30.505849</td>\n",
       "      <td>81.208775</td>\n",
       "      <td>2005</td>\n",
       "      <td>15.902900</td>\n",
       "      <td>2</td>\n",
       "      <td>3223.988381</td>\n",
       "      <td>81.208775</td>\n",
       "    </tr>\n",
       "  </tbody>\n",
       "</table>\n",
       "</div>"
      ],
      "text/plain": [
       "    ID  age  Weight  Height  P_vt1  P_vt2      sport  Gender Ethnicity  \\\n",
       "0    1   15    53.7     161     50    140    fencing  Female   African   \n",
       "1    2   15    56.2     162     80    127    fencing    Male   African   \n",
       "2    3   16    89.9     191    155    300    fencing    Male     White   \n",
       "3    4   16    76.5     180    215    275    fencing    Male     White   \n",
       "4    5   17    76.4     186    110    172    fencing  Female     White   \n",
       "5    6   17    65.6     169    131    186    fencing  Female     White   \n",
       "6    7   15    49.8     165     65    108    fencing  Female     White   \n",
       "7    8   15    51.2     165     80    133    fencing  Female     White   \n",
       "8    9   14    57.1     176     50    125    fencing  Female   African   \n",
       "9   10   14    58.8     177    101    162    fencing  Female   African   \n",
       "10  11   18    84.8     182    174    268      kayak  Female   African   \n",
       "11  12   18    86.0     183    170    294      kayak    Male   African   \n",
       "12  13   18    83.9     183    144    267      kayak  Female     Asian   \n",
       "13  14   13    62.3     171    140    170      kayak  Female     Asian   \n",
       "14  15   13    63.5     172    125    156      kayak    Male    Latino   \n",
       "15  16   16    70.4     182     79    175      kayak    Male    Latino   \n",
       "16  17   12    39.9     156    101    145  triathlon    Male    Latino   \n",
       "17  18   12    39.7     158     65    168  triathlon    Male    Latino   \n",
       "\n",
       "   First Name  Last Name         HRV    VO2_max  birth_year        BMI  \\\n",
       "0      Olivia   Martinez   25.844717  42.807730        2002  20.716793   \n",
       "1       Ethan   Reynolds   40.725284  38.632602        2002  21.414419   \n",
       "2     Jackson     Harper   20.398306  69.705657        2001  24.642965   \n",
       "3        Liam    Sanchez   33.334630  76.989878        2001  23.611111   \n",
       "4         Ava   Thompson  115.319339  86.742579        2000  22.083478   \n",
       "5      Sophia  Rodriguez  447.371626  71.679465        2000  22.968383   \n",
       "6       Grace    Simmons   23.696380  38.403988        2002  18.292011   \n",
       "7       Aiden    Bennett  504.482368  44.822092        2002  18.806244   \n",
       "8       Chloe      Price   22.540326  49.697342        2003  18.433626   \n",
       "9        Lily     Jordan   26.865031  55.122171        2003  18.768553   \n",
       "10   Isabella    Griffin   13.423014  89.586903        1999  25.600773   \n",
       "11      Caleb      Dixon   12.283399  92.258212        1999  25.680074   \n",
       "12        Mia  Carpenter   12.438721  90.758693        1999  25.053002   \n",
       "13     Harper   Mitchell  162.070949  54.869902        2004  21.305701   \n",
       "14      Mason    Wallace   28.801669  66.936066        2004  21.464305   \n",
       "15      Logan   Anderson  794.827705  69.661622        2001  21.253472   \n",
       "16      Lucas     Foster   28.081705  73.789806        2005  16.395464   \n",
       "17       Owen      Myers   30.505849  81.208775        2005  15.902900   \n",
       "\n",
       "    Sport_Codes          VO2     VO2max  \n",
       "0             0  2298.775092  42.807730  \n",
       "1             0  2171.152256  38.632602  \n",
       "2             0  6266.538536  69.705657  \n",
       "3             0  5889.725663  76.989878  \n",
       "4             0  6627.133058  86.742579  \n",
       "5             0  4702.172897  71.679465  \n",
       "6             0  1912.518617  38.403988  \n",
       "7             0  2294.891090  44.822092  \n",
       "8             0  2837.718226  49.697342  \n",
       "9             0  3241.183654  55.122171  \n",
       "10            1  7596.969334  89.586903  \n",
       "11            1  7934.206192  92.258212  \n",
       "12            1  7614.654355  90.758693  \n",
       "13            1  3418.394901  54.869902  \n",
       "14            1  4250.440182  66.936066  \n",
       "15            1  4904.178169  69.661622  \n",
       "16            2  2944.213260  73.789806  \n",
       "17            2  3223.988381  81.208775  "
      ]
     },
     "execution_count": 742,
     "metadata": {},
     "output_type": "execute_result"
    }
   ],
   "source": [
    "df_merge_VO2"
   ]
  },
  {
   "cell_type": "code",
   "execution_count": 743,
   "id": "5fcf4a99",
   "metadata": {},
   "outputs": [
    {
     "data": {
      "text/plain": [
       "191"
      ]
     },
     "execution_count": 743,
     "metadata": {},
     "output_type": "execute_result"
    }
   ],
   "source": [
    "df_maxheight = df_merge_VO2['Height'].max()\n",
    "df_maxheight"
   ]
  },
  {
   "cell_type": "code",
   "execution_count": 744,
   "id": "530b4215",
   "metadata": {},
   "outputs": [],
   "source": [
    "df_Athletes_height = df_merge_VO2[df_merge_VO2['Height']== df_maxheight]"
   ]
  },
  {
   "cell_type": "code",
   "execution_count": 745,
   "id": "689d0ed3",
   "metadata": {},
   "outputs": [
    {
     "data": {
      "text/html": [
       "<div>\n",
       "<style scoped>\n",
       "    .dataframe tbody tr th:only-of-type {\n",
       "        vertical-align: middle;\n",
       "    }\n",
       "\n",
       "    .dataframe tbody tr th {\n",
       "        vertical-align: top;\n",
       "    }\n",
       "\n",
       "    .dataframe thead th {\n",
       "        text-align: right;\n",
       "    }\n",
       "</style>\n",
       "<table border=\"1\" class=\"dataframe\">\n",
       "  <thead>\n",
       "    <tr style=\"text-align: right;\">\n",
       "      <th></th>\n",
       "      <th>ID</th>\n",
       "      <th>age</th>\n",
       "      <th>Weight</th>\n",
       "      <th>Height</th>\n",
       "      <th>P_vt1</th>\n",
       "      <th>P_vt2</th>\n",
       "      <th>sport</th>\n",
       "      <th>Gender</th>\n",
       "      <th>Ethnicity</th>\n",
       "      <th>First Name</th>\n",
       "      <th>Last Name</th>\n",
       "      <th>HRV</th>\n",
       "      <th>VO2_max</th>\n",
       "      <th>birth_year</th>\n",
       "      <th>BMI</th>\n",
       "      <th>Sport_Codes</th>\n",
       "      <th>VO2</th>\n",
       "      <th>VO2max</th>\n",
       "    </tr>\n",
       "  </thead>\n",
       "  <tbody>\n",
       "    <tr>\n",
       "      <th>2</th>\n",
       "      <td>3</td>\n",
       "      <td>16</td>\n",
       "      <td>89.9</td>\n",
       "      <td>191</td>\n",
       "      <td>155</td>\n",
       "      <td>300</td>\n",
       "      <td>fencing</td>\n",
       "      <td>Male</td>\n",
       "      <td>White</td>\n",
       "      <td>Jackson</td>\n",
       "      <td>Harper</td>\n",
       "      <td>20.398306</td>\n",
       "      <td>69.705657</td>\n",
       "      <td>2001</td>\n",
       "      <td>24.642965</td>\n",
       "      <td>0</td>\n",
       "      <td>6266.538536</td>\n",
       "      <td>69.705657</td>\n",
       "    </tr>\n",
       "  </tbody>\n",
       "</table>\n",
       "</div>"
      ],
      "text/plain": [
       "   ID  age  Weight  Height  P_vt1  P_vt2    sport Gender Ethnicity First Name  \\\n",
       "2   3   16    89.9     191    155    300  fencing   Male     White    Jackson   \n",
       "\n",
       "  Last Name        HRV    VO2_max  birth_year        BMI  Sport_Codes  \\\n",
       "2    Harper  20.398306  69.705657        2001  24.642965            0   \n",
       "\n",
       "           VO2     VO2max  \n",
       "2  6266.538536  69.705657  "
      ]
     },
     "execution_count": 745,
     "metadata": {},
     "output_type": "execute_result"
    }
   ],
   "source": [
    "df_Athletes_height"
   ]
  },
  {
   "cell_type": "code",
   "execution_count": 746,
   "id": "c13044c2",
   "metadata": {},
   "outputs": [],
   "source": [
    "df_Athletes_height = pd.DataFrame(df_Athletes_height)"
   ]
  },
  {
   "cell_type": "code",
   "execution_count": 747,
   "id": "90a14d9b",
   "metadata": {},
   "outputs": [
    {
     "data": {
      "text/html": [
       "<div>\n",
       "<style scoped>\n",
       "    .dataframe tbody tr th:only-of-type {\n",
       "        vertical-align: middle;\n",
       "    }\n",
       "\n",
       "    .dataframe tbody tr th {\n",
       "        vertical-align: top;\n",
       "    }\n",
       "\n",
       "    .dataframe thead th {\n",
       "        text-align: right;\n",
       "    }\n",
       "</style>\n",
       "<table border=\"1\" class=\"dataframe\">\n",
       "  <thead>\n",
       "    <tr style=\"text-align: right;\">\n",
       "      <th></th>\n",
       "      <th>sport</th>\n",
       "      <th>VO2max</th>\n",
       "    </tr>\n",
       "  </thead>\n",
       "  <tbody>\n",
       "    <tr>\n",
       "      <th>2</th>\n",
       "      <td>fencing</td>\n",
       "      <td>69.705657</td>\n",
       "    </tr>\n",
       "  </tbody>\n",
       "</table>\n",
       "</div>"
      ],
      "text/plain": [
       "     sport     VO2max\n",
       "2  fencing  69.705657"
      ]
     },
     "execution_count": 747,
     "metadata": {},
     "output_type": "execute_result"
    }
   ],
   "source": [
    "df_Athletes_height[['sport','VO2max']]"
   ]
  },
  {
   "cell_type": "markdown",
   "id": "903b0ba0",
   "metadata": {},
   "source": [
    "#### 60. Get the last letter of athletes last names using RegEX"
   ]
  },
  {
   "cell_type": "code",
   "execution_count": 749,
   "id": "67658ddf",
   "metadata": {},
   "outputs": [],
   "source": [
    "lastname_list = df_Athletes['Last Name'].tolist()"
   ]
  },
  {
   "cell_type": "code",
   "execution_count": 750,
   "id": "aa0d79b0",
   "metadata": {},
   "outputs": [
    {
     "data": {
      "text/plain": [
       "['Martinez',\n",
       " 'Reynolds',\n",
       " 'Harper',\n",
       " 'Sanchez',\n",
       " 'Thompson',\n",
       " 'Rodriguez',\n",
       " 'Simmons',\n",
       " 'Bennett',\n",
       " 'Price',\n",
       " 'Jordan',\n",
       " 'Griffin',\n",
       " 'Dixon',\n",
       " 'Carpenter',\n",
       " 'Mitchell',\n",
       " 'Wallace',\n",
       " 'Anderson',\n",
       " 'Foster',\n",
       " 'Myers']"
      ]
     },
     "execution_count": 750,
     "metadata": {},
     "output_type": "execute_result"
    }
   ],
   "source": [
    "lastname_list"
   ]
  },
  {
   "cell_type": "code",
   "execution_count": 751,
   "id": "25834965",
   "metadata": {},
   "outputs": [],
   "source": [
    "matched_letters=list(map(lambda i:(i,re.search(r'.$', i).group() if re.search(r'.$', i)else None), lastname_list))"
   ]
  },
  {
   "cell_type": "code",
   "execution_count": 752,
   "id": "d27f035c",
   "metadata": {},
   "outputs": [
    {
     "data": {
      "text/plain": [
       "[('Martinez', 'z'),\n",
       " ('Reynolds', 's'),\n",
       " ('Harper', 'r'),\n",
       " ('Sanchez', 'z'),\n",
       " ('Thompson', 'n'),\n",
       " ('Rodriguez', 'z'),\n",
       " ('Simmons', 's'),\n",
       " ('Bennett', 't'),\n",
       " ('Price', 'e'),\n",
       " ('Jordan', 'n'),\n",
       " ('Griffin', 'n'),\n",
       " ('Dixon', 'n'),\n",
       " ('Carpenter', 'r'),\n",
       " ('Mitchell', 'l'),\n",
       " ('Wallace', 'e'),\n",
       " ('Anderson', 'n'),\n",
       " ('Foster', 'r'),\n",
       " ('Myers', 's')]"
      ]
     },
     "execution_count": 752,
     "metadata": {},
     "output_type": "execute_result"
    }
   ],
   "source": [
    "matched_letters"
   ]
  },
  {
   "cell_type": "markdown",
   "id": "e968e341",
   "metadata": {},
   "source": [
    "#### 61. Reverse an arrays order in Python. You can use any array with any values you like."
   ]
  },
  {
   "cell_type": "code",
   "execution_count": 754,
   "id": "595c4d06",
   "metadata": {},
   "outputs": [],
   "source": [
    "array = ['A','R','R','A','Y']"
   ]
  },
  {
   "cell_type": "code",
   "execution_count": 755,
   "id": "9936c5f5",
   "metadata": {},
   "outputs": [],
   "source": [
    "rev = array[::-1]"
   ]
  },
  {
   "cell_type": "code",
   "execution_count": 756,
   "id": "7c1520fd",
   "metadata": {},
   "outputs": [
    {
     "data": {
      "text/plain": [
       "['Y', 'A', 'R', 'R', 'A']"
      ]
     },
     "execution_count": 756,
     "metadata": {},
     "output_type": "execute_result"
    }
   ],
   "source": [
    "rev"
   ]
  },
  {
   "cell_type": "markdown",
   "id": "70c0b775",
   "metadata": {},
   "source": [
    "#### 62. What is the root mean of successive differences for 30 consecutive minutes for each athlete."
   ]
  },
  {
   "cell_type": "code",
   "execution_count": 758,
   "id": "5c94e632",
   "metadata": {},
   "outputs": [
    {
     "name": "stdout",
     "output_type": "stream",
     "text": [
      "    ID  time_group       RMSSD\n",
      "0    1       -30.0   83.165847\n",
      "1    1         0.0   13.513631\n",
      "2    2       -30.0  115.150337\n",
      "3    2         0.0    8.544603\n",
      "4    3       -30.0   75.673655\n",
      "5    3         0.0    5.181184\n",
      "6    4       -30.0  109.364989\n",
      "7    4         0.0   15.529356\n",
      "8    5       -30.0   89.983049\n",
      "9    5         0.0  116.894582\n",
      "10   6       -30.0   83.435747\n",
      "11   6         0.0  465.358949\n",
      "12   7       -30.0   53.685901\n",
      "13   7         0.0   16.246692\n",
      "14   8       -30.0  147.367480\n",
      "15   8         0.0  528.105544\n",
      "16   9       -30.0   65.505774\n",
      "17   9         0.0    5.819242\n",
      "18  10       -30.0   88.063034\n",
      "19  10         0.0    5.684505\n",
      "20  11       -30.0   43.335264\n",
      "21  11         0.0         NaN\n",
      "22  12       -30.0   36.973179\n",
      "23  12         0.0    7.808307\n",
      "24  13       -30.0   37.520202\n",
      "25  13         0.0    7.017273\n",
      "26  14       -30.0  609.140967\n",
      "27  14         0.0   21.669570\n",
      "28  15       -30.0   91.540040\n",
      "29  15         0.0   11.391307\n",
      "30  16       -30.0   42.673704\n",
      "31  16         0.0  827.772742\n",
      "32  17       -30.0   75.166538\n",
      "33  17         0.0         NaN\n",
      "34  18       -30.0  102.273678\n",
      "35  18         0.0    8.827054\n"
     ]
    }
   ],
   "source": [
    "df_data['time_min'] = df_data['time'] / 60\n",
    "df_data['time_group'] = (df_data['time_min'] // 30) * 30\n",
    "\n",
    "\n",
    "def calculate_rmssd(rr_values):\n",
    "    successive_diffs = np.diff(rr_values) \n",
    "    rms_value = np.sqrt(np.mean(successive_diffs**2))  \n",
    "    return rms_value\n",
    "\n",
    "\n",
    "rmssd_results = df_data.groupby(['ID', 'time_group'])['RR'].apply(calculate_rmssd).reset_index(name='RMSSD')\n",
    "\n",
    "print(rmssd_results)"
   ]
  },
  {
   "cell_type": "markdown",
   "id": "5b1950ed",
   "metadata": {},
   "source": [
    "#### 63. On average how many minutes did each athlete in the sport of fencing spend in Zone 5?"
   ]
  },
  {
   "cell_type": "code",
   "execution_count": 760,
   "id": "3f339ab0-b9ec-410f-b850-0ad3d0b93bed",
   "metadata": {},
   "outputs": [
    {
     "name": "stdout",
     "output_type": "stream",
     "text": [
      " ID             Name      time\n",
      "  1  Olivia Martinez  8.299133\n",
      "  2   Ethan Reynolds  4.982867\n",
      "  3   Jackson Harper  7.136267\n",
      "  4     Liam Sanchez  7.940333\n",
      "  5     Ava Thompson  8.895800\n",
      "  6 Sophia Rodriguez 11.669200\n",
      "  7    Grace Simmons  5.477733\n",
      "  8    Aiden Bennett  7.503800\n",
      "  9      Chloe Price 11.481733\n",
      " 10      Lily Jordan  8.005000\n"
     ]
    }
   ],
   "source": [
    "df_data_zoning = df_data.copy()\n",
    "df_data_zoning = pd.merge(df_data_zoning, df_Athletes[['ID', 'sport']], on='ID')\n",
    "df_data_zoning['HeartRateBPM'] = 60 / (df_data_zoning['RR'] / 1000)\n",
    "df_data_zoning['zone'] = pd.cut(df_data_zoning['HeartRateBPM'],\n",
    "                                bins=[0, 100, 120, 135, 155, float('inf')],\n",
    "                                labels=['Zone 1', 'Zone 2', 'Zone 3', 'Zone 4', 'Zone 5'],\n",
    "                                right=False)\n",
    "# Filtering for Zone 5 and fencing\n",
    "df_filtered = df_data_zoning[(df_data_zoning['zone'] == 'Zone 5') & (df_data_zoning['sport'] == 'fencing')]\n",
    "# Calculate the total time taken for each athlete in Zone 5 (in milliseconds)\n",
    "total_time_taken = df_filtered.groupby(\"ID\")[\"time\"].max() - df_filtered.groupby(\"ID\")[\"time\"].min()\n",
    "# Convert time from milliseconds to minutes\n",
    "total_time_taken_minutes = total_time_taken / 60\n",
    "# Merging with df_Athletes to include athlete names\n",
    "df_avg_time_per_athlete = pd.merge(total_time_taken_minutes,\n",
    "                                   df_Athletes[['ID', 'First Name', 'Last Name']],\n",
    "                                   on='ID')\n",
    "df_avg_time_per_athlete['Name'] = df_avg_time_per_athlete['First Name'] + ' ' + df_avg_time_per_athlete['Last Name']\n",
    "df_avg_time_per_athlete = df_avg_time_per_athlete[['ID', 'Name', 'time']]\n",
    "print(df_avg_time_per_athlete.to_string(index=False))"
   ]
  },
  {
   "cell_type": "markdown",
   "id": "843666b5",
   "metadata": {},
   "source": [
    "#### 64. Count athletes based on Gender using count plot"
   ]
  },
  {
   "cell_type": "code",
   "execution_count": 762,
   "id": "89f3aedc",
   "metadata": {},
   "outputs": [
    {
     "data": {
      "image/png": "[encoded data removed]",
      "text/plain": [
       "<Figure size 500x500 with 1 Axes>"
      ]
     },
     "metadata": {},
     "output_type": "display_data"
    }
   ],
   "source": [
    "\n",
    "plt.figure(figsize=(5,5))\n",
    "ax=sns.countplot(x ='Gender', data = df_Athletes)\n",
    "ax.bar_label(ax.containers[0])\n",
    "plt.title('Count of athletes based on Gender')\n",
    "plt.show()\n"
   ]
  },
  {
   "cell_type": "markdown",
   "id": "e045e013",
   "metadata": {},
   "source": [
    "#### 65. Use array slicing to display elements 4,7,10,17.\n",
    "    [ 1,  2,  3,  4,  5],\n",
    "    [ 6,  7,  8,  9, 10],\n",
    "    [11, 12, 13, 14, 15],\n",
    "    [16, 17, 18, 19, 20],\n",
    "    [21, 22, 23, 24, 25],\n",
    "    [26, 27, 28, 29, 30]  "
   ]
  },
  {
   "cell_type": "code",
   "execution_count": 764,
   "id": "3dbe7b3c",
   "metadata": {},
   "outputs": [
    {
     "name": "stdout",
     "output_type": "stream",
     "text": [
      "4 , 7 , 10 , 17\n"
     ]
    }
   ],
   "source": [
    "\n",
    "#Array\n",
    "array = np.array([[ 1,  2,  3,  4,  5],\n",
    "                  [ 6,  7,  8,  9, 10],\n",
    "                  [11, 12, 13, 14, 15],\n",
    "                  [16, 17, 18, 19, 20],\n",
    "                  [21, 22, 23, 24, 25],\n",
    "                  [26, 27, 28, 29, 30]])\n",
    "\n",
    "print(array[0,3],\",\",array[1,1],\",\",array[1,4],\",\",array[3,1])\n"
   ]
  },
  {
   "cell_type": "markdown",
   "id": "f6e64ffb",
   "metadata": {},
   "source": [
    "#### 66. On average, how long did each participant spend at 200 watts?"
   ]
  },
  {
   "cell_type": "code",
   "execution_count": 766,
   "id": "8caede13-a254-4f70-97c4-df2901e582bf",
   "metadata": {},
   "outputs": [
    {
     "name": "stdout",
     "output_type": "stream",
     "text": [
      " ID  total_time  avg time             name\n",
      "  3      58.452    58.452   Jackson Harper\n",
      "  4      59.640    59.640     Liam Sanchez\n",
      "  5      59.088    59.088     Ava Thompson\n",
      "  6      59.012    59.012 Sophia Rodriguez\n",
      "  9       5.420     5.420      Chloe Price\n",
      " 10      31.568    31.568      Lily Jordan\n",
      " 11      59.616    59.616 Isabella Griffin\n",
      " 12      58.588    58.588      Caleb Dixon\n",
      " 13      60.744    60.744    Mia Carpenter\n",
      " 14      59.684    59.684  Harper Mitchell\n",
      " 15      59.748    59.748    Mason Wallace\n",
      " 16      59.660    59.660   Logan Anderson\n",
      " 18      26.376    26.376       Owen Myers\n"
     ]
    }
   ],
   "source": [
    "df_power_200 = df_data[df_data['power'] == 200]\n",
    "# Calculate the total test time for each athlete\n",
    "total_time_taken = df_power_200.groupby('ID')['time'].max() - df_power_200.groupby('ID')['time'].min()\n",
    "df_power_avg = total_time_taken.reset_index(name='total_time')\n",
    "df_power_avg['avg_time'] = df_power_avg['total_time']\n",
    "df_Athletes['Name'] = df_Athletes['First Name'] + ' ' + df_Athletes['Last Name']\n",
    "df_merged = pd.merge(df_power_avg, df_Athletes[['ID', 'Name']], on='ID')\n",
    "df_merged.rename(columns={'ID': 'ID', 'Name': 'name', 'avg_time': 'avg time'}, inplace=True)\n",
    "print(df_merged.to_string(index=False))"
   ]
  },
  {
   "cell_type": "markdown",
   "id": "6b975457",
   "metadata": {},
   "source": [
    "#### 67.Athletes from which sport had the highest average cardiorespiratory fitness in terms of v02 max?"
   ]
  },
  {
   "cell_type": "code",
   "execution_count": 768,
   "id": "a9f3c048",
   "metadata": {},
   "outputs": [],
   "source": [
    "df_Sum_VO2=df_data.groupby('ID')['VO2'].sum().reset_index()\n",
    "\n",
    "df_merge_VO2=pd.merge(df_Athletes, df_Sum_VO2[['ID', 'VO2']], on='ID')\n",
    "df_merge_VO2['VO2max']=df_merge_VO2['VO2']/df_merge_VO2['Weight']\n",
    "df_merge_VO2_Sport=df_merge_VO2.groupby('sport').VO2max.mean().reset_index()\n",
    "highest_VO2max_sport = df_merge_VO2_Sport.loc[df_merge_VO2_Sport['VO2max'].idxmax()]"
   ]
  },
  {
   "cell_type": "code",
   "execution_count": 769,
   "id": "c425dd00",
   "metadata": {},
   "outputs": [
    {
     "data": {
      "text/plain": [
       "sport     triathlon\n",
       "VO2max    77.499291\n",
       "Name: 2, dtype: object"
      ]
     },
     "execution_count": 769,
     "metadata": {},
     "output_type": "execute_result"
    }
   ],
   "source": [
    "highest_VO2max_sport"
   ]
  },
  {
   "cell_type": "code",
   "execution_count": 770,
   "id": "72c303e0",
   "metadata": {
    "scrolled": true
   },
   "outputs": [
    {
     "data": {
      "text/html": [
       "<div>\n",
       "<style scoped>\n",
       "    .dataframe tbody tr th:only-of-type {\n",
       "        vertical-align: middle;\n",
       "    }\n",
       "\n",
       "    .dataframe tbody tr th {\n",
       "        vertical-align: top;\n",
       "    }\n",
       "\n",
       "    .dataframe thead th {\n",
       "        text-align: right;\n",
       "    }\n",
       "</style>\n",
       "<table border=\"1\" class=\"dataframe\">\n",
       "  <thead>\n",
       "    <tr style=\"text-align: right;\">\n",
       "      <th></th>\n",
       "      <th>ID</th>\n",
       "      <th>time</th>\n",
       "      <th>RR</th>\n",
       "      <th>VO2</th>\n",
       "      <th>power</th>\n",
       "      <th>stage</th>\n",
       "      <th>HR</th>\n",
       "      <th>zone</th>\n",
       "      <th>Minute</th>\n",
       "      <th>fit</th>\n",
       "      <th>time_min</th>\n",
       "      <th>time_group</th>\n",
       "    </tr>\n",
       "  </thead>\n",
       "  <tbody>\n",
       "    <tr>\n",
       "      <th>0</th>\n",
       "      <td>1</td>\n",
       "      <td>-130.840</td>\n",
       "      <td>672.0</td>\n",
       "      <td>0.302008</td>\n",
       "      <td>0</td>\n",
       "      <td>warmup</td>\n",
       "      <td>89.285714</td>\n",
       "      <td>Zone 1</td>\n",
       "      <td>1969-12-31 23:59:00</td>\n",
       "      <td>0.302008</td>\n",
       "      <td>-2.180667</td>\n",
       "      <td>-30.0</td>\n",
       "    </tr>\n",
       "    <tr>\n",
       "      <th>1</th>\n",
       "      <td>1</td>\n",
       "      <td>-130.168</td>\n",
       "      <td>672.0</td>\n",
       "      <td>0.302008</td>\n",
       "      <td>0</td>\n",
       "      <td>warmup</td>\n",
       "      <td>89.285714</td>\n",
       "      <td>Zone 1</td>\n",
       "      <td>1969-12-31 23:59:00</td>\n",
       "      <td>0.302008</td>\n",
       "      <td>-2.169467</td>\n",
       "      <td>-30.0</td>\n",
       "    </tr>\n",
       "    <tr>\n",
       "      <th>2</th>\n",
       "      <td>1</td>\n",
       "      <td>-129.536</td>\n",
       "      <td>632.0</td>\n",
       "      <td>0.301336</td>\n",
       "      <td>0</td>\n",
       "      <td>warmup</td>\n",
       "      <td>94.936709</td>\n",
       "      <td>Zone 1</td>\n",
       "      <td>1969-12-31 23:59:00</td>\n",
       "      <td>0.301336</td>\n",
       "      <td>-2.158933</td>\n",
       "      <td>-30.0</td>\n",
       "    </tr>\n",
       "    <tr>\n",
       "      <th>3</th>\n",
       "      <td>1</td>\n",
       "      <td>-128.824</td>\n",
       "      <td>712.0</td>\n",
       "      <td>0.301336</td>\n",
       "      <td>0</td>\n",
       "      <td>warmup</td>\n",
       "      <td>84.269663</td>\n",
       "      <td>Zone 1</td>\n",
       "      <td>1969-12-31 23:59:00</td>\n",
       "      <td>0.301336</td>\n",
       "      <td>-2.147067</td>\n",
       "      <td>-30.0</td>\n",
       "    </tr>\n",
       "    <tr>\n",
       "      <th>4</th>\n",
       "      <td>1</td>\n",
       "      <td>-127.948</td>\n",
       "      <td>876.0</td>\n",
       "      <td>0.301336</td>\n",
       "      <td>0</td>\n",
       "      <td>warmup</td>\n",
       "      <td>68.493151</td>\n",
       "      <td>Zone 1</td>\n",
       "      <td>1969-12-31 23:59:00</td>\n",
       "      <td>0.301336</td>\n",
       "      <td>-2.132467</td>\n",
       "      <td>-30.0</td>\n",
       "    </tr>\n",
       "    <tr>\n",
       "      <th>...</th>\n",
       "      <td>...</td>\n",
       "      <td>...</td>\n",
       "      <td>...</td>\n",
       "      <td>...</td>\n",
       "      <td>...</td>\n",
       "      <td>...</td>\n",
       "      <td>...</td>\n",
       "      <td>...</td>\n",
       "      <td>...</td>\n",
       "      <td>...</td>\n",
       "      <td>...</td>\n",
       "      <td>...</td>\n",
       "    </tr>\n",
       "    <tr>\n",
       "      <th>52057</th>\n",
       "      <td>18</td>\n",
       "      <td>947.288</td>\n",
       "      <td>536.0</td>\n",
       "      <td>0.507071</td>\n",
       "      <td>0</td>\n",
       "      <td>cooldown</td>\n",
       "      <td>111.940299</td>\n",
       "      <td>Zone 2</td>\n",
       "      <td>1970-01-01 00:00:00</td>\n",
       "      <td>0.507071</td>\n",
       "      <td>15.788133</td>\n",
       "      <td>0.0</td>\n",
       "    </tr>\n",
       "    <tr>\n",
       "      <th>52058</th>\n",
       "      <td>18</td>\n",
       "      <td>947.816</td>\n",
       "      <td>528.0</td>\n",
       "      <td>0.507071</td>\n",
       "      <td>0</td>\n",
       "      <td>cooldown</td>\n",
       "      <td>113.636364</td>\n",
       "      <td>Zone 2</td>\n",
       "      <td>1970-01-01 00:00:00</td>\n",
       "      <td>0.507071</td>\n",
       "      <td>15.796933</td>\n",
       "      <td>0.0</td>\n",
       "    </tr>\n",
       "    <tr>\n",
       "      <th>52059</th>\n",
       "      <td>18</td>\n",
       "      <td>948.344</td>\n",
       "      <td>528.0</td>\n",
       "      <td>0.507071</td>\n",
       "      <td>0</td>\n",
       "      <td>cooldown</td>\n",
       "      <td>113.636364</td>\n",
       "      <td>Zone 2</td>\n",
       "      <td>1970-01-01 00:00:00</td>\n",
       "      <td>0.507071</td>\n",
       "      <td>15.805733</td>\n",
       "      <td>0.0</td>\n",
       "    </tr>\n",
       "    <tr>\n",
       "      <th>52060</th>\n",
       "      <td>18</td>\n",
       "      <td>948.884</td>\n",
       "      <td>540.0</td>\n",
       "      <td>0.507071</td>\n",
       "      <td>0</td>\n",
       "      <td>cooldown</td>\n",
       "      <td>111.111111</td>\n",
       "      <td>Zone 2</td>\n",
       "      <td>1970-01-01 00:00:00</td>\n",
       "      <td>0.507071</td>\n",
       "      <td>15.814733</td>\n",
       "      <td>0.0</td>\n",
       "    </tr>\n",
       "    <tr>\n",
       "      <th>52061</th>\n",
       "      <td>18</td>\n",
       "      <td>949.424</td>\n",
       "      <td>540.0</td>\n",
       "      <td>0.507071</td>\n",
       "      <td>0</td>\n",
       "      <td>cooldown</td>\n",
       "      <td>111.111111</td>\n",
       "      <td>Zone 2</td>\n",
       "      <td>1970-01-01 00:00:00</td>\n",
       "      <td>0.507071</td>\n",
       "      <td>15.823733</td>\n",
       "      <td>0.0</td>\n",
       "    </tr>\n",
       "  </tbody>\n",
       "</table>\n",
       "<p>52062 rows × 12 columns</p>\n",
       "</div>"
      ],
      "text/plain": [
       "       ID     time     RR       VO2  power     stage          HR    zone  \\\n",
       "0       1 -130.840  672.0  0.302008      0    warmup   89.285714  Zone 1   \n",
       "1       1 -130.168  672.0  0.302008      0    warmup   89.285714  Zone 1   \n",
       "2       1 -129.536  632.0  0.301336      0    warmup   94.936709  Zone 1   \n",
       "3       1 -128.824  712.0  0.301336      0    warmup   84.269663  Zone 1   \n",
       "4       1 -127.948  876.0  0.301336      0    warmup   68.493151  Zone 1   \n",
       "...    ..      ...    ...       ...    ...       ...         ...     ...   \n",
       "52057  18  947.288  536.0  0.507071      0  cooldown  111.940299  Zone 2   \n",
       "52058  18  947.816  528.0  0.507071      0  cooldown  113.636364  Zone 2   \n",
       "52059  18  948.344  528.0  0.507071      0  cooldown  113.636364  Zone 2   \n",
       "52060  18  948.884  540.0  0.507071      0  cooldown  111.111111  Zone 2   \n",
       "52061  18  949.424  540.0  0.507071      0  cooldown  111.111111  Zone 2   \n",
       "\n",
       "                   Minute       fit   time_min  time_group  \n",
       "0     1969-12-31 23:59:00  0.302008  -2.180667       -30.0  \n",
       "1     1969-12-31 23:59:00  0.302008  -2.169467       -30.0  \n",
       "2     1969-12-31 23:59:00  0.301336  -2.158933       -30.0  \n",
       "3     1969-12-31 23:59:00  0.301336  -2.147067       -30.0  \n",
       "4     1969-12-31 23:59:00  0.301336  -2.132467       -30.0  \n",
       "...                   ...       ...        ...         ...  \n",
       "52057 1970-01-01 00:00:00  0.507071  15.788133         0.0  \n",
       "52058 1970-01-01 00:00:00  0.507071  15.796933         0.0  \n",
       "52059 1970-01-01 00:00:00  0.507071  15.805733         0.0  \n",
       "52060 1970-01-01 00:00:00  0.507071  15.814733         0.0  \n",
       "52061 1970-01-01 00:00:00  0.507071  15.823733         0.0  \n",
       "\n",
       "[52062 rows x 12 columns]"
      ]
     },
     "execution_count": 770,
     "metadata": {},
     "output_type": "execute_result"
    }
   ],
   "source": [
    "df_data"
   ]
  },
  {
   "cell_type": "markdown",
   "id": "68ee25ca",
   "metadata": {},
   "source": [
    "#### 68. What % of athletes exceeded 90% of max HR? (Max HR is calculated as 220-Age)"
   ]
  },
  {
   "cell_type": "code",
   "execution_count": 772,
   "id": "4961125b",
   "metadata": {},
   "outputs": [
    {
     "name": "stdout",
     "output_type": "stream",
     "text": [
      "Percentage of athletes with Heart Rate > 90% of maxHR: 6.91%\n"
     ]
    }
   ],
   "source": [
    "\n",
    "df_data_copy=df_data.copy()\n",
    "df_data_copy=pd.merge(df_data_copy,df_Athletes[['ID','age']],on='ID')\n",
    "df_data_copy['HeartRate_bpm']=60/(df_data_copy['RR']/1000) \n",
    "# Calculate maxHR as 220 - age\n",
    "df_data_copy['maxHR'] = 220 - df_data_copy['age']\n",
    "\n",
    "# Calculate 90% of maxHR\n",
    "df_data_copy['HR_90'] = df_data_copy['maxHR']*0.90\n",
    "\n",
    "# Filter rows where HeartRate_bpm is greater than or equal to 90% of maxHR\n",
    "filtered_result = df_data_copy[df_data_copy['HeartRate_bpm'] > df_data_copy['HR_90']]\n",
    "percentage = (len(filtered_result) / len(df_data_copy)) * 100\n",
    "\n",
    "print(f\"Percentage of athletes with Heart Rate > 90% of maxHR: {percentage:.2f}%\")\n"
   ]
  },
  {
   "cell_type": "markdown",
   "id": "c2520279",
   "metadata": {},
   "source": [
    "#### 69. What was the lowest heart rate recorded at a power wattage of 200"
   ]
  },
  {
   "cell_type": "code",
   "execution_count": 774,
   "id": "6187832c",
   "metadata": {},
   "outputs": [
    {
     "name": "stdout",
     "output_type": "stream",
     "text": [
      "The Lowest HeartRate recorded ata power Wattage of 200 is :  71.77\n"
     ]
    }
   ],
   "source": [
    "# Filter the rows where power is equal to 200\n",
    "filtered_df = df_data_copy[df_data_copy['power'] == 200]\n",
    "\n",
    "# Group the filtered DataFrame by 'ID' and calculate the minimum HeartRate_bpm for each group\n",
    "grouped_df = filtered_df.groupby('ID')['HeartRate_bpm'].min()\n",
    "\n",
    "# Display the result\n",
    "rounded_df=grouped_df.round(2)\n",
    "print(\"The Lowest HeartRate recorded ata power Wattage of 200 is : \",rounded_df.min())"
   ]
  },
  {
   "cell_type": "markdown",
   "id": "a50ccded",
   "metadata": {},
   "source": [
    "#### 70.On Average how long did most athletes spend at 75% of MaxHR (Max HR is calculated as 220-Age)"
   ]
  },
  {
   "cell_type": "code",
   "execution_count": 776,
   "id": "5cf818a0",
   "metadata": {},
   "outputs": [
    {
     "data": {
      "text/html": [
       "<div>\n",
       "<style scoped>\n",
       "    .dataframe tbody tr th:only-of-type {\n",
       "        vertical-align: middle;\n",
       "    }\n",
       "\n",
       "    .dataframe tbody tr th {\n",
       "        vertical-align: top;\n",
       "    }\n",
       "\n",
       "    .dataframe thead th {\n",
       "        text-align: right;\n",
       "    }\n",
       "</style>\n",
       "<table border=\"1\" class=\"dataframe\">\n",
       "  <thead>\n",
       "    <tr style=\"text-align: right;\">\n",
       "      <th></th>\n",
       "      <th>ID</th>\n",
       "      <th>time</th>\n",
       "    </tr>\n",
       "  </thead>\n",
       "  <tbody>\n",
       "    <tr>\n",
       "      <th>0</th>\n",
       "      <td>1</td>\n",
       "      <td>463.144826</td>\n",
       "    </tr>\n",
       "    <tr>\n",
       "      <th>1</th>\n",
       "      <td>2</td>\n",
       "      <td>400.432221</td>\n",
       "    </tr>\n",
       "    <tr>\n",
       "      <th>2</th>\n",
       "      <td>3</td>\n",
       "      <td>998.309129</td>\n",
       "    </tr>\n",
       "    <tr>\n",
       "      <th>3</th>\n",
       "      <td>4</td>\n",
       "      <td>995.972448</td>\n",
       "    </tr>\n",
       "    <tr>\n",
       "      <th>4</th>\n",
       "      <td>5</td>\n",
       "      <td>818.720498</td>\n",
       "    </tr>\n",
       "    <tr>\n",
       "      <th>5</th>\n",
       "      <td>6</td>\n",
       "      <td>770.485261</td>\n",
       "    </tr>\n",
       "    <tr>\n",
       "      <th>6</th>\n",
       "      <td>7</td>\n",
       "      <td>482.628666</td>\n",
       "    </tr>\n",
       "    <tr>\n",
       "      <th>7</th>\n",
       "      <td>8</td>\n",
       "      <td>540.128857</td>\n",
       "    </tr>\n",
       "    <tr>\n",
       "      <th>8</th>\n",
       "      <td>9</td>\n",
       "      <td>487.720808</td>\n",
       "    </tr>\n",
       "    <tr>\n",
       "      <th>9</th>\n",
       "      <td>10</td>\n",
       "      <td>615.379955</td>\n",
       "    </tr>\n",
       "    <tr>\n",
       "      <th>10</th>\n",
       "      <td>11</td>\n",
       "      <td>1052.122841</td>\n",
       "    </tr>\n",
       "    <tr>\n",
       "      <th>11</th>\n",
       "      <td>12</td>\n",
       "      <td>961.323095</td>\n",
       "    </tr>\n",
       "    <tr>\n",
       "      <th>12</th>\n",
       "      <td>13</td>\n",
       "      <td>958.407877</td>\n",
       "    </tr>\n",
       "    <tr>\n",
       "      <th>13</th>\n",
       "      <td>14</td>\n",
       "      <td>727.665182</td>\n",
       "    </tr>\n",
       "    <tr>\n",
       "      <th>14</th>\n",
       "      <td>15</td>\n",
       "      <td>640.377848</td>\n",
       "    </tr>\n",
       "    <tr>\n",
       "      <th>15</th>\n",
       "      <td>16</td>\n",
       "      <td>720.307425</td>\n",
       "    </tr>\n",
       "    <tr>\n",
       "      <th>16</th>\n",
       "      <td>17</td>\n",
       "      <td>456.179177</td>\n",
       "    </tr>\n",
       "    <tr>\n",
       "      <th>17</th>\n",
       "      <td>18</td>\n",
       "      <td>591.699172</td>\n",
       "    </tr>\n",
       "  </tbody>\n",
       "</table>\n",
       "</div>"
      ],
      "text/plain": [
       "    ID         time\n",
       "0    1   463.144826\n",
       "1    2   400.432221\n",
       "2    3   998.309129\n",
       "3    4   995.972448\n",
       "4    5   818.720498\n",
       "5    6   770.485261\n",
       "6    7   482.628666\n",
       "7    8   540.128857\n",
       "8    9   487.720808\n",
       "9   10   615.379955\n",
       "10  11  1052.122841\n",
       "11  12   961.323095\n",
       "12  13   958.407877\n",
       "13  14   727.665182\n",
       "14  15   640.377848\n",
       "15  16   720.307425\n",
       "16  17   456.179177\n",
       "17  18   591.699172"
      ]
     },
     "execution_count": 776,
     "metadata": {},
     "output_type": "execute_result"
    }
   ],
   "source": [
    "# Merge the dataframes on the 'ID' column\n",
    "\n",
    "#df_data_heartRate = pd.merge(result, df_data[['ID', 'time', 'power','stage']], on='ID')\n",
    "# Calculate 75% of maxHR\n",
    "df_data_copy['HR_75%'] = df_data_copy['maxHR'] * 0.75\n",
    "\n",
    "# Filter the DataFrame to include only rows where HeartRate_bpm is between 70% and 90% of maxHR\n",
    "#df_filtered = df_data_copy[(df_data_copy['HeartRate_bpm'] >= df_data_copy['HR_75%'])]\n",
    "df_filtered = df_data_copy[(df_data_copy['HeartRate_bpm'] >= df_data_copy['HR_75%']) & \n",
    "                       (df_data_copy['HeartRate_bpm'] < df_data_copy['HR_90'])]\n",
    "\n",
    "average_time_per_athlete = df_filtered.groupby('ID')['time'].mean().reset_index()\n",
    "average_time_per_athlete\n",
    "\n",
    "\n"
   ]
  },
  {
   "cell_type": "markdown",
   "id": "7caa0d61",
   "metadata": {},
   "source": [
    "#### 71. Create a crosstab to show each sport as a column and each heart rate zone as rows with counts of rows that satisfy each condition as values"
   ]
  },
  {
   "cell_type": "code",
   "execution_count": 778,
   "id": "166bbbea",
   "metadata": {},
   "outputs": [
    {
     "data": {
      "text/html": [
       "<div>\n",
       "<style scoped>\n",
       "    .dataframe tbody tr th:only-of-type {\n",
       "        vertical-align: middle;\n",
       "    }\n",
       "\n",
       "    .dataframe tbody tr th {\n",
       "        vertical-align: top;\n",
       "    }\n",
       "\n",
       "    .dataframe thead th {\n",
       "        text-align: right;\n",
       "    }\n",
       "</style>\n",
       "<table border=\"1\" class=\"dataframe\">\n",
       "  <thead>\n",
       "    <tr style=\"text-align: right;\">\n",
       "      <th>zone</th>\n",
       "      <th>Zone 1</th>\n",
       "      <th>Zone 2</th>\n",
       "      <th>Zone 3</th>\n",
       "      <th>Zone 4</th>\n",
       "      <th>Zone 5</th>\n",
       "    </tr>\n",
       "    <tr>\n",
       "      <th>sport</th>\n",
       "      <th></th>\n",
       "      <th></th>\n",
       "      <th></th>\n",
       "      <th></th>\n",
       "      <th></th>\n",
       "    </tr>\n",
       "  </thead>\n",
       "  <tbody>\n",
       "    <tr>\n",
       "      <th>fencing</th>\n",
       "      <td>2258</td>\n",
       "      <td>3433</td>\n",
       "      <td>4269</td>\n",
       "      <td>6322</td>\n",
       "      <td>11321</td>\n",
       "    </tr>\n",
       "    <tr>\n",
       "      <th>kayak</th>\n",
       "      <td>1456</td>\n",
       "      <td>2621</td>\n",
       "      <td>3434</td>\n",
       "      <td>4464</td>\n",
       "      <td>6791</td>\n",
       "    </tr>\n",
       "    <tr>\n",
       "      <th>triathlon</th>\n",
       "      <td>464</td>\n",
       "      <td>318</td>\n",
       "      <td>1089</td>\n",
       "      <td>893</td>\n",
       "      <td>1781</td>\n",
       "    </tr>\n",
       "  </tbody>\n",
       "</table>\n",
       "</div>"
      ],
      "text/plain": [
       "zone       Zone 1  Zone 2  Zone 3  Zone 4  Zone 5\n",
       "sport                                            \n",
       "fencing      2258    3433    4269    6322   11321\n",
       "kayak        1456    2621    3434    4464    6791\n",
       "triathlon     464     318    1089     893    1781"
      ]
     },
     "execution_count": 778,
     "metadata": {},
     "output_type": "execute_result"
    }
   ],
   "source": [
    "df_data_zoning=df_data.copy()\n",
    "df_data_zoning=pd.merge(df_data,df_Athletes[['ID','age','sport']],on ='ID')\n",
    "df_data_zoning['HRMax']=220-df_data_zoning['age']\n",
    "df_data_zoning['HeartRateBPM'] = 60 / (df_data_zoning['RR'] / 1000)\n",
    "df_data_zoning['Heart_Rate_Percentage']=(df_data_zoning['HeartRateBPM']/df_data_zoning['HRMax'])*100\n",
    "#Zoning Code using pd.cut()\n",
    "\n",
    "df_data_zoning['zone'] = pd.cut(df_data_zoning['HeartRateBPM'], \n",
    "                          bins=[0, 100, 120, 135, 155, float('inf')], \n",
    "                          labels=['Zone 1', 'Zone 2', 'Zone 3', 'Zone 4', 'Zone 5'], \n",
    "                          right=False)\n",
    "\n",
    "ct = pd.crosstab(df_data_zoning['sport'], df_data_zoning['zone'])\n",
    "ct"
   ]
  },
  {
   "cell_type": "markdown",
   "id": "bfe77150",
   "metadata": {},
   "source": [
    "#### 72. Provide an example of a lambda function that multiplies any 2 input values."
   ]
  },
  {
   "cell_type": "code",
   "execution_count": 780,
   "id": "6ee0d0cc",
   "metadata": {},
   "outputs": [
    {
     "name": "stdout",
     "output_type": "stream",
     "text": [
      "6\n"
     ]
    }
   ],
   "source": [
    "def myfunc(n,y):\n",
    "  return lambda : n * y\n",
    "\n",
    "multiplier = myfunc(2,3)\n",
    "\n",
    "print(multiplier())"
   ]
  },
  {
   "cell_type": "markdown",
   "id": "0343819d",
   "metadata": {},
   "source": [
    "#### 73. How long was athlete 17s warm up"
   ]
  },
  {
   "cell_type": "code",
   "execution_count": 782,
   "id": "5504b41c-c223-4bbc-bbed-c86d15f70759",
   "metadata": {},
   "outputs": [
    {
     "name": "stdout",
     "output_type": "stream",
     "text": [
      "Total time taken  ID\n",
      "17    181.664\n",
      "Name: time, dtype: float64\n"
     ]
    }
   ],
   "source": [
    "filtered_df = df_data_copy[(df_data_copy['stage'] == 'warmup') & (df_data_copy['ID'] == 17)]\n",
    "total_time=filtered_df.groupby('ID')['time'].max() - filtered_df.groupby('ID')['time'].min()\n",
    "print(f'Total time taken  {total_time}')"
   ]
  },
  {
   "cell_type": "markdown",
   "id": "1a9ee15b",
   "metadata": {},
   "source": [
    "#### 74. Take a students full name and reverse it using a for loop"
   ]
  },
  {
   "cell_type": "code",
   "execution_count": 784,
   "id": "11600449",
   "metadata": {},
   "outputs": [
    {
     "name": "stdout",
     "output_type": "stream",
     "text": [
      "ardnesuS ahsravunA\n"
     ]
    }
   ],
   "source": [
    "def reverse(fullname):\n",
    "    reversed_name = \"\"\n",
    "    for i in range(len(fullname)):\n",
    "       reversed_name += fullname[(len(fullname)-1)-i]\n",
    "    return reversed_name\n",
    "\n",
    "print(reverse(\"Anuvarsha Susendra\"))"
   ]
  },
  {
   "cell_type": "markdown",
   "id": "99813d69",
   "metadata": {},
   "source": [
    "#### 75. What was the maximum heart rate recorded during the test. Which athlete did it belong to? Display name, sport and HR"
   ]
  },
  {
   "cell_type": "code",
   "execution_count": 786,
   "id": "9d008b50",
   "metadata": {},
   "outputs": [
    {
     "name": "stdout",
     "output_type": "stream",
     "text": [
      "   ID             Name    sport  HeartRate_bpm\n",
      "0   1  Olivia Martinez  fencing     155.069723\n"
     ]
    }
   ],
   "source": [
    "#df_data_copy['HeartRate_bpm']=60/(df_data['RR']/1000) \n",
    "\n",
    "\n",
    "\n",
    "df_merged = pd.merge(df_Athletes, df_data_copy[['ID', 'HeartRate_bpm']], on='ID')\n",
    "\n",
    "# Calculate the mean Heart Rate for each athlete\n",
    "mean_heart_rate = df_merged.groupby('ID')['HeartRate_bpm'].mean().reset_index()\n",
    "\n",
    "# Merge mean heart rate with athlete details\n",
    "result = pd.merge(mean_heart_rate, df_Athletes, on='ID')\n",
    "\n",
    "max_heart_rate_row = result[result['HeartRate_bpm'] == result['HeartRate_bpm'].max()]\n",
    "\n",
    "print(max_heart_rate_row[['ID','Name','sport','HeartRate_bpm']])"
   ]
  },
  {
   "cell_type": "markdown",
   "id": "f02d90ba",
   "metadata": {},
   "source": [
    "#### 76. np.arange(1,31).reshape(6,5),find array slicing to get the elements 2,5,13,25,30. #np.lib.stride_tricks.as_strided"
   ]
  },
  {
   "cell_type": "code",
   "execution_count": 788,
   "id": "d5ef751f",
   "metadata": {},
   "outputs": [
    {
     "name": "stdout",
     "output_type": "stream",
     "text": [
      "2 , 5 , 13 , 25 , 30\n"
     ]
    }
   ],
   "source": [
    "np.arange(1,31).reshape(6,5)\n",
    "\n",
    "print(array[0,1],\",\",array[0,4],\",\",array[2,2],\",\",array[4,4],\",\",array[5,4])"
   ]
  },
  {
   "cell_type": "markdown",
   "id": "b2fb7c73",
   "metadata": {},
   "source": [
    "#### 77. Display a violin chart to show distribution of VO2Max against age."
   ]
  },
  {
   "cell_type": "code",
   "execution_count": 790,
   "id": "27178a83",
   "metadata": {},
   "outputs": [
    {
     "data": {
      "text/plain": [
       "<Axes: xlabel='age', ylabel='VO2max'>"
      ]
     },
     "execution_count": 790,
     "metadata": {},
     "output_type": "execute_result"
    },
    {
     "data": {
      "image/png": "[encoded data removed]",
      "text/plain": [
       "<Figure size 640x480 with 1 Axes>"
      ]
     },
     "metadata": {},
     "output_type": "display_data"
    }
   ],
   "source": [
    "#import seaborn as sns\n",
    "\n",
    "# plot\n",
    "sns.violinplot(x=df_merge_VO2['age'], y=df_merge_VO2['VO2max'])\n"
   ]
  },
  {
   "cell_type": "markdown",
   "id": "fb1eea26",
   "metadata": {},
   "source": [
    "#### 78. Create a heatmap that show heart rate zones by minutes and the number of athletes in each HR and each minute."
   ]
  },
  {
   "cell_type": "code",
   "execution_count": 792,
   "id": "dbcf7232",
   "metadata": {},
   "outputs": [
    {
     "name": "stdout",
     "output_type": "stream",
     "text": [
      "zone      Zone 1  Zone 2  Zone 3  Zone 4  Zone 5\n",
      "time_min                                        \n",
      "0             18      18      18      18      18\n"
     ]
    },
    {
     "data": {
      "image/png": "[encoded data removed]",
      "text/plain": [
       "<Figure size 1200x800 with 2 Axes>"
      ]
     },
     "metadata": {},
     "output_type": "display_data"
    }
   ],
   "source": [
    "df_data_zoning['time_min'] = (df_data_zoning['time'] / 60000).astype(int)\n",
    "\n",
    "# Grouping to count unique athletes in each zone per minute\n",
    "grouped_df = df_data_zoning.groupby(['time_min', 'zone', 'ID']).size().reset_index(name='count')\n",
    "grouped_df = grouped_df.groupby(['time_min', 'zone'])['ID'].nunique().unstack(fill_value=0)\n",
    "\n",
    "# Check the grouped dataframe to ensure data is aggregated correctly\n",
    "print(grouped_df.head())\n",
    "\n",
    "# Plotting the heatmap\n",
    "plt.figure(figsize=(12, 8))\n",
    "sns.heatmap(grouped_df, cmap=\"viridis\", annot=True, fmt=\"d\")\n",
    "plt.title('Heatmap of Heart Rate Zones by Minutes (Unique Athletes)')\n",
    "plt.xlabel('Heart Rate Zone')\n",
    "plt.ylabel('Time (Minutes)')\n",
    "plt.show()"
   ]
  },
  {
   "cell_type": "markdown",
   "id": "de1fa6f4",
   "metadata": {},
   "source": [
    "#### 79. Plot the Donut chart athlete distrubution by Gender"
   ]
  },
  {
   "cell_type": "code",
   "execution_count": 794,
   "id": "dd044c29",
   "metadata": {},
   "outputs": [
    {
     "data": {
      "image/png": "[encoded data removed]",
      "text/plain": [
       "<Figure size 640x480 with 1 Axes>"
      ]
     },
     "metadata": {},
     "output_type": "display_data"
    }
   ],
   "source": [
    "\n",
    "grouped_df = df_Athletes.groupby('Gender')['ID'].count()\n",
    "  \n",
    "\n",
    "colors = ['#FF0000', '#0000FF']  \n",
    "explode = (0.05, 0.05)  \n",
    "grouped_df.plot.pie(\n",
    "    colors=colors,\n",
    "    labels=grouped_df.index, \n",
    "    autopct='%1.1f%%',\n",
    "    pctdistance=0.85,\n",
    "    explode=explode,\n",
    "    \n",
    "    startangle=140\n",
    ")\n",
    "\n",
    "centre_circle = plt.Circle((0, 0), 0.70, fc='white')\n",
    "fig = plt.gcf()  # Get current figure\n",
    "fig.gca().add_artist(centre_circle)\n",
    "\n",
    "\n",
    "plt.title('Athletes Distribution by Gender')\n",
    "\n",
    "plt.show()\n",
    "\n"
   ]
  },
  {
   "cell_type": "markdown",
   "id": "b6c3ec06",
   "metadata": {},
   "source": [
    "#### 80. Find the size of a Tuple for any given input"
   ]
  },
  {
   "cell_type": "code",
   "execution_count": 796,
   "id": "45b3af36",
   "metadata": {},
   "outputs": [
    {
     "name": "stdin",
     "output_type": "stream",
     "text": [
      "Enter a list of tuples :  \"Anu\",\"Varsha\"\n"
     ]
    },
    {
     "name": "stdout",
     "output_type": "stream",
     "text": [
      "<class 'tuple'>\n",
      "2\n"
     ]
    }
   ],
   "source": [
    "# Prompt the user to enter a list of tuples \n",
    "user_input = input(\"Enter a list of tuples : \") \n",
    " \n",
    "# Convert the user input string to a list of tuples using eval() \n",
    "tuple_list = eval(user_input) \n",
    "print(type(tuple_list))\n",
    "print(len(tuple_list))"
   ]
  }
 ],
 "metadata": {
  "kernelspec": {
   "display_name": "Python 3 (ipykernel)",
   "language": "python",
   "name": "python3"
  },
  "language_info": {
   "codemirror_mode": {
    "name": "ipython",
    "version": 3
   },
   "file_extension": ".py",
   "mimetype": "text/x-python",
   "name": "python",
   "nbconvert_exporter": "python",
   "pygments_lexer": "ipython3",
   "version": "3.12.4"
  }
 },
 "nbformat": 4,
 "nbformat_minor": 5
}
