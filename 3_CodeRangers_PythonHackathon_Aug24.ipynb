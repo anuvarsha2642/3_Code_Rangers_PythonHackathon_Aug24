{
 "cells": [
  {
   "cell_type": "code",
   "execution_count": null,
   "id": "aabc6621",
   "metadata": {},
   "outputs": [],
   "source": [
    "#Lets Update this file EveryDay as and when we finish"
   ]
  },
  {
   "cell_type": "code",
   "execution_count": 1,
   "id": "f1ed2d35",
   "metadata": {},
   "outputs": [],
   "source": [
    "file_path_Athletes=\"./Athletes.csv\"\n",
    "file_path_Kayaking=\"./Kayaking.csv\"\n",
    "file_path_Triathlon=\"./Triathlon.csv\"\n",
    "file_path_Fencing=\"./Fencing.csv\""
   ]
  },
  {
   "cell_type": "code",
   "execution_count": 2,
   "id": "7df4be3a",
   "metadata": {},
   "outputs": [],
   "source": [
    "import pandas as pd\n",
    "df_Athletes=pd.read_csv(file_path_Athletes)\n",
    "df_Kayaking=pd.read_csv(file_path_Kayaking)\n",
    "df_Triathlon=pd.read_csv(file_path_Triathlon)\n",
    "df_Fencing=pd.read_csv(file_path_Fencing)"
   ]
  },
  {
   "cell_type": "code",
   "execution_count": null,
   "id": "be717210",
   "metadata": {},
   "outputs": [],
   "source": []
  }
 ],
 "metadata": {
  "kernelspec": {
   "display_name": "Python 3 (ipykernel)",
   "language": "python",
   "name": "python3"
  },
  "language_info": {
   "codemirror_mode": {
    "name": "ipython",
    "version": 3
   },
   "file_extension": ".py",
   "mimetype": "text/x-python",
   "name": "python",
   "nbconvert_exporter": "python",
   "pygments_lexer": "ipython3",
   "version": "3.11.5"
  }
 },
 "nbformat": 4,
 "nbformat_minor": 5
}
