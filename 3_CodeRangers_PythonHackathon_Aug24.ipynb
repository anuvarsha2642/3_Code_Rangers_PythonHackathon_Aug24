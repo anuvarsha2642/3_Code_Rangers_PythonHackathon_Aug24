{
 "cells": [
  {
   "cell_type": "code",
   "execution_count": null,
   "id": "aabc6621",
   "metadata": {},
   "outputs": [],
   "source": [
    "#Please update our code in this file Every Day\n",
    "\n",
    "Q.65 [ 1, 2, 3, 4, 5], [ 6, 7, 8, 9, 10], [11, 12, 13, 14, 15], [16, 17, 18, 19, 20], [21, 22, 23, 24, 25], [26, 27, 28, 29, 30] Use array slicing to display elements 4,7,10,17.\"\n",
    "\n",
    "Q66. On average, how long did each participant spend at 200 watts?\n",
    "\n",
    "Q67. Athletes from which sport had the highest average cardiorespiratory fitness in terms of v02 max?\n",
    "\n",
    "Q68.What % of athletes exceeded 90% of max HR? (Max HR is calculated as 220-Age)\n",
    "\n",
    "Q69. What was the lowest heart rate recorded at a power wattage of 200\n",
    "\n",
    "Q70. On Average how long did most athletes spend at 75% of MaxHR (Max HR is calculated as 220-Age)\n",
    "\n",
    "Q71. Create a crosstab to show each sport as a column and each heart rate zone as rows with counts of rows that satisfy each condition as values\n",
    "\n",
    "Q72. Provide an example of a lambda function that multiplies any 2 input values.\n",
    "\n",
    "Q73. How long was athlete 17s warm up\n",
    "\n",
    "Q74. Take a students full name and reverse it using a for loop\n",
    "\n",
    "Q75. What was the maximum heart rate recorded during the test. Which athlete did it belong to? Display name, sport and HR\n",
    "\n",
    "Q76. np.arange(1,31).reshape(6,5),find array slicing to get the elements 2,5,13,25,30.\n",
    "\n",
    "Q77. Display a violin chart to show distribution of VO2Max against age.\n",
    "\n",
    "Q78. Create a heatmap that show heart rate zones by minutes and the number of athletes in each HR and each minute.\n",
    "\n",
    "Q79. Plot the Donut chart athlete distrubution by Gender\n",
    "\n",
    "Q80. find the size of a Tuple for any given input"
   ]
  },
  {
   "cell_type": "code",
   "execution_count": 1,
   "id": "f1ed2d35",
   "metadata": {},
   "outputs": [],
   "source": [
    "file_path_Athletes=\"./Athletes.csv\"\n",
    "file_path_Kayaking=\"./Kayaking.csv\"\n",
    "file_path_Triathlon=\"./Triathlon.csv\"\n",
    "file_path_Fencing=\"./Fencing.csv\""
   ]
  },
  {
   "cell_type": "code",
   "execution_count": 2,
   "id": "7df4be3a",
   "metadata": {},
   "outputs": [],
   "source": [
    "import pandas as pd\n",
    "df_Athletes=pd.read_csv(file_path_Athletes)\n",
    "df_Kayaking=pd.read_csv(file_path_Kayaking)\n",
    "df_Triathlon=pd.read_csv(file_path_Triathlon)\n",
    "df_Fencing=pd.read_csv(file_path_Fencing)"
   ]
  },
  {
   "cell_type": "code",
   "execution_count": null,
   "id": "be717210",
   "metadata": {},
   "outputs": [],
   "source": []
  }
 ],
 "metadata": {
  "kernelspec": {
   "display_name": "Python 3 (ipykernel)",
   "language": "python",
   "name": "python3"
  },
  "language_info": {
   "codemirror_mode": {
    "name": "ipython",
    "version": 3
   },
   "file_extension": ".py",
   "mimetype": "text/x-python",
   "name": "python",
   "nbconvert_exporter": "python",
   "pygments_lexer": "ipython3",
   "version": "3.11.5"
  }
 },
 "nbformat": 4,
 "nbformat_minor": 5
}
