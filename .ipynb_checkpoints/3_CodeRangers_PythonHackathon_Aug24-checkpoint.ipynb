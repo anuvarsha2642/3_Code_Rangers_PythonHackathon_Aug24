{
 "cells": [
  {
   "cell_type": "markdown",
   "id": "2f104c40-8923-487a-a830-cdc0359d19f9",
   "metadata": {},
   "source": [
    "# Python Hackathon August 2024 Team 3 - Code Rangers"
   ]
  },
  {
   "cell_type": "code",
   "execution_count": 12,
   "id": "aabc6621",
   "metadata": {},
   "outputs": [],
   "source": [
    "#import required libraries\n",
    "import numpy as np\n",
    "import pandas as pd\n",
    "\n"
   ]
  },
  {
   "cell_type": "code",
   "execution_count": 13,
   "id": "b242712f",
   "metadata": {},
   "outputs": [],
   "source": [
    "file_path_Athletes=\"./Athletes.csv\"\n",
    "file_path_Kayaking=\"./Kayaking.csv\"\n",
    "file_path_Triathlon=\"./Triathlon.csv\"\n",
    "file_path_Fencing=\"./Fencing.csv\""
   ]
  },
  {
   "cell_type": "code",
   "execution_count": 14,
   "id": "be78ef6f",
   "metadata": {},
   "outputs": [],
   "source": [
    "import pandas as pd\n",
    "df_Athletes=pd.read_csv(file_path_Athletes)\n",
    "df_Kayaking=pd.read_csv(file_path_Kayaking)\n",
    "df_Triathlon=pd.read_csv(file_path_Triathlon)\n",
    "df_Fencing=pd.read_csv(file_path_Fencing)"
   ]
  },
  {
   "cell_type": "markdown",
   "id": "fe0ba540-a58a-45a7-98aa-e5b32e152701",
   "metadata": {},
   "source": [
    "1. Join all sport-related tables to produce one dataframe that has all athletes values. The final table should only have the same 5 columns: ID, time,power,RR, vo2. Write this dataframe to an excel file."
   ]
  },
  {
   "cell_type": "code",
   "execution_count": 15,
   "id": "6a56fef1-1da9-4a8d-b4e3-63a344ef0419",
   "metadata": {},
   "outputs": [],
   "source": [
    "#concatenate all sports data to form a single dataframe\n",
    "df_data = pd.concat([df_Kayaking,df_Triathlon,df_Fencing],ignore_index=True)"
   ]
  },
  {
   "cell_type": "code",
   "execution_count": 16,
   "id": "ae760f13-9596-43c5-b8e9-9ca7d2d80dc5",
   "metadata": {},
   "outputs": [
    {
     "data": {
      "text/html": [
       "<div>\n",
       "<style scoped>\n",
       "    .dataframe tbody tr th:only-of-type {\n",
       "        vertical-align: middle;\n",
       "    }\n",
       "\n",
       "    .dataframe tbody tr th {\n",
       "        vertical-align: top;\n",
       "    }\n",
       "\n",
       "    .dataframe thead th {\n",
       "        text-align: right;\n",
       "    }\n",
       "</style>\n",
       "<table border=\"1\" class=\"dataframe\">\n",
       "  <thead>\n",
       "    <tr style=\"text-align: right;\">\n",
       "      <th></th>\n",
       "      <th>ID</th>\n",
       "      <th>time</th>\n",
       "      <th>RR</th>\n",
       "      <th>VO2</th>\n",
       "      <th>power</th>\n",
       "    </tr>\n",
       "  </thead>\n",
       "  <tbody>\n",
       "    <tr>\n",
       "      <th>count</th>\n",
       "      <td>52062.000000</td>\n",
       "      <td>52062.00000</td>\n",
       "      <td>50914.000000</td>\n",
       "      <td>52062.000000</td>\n",
       "      <td>52062.000000</td>\n",
       "    </tr>\n",
       "    <tr>\n",
       "      <th>mean</th>\n",
       "      <td>9.518766</td>\n",
       "      <td>547.45914</td>\n",
       "      <td>443.583808</td>\n",
       "      <td>1.539104</td>\n",
       "      <td>106.528754</td>\n",
       "    </tr>\n",
       "    <tr>\n",
       "      <th>std</th>\n",
       "      <td>5.043902</td>\n",
       "      <td>386.29623</td>\n",
       "      <td>212.585991</td>\n",
       "      <td>0.799706</td>\n",
       "      <td>88.603627</td>\n",
       "    </tr>\n",
       "    <tr>\n",
       "      <th>min</th>\n",
       "      <td>1.000000</td>\n",
       "      <td>-219.87200</td>\n",
       "      <td>252.000000</td>\n",
       "      <td>0.069354</td>\n",
       "      <td>0.000000</td>\n",
       "    </tr>\n",
       "    <tr>\n",
       "      <th>25%</th>\n",
       "      <td>5.000000</td>\n",
       "      <td>244.29500</td>\n",
       "      <td>352.000000</td>\n",
       "      <td>0.972290</td>\n",
       "      <td>0.000000</td>\n",
       "    </tr>\n",
       "    <tr>\n",
       "      <th>50%</th>\n",
       "      <td>10.000000</td>\n",
       "      <td>542.03800</td>\n",
       "      <td>412.000000</td>\n",
       "      <td>1.419143</td>\n",
       "      <td>95.000000</td>\n",
       "    </tr>\n",
       "    <tr>\n",
       "      <th>75%</th>\n",
       "      <td>14.000000</td>\n",
       "      <td>822.13900</td>\n",
       "      <td>484.000000</td>\n",
       "      <td>2.043474</td>\n",
       "      <td>170.000000</td>\n",
       "    </tr>\n",
       "    <tr>\n",
       "      <th>max</th>\n",
       "      <td>18.000000</td>\n",
       "      <td>1504.05600</td>\n",
       "      <td>30500.000000</td>\n",
       "      <td>4.576774</td>\n",
       "      <td>335.000000</td>\n",
       "    </tr>\n",
       "  </tbody>\n",
       "</table>\n",
       "</div>"
      ],
      "text/plain": [
       "                 ID         time            RR           VO2         power\n",
       "count  52062.000000  52062.00000  50914.000000  52062.000000  52062.000000\n",
       "mean       9.518766    547.45914    443.583808      1.539104    106.528754\n",
       "std        5.043902    386.29623    212.585991      0.799706     88.603627\n",
       "min        1.000000   -219.87200    252.000000      0.069354      0.000000\n",
       "25%        5.000000    244.29500    352.000000      0.972290      0.000000\n",
       "50%       10.000000    542.03800    412.000000      1.419143     95.000000\n",
       "75%       14.000000    822.13900    484.000000      2.043474    170.000000\n",
       "max       18.000000   1504.05600  30500.000000      4.576774    335.000000"
      ]
     },
     "execution_count": 16,
     "metadata": {},
     "output_type": "execute_result"
    }
   ],
   "source": [
    "#verify data\n",
    "df_data.describe()"
   ]
  },
  {
   "cell_type": "code",
   "execution_count": 27,
   "id": "a2579d0a-bc5e-4411-80b0-6401587524e8",
   "metadata": {},
   "outputs": [],
   "source": [
    "# Export Dataframe to Excel by eliminating index\n",
    "df_data.to_excel(\"V02Max_Sports.xlsx\",sheet_name=\"All_Sports\",index=False)"
   ]
  },
  {
   "cell_type": "markdown",
   "id": "c80c0e41-ef2f-45f5-b131-66540c63036e",
   "metadata": {},
   "source": [
    "2. Divide the rows into 3 parts: Warm up, GET(graded exercise test) and cool down using the data def. Label each row accordingly"
   ]
  },
  {
   "cell_type": "code",
   "execution_count": 17,
   "id": "4a7e0ae1-6f58-46d7-95f9-5ee2d29c40d2",
   "metadata": {},
   "outputs": [],
   "source": [
    "# cooldown = time>0 and power =0\n",
    "# warmup = time<0 and power =0\n",
    "# GET(graded exercise test) =time>0 and power>0\n",
    "\n",
    "df_data[\"stage\"] = \"\"\n",
    "df_data.loc[df_data[\"power\"] == 0, \"stage\"] = \"cooldown\"\n",
    "df_data.loc[df_data[\"time\"] < 0, \"stage\"] = \"warmup\"\n",
    "df_data.loc[df_data[\"power\"] > 0, \"stage\"] = \"GET\""
   ]
  },
  {
   "cell_type": "code",
   "execution_count": 18,
   "id": "7578828a-2dc1-461e-82d1-c9b56e17a509",
   "metadata": {},
   "outputs": [
    {
     "data": {
      "text/html": [
       "<div>\n",
       "<style scoped>\n",
       "    .dataframe tbody tr th:only-of-type {\n",
       "        vertical-align: middle;\n",
       "    }\n",
       "\n",
       "    .dataframe tbody tr th {\n",
       "        vertical-align: top;\n",
       "    }\n",
       "\n",
       "    .dataframe thead th {\n",
       "        text-align: right;\n",
       "    }\n",
       "</style>\n",
       "<table border=\"1\" class=\"dataframe\">\n",
       "  <thead>\n",
       "    <tr style=\"text-align: right;\">\n",
       "      <th></th>\n",
       "      <th>ID</th>\n",
       "      <th>time</th>\n",
       "      <th>RR</th>\n",
       "      <th>VO2</th>\n",
       "      <th>power</th>\n",
       "      <th>stage</th>\n",
       "    </tr>\n",
       "  </thead>\n",
       "  <tbody>\n",
       "    <tr>\n",
       "      <th>0</th>\n",
       "      <td>11</td>\n",
       "      <td>-168.600</td>\n",
       "      <td>727.0</td>\n",
       "      <td>0.287147</td>\n",
       "      <td>0</td>\n",
       "      <td>warmup</td>\n",
       "    </tr>\n",
       "    <tr>\n",
       "      <th>1</th>\n",
       "      <td>11</td>\n",
       "      <td>-167.872</td>\n",
       "      <td>728.0</td>\n",
       "      <td>0.287147</td>\n",
       "      <td>0</td>\n",
       "      <td>warmup</td>\n",
       "    </tr>\n",
       "    <tr>\n",
       "      <th>2</th>\n",
       "      <td>11</td>\n",
       "      <td>-167.148</td>\n",
       "      <td>724.0</td>\n",
       "      <td>0.287147</td>\n",
       "      <td>0</td>\n",
       "      <td>warmup</td>\n",
       "    </tr>\n",
       "    <tr>\n",
       "      <th>3</th>\n",
       "      <td>11</td>\n",
       "      <td>-166.484</td>\n",
       "      <td>664.0</td>\n",
       "      <td>0.320580</td>\n",
       "      <td>0</td>\n",
       "      <td>warmup</td>\n",
       "    </tr>\n",
       "    <tr>\n",
       "      <th>4</th>\n",
       "      <td>11</td>\n",
       "      <td>-165.836</td>\n",
       "      <td>648.0</td>\n",
       "      <td>0.320580</td>\n",
       "      <td>0</td>\n",
       "      <td>warmup</td>\n",
       "    </tr>\n",
       "  </tbody>\n",
       "</table>\n",
       "</div>"
      ],
      "text/plain": [
       "   ID     time     RR       VO2  power   stage\n",
       "0  11 -168.600  727.0  0.287147      0  warmup\n",
       "1  11 -167.872  728.0  0.287147      0  warmup\n",
       "2  11 -167.148  724.0  0.287147      0  warmup\n",
       "3  11 -166.484  664.0  0.320580      0  warmup\n",
       "4  11 -165.836  648.0  0.320580      0  warmup"
      ]
     },
     "execution_count": 18,
     "metadata": {},
     "output_type": "execute_result"
    }
   ],
   "source": [
    "# Verify top five rows\n",
    "df_data.head()"
   ]
  },
  {
   "cell_type": "code",
   "execution_count": 8,
   "id": "0d78aab8-a998-4630-952e-68ae3efcefdf",
   "metadata": {},
   "outputs": [
    {
     "data": {
      "text/plain": [
       "stage\n",
       "GET         38733\n",
       "cooldown     9088\n",
       "warmup       4241\n",
       "Name: count, dtype: int64"
      ]
     },
     "execution_count": 8,
     "metadata": {},
     "output_type": "execute_result"
    }
   ],
   "source": [
    "#verify the count of rows for each stage\n",
    "df_data[\"stage\"].value_counts()"
   ]
  },
  {
   "cell_type": "markdown",
   "id": "e1e64259-a201-42d6-83a3-138834faeb13",
   "metadata": {},
   "source": [
    "3. What was the average time each tested lasted excluding warm up for all athletes?"
   ]
  },
  {
   "cell_type": "code",
   "execution_count": 50,
   "id": "c0a2ef32-401a-49d1-8c1d-4f01856cb94d",
   "metadata": {},
   "outputs": [
    {
     "name": "stdout",
     "output_type": "stream",
     "text": [
      "The average time each tested lasted excluding warm up for all athletes is  1096.9759999999999\n"
     ]
    }
   ],
   "source": [
    "#get max time of individual athelete excluding warmup stage. calculate mean of max time.\n",
    "avg_test_time = df_data[df_data[\"stage\"] != \"warmup\"].groupby(\"ID\")[\"time\"].max().mean()\n",
    "print(\"The average time each tested lasted excluding warm up for all athletes is \",avg_test_time)"
   ]
  },
  {
   "cell_type": "markdown",
   "id": "a420bbe1",
   "metadata": {},
   "source": [
    "Q65.[ 1,  2,  3,  4,  5],\n",
    "    [ 6,  7,  8,  9, 10],\n",
    "    [11, 12, 13, 14, 15],\n",
    "    [16, 17, 18, 19, 20],\n",
    "    [21, 22, 23, 24, 25],\n",
    "    [26, 27, 28, 29, 30]  Use array slicing to display elements 4,7,10,17.\""
   ]
  },
  {
   "cell_type": "code",
   "execution_count": 19,
   "id": "3dbe7b3c",
   "metadata": {},
   "outputs": [
    {
     "name": "stdout",
     "output_type": "stream",
     "text": [
      "4 , 7 , 10 , 17\n"
     ]
    }
   ],
   "source": [
    "import numpy as np\n",
    "#Array\n",
    "array = np.array([[ 1,  2,  3,  4,  5],\n",
    "                  [ 6,  7,  8,  9, 10],\n",
    "                  [11, 12, 13, 14, 15],\n",
    "                  [16, 17, 18, 19, 20],\n",
    "                  [21, 22, 23, 24, 25],\n",
    "                  [26, 27, 28, 29, 30]])\n",
    "\n",
    "print(array[0,3],\",\",array[1,1],\",\",array[1,4],\",\",array[3,1])\n"
   ]
  },
  {
   "cell_type": "markdown",
   "id": "f6e64ffb",
   "metadata": {},
   "source": [
    "Q66.On average, how long did each participant spend at 200 watts?"
   ]
  },
  {
   "cell_type": "code",
   "execution_count": 23,
   "id": "58963bde",
   "metadata": {},
   "outputs": [
    {
     "name": "stdout",
     "output_type": "stream",
     "text": [
      " ID             name   avg time\n",
      "  3   Jackson Harper 750.426811\n",
      "  4     Liam Sanchez 747.390507\n",
      "  5     Ava Thompson 752.161512\n",
      "  6 Sophia Rodriguez 747.582241\n",
      "  9      Chloe Price 689.205778\n",
      " 10      Lily Jordan 736.167525\n",
      " 11 Isabella Griffin 755.487523\n",
      " 12      Caleb Dixon 748.662993\n",
      " 13    Mia Carpenter 747.937121\n",
      " 14  Harper Mitchell 760.236267\n",
      " 15    Mason Wallace 749.079365\n",
      " 16   Logan Anderson 758.173876\n",
      " 18       Owen Myers 734.506952\n"
     ]
    }
   ],
   "source": [
    "#Filtering power==200\n",
    "df_power_200 = df_data[df_data['power'] == 200 ]\n",
    "df_power_avg = df_power_200.groupby('ID')['time'].mean()\n",
    "\n",
    "df_Athletes['Name']=df_Athletes['First Name']+ ' '+df_Athletes['Last Name']\n",
    "df_merged = pd.merge(df_power_avg, df_Athletes[['ID', 'Name']], on='ID')\n",
    "\n",
    "\n",
    "\n",
    "df_merged = df_merged[['ID','Name', 'time']]\n",
    "df_merged.rename(columns={'ID':'ID','Name': 'name', 'time': 'avg time',}, inplace=True)\n",
    "\n",
    "print(df_merged.to_string(index=False))"
   ]
  },
  {
   "cell_type": "markdown",
   "id": "6b975457",
   "metadata": {},
   "source": [
    "Q67.Athletes from which sport had the highest average cardiorespiratory fitness in terms of v02 max?\n"
   ]
  },
  {
   "cell_type": "code",
   "execution_count": 21,
   "id": "a9f3c048",
   "metadata": {},
   "outputs": [],
   "source": [
    "df_Sum_VO2=df_data.groupby('ID')['VO2'].sum().reset_index()\n",
    "\n",
    "df_merge_VO2=pd.merge(df_Athletes, df_Sum_VO2[['ID', 'VO2']], on='ID')\n",
    "df_merge_VO2['VO2max']=df_merge_VO2['VO2']/df_merge_VO2['Weight']\n",
    "df_merge_VO2_Sport=df_merge_VO2.groupby('sport').VO2max.mean().reset_index()\n",
    "highest_VO2max_sport = df_merge_VO2_Sport.loc[df_merge_VO2_Sport['VO2max'].idxmax()]"
   ]
  },
  {
   "cell_type": "code",
   "execution_count": 55,
   "id": "c425dd00",
   "metadata": {},
   "outputs": [
    {
     "data": {
      "text/plain": [
       "sport     triathlon\n",
       "VO2max    77.499291\n",
       "Name: 2, dtype: object"
      ]
     },
     "execution_count": 55,
     "metadata": {},
     "output_type": "execute_result"
    }
   ],
   "source": [
    "highest_VO2max_sport"
   ]
  },
  {
   "cell_type": "code",
   "execution_count": 27,
   "id": "940c1dcc",
   "metadata": {
    "scrolled": true
   },
   "outputs": [
    {
     "data": {
      "text/html": [
       "<div>\n",
       "<style scoped>\n",
       "    .dataframe tbody tr th:only-of-type {\n",
       "        vertical-align: middle;\n",
       "    }\n",
       "\n",
       "    .dataframe tbody tr th {\n",
       "        vertical-align: top;\n",
       "    }\n",
       "\n",
       "    .dataframe thead th {\n",
       "        text-align: right;\n",
       "    }\n",
       "</style>\n",
       "<table border=\"1\" class=\"dataframe\">\n",
       "  <thead>\n",
       "    <tr style=\"text-align: right;\">\n",
       "      <th></th>\n",
       "      <th>ID</th>\n",
       "      <th>time</th>\n",
       "      <th>RR</th>\n",
       "      <th>VO2</th>\n",
       "      <th>power</th>\n",
       "      <th>stage</th>\n",
       "    </tr>\n",
       "  </thead>\n",
       "  <tbody>\n",
       "    <tr>\n",
       "      <th>0</th>\n",
       "      <td>11</td>\n",
       "      <td>-168.600</td>\n",
       "      <td>727.0</td>\n",
       "      <td>0.287147</td>\n",
       "      <td>0</td>\n",
       "      <td>warmup</td>\n",
       "    </tr>\n",
       "    <tr>\n",
       "      <th>1</th>\n",
       "      <td>11</td>\n",
       "      <td>-167.872</td>\n",
       "      <td>728.0</td>\n",
       "      <td>0.287147</td>\n",
       "      <td>0</td>\n",
       "      <td>warmup</td>\n",
       "    </tr>\n",
       "    <tr>\n",
       "      <th>2</th>\n",
       "      <td>11</td>\n",
       "      <td>-167.148</td>\n",
       "      <td>724.0</td>\n",
       "      <td>0.287147</td>\n",
       "      <td>0</td>\n",
       "      <td>warmup</td>\n",
       "    </tr>\n",
       "    <tr>\n",
       "      <th>3</th>\n",
       "      <td>11</td>\n",
       "      <td>-166.484</td>\n",
       "      <td>664.0</td>\n",
       "      <td>0.320580</td>\n",
       "      <td>0</td>\n",
       "      <td>warmup</td>\n",
       "    </tr>\n",
       "    <tr>\n",
       "      <th>4</th>\n",
       "      <td>11</td>\n",
       "      <td>-165.836</td>\n",
       "      <td>648.0</td>\n",
       "      <td>0.320580</td>\n",
       "      <td>0</td>\n",
       "      <td>warmup</td>\n",
       "    </tr>\n",
       "    <tr>\n",
       "      <th>...</th>\n",
       "      <td>...</td>\n",
       "      <td>...</td>\n",
       "      <td>...</td>\n",
       "      <td>...</td>\n",
       "      <td>...</td>\n",
       "      <td>...</td>\n",
       "    </tr>\n",
       "    <tr>\n",
       "      <th>52057</th>\n",
       "      <td>10</td>\n",
       "      <td>942.700</td>\n",
       "      <td>428.0</td>\n",
       "      <td>0.786363</td>\n",
       "      <td>0</td>\n",
       "      <td>cooldown</td>\n",
       "    </tr>\n",
       "    <tr>\n",
       "      <th>52058</th>\n",
       "      <td>10</td>\n",
       "      <td>943.124</td>\n",
       "      <td>424.0</td>\n",
       "      <td>0.786363</td>\n",
       "      <td>0</td>\n",
       "      <td>cooldown</td>\n",
       "    </tr>\n",
       "    <tr>\n",
       "      <th>52059</th>\n",
       "      <td>10</td>\n",
       "      <td>943.552</td>\n",
       "      <td>428.0</td>\n",
       "      <td>0.786363</td>\n",
       "      <td>0</td>\n",
       "      <td>cooldown</td>\n",
       "    </tr>\n",
       "    <tr>\n",
       "      <th>52060</th>\n",
       "      <td>10</td>\n",
       "      <td>943.976</td>\n",
       "      <td>424.0</td>\n",
       "      <td>0.786363</td>\n",
       "      <td>0</td>\n",
       "      <td>cooldown</td>\n",
       "    </tr>\n",
       "    <tr>\n",
       "      <th>52061</th>\n",
       "      <td>10</td>\n",
       "      <td>944.404</td>\n",
       "      <td>428.0</td>\n",
       "      <td>0.786363</td>\n",
       "      <td>0</td>\n",
       "      <td>cooldown</td>\n",
       "    </tr>\n",
       "  </tbody>\n",
       "</table>\n",
       "<p>52062 rows × 6 columns</p>\n",
       "</div>"
      ],
      "text/plain": [
       "       ID     time     RR       VO2  power     stage\n",
       "0      11 -168.600  727.0  0.287147      0    warmup\n",
       "1      11 -167.872  728.0  0.287147      0    warmup\n",
       "2      11 -167.148  724.0  0.287147      0    warmup\n",
       "3      11 -166.484  664.0  0.320580      0    warmup\n",
       "4      11 -165.836  648.0  0.320580      0    warmup\n",
       "...    ..      ...    ...       ...    ...       ...\n",
       "52057  10  942.700  428.0  0.786363      0  cooldown\n",
       "52058  10  943.124  424.0  0.786363      0  cooldown\n",
       "52059  10  943.552  428.0  0.786363      0  cooldown\n",
       "52060  10  943.976  424.0  0.786363      0  cooldown\n",
       "52061  10  944.404  428.0  0.786363      0  cooldown\n",
       "\n",
       "[52062 rows x 6 columns]"
      ]
     },
     "execution_count": 27,
     "metadata": {},
     "output_type": "execute_result"
    }
   ],
   "source": [
    "df_data"
   ]
  },
  {
   "cell_type": "markdown",
   "id": "68ee25ca",
   "metadata": {},
   "source": [
    "#Q68 What % of athletes exceeded 90% of max HR? (Max HR is calculated as 220-Age)"
   ]
  },
  {
   "cell_type": "code",
   "execution_count": 64,
   "id": "4961125b",
   "metadata": {},
   "outputs": [
    {
     "name": "stdout",
     "output_type": "stream",
     "text": [
      "Percentage of athletes with Heart Rate > 90% of maxHR: 6.91%\n"
     ]
    }
   ],
   "source": [
    "\n",
    "df_data_copy=df_data.copy()\n",
    "df_data_copy=pd.merge(df_data_copy,df_Athletes[['ID','age']],on='ID')\n",
    "df_data_copy['HeartRate_bpm']=60/(df_data_copy['RR']/1000) \n",
    "# Calculate maxHR as 220 - age\n",
    "df_data_copy['maxHR'] = 220 - df_data_copy['age']\n",
    "\n",
    "# Calculate 90% of maxHR\n",
    "df_data_copy['HR_90'] = df_data_copy['maxHR']*0.90\n",
    "\n",
    "# Filter rows where HeartRate_bpm is greater than or equal to 90% of maxHR\n",
    "filtered_result = df_data_copy[df_data_copy['HeartRate_bpm'] > df_data_copy['HR_90']]\n",
    "percentage = (len(filtered_result) / len(df_data_copy)) * 100\n",
    "\n",
    "print(f\"Percentage of athletes with Heart Rate > 90% of maxHR: {percentage:.2f}%\")\n"
   ]
  },
  {
   "cell_type": "markdown",
   "id": "c2520279",
   "metadata": {},
   "source": [
    "#Q69.What was the lowest heart rate recorded at a power wattage of 200"
   ]
  },
  {
   "cell_type": "code",
   "execution_count": 65,
   "id": "6187832c",
   "metadata": {},
   "outputs": [
    {
     "name": "stdout",
     "output_type": "stream",
     "text": [
      "The Lowest HeartRate recorded ata power Wattage of 200 is :  71.77\n"
     ]
    }
   ],
   "source": [
    "# Filter the rows where power is equal to 200\n",
    "filtered_df = df_data_copy[df_data_copy['power'] == 200]\n",
    "\n",
    "# Group the filtered DataFrame by 'ID' and calculate the minimum HeartRate_bpm for each group\n",
    "grouped_df = filtered_df.groupby('ID')['HeartRate_bpm'].min()\n",
    "\n",
    "# Display the result\n",
    "rounded_df=grouped_df.round(2)\n",
    "print(\"The Lowest HeartRate recorded ata power Wattage of 200 is : \",rounded_df.min())"
   ]
  },
  {
   "cell_type": "markdown",
   "id": "a50ccded",
   "metadata": {},
   "source": [
    "Q70.On Average how long did most athletes spend at 75% of MaxHR (Max HR is calculated as 220-Age)"
   ]
  },
  {
   "cell_type": "code",
   "execution_count": 67,
   "id": "5cf818a0",
   "metadata": {},
   "outputs": [
    {
     "data": {
      "text/html": [
       "<div>\n",
       "<style scoped>\n",
       "    .dataframe tbody tr th:only-of-type {\n",
       "        vertical-align: middle;\n",
       "    }\n",
       "\n",
       "    .dataframe tbody tr th {\n",
       "        vertical-align: top;\n",
       "    }\n",
       "\n",
       "    .dataframe thead th {\n",
       "        text-align: right;\n",
       "    }\n",
       "</style>\n",
       "<table border=\"1\" class=\"dataframe\">\n",
       "  <thead>\n",
       "    <tr style=\"text-align: right;\">\n",
       "      <th></th>\n",
       "      <th>ID</th>\n",
       "      <th>time</th>\n",
       "    </tr>\n",
       "  </thead>\n",
       "  <tbody>\n",
       "    <tr>\n",
       "      <th>0</th>\n",
       "      <td>1</td>\n",
       "      <td>463.144826</td>\n",
       "    </tr>\n",
       "    <tr>\n",
       "      <th>1</th>\n",
       "      <td>2</td>\n",
       "      <td>400.432221</td>\n",
       "    </tr>\n",
       "    <tr>\n",
       "      <th>2</th>\n",
       "      <td>3</td>\n",
       "      <td>998.309129</td>\n",
       "    </tr>\n",
       "    <tr>\n",
       "      <th>3</th>\n",
       "      <td>4</td>\n",
       "      <td>995.972448</td>\n",
       "    </tr>\n",
       "    <tr>\n",
       "      <th>4</th>\n",
       "      <td>5</td>\n",
       "      <td>818.720498</td>\n",
       "    </tr>\n",
       "    <tr>\n",
       "      <th>5</th>\n",
       "      <td>6</td>\n",
       "      <td>770.485261</td>\n",
       "    </tr>\n",
       "    <tr>\n",
       "      <th>6</th>\n",
       "      <td>7</td>\n",
       "      <td>482.628666</td>\n",
       "    </tr>\n",
       "    <tr>\n",
       "      <th>7</th>\n",
       "      <td>8</td>\n",
       "      <td>540.128857</td>\n",
       "    </tr>\n",
       "    <tr>\n",
       "      <th>8</th>\n",
       "      <td>9</td>\n",
       "      <td>487.720808</td>\n",
       "    </tr>\n",
       "    <tr>\n",
       "      <th>9</th>\n",
       "      <td>10</td>\n",
       "      <td>615.379955</td>\n",
       "    </tr>\n",
       "    <tr>\n",
       "      <th>10</th>\n",
       "      <td>11</td>\n",
       "      <td>1052.122841</td>\n",
       "    </tr>\n",
       "    <tr>\n",
       "      <th>11</th>\n",
       "      <td>12</td>\n",
       "      <td>961.323095</td>\n",
       "    </tr>\n",
       "    <tr>\n",
       "      <th>12</th>\n",
       "      <td>13</td>\n",
       "      <td>958.407877</td>\n",
       "    </tr>\n",
       "    <tr>\n",
       "      <th>13</th>\n",
       "      <td>14</td>\n",
       "      <td>727.665182</td>\n",
       "    </tr>\n",
       "    <tr>\n",
       "      <th>14</th>\n",
       "      <td>15</td>\n",
       "      <td>640.377848</td>\n",
       "    </tr>\n",
       "    <tr>\n",
       "      <th>15</th>\n",
       "      <td>16</td>\n",
       "      <td>720.307425</td>\n",
       "    </tr>\n",
       "    <tr>\n",
       "      <th>16</th>\n",
       "      <td>17</td>\n",
       "      <td>456.179177</td>\n",
       "    </tr>\n",
       "    <tr>\n",
       "      <th>17</th>\n",
       "      <td>18</td>\n",
       "      <td>591.699172</td>\n",
       "    </tr>\n",
       "  </tbody>\n",
       "</table>\n",
       "</div>"
      ],
      "text/plain": [
       "    ID         time\n",
       "0    1   463.144826\n",
       "1    2   400.432221\n",
       "2    3   998.309129\n",
       "3    4   995.972448\n",
       "4    5   818.720498\n",
       "5    6   770.485261\n",
       "6    7   482.628666\n",
       "7    8   540.128857\n",
       "8    9   487.720808\n",
       "9   10   615.379955\n",
       "10  11  1052.122841\n",
       "11  12   961.323095\n",
       "12  13   958.407877\n",
       "13  14   727.665182\n",
       "14  15   640.377848\n",
       "15  16   720.307425\n",
       "16  17   456.179177\n",
       "17  18   591.699172"
      ]
     },
     "execution_count": 67,
     "metadata": {},
     "output_type": "execute_result"
    }
   ],
   "source": [
    "# Merge the dataframes on the 'ID' column\n",
    "\n",
    "#df_data_heartRate = pd.merge(result, df_data[['ID', 'time', 'power','stage']], on='ID')\n",
    "# Calculate 75% of maxHR\n",
    "df_data_copy['HR_75%'] = df_data_copy['maxHR'] * 0.75\n",
    "\n",
    "# Filter the DataFrame to include only rows where HeartRate_bpm is between 70% and 90% of maxHR\n",
    "#df_filtered = df_data_copy[(df_data_copy['HeartRate_bpm'] >= df_data_copy['HR_75%'])]\n",
    "df_filtered = df_data_copy[(df_data_copy['HeartRate_bpm'] >= df_data_copy['HR_75%']) & \n",
    "                       (df_data_copy['HeartRate_bpm'] < df_data_copy['HR_90'])]\n",
    "\n",
    "average_time_per_athlete = df_filtered.groupby('ID')['time'].mean().reset_index()\n",
    "average_time_per_athlete\n",
    "\n",
    "\n"
   ]
  },
  {
   "cell_type": "markdown",
   "id": "7caa0d61",
   "metadata": {},
   "source": [
    "#Q71.Create a crosstab to show each sport as a column and each heart rate zone as rows with counts of rows that satisfy each condition as values"
   ]
  },
  {
   "cell_type": "code",
   "execution_count": 68,
   "id": "166bbbea",
   "metadata": {},
   "outputs": [
    {
     "data": {
      "text/html": [
       "<div>\n",
       "<style scoped>\n",
       "    .dataframe tbody tr th:only-of-type {\n",
       "        vertical-align: middle;\n",
       "    }\n",
       "\n",
       "    .dataframe tbody tr th {\n",
       "        vertical-align: top;\n",
       "    }\n",
       "\n",
       "    .dataframe thead th {\n",
       "        text-align: right;\n",
       "    }\n",
       "</style>\n",
       "<table border=\"1\" class=\"dataframe\">\n",
       "  <thead>\n",
       "    <tr style=\"text-align: right;\">\n",
       "      <th>zone</th>\n",
       "      <th>Zone 1</th>\n",
       "      <th>Zone 2</th>\n",
       "      <th>Zone 3</th>\n",
       "      <th>Zone 4</th>\n",
       "      <th>Zone 5</th>\n",
       "    </tr>\n",
       "    <tr>\n",
       "      <th>sport</th>\n",
       "      <th></th>\n",
       "      <th></th>\n",
       "      <th></th>\n",
       "      <th></th>\n",
       "      <th></th>\n",
       "    </tr>\n",
       "  </thead>\n",
       "  <tbody>\n",
       "    <tr>\n",
       "      <th>fencing</th>\n",
       "      <td>2258</td>\n",
       "      <td>3433</td>\n",
       "      <td>4269</td>\n",
       "      <td>6322</td>\n",
       "      <td>11321</td>\n",
       "    </tr>\n",
       "    <tr>\n",
       "      <th>kayak</th>\n",
       "      <td>1456</td>\n",
       "      <td>2621</td>\n",
       "      <td>3434</td>\n",
       "      <td>4464</td>\n",
       "      <td>6791</td>\n",
       "    </tr>\n",
       "    <tr>\n",
       "      <th>triathlon</th>\n",
       "      <td>464</td>\n",
       "      <td>318</td>\n",
       "      <td>1089</td>\n",
       "      <td>893</td>\n",
       "      <td>1781</td>\n",
       "    </tr>\n",
       "  </tbody>\n",
       "</table>\n",
       "</div>"
      ],
      "text/plain": [
       "zone       Zone 1  Zone 2  Zone 3  Zone 4  Zone 5\n",
       "sport                                            \n",
       "fencing      2258    3433    4269    6322   11321\n",
       "kayak        1456    2621    3434    4464    6791\n",
       "triathlon     464     318    1089     893    1781"
      ]
     },
     "execution_count": 68,
     "metadata": {},
     "output_type": "execute_result"
    }
   ],
   "source": [
    "df_data_zoning=df_data.copy()\n",
    "df_data_zoning=pd.merge(df_data,df_Athletes[['ID','age','sport']],on ='ID')\n",
    "df_data_zoning['HRMax']=220-df_data_zoning['age']\n",
    "df_data_zoning['HeartRateBPM'] = 60 / (df_data_zoning['RR'] / 1000)\n",
    "df_data_zoning['Heart_Rate_Percentage']=(df_data_zoning['HeartRateBPM']/df_data_zoning['HRMax'])*100\n",
    "#Zoning Code using pd.cut()\n",
    "\n",
    "df_data_zoning['zone'] = pd.cut(df_data_zoning['HeartRateBPM'], \n",
    "                          bins=[0, 100, 120, 135, 155, float('inf')], \n",
    "                          labels=['Zone 1', 'Zone 2', 'Zone 3', 'Zone 4', 'Zone 5'], \n",
    "                          right=False)\n",
    "\n",
    "ct = pd.crosstab(df_data_zoning['sport'], df_data_zoning['zone'])\n",
    "ct"
   ]
  },
  {
   "cell_type": "markdown",
   "id": "bfe77150",
   "metadata": {},
   "source": [
    "#Q72.Provide an example of a lambda function that multiplies any 2 input values."
   ]
  },
  {
   "cell_type": "code",
   "execution_count": 69,
   "id": "6ee0d0cc",
   "metadata": {},
   "outputs": [
    {
     "name": "stdout",
     "output_type": "stream",
     "text": [
      "6\n"
     ]
    }
   ],
   "source": [
    "def myfunc(n,y):\n",
    "  return lambda : n * y\n",
    "\n",
    "multiplier = myfunc(2,3)\n",
    "\n",
    "print(multiplier())"
   ]
  },
  {
   "cell_type": "markdown",
   "id": "0343819d",
   "metadata": {},
   "source": [
    "#Q73. How long was athlete 17s warm up"
   ]
  },
  {
   "cell_type": "code",
   "execution_count": 70,
   "id": "545e71de",
   "metadata": {},
   "outputs": [
    {
     "name": "stdout",
     "output_type": "stream",
     "text": [
      "   ID  time\n",
      "0  17  3.66\n"
     ]
    }
   ],
   "source": [
    "filtered_df = df_data_copy[(df_data_copy['stage'] == 'warmup') & (df_data_copy['ID'] == 17)]\n",
    "\n",
    "# Group by 'ID' and sum the 'time' column\n",
    "grouped_sum = ((filtered_df.groupby('ID')['time'].sum())/6000).abs().round(2).reset_index()\n",
    "print(grouped_sum)"
   ]
  },
  {
   "cell_type": "markdown",
   "id": "1a9ee15b",
   "metadata": {},
   "source": [
    "#Q74 Take a students full name and reverse it using a for loop"
   ]
  },
  {
   "cell_type": "code",
   "execution_count": 71,
   "id": "11600449",
   "metadata": {},
   "outputs": [
    {
     "name": "stdout",
     "output_type": "stream",
     "text": [
      "ardnesuS ahsravunA\n"
     ]
    }
   ],
   "source": [
    "def reverse(fullname):\n",
    "    reversed_name = \"\"\n",
    "    for i in range(len(fullname)):\n",
    "       reversed_name += fullname[(len(fullname)-1)-i]\n",
    "    return reversed_name\n",
    "\n",
    "print(reverse(\"Anuvarsha Susendra\"))"
   ]
  },
  {
   "cell_type": "markdown",
   "id": "99813d69",
   "metadata": {},
   "source": [
    "Q75.What was the maximum heart rate recorded during the test. Which athlete did it belong to? Display name, sport and HR"
   ]
  },
  {
   "cell_type": "code",
   "execution_count": 72,
   "id": "9d008b50",
   "metadata": {},
   "outputs": [
    {
     "name": "stdout",
     "output_type": "stream",
     "text": [
      "   ID             Name    sport  HeartRate_bpm\n",
      "0   1  Olivia Martinez  fencing     155.069723\n"
     ]
    }
   ],
   "source": [
    "#df_data_copy['HeartRate_bpm']=60/(df_data['RR']/1000) \n",
    "\n",
    "\n",
    "\n",
    "df_merged = pd.merge(df_Athletes, df_data_copy[['ID', 'HeartRate_bpm']], on='ID')\n",
    "\n",
    "# Calculate the mean Heart Rate for each athlete\n",
    "mean_heart_rate = df_merged.groupby('ID')['HeartRate_bpm'].mean().reset_index()\n",
    "\n",
    "# Merge mean heart rate with athlete details\n",
    "result = pd.merge(mean_heart_rate, df_Athletes, on='ID')\n",
    "\n",
    "max_heart_rate_row = result[result['HeartRate_bpm'] == result['HeartRate_bpm'].max()]\n",
    "\n",
    "print(max_heart_rate_row[['ID','Name','sport','HeartRate_bpm']])"
   ]
  },
  {
   "cell_type": "markdown",
   "id": "f02d90ba",
   "metadata": {},
   "source": [
    "Q76.np.arange(1,31).reshape(6,5),find array slicing to get the elements 2,5,13,25,30. #np.lib.stride_tricks.as_strided"
   ]
  },
  {
   "cell_type": "code",
   "execution_count": 73,
   "id": "d5ef751f",
   "metadata": {},
   "outputs": [
    {
     "name": "stdout",
     "output_type": "stream",
     "text": [
      "2 , 5 , 13 , 25 , 30\n"
     ]
    }
   ],
   "source": [
    "import numpy as np\n",
    "\n",
    "\n",
    "np.arange(1,31).reshape(6,5)\n",
    "\n",
    "print(array[0,1],\",\",array[0,4],\",\",array[2,2],\",\",array[4,4],\",\",array[5,4])"
   ]
  },
  {
   "cell_type": "markdown",
   "id": "b2fb7c73",
   "metadata": {},
   "source": [
    "Q77.Display a violin chart to show distribution of VO2Max against age.\n"
   ]
  },
  {
   "cell_type": "code",
   "execution_count": 75,
   "id": "27178a83",
   "metadata": {},
   "outputs": [
    {
     "data": {
      "text/plain": [
       "<Axes: xlabel='age', ylabel='VO2max'>"
      ]
     },
     "execution_count": 75,
     "metadata": {},
     "output_type": "execute_result"
    },
    {
     "data": {
      "image/png": "[encoded data removed]",
      "text/plain": [
       "<Figure size 640x480 with 1 Axes>"
      ]
     },
     "metadata": {},
     "output_type": "display_data"
    }
   ],
   "source": [
    "import seaborn as sns\n",
    "\n",
    "# plot\n",
    "sns.violinplot(x=df_merge_VO2['age'], y=df_merge_VO2['VO2max'])\n"
   ]
  },
  {
   "cell_type": "markdown",
   "id": "fb1eea26",
   "metadata": {},
   "source": [
    "Q78.Create a heatmap that show heart rate zones by minutes and the number of athletes in each HR and each minute."
   ]
  },
  {
   "cell_type": "code",
   "execution_count": 50,
   "id": "0941e239",
   "metadata": {},
   "outputs": [
    {
     "name": "stdout",
     "output_type": "stream",
     "text": [
      "zone      Zone 1  Zone 2  Zone 3  Zone 4  Zone 5\n",
      "time_min                                        \n",
      "0             18      18      18      18      18\n"
     ]
    },
    {
     "data": {
      "image/png": "[encoded data removed]",
      "text/plain": [
       "<Figure size 1200x800 with 2 Axes>"
      ]
     },
     "metadata": {},
     "output_type": "display_data"
    }
   ],
   "source": [
    "df_data_zoning['time_min'] = (df_data_zoning['time'] / 60000).astype(int)\n",
    "\n",
    "# Grouping to count unique athletes in each zone per minute\n",
    "grouped_df = df_data_zoning.groupby(['time_min', 'zone', 'ID']).size().reset_index(name='count')\n",
    "grouped_df = grouped_df.groupby(['time_min', 'zone'])['ID'].nunique().unstack(fill_value=0)\n",
    "\n",
    "# Check the grouped dataframe to ensure data is aggregated correctly\n",
    "print(grouped_df.head())\n",
    "\n",
    "# Plotting the heatmap\n",
    "plt.figure(figsize=(12, 8))\n",
    "sns.heatmap(grouped_df, cmap=\"viridis\", annot=True, fmt=\"d\")\n",
    "plt.title('Heatmap of Heart Rate Zones by Minutes (Unique Athletes)')\n",
    "plt.xlabel('Heart Rate Zone')\n",
    "plt.ylabel('Time (Minutes)')\n",
    "plt.show()"
   ]
  },
  {
   "cell_type": "markdown",
   "id": "de1fa6f4",
   "metadata": {},
   "source": [
    "#Q79.Plot the Donut chart athlete distrubution by Gender"
   ]
  },
  {
   "cell_type": "code",
   "execution_count": 51,
   "id": "dd044c29",
   "metadata": {},
   "outputs": [
    {
     "data": {
      "image/png": "[encoded data removed]",
      "text/plain": [
       "<Figure size 640x480 with 1 Axes>"
      ]
     },
     "metadata": {},
     "output_type": "display_data"
    }
   ],
   "source": [
    "import pandas as pd \n",
    "import matplotlib.pyplot as plt\n",
    "grouped_df = df_Athletes.groupby('Gender')['ID'].sum()\n",
    "  \n",
    "\n",
    "colors = ['#FF0000', '#0000FF']  \n",
    "explode = (0.05, 0.05)  \n",
    "grouped_df.plot.pie(\n",
    "    colors=colors,\n",
    "    labels=grouped_df.index, \n",
    "    autopct='%1.1f%%',\n",
    "    pctdistance=0.85,\n",
    "    explode=explode,\n",
    "    \n",
    "    startangle=140\n",
    ")\n",
    "\n",
    "centre_circle = plt.Circle((0, 0), 0.70, fc='white')\n",
    "fig = plt.gcf()  # Get current figure\n",
    "fig.gca().add_artist(centre_circle)\n",
    "\n",
    "\n",
    "plt.title('Athletes Distribution by Gender')\n",
    "\n",
    "plt.show()\n",
    "\n"
   ]
  },
  {
   "cell_type": "markdown",
   "id": "b6c3ec06",
   "metadata": {},
   "source": [
    "#Q80 find the size of a Tuple for any given input "
   ]
  },
  {
   "cell_type": "code",
   "execution_count": 52,
   "id": "45b3af36",
   "metadata": {},
   "outputs": [
    {
     "name": "stdout",
     "output_type": "stream",
     "text": [
      "Enter a list of tuples : \"ANu\",\"Varsha\"\n",
      "<class 'tuple'>\n",
      "2\n"
     ]
    }
   ],
   "source": [
    "# Prompt the user to enter a list of tuples \n",
    "user_input = input(\"Enter a list of tuples : \") \n",
    " \n",
    "# Convert the user input string to a list of tuples using eval() \n",
    "tuple_list = eval(user_input) \n",
    "print(type(tuple_list))\n",
    "print(len(tuple_list))"
   ]
  },
  {
   "cell_type": "code",
   "execution_count": null,
   "id": "972a88ef",
   "metadata": {},
   "outputs": [],
   "source": []
  },
  {
   "cell_type": "code",
   "execution_count": null,
   "id": "4bf508b6",
   "metadata": {},
   "outputs": [],
   "source": []
  }
 ],
 "metadata": {
  "kernelspec": {
   "display_name": "Python 3 (ipykernel)",
   "language": "python",
   "name": "python3"
  },
  "language_info": {
   "codemirror_mode": {
    "name": "ipython",
    "version": 3
   },
   "file_extension": ".py",
   "mimetype": "text/x-python",
   "name": "python",
   "nbconvert_exporter": "python",
   "pygments_lexer": "ipython3",
   "version": "3.11.5"
  }
 },
 "nbformat": 4,
 "nbformat_minor": 5
}
