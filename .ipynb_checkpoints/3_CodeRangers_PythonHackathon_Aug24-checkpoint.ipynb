{
 "cells": [
  {
   "cell_type": "markdown",
   "id": "2f104c40-8923-487a-a830-cdc0359d19f9",
   "metadata": {},
   "source": [
    "# Python Hackathon August 2024 Team 3 - Code Rangers"
   ]
  },
  {
   "cell_type": "code",
   "execution_count": 13,
   "id": "aabc6621",
   "metadata": {},
   "outputs": [],
   "source": [
    "#import required libraries\n",
    "import numpy as np\n",
    "import pandas as pd\n",
    "import warnings\n",
    "\n",
    "#ignore python warnings\n",
    "warnings.filterwarnings('ignore')"
   ]
  },
  {
   "cell_type": "markdown",
   "id": "fe0ba540-a58a-45a7-98aa-e5b32e152701",
   "metadata": {},
   "source": [
    "1. Join all sport-related tables to produce one dataframe that has all athletes values. The final table should only have the same 5 columns: ID, time,power,RR, vo2. Write this dataframe to an excel file."
   ]
  },
  {
   "cell_type": "code",
   "execution_count": 21,
   "id": "971baf20-79fa-423e-90a3-4de61abab91f",
   "metadata": {},
   "outputs": [],
   "source": [
    "#Read data from excel worksheets\n",
    "df_Kayaking =pd.read_excel(\"V02Max_Combined.xlsx\",sheet_name=\"Kayaking\")\n",
    "df_Athletes=pd.read_excel(\"V02Max_Combined.xlsx\",sheet_name=\"Athletes\")\n",
    "df_Triathlon=pd.read_excel(\"V02Max_Combined.xlsx\",sheet_name=\"Triathlon\")\n",
    "df_Fencing=pd.read_excel(\"V02Max_Combined.xlsx\",sheet_name=\"Fencing\")"
   ]
  },
  {
   "cell_type": "code",
   "execution_count": 23,
   "id": "6a56fef1-1da9-4a8d-b4e3-63a344ef0419",
   "metadata": {},
   "outputs": [],
   "source": [
    "#concatenate all sports data to form a single dataframe\n",
    "df_data = pd.concat([df_Kayaking,df_Triathlon,df_Fencing],ignore_index=True)"
   ]
  },
  {
   "cell_type": "code",
   "execution_count": 25,
   "id": "ae760f13-9596-43c5-b8e9-9ca7d2d80dc5",
   "metadata": {},
   "outputs": [
    {
     "data": {
      "text/html": [
       "<div>\n",
       "<style scoped>\n",
       "    .dataframe tbody tr th:only-of-type {\n",
       "        vertical-align: middle;\n",
       "    }\n",
       "\n",
       "    .dataframe tbody tr th {\n",
       "        vertical-align: top;\n",
       "    }\n",
       "\n",
       "    .dataframe thead th {\n",
       "        text-align: right;\n",
       "    }\n",
       "</style>\n",
       "<table border=\"1\" class=\"dataframe\">\n",
       "  <thead>\n",
       "    <tr style=\"text-align: right;\">\n",
       "      <th></th>\n",
       "      <th>ID</th>\n",
       "      <th>time</th>\n",
       "      <th>RR</th>\n",
       "      <th>VO2</th>\n",
       "      <th>power</th>\n",
       "    </tr>\n",
       "  </thead>\n",
       "  <tbody>\n",
       "    <tr>\n",
       "      <th>count</th>\n",
       "      <td>52062.000000</td>\n",
       "      <td>52062.00000</td>\n",
       "      <td>50914.000000</td>\n",
       "      <td>52062.000000</td>\n",
       "      <td>52062.000000</td>\n",
       "    </tr>\n",
       "    <tr>\n",
       "      <th>mean</th>\n",
       "      <td>9.518766</td>\n",
       "      <td>547.45914</td>\n",
       "      <td>443.583808</td>\n",
       "      <td>1.539104</td>\n",
       "      <td>106.528754</td>\n",
       "    </tr>\n",
       "    <tr>\n",
       "      <th>std</th>\n",
       "      <td>5.043902</td>\n",
       "      <td>386.29623</td>\n",
       "      <td>212.585991</td>\n",
       "      <td>0.799706</td>\n",
       "      <td>88.603627</td>\n",
       "    </tr>\n",
       "    <tr>\n",
       "      <th>min</th>\n",
       "      <td>1.000000</td>\n",
       "      <td>-219.87200</td>\n",
       "      <td>252.000000</td>\n",
       "      <td>0.069354</td>\n",
       "      <td>0.000000</td>\n",
       "    </tr>\n",
       "    <tr>\n",
       "      <th>25%</th>\n",
       "      <td>5.000000</td>\n",
       "      <td>244.29500</td>\n",
       "      <td>352.000000</td>\n",
       "      <td>0.972290</td>\n",
       "      <td>0.000000</td>\n",
       "    </tr>\n",
       "    <tr>\n",
       "      <th>50%</th>\n",
       "      <td>10.000000</td>\n",
       "      <td>542.03800</td>\n",
       "      <td>412.000000</td>\n",
       "      <td>1.419143</td>\n",
       "      <td>95.000000</td>\n",
       "    </tr>\n",
       "    <tr>\n",
       "      <th>75%</th>\n",
       "      <td>14.000000</td>\n",
       "      <td>822.13900</td>\n",
       "      <td>484.000000</td>\n",
       "      <td>2.043474</td>\n",
       "      <td>170.000000</td>\n",
       "    </tr>\n",
       "    <tr>\n",
       "      <th>max</th>\n",
       "      <td>18.000000</td>\n",
       "      <td>1504.05600</td>\n",
       "      <td>30500.000000</td>\n",
       "      <td>4.576774</td>\n",
       "      <td>335.000000</td>\n",
       "    </tr>\n",
       "  </tbody>\n",
       "</table>\n",
       "</div>"
      ],
      "text/plain": [
       "                 ID         time            RR           VO2         power\n",
       "count  52062.000000  52062.00000  50914.000000  52062.000000  52062.000000\n",
       "mean       9.518766    547.45914    443.583808      1.539104    106.528754\n",
       "std        5.043902    386.29623    212.585991      0.799706     88.603627\n",
       "min        1.000000   -219.87200    252.000000      0.069354      0.000000\n",
       "25%        5.000000    244.29500    352.000000      0.972290      0.000000\n",
       "50%       10.000000    542.03800    412.000000      1.419143     95.000000\n",
       "75%       14.000000    822.13900    484.000000      2.043474    170.000000\n",
       "max       18.000000   1504.05600  30500.000000      4.576774    335.000000"
      ]
     },
     "execution_count": 25,
     "metadata": {},
     "output_type": "execute_result"
    }
   ],
   "source": [
    "#verify data\n",
    "df_data.describe()"
   ]
  },
  {
   "cell_type": "code",
   "execution_count": 30,
   "id": "a2579d0a-bc5e-4411-80b0-6401587524e8",
   "metadata": {},
   "outputs": [],
   "source": [
    "# Export Dataframe to Excel by eliminating index\n",
    "df_data.to_excel(\"V02Max_Sports.xlsx\",sheet_name=\"All_Sports\",index=False)"
   ]
  },
  {

   "cell_type": "markdown",
   "id": "c80c0e41-ef2f-45f5-b131-66540c63036e",
   "metadata": {},
   "source": [
    "2. Divide the rows into 3 parts: Warm up, GET(graded exercise test) and cool down using the data def. Label each row accordingly"
   ]
  },
  {
   "cell_type": "code",
   "execution_count": 42,
   "id": "4a7e0ae1-6f58-46d7-95f9-5ee2d29c40d2",
   "metadata": {},
   "outputs": [],
   "source": [
    "# cooldown = time>0 and power =0\n",
    "# warmup = time<0 and power =0\n",
    "# GET(graded exercise test) =time>0 and power>0\n",
    "\n",
    "df_data[\"stage\"] = \"\"\n",
    "df_data.loc[df_data[\"power\"] == 0, \"stage\"] = \"cooldown\"\n",
    "df_data.loc[df_data[\"time\"] < 0, \"stage\"] = \"warmup\"\n",
    "df_data.loc[df_data[\"power\"] > 0, \"stage\"] = \"GET\""
   ]
  },
  {
   "cell_type": "code",
   "execution_count": 44,
   "id": "7578828a-2dc1-461e-82d1-c9b56e17a509",
   "metadata": {},
   "outputs": [
    {
     "data": {
      "text/html": [
       "<div>\n",
       "<style scoped>\n",
       "    .dataframe tbody tr th:only-of-type {\n",
       "        vertical-align: middle;\n",
       "    }\n",
       "\n",
       "    .dataframe tbody tr th {\n",
       "        vertical-align: top;\n",
       "    }\n",
       "\n",
       "    .dataframe thead th {\n",
       "        text-align: right;\n",
       "    }\n",
       "</style>\n",
       "<table border=\"1\" class=\"dataframe\">\n",
       "  <thead>\n",
       "    <tr style=\"text-align: right;\">\n",
       "      <th></th>\n",
       "      <th>ID</th>\n",
       "      <th>time</th>\n",
       "      <th>RR</th>\n",
       "      <th>VO2</th>\n",
       "      <th>power</th>\n",
       "      <th>stage</th>\n",
       "    </tr>\n",
       "  </thead>\n",
       "  <tbody>\n",
       "    <tr>\n",
       "      <th>0</th>\n",
       "      <td>11</td>\n",
       "      <td>-168.600</td>\n",
       "      <td>727.0</td>\n",
       "      <td>0.287147</td>\n",
       "      <td>0</td>\n",
       "      <td>warmup</td>\n",
       "    </tr>\n",
       "    <tr>\n",
       "      <th>1</th>\n",
       "      <td>11</td>\n",
       "      <td>-167.872</td>\n",
       "      <td>728.0</td>\n",
       "      <td>0.287147</td>\n",
       "      <td>0</td>\n",
       "      <td>warmup</td>\n",
       "    </tr>\n",
       "    <tr>\n",
       "      <th>2</th>\n",
       "      <td>11</td>\n",
       "      <td>-167.148</td>\n",
       "      <td>724.0</td>\n",
       "      <td>0.287147</td>\n",
       "      <td>0</td>\n",
       "      <td>warmup</td>\n",
       "    </tr>\n",
       "    <tr>\n",
       "      <th>3</th>\n",
       "      <td>11</td>\n",
       "      <td>-166.484</td>\n",
       "      <td>664.0</td>\n",
       "      <td>0.320580</td>\n",
       "      <td>0</td>\n",
       "      <td>warmup</td>\n",
       "    </tr>\n",
       "    <tr>\n",
       "      <th>4</th>\n",
       "      <td>11</td>\n",
       "      <td>-165.836</td>\n",
       "      <td>648.0</td>\n",
       "      <td>0.320580</td>\n",
       "      <td>0</td>\n",
       "      <td>warmup</td>\n",
       "    </tr>\n",
       "  </tbody>\n",
       "</table>\n",
       "</div>"
      ],
      "text/plain": [
       "   ID     time     RR       VO2  power   stage\n",
       "0  11 -168.600  727.0  0.287147      0  warmup\n",
       "1  11 -167.872  728.0  0.287147      0  warmup\n",
       "2  11 -167.148  724.0  0.287147      0  warmup\n",
       "3  11 -166.484  664.0  0.320580      0  warmup\n",
       "4  11 -165.836  648.0  0.320580      0  warmup"
      ]
     },
     "execution_count": 44,
     "metadata": {},
     "output_type": "execute_result"
    }
   ],
   "source": [
    "# Verify top five rows\n",
    "df_data.head()"

   "cell_type": "code",
   "execution_count": 1,
   "id": "f1ed2d35",
   "metadata": {},
   "outputs": [],
   "source": [
    "file_path_Athletes=\"./Athletes.csv\"\n",
    "file_path_Kayaking=\"./Kayaking.csv\"\n",
    "file_path_Triathlon=\"./Triathlon.csv\"\n",
    "file_path_Fencing=\"./Fencing.csv\""

   ]
  },
  {
   "cell_type": "code",

   "execution_count": 46,
   "id": "0d78aab8-a998-4630-952e-68ae3efcefdf",
   "metadata": {},
   "outputs": [
    {
     "data": {
      "text/plain": [
       "stage\n",
       "GET         38733\n",
       "cooldown     9088\n",
       "warmup       4241\n",
       "Name: count, dtype: int64"
      ]
     },
     "execution_count": 46,
     "metadata": {},
     "output_type": "execute_result"
    }
   ],
   "source": [
    "#verify the count of rows for each stage\n",
    "df_data[\"stage\"].value_counts()"
   ]
  },
  {
   "cell_type": "markdown",
   "id": "e1e64259-a201-42d6-83a3-138834faeb13",
   "metadata": {},
   "source": [
    "3. What was the average time each tested lasted excluding warm up for all athletes?"
   ]
  },
  {
   "cell_type": "code",
   "execution_count": 50,
   "id": "c0a2ef32-401a-49d1-8c1d-4f01856cb94d",
   "metadata": {},
   "outputs": [
    {
     "name": "stdout",
     "output_type": "stream",
     "text": [
      "The average time each tested lasted excluding warm up for all athletes is  1096.9759999999999\n"
     ]
    }
   ],
   "source": [
    "#get max time of individual athelete excluding warmup stage. calculate mean of max time.\n",
    "avg_test_time = df_data[df_data[\"stage\"] != \"warmup\"].groupby(\"ID\")[\"time\"].max().mean()\n",
    "print(\"The average time each tested lasted excluding warm up for all athletes is \",avg_test_time)"

   "execution_count": 2,
   "id": "7df4be3a",
   "metadata": {},
   "outputs": [],
   "source": [
    "import pandas as pd\n",
    "df_Athletes=pd.read_csv(file_path_Athletes)\n",
    "df_Kayaking=pd.read_csv(file_path_Kayaking)\n",
    "df_Triathlon=pd.read_csv(file_path_Triathlon)\n",
    "df_Fencing=pd.read_csv(file_path_Fencing)"

   ]
  },
  {
   "cell_type": "code",
   "execution_count": null,

   "id": "8c6c8e43-b85f-4264-b4e4-5d6cc6e3e035",

   "id": "be717210",

   "metadata": {},
   "outputs": [],
   "source": []
  }
 ],
 "metadata": {
  "kernelspec": {
   "display_name": "Python 3 (ipykernel)",
   "language": "python",
   "name": "python3"
  },
  "language_info": {
   "codemirror_mode": {
    "name": "ipython",
    "version": 3
   },
   "file_extension": ".py",
   "mimetype": "text/x-python",
   "name": "python",
   "nbconvert_exporter": "python",
   "pygments_lexer": "ipython3",
   "version": "3.12.4"
  }
 },
 "nbformat": 4,
 "nbformat_minor": 5
}
