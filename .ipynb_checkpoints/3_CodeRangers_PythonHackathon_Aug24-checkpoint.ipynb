{
 "cells": [
  {
   "cell_type": "markdown",
   "id": "2f104c40-8923-487a-a830-cdc0359d19f9",
   "metadata": {},
   "source": [
    "# Python Hackathon August 2024 Team 3 - Code Rangers"
   ]
  },
  {
   "cell_type": "code",
   "execution_count": 91,
   "id": "aabc6621",
   "metadata": {},
   "outputs": [],
   "source": [
    "#import required libraries\n",
    "import numpy as np\n",
    "import pandas as pd\n",
    "import seaborn as sns\n",
    "import matplotlib.pyplot as plt\n",
    "import warnings\n",
    "\n",
    "#ignore python warnings\n",
    "warnings.filterwarnings('ignore')"
   ]
  },
  {
   "cell_type": "markdown",
   "id": "fe0ba540-a58a-45a7-98aa-e5b32e152701",
   "metadata": {},
   "source": [
    "1. Join all sport-related tables to produce one dataframe that has all athletes values. The final table should only have the same 5 columns: ID, time,power,RR, vo2. Write this dataframe to an excel file."
   ]
  },
  {
   "cell_type": "code",
   "execution_count": 93,
   "id": "971baf20-79fa-423e-90a3-4de61abab91f",
   "metadata": {},
   "outputs": [],
   "source": [
    "#Read data from excel worksheets\n",
    "df_Kayaking =pd.read_excel(\"V02Max_Combined.xlsx\",sheet_name=\"Kayaking\")\n",
    "df_Athletes=pd.read_excel(\"V02Max_Combined.xlsx\",sheet_name=\"Athletes\")\n",
    "df_Triathlon=pd.read_excel(\"V02Max_Combined.xlsx\",sheet_name=\"Triathlon\")\n",
    "df_Fencing=pd.read_excel(\"V02Max_Combined.xlsx\",sheet_name=\"Fencing\")"
   ]
  },
  {
   "cell_type": "code",
   "execution_count": 94,
   "id": "6a56fef1-1da9-4a8d-b4e3-63a344ef0419",
   "metadata": {},
   "outputs": [],
   "source": [
    "#concatenate all sports data to form a single dataframe\n",
    "df_data = pd.concat([df_Fencing,df_Kayaking,df_Triathlon],ignore_index=True)"
   ]
  },
  {
   "cell_type": "code",
   "execution_count": 63,
   "id": "ae760f13-9596-43c5-b8e9-9ca7d2d80dc5",
   "metadata": {},
   "outputs": [
    {
     "data": {
      "text/html": [
       "<div>\n",
       "<style scoped>\n",
       "    .dataframe tbody tr th:only-of-type {\n",
       "        vertical-align: middle;\n",
       "    }\n",
       "\n",
       "    .dataframe tbody tr th {\n",
       "        vertical-align: top;\n",
       "    }\n",
       "\n",
       "    .dataframe thead th {\n",
       "        text-align: right;\n",
       "    }\n",
       "</style>\n",
       "<table border=\"1\" class=\"dataframe\">\n",
       "  <thead>\n",
       "    <tr style=\"text-align: right;\">\n",
       "      <th></th>\n",
       "      <th>ID</th>\n",
       "      <th>time</th>\n",
       "      <th>RR</th>\n",
       "      <th>VO2</th>\n",
       "      <th>power</th>\n",
       "    </tr>\n",
       "  </thead>\n",
       "  <tbody>\n",
       "    <tr>\n",
       "      <th>count</th>\n",
       "      <td>52062.000000</td>\n",
       "      <td>52062.00000</td>\n",
       "      <td>50914.000000</td>\n",
       "      <td>52062.000000</td>\n",
       "      <td>52062.000000</td>\n",
       "    </tr>\n",
       "    <tr>\n",
       "      <th>mean</th>\n",
       "      <td>9.518766</td>\n",
       "      <td>547.45914</td>\n",
       "      <td>443.583808</td>\n",
       "      <td>1.539104</td>\n",
       "      <td>106.528754</td>\n",
       "    </tr>\n",
       "    <tr>\n",
       "      <th>std</th>\n",
       "      <td>5.043902</td>\n",
       "      <td>386.29623</td>\n",
       "      <td>212.585991</td>\n",
       "      <td>0.799706</td>\n",
       "      <td>88.603627</td>\n",
       "    </tr>\n",
       "    <tr>\n",
       "      <th>min</th>\n",
       "      <td>1.000000</td>\n",
       "      <td>-219.87200</td>\n",
       "      <td>252.000000</td>\n",
       "      <td>0.069354</td>\n",
       "      <td>0.000000</td>\n",
       "    </tr>\n",
       "    <tr>\n",
       "      <th>25%</th>\n",
       "      <td>5.000000</td>\n",
       "      <td>244.29500</td>\n",
       "      <td>352.000000</td>\n",
       "      <td>0.972290</td>\n",
       "      <td>0.000000</td>\n",
       "    </tr>\n",
       "    <tr>\n",
       "      <th>50%</th>\n",
       "      <td>10.000000</td>\n",
       "      <td>542.03800</td>\n",
       "      <td>412.000000</td>\n",
       "      <td>1.419143</td>\n",
       "      <td>95.000000</td>\n",
       "    </tr>\n",
       "    <tr>\n",
       "      <th>75%</th>\n",
       "      <td>14.000000</td>\n",
       "      <td>822.13900</td>\n",
       "      <td>484.000000</td>\n",
       "      <td>2.043474</td>\n",
       "      <td>170.000000</td>\n",
       "    </tr>\n",
       "    <tr>\n",
       "      <th>max</th>\n",
       "      <td>18.000000</td>\n",
       "      <td>1504.05600</td>\n",
       "      <td>30500.000000</td>\n",
       "      <td>4.576774</td>\n",
       "      <td>335.000000</td>\n",
       "    </tr>\n",
       "  </tbody>\n",
       "</table>\n",
       "</div>"
      ],
      "text/plain": [
       "                 ID         time            RR           VO2         power\n",
       "count  52062.000000  52062.00000  50914.000000  52062.000000  52062.000000\n",
       "mean       9.518766    547.45914    443.583808      1.539104    106.528754\n",
       "std        5.043902    386.29623    212.585991      0.799706     88.603627\n",
       "min        1.000000   -219.87200    252.000000      0.069354      0.000000\n",
       "25%        5.000000    244.29500    352.000000      0.972290      0.000000\n",
       "50%       10.000000    542.03800    412.000000      1.419143     95.000000\n",
       "75%       14.000000    822.13900    484.000000      2.043474    170.000000\n",
       "max       18.000000   1504.05600  30500.000000      4.576774    335.000000"
      ]
     },
     "execution_count": 63,
     "metadata": {},
     "output_type": "execute_result"
    }
   ],
   "source": [
    "#verify data\n",
    "df_data.describe()"
   ]
  },
  {
   "cell_type": "code",
   "execution_count": 65,
   "id": "a2579d0a-bc5e-4411-80b0-6401587524e8",
   "metadata": {},
   "outputs": [],
   "source": [
    "# Export Dataframe to Excel by eliminating index\n",
    "df_data.to_excel(\"V02Max_Sports.xlsx\",sheet_name=\"All_Sports\",index=False)"
   ]
  },
  {
   "cell_type": "markdown",
   "id": "c80c0e41-ef2f-45f5-b131-66540c63036e",
   "metadata": {},
   "source": [
    "2. Divide the rows into 3 parts: Warm up, GET(graded exercise test) and cool down using the data def. Label each row accordingly"
   ]
  },
  {
   "cell_type": "code",
   "execution_count": 97,
   "id": "4a7e0ae1-6f58-46d7-95f9-5ee2d29c40d2",
   "metadata": {},
   "outputs": [],
   "source": [
    "# cooldown = time>0 and power =0\n",
    "# warmup = time<0 and power =0\n",
    "# GET(graded exercise test) =time>0 and power>0\n",
    "\n",
    "df_data[\"stage\"] = \"\"\n",
    "df_data.loc[df_data[\"power\"] == 0, \"stage\"] = \"cooldown\"\n",
    "df_data.loc[df_data[\"time\"] < 0, \"stage\"] = \"warmup\"\n",
    "df_data.loc[df_data[\"power\"] > 0, \"stage\"] = \"GET\""
   ]
  },
  {
   "cell_type": "code",
   "execution_count": 69,
   "id": "7578828a-2dc1-461e-82d1-c9b56e17a509",
   "metadata": {},
   "outputs": [
    {
     "data": {
      "text/html": [
       "<div>\n",
       "<style scoped>\n",
       "    .dataframe tbody tr th:only-of-type {\n",
       "        vertical-align: middle;\n",
       "    }\n",
       "\n",
       "    .dataframe tbody tr th {\n",
       "        vertical-align: top;\n",
       "    }\n",
       "\n",
       "    .dataframe thead th {\n",
       "        text-align: right;\n",
       "    }\n",
       "</style>\n",
       "<table border=\"1\" class=\"dataframe\">\n",
       "  <thead>\n",
       "    <tr style=\"text-align: right;\">\n",
       "      <th></th>\n",
       "      <th>ID</th>\n",
       "      <th>time</th>\n",
       "      <th>RR</th>\n",
       "      <th>VO2</th>\n",
       "      <th>power</th>\n",
       "      <th>stage</th>\n",
       "    </tr>\n",
       "  </thead>\n",
       "  <tbody>\n",
       "    <tr>\n",
       "      <th>0</th>\n",
       "      <td>1</td>\n",
       "      <td>-130.840</td>\n",
       "      <td>672.0</td>\n",
       "      <td>0.302008</td>\n",
       "      <td>0</td>\n",
       "      <td>warmup</td>\n",
       "    </tr>\n",
       "    <tr>\n",
       "      <th>1</th>\n",
       "      <td>1</td>\n",
       "      <td>-130.168</td>\n",
       "      <td>672.0</td>\n",
       "      <td>0.302008</td>\n",
       "      <td>0</td>\n",
       "      <td>warmup</td>\n",
       "    </tr>\n",
       "    <tr>\n",
       "      <th>2</th>\n",
       "      <td>1</td>\n",
       "      <td>-129.536</td>\n",
       "      <td>632.0</td>\n",
       "      <td>0.301336</td>\n",
       "      <td>0</td>\n",
       "      <td>warmup</td>\n",
       "    </tr>\n",
       "    <tr>\n",
       "      <th>3</th>\n",
       "      <td>1</td>\n",
       "      <td>-128.824</td>\n",
       "      <td>712.0</td>\n",
       "      <td>0.301336</td>\n",
       "      <td>0</td>\n",
       "      <td>warmup</td>\n",
       "    </tr>\n",
       "    <tr>\n",
       "      <th>4</th>\n",
       "      <td>1</td>\n",
       "      <td>-127.948</td>\n",
       "      <td>876.0</td>\n",
       "      <td>0.301336</td>\n",
       "      <td>0</td>\n",
       "      <td>warmup</td>\n",
       "    </tr>\n",
       "  </tbody>\n",
       "</table>\n",
       "</div>"
      ],
      "text/plain": [
       "   ID     time     RR       VO2  power   stage\n",
       "0   1 -130.840  672.0  0.302008      0  warmup\n",
       "1   1 -130.168  672.0  0.302008      0  warmup\n",
       "2   1 -129.536  632.0  0.301336      0  warmup\n",
       "3   1 -128.824  712.0  0.301336      0  warmup\n",
       "4   1 -127.948  876.0  0.301336      0  warmup"
      ]
     },
     "execution_count": 69,
     "metadata": {},
     "output_type": "execute_result"
    }
   ],
   "source": [
    "# Verify top five rows\n",
    "df_data.head()"
   ]
  },
  {
   "cell_type": "code",
   "execution_count": 99,
   "id": "0d78aab8-a998-4630-952e-68ae3efcefdf",
   "metadata": {},
   "outputs": [
    {
     "data": {
      "text/plain": [
       "stage\n",
       "GET         38733\n",
       "cooldown     9088\n",
       "warmup       4241\n",
       "Name: count, dtype: int64"
      ]
     },
     "execution_count": 99,
     "metadata": {},
     "output_type": "execute_result"
    }
   ],
   "source": [
    "#verify the count of rows for each stage\n",
    "df_data[\"stage\"].value_counts()"
   ]
  },
  {
   "cell_type": "markdown",
   "id": "e1e64259-a201-42d6-83a3-138834faeb13",
   "metadata": {},
   "source": [
    "3. What was the average time each tested lasted excluding warm up for all athletes?"
   ]
  },
  {
   "cell_type": "code",
   "execution_count": 73,
   "id": "c0a2ef32-401a-49d1-8c1d-4f01856cb94d",
   "metadata": {},
   "outputs": [
    {
     "name": "stdout",
     "output_type": "stream",
     "text": [
      "The average time each tested lasted excluding warm up for all athletes is  1096.9759999999999\n"
     ]
    }
   ],
   "source": [
    "#get max time of individual athelete excluding warmup stage. calculate mean of max time.\n",
    "avg_test_time = df_data[df_data[\"stage\"] != \"warmup\"].groupby(\"ID\")[\"time\"].max().mean()\n",
    "print(\"The average time each tested lasted excluding warm up for all athletes is \",avg_test_time)"
   ]
  },
  {
   "cell_type": "markdown",
   "id": "eb4137a7-8874-49d3-a1e3-100b272444fd",
   "metadata": {},
   "source": [
    "4. Athletes from which sport had the highest average cardiorespiratory fitness in terms of HRV?"
   ]
  },
  {
   "cell_type": "code",
   "execution_count": 101,
   "id": "900f4a15-daaf-4b80-a808-7bcbd19ca786",
   "metadata": {},
   "outputs": [],
   "source": [
    "df_RR = df_data.copy()\n",
    "#calculated differences of RR_intervals\n",
    "df_RR[\"HRV\"]= df_RR.groupby(\"ID\")[\"RR\"].diff()\n",
    "# Calculated HRV as standard deviation of RR_interval diffrences and updated to the athelete dataframe. \n",
    "df_Athletes = pd.merge(df_Athletes,df_RR.groupby(\"ID\")[\"HRV\"].std(), on=\"ID\")"
   ]
  },
  {
   "cell_type": "code",
   "execution_count": 103,
   "id": "7fd60cf4-7212-4328-987e-c957f71fbcc3",
   "metadata": {},
   "outputs": [
    {
     "name": "stdout",
     "output_type": "stream",
     "text": [
      "The sport that has the highest average cardiorespiratory fitness in terms of HRV is sport\n",
      "kayak    170.640909\n",
      "Name: HRV, dtype: float64\n"
     ]
    }
   ],
   "source": [
    "#calculated mean HRV value for each sport and displyed the highest average sport\n",
    "high_HRV_sport=df_Athletes.groupby(\"sport\")[\"HRV\"].mean().sort_values(ascending=False).head(1)\n",
    "print(\"The sport that has the highest average cardiorespiratory fitness in terms of HRV is\",high_HRV_sport)"
   ]
  },
  {
   "cell_type": "markdown",
   "id": "3e9aff0b-0681-4d55-84eb-419cf9a2b479",
   "metadata": {},
   "source": [
    "5. What was the average time each test lasted (including warm up) for all athletes?"
   ]
  },
  {
   "cell_type": "code",
   "execution_count": 105,
   "id": "f7799f50-12d6-4fb5-b1d0-24632c69ba0a",
   "metadata": {},
   "outputs": [
    {
     "name": "stdout",
     "output_type": "stream",
     "text": [
      "The average time each tested lasted including warm up for all athletes is  1277.8059999999998\n"
     ]
    }
   ],
   "source": [
    "#total test time calculated as difference between the maximum and minimum of time\n",
    "total_time_taken= df_data.groupby(\"ID\")[\"time\"].max() - df_data.groupby(\"ID\")[\"time\"].min()\n",
    "avg_total_time = total_time_taken.mean()\n",
    "print(\"The average time each tested lasted including warm up for all athletes is \",avg_total_time)"
   ]
  },
  {
   "cell_type": "markdown",
   "id": "1b284a09-1252-4f20-97a5-12d9daa0ef7c",
   "metadata": {},
   "source": [
    "8. What are the names of the kayaking athletes?"
   ]
  },
  {
   "cell_type": "code",
   "execution_count": 107,
   "id": "aefd5657-86cb-4aad-af7a-5709003de1e9",
   "metadata": {},
   "outputs": [
    {
     "name": "stdout",
     "output_type": "stream",
     "text": [
      "The names of the kayaking athletes are :\n",
      "['Isabella Griffin' 'Caleb Dixon' 'Mia Carpenter' 'Harper Mitchell'\n",
      " 'Mason Wallace' 'Logan Anderson']\n"
     ]
    }
   ],
   "source": [
    "#filterd athelets with sport as kayak and printed their names\n",
    "df_Athletes_kayak = df_Athletes[df_Athletes[\"sport\"]==\"kayak\"]\n",
    "print(\"The names of the kayaking athletes are :\")\n",
    "print(df_Athletes_kayak[\"First Name\"].values + \" \" + df_Athletes_kayak[\"Last Name\"].values)"
   ]
  },
  {
   "cell_type": "markdown",
   "id": "79585e28-0f25-4f6c-b65c-caff912b43a1",
   "metadata": {},
   "source": [
    "9. What was the average HRV of the triathletes?"
   ]
  },
  {
   "cell_type": "code",
   "execution_count": 109,
   "id": "13b80452-e391-45a6-a5e0-2ed1a8775732",
   "metadata": {},
   "outputs": [
    {
     "name": "stdout",
     "output_type": "stream",
     "text": [
      "The average HRV of triathletes is :  29.293777318936115\n"
     ]
    }
   ],
   "source": [
    "#From HRV calcultaed from 4th question calculated the mean of triathlon athletes \n",
    "print(\"The average HRV of triathletes is : \",df_Athletes[df_Athletes[\"sport\"]==\"triathlon\"][\"HRV\"].mean())"
   ]
  },
  {
   "cell_type": "markdown",
   "id": "9eeb097e-5682-468a-8cbe-a94cd0fe4b71",
   "metadata": {},
   "source": [
    "12. What were the Highest 3 V02 Maxes recorded. Display all 3 names, sport and personal V02 Maxes."
   ]
  },
  {
   "cell_type": "code",
   "execution_count": 117,
   "id": "63bf4c4a-765f-4ef9-8d82-d4ef5d757dc9",
   "metadata": {},
   "outputs": [],
   "source": [
    "#Calculated sum of VO2 and added a temp column (VO2) in Athletes table\n",
    "df_Athletes = pd.merge(df_Athletes,df_data.groupby(\"ID\")[\"VO2\"].sum(), on=\"ID\")\n",
    "#calculated VO2 max as sum of V02 by weight of Athlete\n",
    "df_Athletes[\"VO2_max\"]= df_Athletes[\"VO2\"]/df_Athletes[\"Weight\"]\n",
    "#dropped the temp column VO2\n",
    "df_Athletes=df_Athletes.drop(\"VO2\",axis=1)"
   ]
  },
  {
   "cell_type": "code",
   "execution_count": 119,
   "id": "e3ca3bbf-4e94-4f3a-a572-c8b677084dd6",
   "metadata": {},
   "outputs": [
    {
     "name": "stdout",
     "output_type": "stream",
     "text": [
      "The highest three VO2_max are for the following athletes :\n"
     ]
    },
    {
     "data": {
      "text/html": [
       "<div>\n",
       "<style scoped>\n",
       "    .dataframe tbody tr th:only-of-type {\n",
       "        vertical-align: middle;\n",
       "    }\n",
       "\n",
       "    .dataframe tbody tr th {\n",
       "        vertical-align: top;\n",
       "    }\n",
       "\n",
       "    .dataframe thead th {\n",
       "        text-align: right;\n",
       "    }\n",
       "</style>\n",
       "<table border=\"1\" class=\"dataframe\">\n",
       "  <thead>\n",
       "    <tr style=\"text-align: right;\">\n",
       "      <th></th>\n",
       "      <th>First Name</th>\n",
       "      <th>Last Name</th>\n",
       "      <th>sport</th>\n",
       "      <th>VO2_max</th>\n",
       "    </tr>\n",
       "  </thead>\n",
       "  <tbody>\n",
       "    <tr>\n",
       "      <th>0</th>\n",
       "      <td>Caleb</td>\n",
       "      <td>Dixon</td>\n",
       "      <td>kayak</td>\n",
       "      <td>92.258212</td>\n",
       "    </tr>\n",
       "    <tr>\n",
       "      <th>1</th>\n",
       "      <td>Mia</td>\n",
       "      <td>Carpenter</td>\n",
       "      <td>kayak</td>\n",
       "      <td>90.758693</td>\n",
       "    </tr>\n",
       "    <tr>\n",
       "      <th>2</th>\n",
       "      <td>Isabella</td>\n",
       "      <td>Griffin</td>\n",
       "      <td>kayak</td>\n",
       "      <td>89.586903</td>\n",
       "    </tr>\n",
       "  </tbody>\n",
       "</table>\n",
       "</div>"
      ],
      "text/plain": [
       "  First Name  Last Name  sport    VO2_max\n",
       "0      Caleb      Dixon  kayak  92.258212\n",
       "1        Mia  Carpenter  kayak  90.758693\n",
       "2   Isabella    Griffin  kayak  89.586903"
      ]
     },
     "execution_count": 119,
     "metadata": {},
     "output_type": "execute_result"
    }
   ],
   "source": [
    "#Displayed the top three VO2_max Athletes\n",
    "print(\"The highest three VO2_max are for the following athletes :\")\n",
    "df_Athletes.sort_values(by=\"VO2_max\",ascending=False)[[\"First Name\",\"Last Name\",\"sport\",\"VO2_max\"]].head(3).reset_index(drop=True)"
   ]
  },
  {
   "cell_type": "markdown",
   "id": "ff99fb3f-1792-48e5-b979-e9a7585ee149",
   "metadata": {},
   "source": [
    "13. Calculate the year of birth of each athlete and store it as a column in the tables."
   ]
  },
  {
   "cell_type": "code",
   "execution_count": 122,
   "id": "3e8fb177-b849-496d-82f2-850895a00408",
   "metadata": {},
   "outputs": [
    {
     "data": {
      "text/html": [
       "<div>\n",
       "<style scoped>\n",
       "    .dataframe tbody tr th:only-of-type {\n",
       "        vertical-align: middle;\n",
       "    }\n",
       "\n",
       "    .dataframe tbody tr th {\n",
       "        vertical-align: top;\n",
       "    }\n",
       "\n",
       "    .dataframe thead th {\n",
       "        text-align: right;\n",
       "    }\n",
       "</style>\n",
       "<table border=\"1\" class=\"dataframe\">\n",
       "  <thead>\n",
       "    <tr style=\"text-align: right;\">\n",
       "      <th></th>\n",
       "      <th>ID</th>\n",
       "      <th>age</th>\n",
       "      <th>Weight</th>\n",
       "      <th>Height</th>\n",
       "      <th>P_vt1</th>\n",
       "      <th>P_vt2</th>\n",
       "      <th>sport</th>\n",
       "      <th>Gender</th>\n",
       "      <th>Ethnicity</th>\n",
       "      <th>First Name</th>\n",
       "      <th>Last Name</th>\n",
       "      <th>HRV</th>\n",
       "      <th>BMI</th>\n",
       "      <th>VO2_max</th>\n",
       "      <th>birth_year</th>\n",
       "    </tr>\n",
       "  </thead>\n",
       "  <tbody>\n",
       "    <tr>\n",
       "      <th>0</th>\n",
       "      <td>1</td>\n",
       "      <td>15</td>\n",
       "      <td>53.7</td>\n",
       "      <td>161</td>\n",
       "      <td>50</td>\n",
       "      <td>140</td>\n",
       "      <td>fencing</td>\n",
       "      <td>Female</td>\n",
       "      <td>African</td>\n",
       "      <td>Olivia</td>\n",
       "      <td>Martinez</td>\n",
       "      <td>25.844717</td>\n",
       "      <td>20.716793</td>\n",
       "      <td>42.807730</td>\n",
       "      <td>2002</td>\n",
       "    </tr>\n",
       "    <tr>\n",
       "      <th>1</th>\n",
       "      <td>2</td>\n",
       "      <td>15</td>\n",
       "      <td>56.2</td>\n",
       "      <td>162</td>\n",
       "      <td>80</td>\n",
       "      <td>127</td>\n",
       "      <td>fencing</td>\n",
       "      <td>Male</td>\n",
       "      <td>African</td>\n",
       "      <td>Ethan</td>\n",
       "      <td>Reynolds</td>\n",
       "      <td>40.725284</td>\n",
       "      <td>21.414419</td>\n",
       "      <td>38.632602</td>\n",
       "      <td>2002</td>\n",
       "    </tr>\n",
       "    <tr>\n",
       "      <th>2</th>\n",
       "      <td>3</td>\n",
       "      <td>16</td>\n",
       "      <td>89.9</td>\n",
       "      <td>191</td>\n",
       "      <td>155</td>\n",
       "      <td>300</td>\n",
       "      <td>fencing</td>\n",
       "      <td>Male</td>\n",
       "      <td>White</td>\n",
       "      <td>Jackson</td>\n",
       "      <td>Harper</td>\n",
       "      <td>20.398306</td>\n",
       "      <td>24.642965</td>\n",
       "      <td>69.705657</td>\n",
       "      <td>2001</td>\n",
       "    </tr>\n",
       "    <tr>\n",
       "      <th>3</th>\n",
       "      <td>4</td>\n",
       "      <td>16</td>\n",
       "      <td>76.5</td>\n",
       "      <td>180</td>\n",
       "      <td>215</td>\n",
       "      <td>275</td>\n",
       "      <td>fencing</td>\n",
       "      <td>Male</td>\n",
       "      <td>White</td>\n",
       "      <td>Liam</td>\n",
       "      <td>Sanchez</td>\n",
       "      <td>33.334630</td>\n",
       "      <td>23.611111</td>\n",
       "      <td>76.989878</td>\n",
       "      <td>2001</td>\n",
       "    </tr>\n",
       "    <tr>\n",
       "      <th>4</th>\n",
       "      <td>5</td>\n",
       "      <td>17</td>\n",
       "      <td>76.4</td>\n",
       "      <td>186</td>\n",
       "      <td>110</td>\n",
       "      <td>172</td>\n",
       "      <td>fencing</td>\n",
       "      <td>Female</td>\n",
       "      <td>White</td>\n",
       "      <td>Ava</td>\n",
       "      <td>Thompson</td>\n",
       "      <td>115.319339</td>\n",
       "      <td>22.083478</td>\n",
       "      <td>86.742579</td>\n",
       "      <td>2000</td>\n",
       "    </tr>\n",
       "    <tr>\n",
       "      <th>5</th>\n",
       "      <td>6</td>\n",
       "      <td>17</td>\n",
       "      <td>65.6</td>\n",
       "      <td>169</td>\n",
       "      <td>131</td>\n",
       "      <td>186</td>\n",
       "      <td>fencing</td>\n",
       "      <td>Female</td>\n",
       "      <td>White</td>\n",
       "      <td>Sophia</td>\n",
       "      <td>Rodriguez</td>\n",
       "      <td>447.371626</td>\n",
       "      <td>22.968383</td>\n",
       "      <td>71.679465</td>\n",
       "      <td>2000</td>\n",
       "    </tr>\n",
       "    <tr>\n",
       "      <th>6</th>\n",
       "      <td>7</td>\n",
       "      <td>15</td>\n",
       "      <td>49.8</td>\n",
       "      <td>165</td>\n",
       "      <td>65</td>\n",
       "      <td>108</td>\n",
       "      <td>fencing</td>\n",
       "      <td>Female</td>\n",
       "      <td>White</td>\n",
       "      <td>Grace</td>\n",
       "      <td>Simmons</td>\n",
       "      <td>23.696380</td>\n",
       "      <td>18.292011</td>\n",
       "      <td>38.403988</td>\n",
       "      <td>2002</td>\n",
       "    </tr>\n",
       "    <tr>\n",
       "      <th>7</th>\n",
       "      <td>8</td>\n",
       "      <td>15</td>\n",
       "      <td>51.2</td>\n",
       "      <td>165</td>\n",
       "      <td>80</td>\n",
       "      <td>133</td>\n",
       "      <td>fencing</td>\n",
       "      <td>Female</td>\n",
       "      <td>White</td>\n",
       "      <td>Aiden</td>\n",
       "      <td>Bennett</td>\n",
       "      <td>504.482368</td>\n",
       "      <td>18.806244</td>\n",
       "      <td>44.822092</td>\n",
       "      <td>2002</td>\n",
       "    </tr>\n",
       "    <tr>\n",
       "      <th>8</th>\n",
       "      <td>9</td>\n",
       "      <td>14</td>\n",
       "      <td>57.1</td>\n",
       "      <td>176</td>\n",
       "      <td>50</td>\n",
       "      <td>125</td>\n",
       "      <td>fencing</td>\n",
       "      <td>Female</td>\n",
       "      <td>African</td>\n",
       "      <td>Chloe</td>\n",
       "      <td>Price</td>\n",
       "      <td>22.540326</td>\n",
       "      <td>18.433626</td>\n",
       "      <td>49.697342</td>\n",
       "      <td>2003</td>\n",
       "    </tr>\n",
       "    <tr>\n",
       "      <th>9</th>\n",
       "      <td>10</td>\n",
       "      <td>14</td>\n",
       "      <td>58.8</td>\n",
       "      <td>177</td>\n",
       "      <td>101</td>\n",
       "      <td>162</td>\n",
       "      <td>fencing</td>\n",
       "      <td>Female</td>\n",
       "      <td>African</td>\n",
       "      <td>Lily</td>\n",
       "      <td>Jordan</td>\n",
       "      <td>26.865031</td>\n",
       "      <td>18.768553</td>\n",
       "      <td>55.122171</td>\n",
       "      <td>2003</td>\n",
       "    </tr>\n",
       "    <tr>\n",
       "      <th>10</th>\n",
       "      <td>11</td>\n",
       "      <td>18</td>\n",
       "      <td>84.8</td>\n",
       "      <td>182</td>\n",
       "      <td>174</td>\n",
       "      <td>268</td>\n",
       "      <td>kayak</td>\n",
       "      <td>Female</td>\n",
       "      <td>African</td>\n",
       "      <td>Isabella</td>\n",
       "      <td>Griffin</td>\n",
       "      <td>13.423014</td>\n",
       "      <td>25.600773</td>\n",
       "      <td>89.586903</td>\n",
       "      <td>1999</td>\n",
       "    </tr>\n",
       "    <tr>\n",
       "      <th>11</th>\n",
       "      <td>12</td>\n",
       "      <td>18</td>\n",
       "      <td>86.0</td>\n",
       "      <td>183</td>\n",
       "      <td>170</td>\n",
       "      <td>294</td>\n",
       "      <td>kayak</td>\n",
       "      <td>Male</td>\n",
       "      <td>African</td>\n",
       "      <td>Caleb</td>\n",
       "      <td>Dixon</td>\n",
       "      <td>12.283399</td>\n",
       "      <td>25.680074</td>\n",
       "      <td>92.258212</td>\n",
       "      <td>1999</td>\n",
       "    </tr>\n",
       "    <tr>\n",
       "      <th>12</th>\n",
       "      <td>13</td>\n",
       "      <td>18</td>\n",
       "      <td>83.9</td>\n",
       "      <td>183</td>\n",
       "      <td>144</td>\n",
       "      <td>267</td>\n",
       "      <td>kayak</td>\n",
       "      <td>Female</td>\n",
       "      <td>Asian</td>\n",
       "      <td>Mia</td>\n",
       "      <td>Carpenter</td>\n",
       "      <td>12.438721</td>\n",
       "      <td>25.053002</td>\n",
       "      <td>90.758693</td>\n",
       "      <td>1999</td>\n",
       "    </tr>\n",
       "    <tr>\n",
       "      <th>13</th>\n",
       "      <td>14</td>\n",
       "      <td>13</td>\n",
       "      <td>62.3</td>\n",
       "      <td>171</td>\n",
       "      <td>140</td>\n",
       "      <td>170</td>\n",
       "      <td>kayak</td>\n",
       "      <td>Female</td>\n",
       "      <td>Asian</td>\n",
       "      <td>Harper</td>\n",
       "      <td>Mitchell</td>\n",
       "      <td>162.070949</td>\n",
       "      <td>21.305701</td>\n",
       "      <td>54.869902</td>\n",
       "      <td>2004</td>\n",
       "    </tr>\n",
       "    <tr>\n",
       "      <th>14</th>\n",
       "      <td>15</td>\n",
       "      <td>13</td>\n",
       "      <td>63.5</td>\n",
       "      <td>172</td>\n",
       "      <td>125</td>\n",
       "      <td>156</td>\n",
       "      <td>kayak</td>\n",
       "      <td>Male</td>\n",
       "      <td>Latino</td>\n",
       "      <td>Mason</td>\n",
       "      <td>Wallace</td>\n",
       "      <td>28.801669</td>\n",
       "      <td>21.464305</td>\n",
       "      <td>66.936066</td>\n",
       "      <td>2004</td>\n",
       "    </tr>\n",
       "    <tr>\n",
       "      <th>15</th>\n",
       "      <td>16</td>\n",
       "      <td>16</td>\n",
       "      <td>70.4</td>\n",
       "      <td>182</td>\n",
       "      <td>79</td>\n",
       "      <td>175</td>\n",
       "      <td>kayak</td>\n",
       "      <td>Male</td>\n",
       "      <td>Latino</td>\n",
       "      <td>Logan</td>\n",
       "      <td>Anderson</td>\n",
       "      <td>794.827705</td>\n",
       "      <td>21.253472</td>\n",
       "      <td>69.661622</td>\n",
       "      <td>2001</td>\n",
       "    </tr>\n",
       "    <tr>\n",
       "      <th>16</th>\n",
       "      <td>17</td>\n",
       "      <td>12</td>\n",
       "      <td>39.9</td>\n",
       "      <td>156</td>\n",
       "      <td>101</td>\n",
       "      <td>145</td>\n",
       "      <td>triathlon</td>\n",
       "      <td>Male</td>\n",
       "      <td>Latino</td>\n",
       "      <td>Lucas</td>\n",
       "      <td>Foster</td>\n",
       "      <td>28.081705</td>\n",
       "      <td>16.395464</td>\n",
       "      <td>73.789806</td>\n",
       "      <td>2005</td>\n",
       "    </tr>\n",
       "    <tr>\n",
       "      <th>17</th>\n",
       "      <td>18</td>\n",
       "      <td>12</td>\n",
       "      <td>39.7</td>\n",
       "      <td>158</td>\n",
       "      <td>65</td>\n",
       "      <td>168</td>\n",
       "      <td>triathlon</td>\n",
       "      <td>Male</td>\n",
       "      <td>Latino</td>\n",
       "      <td>Owen</td>\n",
       "      <td>Myers</td>\n",
       "      <td>30.505849</td>\n",
       "      <td>15.902900</td>\n",
       "      <td>81.208775</td>\n",
       "      <td>2005</td>\n",
       "    </tr>\n",
       "  </tbody>\n",
       "</table>\n",
       "</div>"
      ],
      "text/plain": [
       "    ID  age  Weight  Height  P_vt1  P_vt2      sport  Gender Ethnicity  \\\n",
       "0    1   15    53.7     161     50    140    fencing  Female   African   \n",
       "1    2   15    56.2     162     80    127    fencing    Male   African   \n",
       "2    3   16    89.9     191    155    300    fencing    Male     White   \n",
       "3    4   16    76.5     180    215    275    fencing    Male     White   \n",
       "4    5   17    76.4     186    110    172    fencing  Female     White   \n",
       "5    6   17    65.6     169    131    186    fencing  Female     White   \n",
       "6    7   15    49.8     165     65    108    fencing  Female     White   \n",
       "7    8   15    51.2     165     80    133    fencing  Female     White   \n",
       "8    9   14    57.1     176     50    125    fencing  Female   African   \n",
       "9   10   14    58.8     177    101    162    fencing  Female   African   \n",
       "10  11   18    84.8     182    174    268      kayak  Female   African   \n",
       "11  12   18    86.0     183    170    294      kayak    Male   African   \n",
       "12  13   18    83.9     183    144    267      kayak  Female     Asian   \n",
       "13  14   13    62.3     171    140    170      kayak  Female     Asian   \n",
       "14  15   13    63.5     172    125    156      kayak    Male    Latino   \n",
       "15  16   16    70.4     182     79    175      kayak    Male    Latino   \n",
       "16  17   12    39.9     156    101    145  triathlon    Male    Latino   \n",
       "17  18   12    39.7     158     65    168  triathlon    Male    Latino   \n",
       "\n",
       "   First Name  Last Name         HRV        BMI    VO2_max  birth_year  \n",
       "0      Olivia   Martinez   25.844717  20.716793  42.807730        2002  \n",
       "1       Ethan   Reynolds   40.725284  21.414419  38.632602        2002  \n",
       "2     Jackson     Harper   20.398306  24.642965  69.705657        2001  \n",
       "3        Liam    Sanchez   33.334630  23.611111  76.989878        2001  \n",
       "4         Ava   Thompson  115.319339  22.083478  86.742579        2000  \n",
       "5      Sophia  Rodriguez  447.371626  22.968383  71.679465        2000  \n",
       "6       Grace    Simmons   23.696380  18.292011  38.403988        2002  \n",
       "7       Aiden    Bennett  504.482368  18.806244  44.822092        2002  \n",
       "8       Chloe      Price   22.540326  18.433626  49.697342        2003  \n",
       "9        Lily     Jordan   26.865031  18.768553  55.122171        2003  \n",
       "10   Isabella    Griffin   13.423014  25.600773  89.586903        1999  \n",
       "11      Caleb      Dixon   12.283399  25.680074  92.258212        1999  \n",
       "12        Mia  Carpenter   12.438721  25.053002  90.758693        1999  \n",
       "13     Harper   Mitchell  162.070949  21.305701  54.869902        2004  \n",
       "14      Mason    Wallace   28.801669  21.464305  66.936066        2004  \n",
       "15      Logan   Anderson  794.827705  21.253472  69.661622        2001  \n",
       "16      Lucas     Foster   28.081705  16.395464  73.789806        2005  \n",
       "17       Owen      Myers   30.505849  15.902900  81.208775        2005  "
      ]
     },
     "execution_count": 122,
     "metadata": {},
     "output_type": "execute_result"
    }
   ],
   "source": [
    "# year of birth is year data taken(2017 ) substracted by age\n",
    "df_Athletes[\"birth_year\"]= 2017-df_Athletes[\"age\"]\n",
    "df_Athletes"
   ]
  },
  {
   "cell_type": "markdown",
   "id": "6e48eb5b-c058-4acb-bd10-d7ebf55db06a",
   "metadata": {},
   "source": [
    "14. What were the lowest 3 V02 Maxes recorded. Display all 3 names, sport and personal V02 Maxes. "
   ]
  },
  {
   "cell_type": "code",
   "execution_count": 125,
   "id": "6326efbb-de10-4398-bdcf-7f590c350928",
   "metadata": {},
   "outputs": [
    {
     "name": "stdout",
     "output_type": "stream",
     "text": [
      "The lowest three VO2_max are for the following athletes :\n"
     ]
    },
    {
     "data": {
      "text/html": [
       "<div>\n",
       "<style scoped>\n",
       "    .dataframe tbody tr th:only-of-type {\n",
       "        vertical-align: middle;\n",
       "    }\n",
       "\n",
       "    .dataframe tbody tr th {\n",
       "        vertical-align: top;\n",
       "    }\n",
       "\n",
       "    .dataframe thead th {\n",
       "        text-align: right;\n",
       "    }\n",
       "</style>\n",
       "<table border=\"1\" class=\"dataframe\">\n",
       "  <thead>\n",
       "    <tr style=\"text-align: right;\">\n",
       "      <th></th>\n",
       "      <th>First Name</th>\n",
       "      <th>Last Name</th>\n",
       "      <th>sport</th>\n",
       "      <th>VO2_max</th>\n",
       "    </tr>\n",
       "  </thead>\n",
       "  <tbody>\n",
       "    <tr>\n",
       "      <th>0</th>\n",
       "      <td>Grace</td>\n",
       "      <td>Simmons</td>\n",
       "      <td>fencing</td>\n",
       "      <td>38.403988</td>\n",
       "    </tr>\n",
       "    <tr>\n",
       "      <th>1</th>\n",
       "      <td>Ethan</td>\n",
       "      <td>Reynolds</td>\n",
       "      <td>fencing</td>\n",
       "      <td>38.632602</td>\n",
       "    </tr>\n",
       "    <tr>\n",
       "      <th>2</th>\n",
       "      <td>Olivia</td>\n",
       "      <td>Martinez</td>\n",
       "      <td>fencing</td>\n",
       "      <td>42.807730</td>\n",
       "    </tr>\n",
       "  </tbody>\n",
       "</table>\n",
       "</div>"
      ],
      "text/plain": [
       "  First Name Last Name    sport    VO2_max\n",
       "0      Grace   Simmons  fencing  38.403988\n",
       "1      Ethan  Reynolds  fencing  38.632602\n",
       "2     Olivia  Martinez  fencing  42.807730"
      ]
     },
     "execution_count": 125,
     "metadata": {},
     "output_type": "execute_result"
    }
   ],
   "source": [
    "#Displayed the bottom three VO2_max Athletes\n",
    "print(\"The lowest three VO2_max are for the following athletes :\")\n",
    "df_Athletes.sort_values(by=\"VO2_max\",ascending=True)[[\"First Name\",\"Last Name\",\"sport\",\"VO2_max\"]].head(3).reset_index(drop=True)"
   ]
  },
  {
   "cell_type": "markdown",
   "id": "88763731-3c1d-406c-a02c-68a2ba872918",
   "metadata": {},
   "source": [
    "16. Calculate the BMI of every athlete and display it as a list."
   ]
  },
  {
   "cell_type": "code",
   "execution_count": 111,
   "id": "411ba380-8285-4dc2-b6b4-41469b4e8b84",
   "metadata": {},
   "outputs": [
    {
     "name": "stdout",
     "output_type": "stream",
     "text": [
      "The list of athletes and their BMI is :\n"
     ]
    },
    {
     "data": {
      "text/plain": [
       "[['Olivia', 'Martinez', 20.716793333590523],\n",
       " ['Ethan', 'Reynolds', 21.414418533760095],\n",
       " ['Jackson', 'Harper', 24.642964831007923],\n",
       " ['Liam', 'Sanchez', 23.61111111111111],\n",
       " ['Ava', 'Thompson', 22.083477858711987],\n",
       " ['Sophia', 'Rodriguez', 22.968383459962887],\n",
       " ['Grace', 'Simmons', 18.29201101928375],\n",
       " ['Aiden', 'Bennett', 18.80624426078972],\n",
       " ['Chloe', 'Price', 18.433626033057852],\n",
       " ['Lily', 'Jordan', 18.768553097768837],\n",
       " ['Isabella', 'Griffin', 25.600772853520105],\n",
       " ['Caleb', 'Dixon', 25.680074054167036],\n",
       " ['Mia', 'Carpenter', 25.05300247842575],\n",
       " ['Harper', 'Mitchell', 21.305700899422046],\n",
       " ['Mason', 'Wallace', 21.464305029745812],\n",
       " ['Logan', 'Anderson', 21.253471802922352],\n",
       " ['Lucas', 'Foster', 16.395463510848124],\n",
       " ['Owen', 'Myers', 15.902900176253803]]"
      ]
     },
     "execution_count": 111,
     "metadata": {},
     "output_type": "execute_result"
    }
   ],
   "source": [
    "#calculated BMI as weight(kg)(height(meter))^2\n",
    "df_Athletes[\"BMI\"] = df_Athletes[\"Weight\"]/(df_Athletes[\"Height\"]/100)**2\n",
    "print(\"The list of athletes and their BMI is :\")\n",
    "df_Athletes.reset_index()[[\"First Name\",\"Last Name\",\"BMI\"]].values.tolist()"
   ]
  },
  {
   "cell_type": "markdown",
   "id": "6856bb8a-fd1c-4711-8642-e250c83ce10a",
   "metadata": {},
   "source": [
    "11. Create any 3d plot using any data. Values do not have to be from the dataset given. "
   ]
  },
  {
   "cell_type": "code",
   "execution_count": 114,
   "id": "f0c89883-2356-4d49-a37d-5c956d2ba3ae",
   "metadata": {},
   "outputs": [
    {
     "data": {
      "image/png": "[encoded data removed]",
      "text/plain": [
       "<Figure size 640x480 with 1 Axes>"
      ]
     },
     "metadata": {},
     "output_type": "display_data"
    }
   ],
   "source": [
    "#created 3D plot using BMI,Height and weight from Athletes table:\n",
    "plt.style.use(\"dark_background\")\n",
    "ax = plt.axes(projection = \"3d\")\n",
    "\n",
    "ax.set_title(\"Body Fat - Distribution of BMI based on height and weight\", fontsize=10)\n",
    "ax.set_xlabel(\"Height(cm)\")\n",
    "ax.set_ylabel(\"Weight(Kg)\")\n",
    "ax.set_zlabel(\"BMI(Kg/m^2)\")\n",
    "\n",
    "ax.scatter(df_Athletes[\"Height\"],df_Athletes[\"Weight\"],df_Athletes[\"BMI\"],color= 'r')\n",
    "plt.show()"
   ]
  },
  {
   "cell_type": "code",
   "execution_count": null,
   "id": "d9d0f495-87a9-48ea-9aff-c7fffc6d1f58",
   "metadata": {},
   "outputs": [],
   "source": []
  }
 ],
 "metadata": {
  "kernelspec": {
   "display_name": "Python 3 (ipykernel)",
   "language": "python",
   "name": "python3"
  },
  "language_info": {
   "codemirror_mode": {
    "name": "ipython",
    "version": 3
   },
   "file_extension": ".py",
   "mimetype": "text/x-python",
   "name": "python",
   "nbconvert_exporter": "python",
   "pygments_lexer": "ipython3",
   "version": "3.12.4"
  }
 },
 "nbformat": 4,
 "nbformat_minor": 5
}
