{
 "cells": [
  {
   "cell_type": "code",
   "execution_count": 3,
   "id": "4e22c505-2ab7-4afd-bf55-af2460fb85a9",
   "metadata": {},
   "outputs": [],
   "source": [
    "import pandas as pd\n",
    "import numpy as np\n",
    "import matplotlib.pyplot as plt\n",
    "import seaborn as sns\n",
    "import warnings\n"
   ]
  },
  {
   "cell_type": "code",
   "execution_count": 6,
   "id": "b021deab-43d9-4623-b891-394b9a9659c8",
   "metadata": {},
   "outputs": [],
   "source": [
    "#ignore python warnings\n",
    "warnings.filterwarnings('ignore')"
   ]
  },
  {
   "cell_type": "code",
   "execution_count": 7,
   "id": "190e01ef-ee7a-4d1c-8ad0-52b5c7f5e4fd",
   "metadata": {},
   "outputs": [],
   "source": [
    "#Read data from excel worksheets\n",
    "df_Kayaking =pd.read_excel(\"V02Max_Combined.xlsx\",sheet_name=\"Kayaking\")\n",
    "df_Athletes=pd.read_excel(\"V02Max_Combined.xlsx\",sheet_name=\"Athletes\")\n",
    "df_Triathlon=pd.read_excel(\"V02Max_Combined.xlsx\",sheet_name=\"Triathlon\")\n",
    "df_Fencing=pd.read_excel(\"V02Max_Combined.xlsx\",sheet_name=\"Fencing\")"
   ]
  },
  {
   "cell_type": "code",
   "execution_count": 9,
   "id": "78c02f05-23db-4091-8f51-1982240b23fe",
   "metadata": {},
   "outputs": [],
   "source": [
    "#concatenate all sports data to form a single dataframe\n",
    "df_data = pd.concat([df_Kayaking,df_Triathlon,df_Fencing,df_Athletes],ignore_index=True)"
   ]
  },
  {
   "cell_type": "code",
   "execution_count": 10,
   "id": "81e8e760-9330-43b0-b71d-fe91da32a5b2",
   "metadata": {},
   "outputs": [
    {
     "data": {
      "text/html": [
       "<div>\n",
       "<style scoped>\n",
       "    .dataframe tbody tr th:only-of-type {\n",
       "        vertical-align: middle;\n",
       "    }\n",
       "\n",
       "    .dataframe tbody tr th {\n",
       "        vertical-align: top;\n",
       "    }\n",
       "\n",
       "    .dataframe thead th {\n",
       "        text-align: right;\n",
       "    }\n",
       "</style>\n",
       "<table border=\"1\" class=\"dataframe\">\n",
       "  <thead>\n",
       "    <tr style=\"text-align: right;\">\n",
       "      <th></th>\n",
       "      <th>ID</th>\n",
       "      <th>time</th>\n",
       "      <th>RR</th>\n",
       "      <th>VO2</th>\n",
       "      <th>power</th>\n",
       "      <th>age</th>\n",
       "      <th>Weight</th>\n",
       "      <th>Height</th>\n",
       "      <th>P_vt1</th>\n",
       "      <th>P_vt2</th>\n",
       "    </tr>\n",
       "  </thead>\n",
       "  <tbody>\n",
       "    <tr>\n",
       "      <th>count</th>\n",
       "      <td>52080.000000</td>\n",
       "      <td>52062.00000</td>\n",
       "      <td>50914.000000</td>\n",
       "      <td>52062.000000</td>\n",
       "      <td>52062.000000</td>\n",
       "      <td>18.000000</td>\n",
       "      <td>18.000000</td>\n",
       "      <td>18.000000</td>\n",
       "      <td>18.000000</td>\n",
       "      <td>18.000000</td>\n",
       "    </tr>\n",
       "    <tr>\n",
       "      <th>mean</th>\n",
       "      <td>9.518760</td>\n",
       "      <td>547.45914</td>\n",
       "      <td>443.583808</td>\n",
       "      <td>1.539104</td>\n",
       "      <td>106.528754</td>\n",
       "      <td>15.222222</td>\n",
       "      <td>64.761111</td>\n",
       "      <td>173.277778</td>\n",
       "      <td>113.055556</td>\n",
       "      <td>187.277778</td>\n",
       "    </tr>\n",
       "    <tr>\n",
       "      <th>std</th>\n",
       "      <td>5.043953</td>\n",
       "      <td>386.29623</td>\n",
       "      <td>212.585991</td>\n",
       "      <td>0.799706</td>\n",
       "      <td>88.603627</td>\n",
       "      <td>1.957055</td>\n",
       "      <td>15.545120</td>\n",
       "      <td>10.447660</td>\n",
       "      <td>46.949876</td>\n",
       "      <td>63.292789</td>\n",
       "    </tr>\n",
       "    <tr>\n",
       "      <th>min</th>\n",
       "      <td>1.000000</td>\n",
       "      <td>-219.87200</td>\n",
       "      <td>252.000000</td>\n",
       "      <td>0.069354</td>\n",
       "      <td>0.000000</td>\n",
       "      <td>12.000000</td>\n",
       "      <td>39.700000</td>\n",
       "      <td>156.000000</td>\n",
       "      <td>50.000000</td>\n",
       "      <td>108.000000</td>\n",
       "    </tr>\n",
       "    <tr>\n",
       "      <th>25%</th>\n",
       "      <td>5.000000</td>\n",
       "      <td>244.29500</td>\n",
       "      <td>352.000000</td>\n",
       "      <td>0.972290</td>\n",
       "      <td>0.000000</td>\n",
       "      <td>14.000000</td>\n",
       "      <td>54.325000</td>\n",
       "      <td>165.000000</td>\n",
       "      <td>79.250000</td>\n",
       "      <td>141.250000</td>\n",
       "    </tr>\n",
       "    <tr>\n",
       "      <th>50%</th>\n",
       "      <td>10.000000</td>\n",
       "      <td>542.03800</td>\n",
       "      <td>412.000000</td>\n",
       "      <td>1.419143</td>\n",
       "      <td>95.000000</td>\n",
       "      <td>15.000000</td>\n",
       "      <td>62.900000</td>\n",
       "      <td>174.000000</td>\n",
       "      <td>105.500000</td>\n",
       "      <td>169.000000</td>\n",
       "    </tr>\n",
       "    <tr>\n",
       "      <th>75%</th>\n",
       "      <td>14.000000</td>\n",
       "      <td>822.13900</td>\n",
       "      <td>484.000000</td>\n",
       "      <td>2.043474</td>\n",
       "      <td>170.000000</td>\n",
       "      <td>16.750000</td>\n",
       "      <td>76.475000</td>\n",
       "      <td>182.000000</td>\n",
       "      <td>143.000000</td>\n",
       "      <td>246.750000</td>\n",
       "    </tr>\n",
       "    <tr>\n",
       "      <th>max</th>\n",
       "      <td>18.000000</td>\n",
       "      <td>1504.05600</td>\n",
       "      <td>30500.000000</td>\n",
       "      <td>4.576774</td>\n",
       "      <td>335.000000</td>\n",
       "      <td>18.000000</td>\n",
       "      <td>89.900000</td>\n",
       "      <td>191.000000</td>\n",
       "      <td>215.000000</td>\n",
       "      <td>300.000000</td>\n",
       "    </tr>\n",
       "  </tbody>\n",
       "</table>\n",
       "</div>"
      ],
      "text/plain": [
       "                 ID         time            RR           VO2         power  \\\n",
       "count  52080.000000  52062.00000  50914.000000  52062.000000  52062.000000   \n",
       "mean       9.518760    547.45914    443.583808      1.539104    106.528754   \n",
       "std        5.043953    386.29623    212.585991      0.799706     88.603627   \n",
       "min        1.000000   -219.87200    252.000000      0.069354      0.000000   \n",
       "25%        5.000000    244.29500    352.000000      0.972290      0.000000   \n",
       "50%       10.000000    542.03800    412.000000      1.419143     95.000000   \n",
       "75%       14.000000    822.13900    484.000000      2.043474    170.000000   \n",
       "max       18.000000   1504.05600  30500.000000      4.576774    335.000000   \n",
       "\n",
       "             age     Weight      Height       P_vt1       P_vt2  \n",
       "count  18.000000  18.000000   18.000000   18.000000   18.000000  \n",
       "mean   15.222222  64.761111  173.277778  113.055556  187.277778  \n",
       "std     1.957055  15.545120   10.447660   46.949876   63.292789  \n",
       "min    12.000000  39.700000  156.000000   50.000000  108.000000  \n",
       "25%    14.000000  54.325000  165.000000   79.250000  141.250000  \n",
       "50%    15.000000  62.900000  174.000000  105.500000  169.000000  \n",
       "75%    16.750000  76.475000  182.000000  143.000000  246.750000  \n",
       "max    18.000000  89.900000  191.000000  215.000000  300.000000  "
      ]
     },
     "execution_count": 10,
     "metadata": {},
     "output_type": "execute_result"
    }
   ],
   "source": [
    "#verify data\n",
    "df_data.describe()"
   ]
  },
  {
   "cell_type": "code",
   "execution_count": 16,
   "id": "553fcf53-2e24-4233-a17c-57af4f899972",
   "metadata": {},
   "outputs": [],
   "source": [
    "# Export Dataframe to Excel by eliminating index\n",
    "df_data.to_excel(\"V02Max_Sports.xlsx\",sheet_name=\"All_Sports\",index=False)"
   ]
  },
  {
   "cell_type": "code",
   "execution_count": 14,
   "id": "262ab43c-4ccc-4da3-8cd1-dec3ad5906ec",
   "metadata": {},
   "outputs": [],
   "source": [
    "# cooldown = time>0 and power =0\n",
    "# warmup = time<0 and power =0\n",
    "# GET(graded exercise test) =time>0 and power>0\n",
    "\n",
    "df_data[\"stage\"] = \"\"\n",
    "df_data.loc[df_data[\"power\"] == 0, \"stage\"] = \"cooldown\"\n",
    "df_data.loc[df_data[\"time\"] < 0, \"stage\"] = \"warmup\"\n",
    "df_data.loc[df_data[\"power\"] > 0, \"stage\"] = \"GET\""
   ]
  },
  {
   "cell_type": "code",
   "execution_count": 29,
   "id": "b57457a4-92dd-45f6-8ed1-c8340af192d9",
   "metadata": {},
   "outputs": [
    {
     "data": {
      "text/html": [
       "<div>\n",
       "<style scoped>\n",
       "    .dataframe tbody tr th:only-of-type {\n",
       "        vertical-align: middle;\n",
       "    }\n",
       "\n",
       "    .dataframe tbody tr th {\n",
       "        vertical-align: top;\n",
       "    }\n",
       "\n",
       "    .dataframe thead th {\n",
       "        text-align: right;\n",
       "    }\n",
       "</style>\n",
       "<table border=\"1\" class=\"dataframe\">\n",
       "  <thead>\n",
       "    <tr style=\"text-align: right;\">\n",
       "      <th></th>\n",
       "      <th>ID</th>\n",
       "      <th>time</th>\n",
       "      <th>RR</th>\n",
       "      <th>VO2</th>\n",
       "      <th>power</th>\n",
       "      <th>age</th>\n",
       "      <th>Weight</th>\n",
       "      <th>Height</th>\n",
       "      <th>P_vt1</th>\n",
       "      <th>P_vt2</th>\n",
       "      <th>sport</th>\n",
       "      <th>Gender</th>\n",
       "      <th>Ethnicity</th>\n",
       "      <th>First Name</th>\n",
       "      <th>Last Name</th>\n",
       "      <th>stage</th>\n",
       "    </tr>\n",
       "  </thead>\n",
       "  <tbody>\n",
       "    <tr>\n",
       "      <th>0</th>\n",
       "      <td>11</td>\n",
       "      <td>-168.600</td>\n",
       "      <td>727.0</td>\n",
       "      <td>0.287147</td>\n",
       "      <td>0.0</td>\n",
       "      <td>NaN</td>\n",
       "      <td>NaN</td>\n",
       "      <td>NaN</td>\n",
       "      <td>NaN</td>\n",
       "      <td>NaN</td>\n",
       "      <td>NaN</td>\n",
       "      <td>NaN</td>\n",
       "      <td>NaN</td>\n",
       "      <td>NaN</td>\n",
       "      <td>NaN</td>\n",
       "      <td>warmup</td>\n",
       "    </tr>\n",
       "    <tr>\n",
       "      <th>1</th>\n",
       "      <td>11</td>\n",
       "      <td>-167.872</td>\n",
       "      <td>728.0</td>\n",
       "      <td>0.287147</td>\n",
       "      <td>0.0</td>\n",
       "      <td>NaN</td>\n",
       "      <td>NaN</td>\n",
       "      <td>NaN</td>\n",
       "      <td>NaN</td>\n",
       "      <td>NaN</td>\n",
       "      <td>NaN</td>\n",
       "      <td>NaN</td>\n",
       "      <td>NaN</td>\n",
       "      <td>NaN</td>\n",
       "      <td>NaN</td>\n",
       "      <td>warmup</td>\n",
       "    </tr>\n",
       "    <tr>\n",
       "      <th>2</th>\n",
       "      <td>11</td>\n",
       "      <td>-167.148</td>\n",
       "      <td>724.0</td>\n",
       "      <td>0.287147</td>\n",
       "      <td>0.0</td>\n",
       "      <td>NaN</td>\n",
       "      <td>NaN</td>\n",
       "      <td>NaN</td>\n",
       "      <td>NaN</td>\n",
       "      <td>NaN</td>\n",
       "      <td>NaN</td>\n",
       "      <td>NaN</td>\n",
       "      <td>NaN</td>\n",
       "      <td>NaN</td>\n",
       "      <td>NaN</td>\n",
       "      <td>warmup</td>\n",
       "    </tr>\n",
       "    <tr>\n",
       "      <th>3</th>\n",
       "      <td>11</td>\n",
       "      <td>-166.484</td>\n",
       "      <td>664.0</td>\n",
       "      <td>0.320580</td>\n",
       "      <td>0.0</td>\n",
       "      <td>NaN</td>\n",
       "      <td>NaN</td>\n",
       "      <td>NaN</td>\n",
       "      <td>NaN</td>\n",
       "      <td>NaN</td>\n",
       "      <td>NaN</td>\n",
       "      <td>NaN</td>\n",
       "      <td>NaN</td>\n",
       "      <td>NaN</td>\n",
       "      <td>NaN</td>\n",
       "      <td>warmup</td>\n",
       "    </tr>\n",
       "    <tr>\n",
       "      <th>4</th>\n",
       "      <td>11</td>\n",
       "      <td>-165.836</td>\n",
       "      <td>648.0</td>\n",
       "      <td>0.320580</td>\n",
       "      <td>0.0</td>\n",
       "      <td>NaN</td>\n",
       "      <td>NaN</td>\n",
       "      <td>NaN</td>\n",
       "      <td>NaN</td>\n",
       "      <td>NaN</td>\n",
       "      <td>NaN</td>\n",
       "      <td>NaN</td>\n",
       "      <td>NaN</td>\n",
       "      <td>NaN</td>\n",
       "      <td>NaN</td>\n",
       "      <td>warmup</td>\n",
       "    </tr>\n",
       "  </tbody>\n",
       "</table>\n",
       "</div>"
      ],
      "text/plain": [
       "   ID     time     RR       VO2  power  age  Weight  Height  P_vt1  P_vt2  \\\n",
       "0  11 -168.600  727.0  0.287147    0.0  NaN     NaN     NaN    NaN    NaN   \n",
       "1  11 -167.872  728.0  0.287147    0.0  NaN     NaN     NaN    NaN    NaN   \n",
       "2  11 -167.148  724.0  0.287147    0.0  NaN     NaN     NaN    NaN    NaN   \n",
       "3  11 -166.484  664.0  0.320580    0.0  NaN     NaN     NaN    NaN    NaN   \n",
       "4  11 -165.836  648.0  0.320580    0.0  NaN     NaN     NaN    NaN    NaN   \n",
       "\n",
       "  sport Gender Ethnicity First Name Last Name   stage  \n",
       "0   NaN    NaN       NaN        NaN       NaN  warmup  \n",
       "1   NaN    NaN       NaN        NaN       NaN  warmup  \n",
       "2   NaN    NaN       NaN        NaN       NaN  warmup  \n",
       "3   NaN    NaN       NaN        NaN       NaN  warmup  \n",
       "4   NaN    NaN       NaN        NaN       NaN  warmup  "
      ]
     },
     "execution_count": 29,
     "metadata": {},
     "output_type": "execute_result"
    }
   ],
   "source": [
    "# Verify top five rows\n",
    "df_data.head()"
   ]
  },
  {
   "cell_type": "code",
   "execution_count": 30,
   "id": "2953663b-3ce6-4cc2-80b8-3f50e63eb262",
   "metadata": {},
   "outputs": [
    {
     "data": {
      "text/plain": [
       "stage\n",
       "GET         38733\n",
       "cooldown     9088\n",
       "warmup       4241\n",
       "               18\n",
       "Name: count, dtype: int64"
      ]
     },
     "execution_count": 30,
     "metadata": {},
     "output_type": "execute_result"
    }
   ],
   "source": [
    "#verify the count of rows for each stage\n",
    "df_data[\"stage\"].value_counts()"
   ]
  },
  {
   "cell_type": "code",
   "execution_count": 31,
   "id": "b78f69c4-1f0c-438b-befe-f99e7ead1078",
   "metadata": {},
   "outputs": [],
   "source": [
    "file_path_Athletes=\"./Athletes.csv\"\n",
    "file_path_Kayaking=\"./Kayaking.csv\"\n",
    "file_path_Triathlon=\"./Triathlon.csv\"\n",
    "file_path_Fencing=\"./Fencing.csv\""
   ]
  },
  {
   "cell_type": "markdown",
   "id": "ae88be53-cb3a-4b62-bd55-ac4779aad169",
   "metadata": {},
   "source": [
    "16.Calculate the BMI of every athlete and display it as a list.\n",
    "\n"
   ]
  },
  {
   "cell_type": "code",
   "execution_count": 33,
   "id": "0d7e94f8-48a3-42e8-922f-22c11cab07cc",
   "metadata": {},
   "outputs": [
    {
     "name": "stdout",
     "output_type": "stream",
     "text": [
      "    ID  age  Weight  Height  P_vt1  P_vt2      sport  Gender Ethnicity  \\\n",
      "0    1   15    53.7     161     50    140    fencing  Female   African   \n",
      "1    2   15    56.2     162     80    127    fencing    Male   African   \n",
      "2    3   16    89.9     191    155    300    fencing    Male     White   \n",
      "3    4   16    76.5     180    215    275    fencing    Male     White   \n",
      "4    5   17    76.4     186    110    172    fencing  Female     White   \n",
      "5    6   17    65.6     169    131    186    fencing  Female     White   \n",
      "6    7   15    49.8     165     65    108    fencing  Female     White   \n",
      "7    8   15    51.2     165     80    133    fencing  Female     White   \n",
      "8    9   14    57.1     176     50    125    fencing  Female   African   \n",
      "9   10   14    58.8     177    101    162    fencing  Female   African   \n",
      "10  11   18    84.8     182    174    268      kayak  Female   African   \n",
      "11  12   18    86.0     183    170    294      kayak    Male   African   \n",
      "12  13   18    83.9     183    144    267      kayak  Female     Asian   \n",
      "13  14   13    62.3     171    140    170      kayak  Female     Asian   \n",
      "14  15   13    63.5     172    125    156      kayak    Male    Latino   \n",
      "15  16   16    70.4     182     79    175      kayak    Male    Latino   \n",
      "16  17   12    39.9     156    101    145  triathlon    Male    Latino   \n",
      "17  18   12    39.7     158     65    168  triathlon    Male    Latino   \n",
      "\n",
      "   First Name  Last Name       BMI  \n",
      "0      Olivia   Martinez  0.002072  \n",
      "1       Ethan   Reynolds  0.002141  \n",
      "2     Jackson     Harper  0.002464  \n",
      "3        Liam    Sanchez  0.002361  \n",
      "4         Ava   Thompson  0.002208  \n",
      "5      Sophia  Rodriguez  0.002297  \n",
      "6       Grace    Simmons  0.001829  \n",
      "7       Aiden    Bennett  0.001881  \n",
      "8       Chloe      Price  0.001843  \n",
      "9        Lily     Jordan  0.001877  \n",
      "10   Isabella    Griffin  0.002560  \n",
      "11      Caleb      Dixon  0.002568  \n",
      "12        Mia  Carpenter  0.002505  \n",
      "13     Harper   Mitchell  0.002131  \n",
      "14      Mason    Wallace  0.002146  \n",
      "15      Logan   Anderson  0.002125  \n",
      "16      Lucas     Foster  0.001640  \n",
      "17       Owen      Myers  0.001590  \n"
     ]
    }
   ],
   "source": [
    "\n",
    "df_Athletes['BMI'] = df_Athletes['Weight'] /df_Athletes['Height']**2\n",
    "print(df_Athletes)"
   ]
  },
  {
   "cell_type": "markdown",
   "id": "05f2320e-34fd-42b4-a9bb-4a9924a78383",
   "metadata": {},
   "source": [
    "17.What is the maximum ventilatory threshold for triathletes.\n",
    "**"
   ]
  },
  {
   "cell_type": "code",
   "execution_count": 33,
   "id": "58940344-74b0-4ae0-8454-bf33143d80f6",
   "metadata": {},
   "outputs": [],
   "source": [
    "HR = df_data[df_data.columns[df_data.columns.str.contains('HR', case=False)].tolist()[0]]\n"
   ]
  },
  {
   "cell_type": "code",
   "execution_count": 35,
   "id": "ce1ff32f-f4a3-4700-818c-57dd9c42379b",
   "metadata": {},
   "outputs": [
    {
     "name": "stdout",
     "output_type": "stream",
     "text": [
      "Maximum Ventilatory Threshold HR: 187.5 bpm\n",
      "Power at VT: 305.0 watts\n"
     ]
    }
   ],
   "source": [
    "HR = df_data[\"HR\"]  # Assuming \"HR\" is the column name in your DataFrame\n",
    "# Assuming df_data is your DataFrame and has columns \"HR\", \"VO2\", and \"power\"\n",
    "HR = df_data[\"HR\"]\n",
    "VO2 = df_data[\"VO2\"]\n",
    "power = df_data[\"power\"]\n",
    "\n",
    "vt_hr, vt_power = calculate_vt_max(HR, VO2, power)\n",
    "print(f\"Maximum Ventilatory Threshold HR: {vt_hr} bpm\")\n",
    "print(f\"Power at VT: {vt_power} watts\")\n"
   ]
  },
  {
   "cell_type": "markdown",
   "id": "871d7aa5-639d-4ca3-8819-ab68c7c8421d",
   "metadata": {},
   "source": [
    "18.Display the number of athletes in every sport against the name of the sport.\n"
   ]
  },
  {
   "cell_type": "code",
   "execution_count": 37,
   "id": "0a91aef8-48c8-4ac8-9a13-77a83656efd0",
   "metadata": {},
   "outputs": [
    {
     "name": "stdout",
     "output_type": "stream",
     "text": [
      "        sport First Name  0\n",
      "0     fencing      Aiden  1\n",
      "1     fencing        Ava  1\n",
      "2     fencing      Chloe  1\n",
      "3     fencing      Ethan  1\n",
      "4     fencing      Grace  1\n",
      "5     fencing    Jackson  1\n",
      "6     fencing       Liam  1\n",
      "7     fencing       Lily  1\n",
      "8     fencing     Olivia  1\n",
      "9     fencing     Sophia  1\n",
      "10      kayak      Caleb  1\n",
      "11      kayak     Harper  1\n",
      "12      kayak   Isabella  1\n",
      "13      kayak      Logan  1\n",
      "14      kayak      Mason  1\n",
      "15      kayak        Mia  1\n",
      "16  triathlon      Lucas  1\n",
      "17  triathlon       Owen  1\n"
     ]
    }
   ],
   "source": [
    "athelet_count = df_Athletes.groupby(['sport', 'First Name']).size().reset_index()\n",
    "print(athelet_count)"
   ]
  },
  {
   "cell_type": "markdown",
   "id": "eaabec9e-2351-48c4-b077-8876e23a4fec",
   "metadata": {},
   "source": [
    "19.Display a bar chart showing the average V02 Max by sport.\n"
   ]
  },
  {
   "cell_type": "code",
   "execution_count": 40,
   "id": "57ad4c2a-3d11-4200-b5cd-bf8ad7b2736f",
   "metadata": {},
   "outputs": [
    {
     "data": {
      "text/plain": [
       "4.576773815"
      ]
     },
     "execution_count": 40,
     "metadata": {},
     "output_type": "execute_result"
    }
   ],
   "source": [
    "\n",
    "#df_Athletes['sport']\n",
    "df_data = pd.concat([df_Kayaking,df_Triathlon,df_Fencing,df_Athletes],ignore_index=True)\n",
    "#df_data.describe()\n",
    "df_data['VO2'].max()\n"
   ]
  },
  {
   "cell_type": "code",
   "execution_count": 42,
   "id": "f9be2bf9-2838-46f2-b649-f0d80c086561",
   "metadata": {},
   "outputs": [
    {
     "data": {
      "text/html": [
       "<div>\n",
       "<style scoped>\n",
       "    .dataframe tbody tr th:only-of-type {\n",
       "        vertical-align: middle;\n",
       "    }\n",
       "\n",
       "    .dataframe tbody tr th {\n",
       "        vertical-align: top;\n",
       "    }\n",
       "\n",
       "    .dataframe thead th {\n",
       "        text-align: right;\n",
       "    }\n",
       "</style>\n",
       "<table border=\"1\" class=\"dataframe\">\n",
       "  <thead>\n",
       "    <tr style=\"text-align: right;\">\n",
       "      <th></th>\n",
       "      <th>ID</th>\n",
       "      <th>time</th>\n",
       "      <th>RR</th>\n",
       "      <th>VO2</th>\n",
       "      <th>power</th>\n",
       "      <th>age</th>\n",
       "      <th>Weight</th>\n",
       "      <th>Height</th>\n",
       "      <th>P_vt1</th>\n",
       "      <th>P_vt2</th>\n",
       "      <th>BMI</th>\n",
       "    </tr>\n",
       "  </thead>\n",
       "  <tbody>\n",
       "    <tr>\n",
       "      <th>count</th>\n",
       "      <td>52080.000000</td>\n",
       "      <td>52062.00000</td>\n",
       "      <td>50914.000000</td>\n",
       "      <td>52062.000000</td>\n",
       "      <td>52062.000000</td>\n",
       "      <td>18.000000</td>\n",
       "      <td>18.000000</td>\n",
       "      <td>18.000000</td>\n",
       "      <td>18.000000</td>\n",
       "      <td>18.000000</td>\n",
       "      <td>18.000000</td>\n",
       "    </tr>\n",
       "    <tr>\n",
       "      <th>mean</th>\n",
       "      <td>9.518760</td>\n",
       "      <td>547.45914</td>\n",
       "      <td>443.583808</td>\n",
       "      <td>1.539104</td>\n",
       "      <td>106.528754</td>\n",
       "      <td>15.222222</td>\n",
       "      <td>64.761111</td>\n",
       "      <td>173.277778</td>\n",
       "      <td>113.055556</td>\n",
       "      <td>187.277778</td>\n",
       "      <td>0.002124</td>\n",
       "    </tr>\n",
       "    <tr>\n",
       "      <th>std</th>\n",
       "      <td>5.043953</td>\n",
       "      <td>386.29623</td>\n",
       "      <td>212.585991</td>\n",
       "      <td>0.799706</td>\n",
       "      <td>88.603627</td>\n",
       "      <td>1.957055</td>\n",
       "      <td>15.545120</td>\n",
       "      <td>10.447660</td>\n",
       "      <td>46.949876</td>\n",
       "      <td>63.292789</td>\n",
       "      <td>0.000302</td>\n",
       "    </tr>\n",
       "    <tr>\n",
       "      <th>min</th>\n",
       "      <td>1.000000</td>\n",
       "      <td>-219.87200</td>\n",
       "      <td>252.000000</td>\n",
       "      <td>0.069354</td>\n",
       "      <td>0.000000</td>\n",
       "      <td>12.000000</td>\n",
       "      <td>39.700000</td>\n",
       "      <td>156.000000</td>\n",
       "      <td>50.000000</td>\n",
       "      <td>108.000000</td>\n",
       "      <td>0.001590</td>\n",
       "    </tr>\n",
       "    <tr>\n",
       "      <th>25%</th>\n",
       "      <td>5.000000</td>\n",
       "      <td>244.29500</td>\n",
       "      <td>352.000000</td>\n",
       "      <td>0.972290</td>\n",
       "      <td>0.000000</td>\n",
       "      <td>14.000000</td>\n",
       "      <td>54.325000</td>\n",
       "      <td>165.000000</td>\n",
       "      <td>79.250000</td>\n",
       "      <td>141.250000</td>\n",
       "      <td>0.001878</td>\n",
       "    </tr>\n",
       "    <tr>\n",
       "      <th>50%</th>\n",
       "      <td>10.000000</td>\n",
       "      <td>542.03800</td>\n",
       "      <td>412.000000</td>\n",
       "      <td>1.419143</td>\n",
       "      <td>95.000000</td>\n",
       "      <td>15.000000</td>\n",
       "      <td>62.900000</td>\n",
       "      <td>174.000000</td>\n",
       "      <td>105.500000</td>\n",
       "      <td>169.000000</td>\n",
       "      <td>0.002136</td>\n",
       "    </tr>\n",
       "    <tr>\n",
       "      <th>75%</th>\n",
       "      <td>14.000000</td>\n",
       "      <td>822.13900</td>\n",
       "      <td>484.000000</td>\n",
       "      <td>2.043474</td>\n",
       "      <td>170.000000</td>\n",
       "      <td>16.750000</td>\n",
       "      <td>76.475000</td>\n",
       "      <td>182.000000</td>\n",
       "      <td>143.000000</td>\n",
       "      <td>246.750000</td>\n",
       "      <td>0.002345</td>\n",
       "    </tr>\n",
       "    <tr>\n",
       "      <th>max</th>\n",
       "      <td>18.000000</td>\n",
       "      <td>1504.05600</td>\n",
       "      <td>30500.000000</td>\n",
       "      <td>4.576774</td>\n",
       "      <td>335.000000</td>\n",
       "      <td>18.000000</td>\n",
       "      <td>89.900000</td>\n",
       "      <td>191.000000</td>\n",
       "      <td>215.000000</td>\n",
       "      <td>300.000000</td>\n",
       "      <td>0.002568</td>\n",
       "    </tr>\n",
       "  </tbody>\n",
       "</table>\n",
       "</div>"
      ],
      "text/plain": [
       "                 ID         time            RR           VO2         power  \\\n",
       "count  52080.000000  52062.00000  50914.000000  52062.000000  52062.000000   \n",
       "mean       9.518760    547.45914    443.583808      1.539104    106.528754   \n",
       "std        5.043953    386.29623    212.585991      0.799706     88.603627   \n",
       "min        1.000000   -219.87200    252.000000      0.069354      0.000000   \n",
       "25%        5.000000    244.29500    352.000000      0.972290      0.000000   \n",
       "50%       10.000000    542.03800    412.000000      1.419143     95.000000   \n",
       "75%       14.000000    822.13900    484.000000      2.043474    170.000000   \n",
       "max       18.000000   1504.05600  30500.000000      4.576774    335.000000   \n",
       "\n",
       "             age     Weight      Height       P_vt1       P_vt2        BMI  \n",
       "count  18.000000  18.000000   18.000000   18.000000   18.000000  18.000000  \n",
       "mean   15.222222  64.761111  173.277778  113.055556  187.277778   0.002124  \n",
       "std     1.957055  15.545120   10.447660   46.949876   63.292789   0.000302  \n",
       "min    12.000000  39.700000  156.000000   50.000000  108.000000   0.001590  \n",
       "25%    14.000000  54.325000  165.000000   79.250000  141.250000   0.001878  \n",
       "50%    15.000000  62.900000  174.000000  105.500000  169.000000   0.002136  \n",
       "75%    16.750000  76.475000  182.000000  143.000000  246.750000   0.002345  \n",
       "max    18.000000  89.900000  191.000000  215.000000  300.000000   0.002568  "
      ]
     },
     "execution_count": 42,
     "metadata": {},
     "output_type": "execute_result"
    }
   ],
   "source": [
    "df_data.describe()"
   ]
  },
  {
   "cell_type": "code",
   "execution_count": 44,
   "id": "d532e9ad-91f6-4c56-b7b0-3b1c8ce5fec9",
   "metadata": {},
   "outputs": [
    {
     "name": "stdout",
     "output_type": "stream",
     "text": [
      "1.5391044113375014\n"
     ]
    }
   ],
   "source": [
    "average_vo2_max = df_data['VO2'].mean()\n",
    "print(average_vo2_max)"
   ]
  },
  {
   "cell_type": "code",
   "execution_count": 46,
   "id": "18cf0c51-a41f-4bce-bb2d-8a058c5eac11",
   "metadata": {},
   "outputs": [
    {
     "data": {
      "text/plain": [
       "<Axes: title={'center': 'Avg of VO2 by sport'}, xlabel='sport'>"
      ]
     },
     "execution_count": 46,
     "metadata": {},
     "output_type": "execute_result"
    },
    {
     "data": {
      "image/png": "[encoded data removed]",
      "text/plain": [
       "<Figure size 640x480 with 1 Axes>"
      ]
     },
     "metadata": {},
     "output_type": "display_data"
    }
   ],
   "source": [
    "df_data['sport'].value_counts().plot(kind='bar', title='Avg of VO2 by sport', color='orange')\n"
   ]
  },
  {
   "cell_type": "markdown",
   "id": "884b36eb-cd52-4279-ba15-5af04a0f8d97",
   "metadata": {},
   "source": [
    "20.Analyze the trend of HR at the start of the test vs the middle and the end.What is the overall trend? \n"
   ]
  },
  {
   "cell_type": "code",
   "execution_count": 49,
   "id": "1a8365c0-d7b9-45fa-b3a2-db7f484fe761",
   "metadata": {},
   "outputs": [],
   "source": [
    "df_data = pd.concat([df_Kayaking,df_Triathlon,df_Fencing,df_Athletes], axis = 1)\n"
   ]
  },
  {
   "cell_type": "code",
   "execution_count": 118,
   "id": "f68f0003-618b-4f85-811b-c96184ad58fa",
   "metadata": {},
   "outputs": [
    {
     "name": "stdout",
     "output_type": "stream",
     "text": [
      "RR    445.303741\n",
      "RR    448.370517\n",
      "RR    441.626345\n",
      "dtype: float64\n"
     ]
    },
    {
     "ename": "AttributeError",
     "evalue": "'Series' object has no attribute 'ID'",
     "output_type": "error",
     "traceback": [
      "\u001b[0;31m---------------------------------------------------------------------------\u001b[0m",
      "\u001b[0;31mAttributeError\u001b[0m                            Traceback (most recent call last)",
      "\u001b[0;32m/var/folders/9c/fnnwx8n101704v60sfn0xz6r0000gn/T/ipykernel_1558/3046882668.py\u001b[0m in \u001b[0;36m?\u001b[0;34m()\u001b[0m\n\u001b[1;32m      1\u001b[0m \u001b[0maverage_rr\u001b[0m \u001b[0;34m=\u001b[0m \u001b[0mdf_data\u001b[0m\u001b[0;34m[\u001b[0m\u001b[0;34m'RR'\u001b[0m\u001b[0;34m]\u001b[0m\u001b[0;34m.\u001b[0m\u001b[0mmean\u001b[0m\u001b[0;34m(\u001b[0m\u001b[0;34m)\u001b[0m\u001b[0;34m\u001b[0m\u001b[0;34m\u001b[0m\u001b[0m\n\u001b[1;32m      2\u001b[0m \u001b[0mprint\u001b[0m\u001b[0;34m(\u001b[0m\u001b[0maverage_rr\u001b[0m\u001b[0;34m)\u001b[0m\u001b[0;34m\u001b[0m\u001b[0;34m\u001b[0m\u001b[0m\n\u001b[1;32m      3\u001b[0m \u001b[0mplt\u001b[0m\u001b[0;34m.\u001b[0m\u001b[0mfigure\u001b[0m\u001b[0;34m(\u001b[0m\u001b[0mfigsize\u001b[0m\u001b[0;34m=\u001b[0m\u001b[0;34m(\u001b[0m\u001b[0;36m8\u001b[0m\u001b[0;34m,\u001b[0m \u001b[0;36m5\u001b[0m\u001b[0;34m)\u001b[0m\u001b[0;34m)\u001b[0m\u001b[0;34m\u001b[0m\u001b[0;34m\u001b[0m\u001b[0m\n\u001b[0;32m----> 4\u001b[0;31m \u001b[0mplt\u001b[0m\u001b[0;34m.\u001b[0m\u001b[0mplot\u001b[0m\u001b[0;34m(\u001b[0m\u001b[0maverage_rr\u001b[0m\u001b[0;34m.\u001b[0m\u001b[0mID\u001b[0m\u001b[0;34m,\u001b[0m \u001b[0maverage_rr\u001b[0m\u001b[0;34m.\u001b[0m\u001b[0mvalues\u001b[0m\u001b[0;34m,\u001b[0m \u001b[0mmarker\u001b[0m\u001b[0;34m=\u001b[0m\u001b[0;34m'o'\u001b[0m\u001b[0;34m,\u001b[0m \u001b[0mcolor\u001b[0m\u001b[0;34m=\u001b[0m\u001b[0;34m'blue'\u001b[0m\u001b[0;34m)\u001b[0m\u001b[0;34m\u001b[0m\u001b[0;34m\u001b[0m\u001b[0m\n\u001b[0m\u001b[1;32m      5\u001b[0m \u001b[0mplt\u001b[0m\u001b[0;34m.\u001b[0m\u001b[0mgrid\u001b[0m\u001b[0;34m(\u001b[0m\u001b[0;32mTrue\u001b[0m\u001b[0;34m)\u001b[0m\u001b[0;34m\u001b[0m\u001b[0;34m\u001b[0m\u001b[0m\n\u001b[1;32m      6\u001b[0m \u001b[0mplt\u001b[0m\u001b[0;34m.\u001b[0m\u001b[0mshow\u001b[0m\u001b[0;34m(\u001b[0m\u001b[0;34m)\u001b[0m\u001b[0;34m\u001b[0m\u001b[0;34m\u001b[0m\u001b[0m\n",
      "\u001b[0;32m/opt/anaconda3/lib/python3.12/site-packages/pandas/core/generic.py\u001b[0m in \u001b[0;36m?\u001b[0;34m(self, name)\u001b[0m\n\u001b[1;32m   6295\u001b[0m             \u001b[0;32mand\u001b[0m \u001b[0mname\u001b[0m \u001b[0;32mnot\u001b[0m \u001b[0;32min\u001b[0m \u001b[0mself\u001b[0m\u001b[0;34m.\u001b[0m\u001b[0m_accessors\u001b[0m\u001b[0;34m\u001b[0m\u001b[0;34m\u001b[0m\u001b[0m\n\u001b[1;32m   6296\u001b[0m             \u001b[0;32mand\u001b[0m \u001b[0mself\u001b[0m\u001b[0;34m.\u001b[0m\u001b[0m_info_axis\u001b[0m\u001b[0;34m.\u001b[0m\u001b[0m_can_hold_identifiers_and_holds_name\u001b[0m\u001b[0;34m(\u001b[0m\u001b[0mname\u001b[0m\u001b[0;34m)\u001b[0m\u001b[0;34m\u001b[0m\u001b[0;34m\u001b[0m\u001b[0m\n\u001b[1;32m   6297\u001b[0m         \u001b[0;34m)\u001b[0m\u001b[0;34m:\u001b[0m\u001b[0;34m\u001b[0m\u001b[0;34m\u001b[0m\u001b[0m\n\u001b[1;32m   6298\u001b[0m             \u001b[0;32mreturn\u001b[0m \u001b[0mself\u001b[0m\u001b[0;34m[\u001b[0m\u001b[0mname\u001b[0m\u001b[0;34m]\u001b[0m\u001b[0;34m\u001b[0m\u001b[0;34m\u001b[0m\u001b[0m\n\u001b[0;32m-> 6299\u001b[0;31m         \u001b[0;32mreturn\u001b[0m \u001b[0mobject\u001b[0m\u001b[0;34m.\u001b[0m\u001b[0m__getattribute__\u001b[0m\u001b[0;34m(\u001b[0m\u001b[0mself\u001b[0m\u001b[0;34m,\u001b[0m \u001b[0mname\u001b[0m\u001b[0;34m)\u001b[0m\u001b[0;34m\u001b[0m\u001b[0;34m\u001b[0m\u001b[0m\n\u001b[0m",
      "\u001b[0;31mAttributeError\u001b[0m: 'Series' object has no attribute 'ID'"
     ]
    },
    {
     "data": {
      "text/plain": [
       "<Figure size 800x500 with 0 Axes>"
      ]
     },
     "metadata": {},
     "output_type": "display_data"
    }
   ],
   "source": [
    "average_rr = df_data['RR'].mean()\n",
    "print(average_rr)\n",
    "plt.figure(figsize=(8, 5))\n",
    "plt.plot(average_rr.ID, average_rr.values, marker='o', color='blue')\n",
    "plt.grid(True)\n",
    "plt.show()"
   ]
  },
  {
   "cell_type": "markdown",
   "id": "00e4de7c-9ed7-4b7e-bb6c-d102600e6979",
   "metadata": {},
   "source": [
    "21. Display a pie chart of number of athletes by sport.\n"
   ]
  },
  {
   "cell_type": "code",
   "execution_count": 126,
   "id": "fda834fd-7829-462d-b0eb-fe5cc139443a",
   "metadata": {},
   "outputs": [],
   "source": [
    "pie_sport_counts = df_data['sport'].value_counts()\n"
   ]
  },
  {
   "cell_type": "code",
   "execution_count": 128,
   "id": "941c0980-8eac-43a7-a7b6-cd89ab762a14",
   "metadata": {},
   "outputs": [
    {
     "data": {
      "text/plain": [
       "<Axes: title={'center': 'Sport Distribution'}, ylabel='count'>"
      ]
     },
     "execution_count": 128,
     "metadata": {},
     "output_type": "execute_result"
    },
    {
     "data": {
      "image/png": "[encoded data removed]",
      "text/plain": [
       "<Figure size 640x480 with 1 Axes>"
      ]
     },
     "metadata": {},
     "output_type": "display_data"
    }
   ],
   "source": [
    "pie_sport_counts.plot(kind='pie', title='Sport Distribution', autopct='%1.1f%%')"
   ]
  },
  {
   "cell_type": "markdown",
   "id": "67e61711-0bbc-45a0-aaf4-28534be055fd",
   "metadata": {},
   "source": [
    "22. Using any 10 HR values print even if the value is an even number and odd if its an odd number\n"
   ]
  },
  {
   "cell_type": "code",
   "execution_count": 330,
   "id": "a0d87d43-3103-425b-ae86-69f599dac4ac",
   "metadata": {},
   "outputs": [
    {
     "data": {
      "text/html": [
       "<div>\n",
       "<style scoped>\n",
       "    .dataframe tbody tr th:only-of-type {\n",
       "        vertical-align: middle;\n",
       "    }\n",
       "\n",
       "    .dataframe tbody tr th {\n",
       "        vertical-align: top;\n",
       "    }\n",
       "\n",
       "    .dataframe thead th {\n",
       "        text-align: right;\n",
       "    }\n",
       "</style>\n",
       "<table border=\"1\" class=\"dataframe\">\n",
       "  <thead>\n",
       "    <tr style=\"text-align: right;\">\n",
       "      <th></th>\n",
       "      <th>ID</th>\n",
       "      <th>time</th>\n",
       "      <th>RR</th>\n",
       "      <th>VO2</th>\n",
       "      <th>power</th>\n",
       "      <th>age</th>\n",
       "      <th>Weight</th>\n",
       "      <th>Height</th>\n",
       "      <th>P_vt1</th>\n",
       "      <th>P_vt2</th>\n",
       "      <th>sport</th>\n",
       "      <th>Gender</th>\n",
       "      <th>Ethnicity</th>\n",
       "      <th>First Name</th>\n",
       "      <th>Last Name</th>\n",
       "      <th>HR</th>\n",
       "      <th>Minute</th>\n",
       "    </tr>\n",
       "  </thead>\n",
       "  <tbody>\n",
       "    <tr>\n",
       "      <th>0</th>\n",
       "      <td>11</td>\n",
       "      <td>1969-12-31 23:59:59.999999832</td>\n",
       "      <td>727.0</td>\n",
       "      <td>0.287147</td>\n",
       "      <td>0.0</td>\n",
       "      <td>NaN</td>\n",
       "      <td>NaN</td>\n",
       "      <td>NaN</td>\n",
       "      <td>NaN</td>\n",
       "      <td>NaN</td>\n",
       "      <td>NaN</td>\n",
       "      <td>NaN</td>\n",
       "      <td>NaN</td>\n",
       "      <td>NaN</td>\n",
       "      <td>NaN</td>\n",
       "      <td>82.530949</td>\n",
       "      <td>1969-12-31 23:59:00</td>\n",
       "    </tr>\n",
       "    <tr>\n",
       "      <th>1</th>\n",
       "      <td>11</td>\n",
       "      <td>1969-12-31 23:59:59.999999833</td>\n",
       "      <td>728.0</td>\n",
       "      <td>0.287147</td>\n",
       "      <td>0.0</td>\n",
       "      <td>NaN</td>\n",
       "      <td>NaN</td>\n",
       "      <td>NaN</td>\n",
       "      <td>NaN</td>\n",
       "      <td>NaN</td>\n",
       "      <td>NaN</td>\n",
       "      <td>NaN</td>\n",
       "      <td>NaN</td>\n",
       "      <td>NaN</td>\n",
       "      <td>NaN</td>\n",
       "      <td>82.417582</td>\n",
       "      <td>1969-12-31 23:59:00</td>\n",
       "    </tr>\n",
       "    <tr>\n",
       "      <th>2</th>\n",
       "      <td>11</td>\n",
       "      <td>1969-12-31 23:59:59.999999833</td>\n",
       "      <td>724.0</td>\n",
       "      <td>0.287147</td>\n",
       "      <td>0.0</td>\n",
       "      <td>NaN</td>\n",
       "      <td>NaN</td>\n",
       "      <td>NaN</td>\n",
       "      <td>NaN</td>\n",
       "      <td>NaN</td>\n",
       "      <td>NaN</td>\n",
       "      <td>NaN</td>\n",
       "      <td>NaN</td>\n",
       "      <td>NaN</td>\n",
       "      <td>NaN</td>\n",
       "      <td>82.872928</td>\n",
       "      <td>1969-12-31 23:59:00</td>\n",
       "    </tr>\n",
       "    <tr>\n",
       "      <th>3</th>\n",
       "      <td>11</td>\n",
       "      <td>1969-12-31 23:59:59.999999834</td>\n",
       "      <td>664.0</td>\n",
       "      <td>0.320580</td>\n",
       "      <td>0.0</td>\n",
       "      <td>NaN</td>\n",
       "      <td>NaN</td>\n",
       "      <td>NaN</td>\n",
       "      <td>NaN</td>\n",
       "      <td>NaN</td>\n",
       "      <td>NaN</td>\n",
       "      <td>NaN</td>\n",
       "      <td>NaN</td>\n",
       "      <td>NaN</td>\n",
       "      <td>NaN</td>\n",
       "      <td>90.361446</td>\n",
       "      <td>1969-12-31 23:59:00</td>\n",
       "    </tr>\n",
       "    <tr>\n",
       "      <th>4</th>\n",
       "      <td>11</td>\n",
       "      <td>1969-12-31 23:59:59.999999835</td>\n",
       "      <td>648.0</td>\n",
       "      <td>0.320580</td>\n",
       "      <td>0.0</td>\n",
       "      <td>NaN</td>\n",
       "      <td>NaN</td>\n",
       "      <td>NaN</td>\n",
       "      <td>NaN</td>\n",
       "      <td>NaN</td>\n",
       "      <td>NaN</td>\n",
       "      <td>NaN</td>\n",
       "      <td>NaN</td>\n",
       "      <td>NaN</td>\n",
       "      <td>NaN</td>\n",
       "      <td>92.592593</td>\n",
       "      <td>1969-12-31 23:59:00</td>\n",
       "    </tr>\n",
       "    <tr>\n",
       "      <th>5</th>\n",
       "      <td>11</td>\n",
       "      <td>1969-12-31 23:59:59.999999835</td>\n",
       "      <td>620.0</td>\n",
       "      <td>0.320580</td>\n",
       "      <td>0.0</td>\n",
       "      <td>NaN</td>\n",
       "      <td>NaN</td>\n",
       "      <td>NaN</td>\n",
       "      <td>NaN</td>\n",
       "      <td>NaN</td>\n",
       "      <td>NaN</td>\n",
       "      <td>NaN</td>\n",
       "      <td>NaN</td>\n",
       "      <td>NaN</td>\n",
       "      <td>NaN</td>\n",
       "      <td>96.774194</td>\n",
       "      <td>1969-12-31 23:59:00</td>\n",
       "    </tr>\n",
       "    <tr>\n",
       "      <th>6</th>\n",
       "      <td>11</td>\n",
       "      <td>1969-12-31 23:59:59.999999836</td>\n",
       "      <td>696.0</td>\n",
       "      <td>0.320580</td>\n",
       "      <td>0.0</td>\n",
       "      <td>NaN</td>\n",
       "      <td>NaN</td>\n",
       "      <td>NaN</td>\n",
       "      <td>NaN</td>\n",
       "      <td>NaN</td>\n",
       "      <td>NaN</td>\n",
       "      <td>NaN</td>\n",
       "      <td>NaN</td>\n",
       "      <td>NaN</td>\n",
       "      <td>NaN</td>\n",
       "      <td>86.206897</td>\n",
       "      <td>1969-12-31 23:59:00</td>\n",
       "    </tr>\n",
       "    <tr>\n",
       "      <th>7</th>\n",
       "      <td>11</td>\n",
       "      <td>1969-12-31 23:59:59.999999837</td>\n",
       "      <td>800.0</td>\n",
       "      <td>0.320580</td>\n",
       "      <td>0.0</td>\n",
       "      <td>NaN</td>\n",
       "      <td>NaN</td>\n",
       "      <td>NaN</td>\n",
       "      <td>NaN</td>\n",
       "      <td>NaN</td>\n",
       "      <td>NaN</td>\n",
       "      <td>NaN</td>\n",
       "      <td>NaN</td>\n",
       "      <td>NaN</td>\n",
       "      <td>NaN</td>\n",
       "      <td>75.000000</td>\n",
       "      <td>1969-12-31 23:59:00</td>\n",
       "    </tr>\n",
       "    <tr>\n",
       "      <th>8</th>\n",
       "      <td>11</td>\n",
       "      <td>1969-12-31 23:59:59.999999838</td>\n",
       "      <td>792.0</td>\n",
       "      <td>0.320580</td>\n",
       "      <td>0.0</td>\n",
       "      <td>NaN</td>\n",
       "      <td>NaN</td>\n",
       "      <td>NaN</td>\n",
       "      <td>NaN</td>\n",
       "      <td>NaN</td>\n",
       "      <td>NaN</td>\n",
       "      <td>NaN</td>\n",
       "      <td>NaN</td>\n",
       "      <td>NaN</td>\n",
       "      <td>NaN</td>\n",
       "      <td>75.757576</td>\n",
       "      <td>1969-12-31 23:59:00</td>\n",
       "    </tr>\n",
       "    <tr>\n",
       "      <th>9</th>\n",
       "      <td>11</td>\n",
       "      <td>1969-12-31 23:59:59.999999838</td>\n",
       "      <td>772.0</td>\n",
       "      <td>0.320580</td>\n",
       "      <td>0.0</td>\n",
       "      <td>NaN</td>\n",
       "      <td>NaN</td>\n",
       "      <td>NaN</td>\n",
       "      <td>NaN</td>\n",
       "      <td>NaN</td>\n",
       "      <td>NaN</td>\n",
       "      <td>NaN</td>\n",
       "      <td>NaN</td>\n",
       "      <td>NaN</td>\n",
       "      <td>NaN</td>\n",
       "      <td>77.720207</td>\n",
       "      <td>1969-12-31 23:59:00</td>\n",
       "    </tr>\n",
       "  </tbody>\n",
       "</table>\n",
       "</div>"
      ],
      "text/plain": [
       "   ID                          time     RR       VO2  power  age  Weight  \\\n",
       "0  11 1969-12-31 23:59:59.999999832  727.0  0.287147    0.0  NaN     NaN   \n",
       "1  11 1969-12-31 23:59:59.999999833  728.0  0.287147    0.0  NaN     NaN   \n",
       "2  11 1969-12-31 23:59:59.999999833  724.0  0.287147    0.0  NaN     NaN   \n",
       "3  11 1969-12-31 23:59:59.999999834  664.0  0.320580    0.0  NaN     NaN   \n",
       "4  11 1969-12-31 23:59:59.999999835  648.0  0.320580    0.0  NaN     NaN   \n",
       "5  11 1969-12-31 23:59:59.999999835  620.0  0.320580    0.0  NaN     NaN   \n",
       "6  11 1969-12-31 23:59:59.999999836  696.0  0.320580    0.0  NaN     NaN   \n",
       "7  11 1969-12-31 23:59:59.999999837  800.0  0.320580    0.0  NaN     NaN   \n",
       "8  11 1969-12-31 23:59:59.999999838  792.0  0.320580    0.0  NaN     NaN   \n",
       "9  11 1969-12-31 23:59:59.999999838  772.0  0.320580    0.0  NaN     NaN   \n",
       "\n",
       "   Height  P_vt1  P_vt2 sport Gender Ethnicity First Name Last Name  \\\n",
       "0     NaN    NaN    NaN   NaN    NaN       NaN        NaN       NaN   \n",
       "1     NaN    NaN    NaN   NaN    NaN       NaN        NaN       NaN   \n",
       "2     NaN    NaN    NaN   NaN    NaN       NaN        NaN       NaN   \n",
       "3     NaN    NaN    NaN   NaN    NaN       NaN        NaN       NaN   \n",
       "4     NaN    NaN    NaN   NaN    NaN       NaN        NaN       NaN   \n",
       "5     NaN    NaN    NaN   NaN    NaN       NaN        NaN       NaN   \n",
       "6     NaN    NaN    NaN   NaN    NaN       NaN        NaN       NaN   \n",
       "7     NaN    NaN    NaN   NaN    NaN       NaN        NaN       NaN   \n",
       "8     NaN    NaN    NaN   NaN    NaN       NaN        NaN       NaN   \n",
       "9     NaN    NaN    NaN   NaN    NaN       NaN        NaN       NaN   \n",
       "\n",
       "          HR              Minute  \n",
       "0  82.530949 1969-12-31 23:59:00  \n",
       "1  82.417582 1969-12-31 23:59:00  \n",
       "2  82.872928 1969-12-31 23:59:00  \n",
       "3  90.361446 1969-12-31 23:59:00  \n",
       "4  92.592593 1969-12-31 23:59:00  \n",
       "5  96.774194 1969-12-31 23:59:00  \n",
       "6  86.206897 1969-12-31 23:59:00  \n",
       "7  75.000000 1969-12-31 23:59:00  \n",
       "8  75.757576 1969-12-31 23:59:00  \n",
       "9  77.720207 1969-12-31 23:59:00  "
      ]
     },
     "execution_count": 330,
     "metadata": {},
     "output_type": "execute_result"
    }
   ],
   "source": [
    "df_data[\"HR\"]= 60/(df_data[\"RR\"]/1000)\n",
    "df_data.head(10)\n"
   ]
  },
  {
   "cell_type": "code",
   "execution_count": 332,
   "id": "f89d30aa-f594-416d-b90d-13df7050cb8a",
   "metadata": {},
   "outputs": [
    {
     "name": "stdout",
     "output_type": "stream",
     "text": [
      "83.0 is odd\n",
      "82.0 is even\n",
      "83.0 is odd\n",
      "90.0 is even\n",
      "93.0 is odd\n",
      "97.0 is odd\n",
      "86.0 is even\n",
      "75.0 is odd\n",
      "76.0 is even\n",
      "78.0 is even\n"
     ]
    }
   ],
   "source": [
    "df_data['HR_int'] = df_data['HR'].round(0)\n",
    "\n",
    "for value in df_data['HR_int'].head(10):\n",
    "     if value%2 == 0:\n",
    "        print(f'{value} is even')\n",
    "     else:\n",
    "        print(f'{value} is odd')\n"
   ]
  },
  {
   "cell_type": "markdown",
   "id": "dfe70aba-c60c-4226-a2fb-1626c54d1da0",
   "metadata": {},
   "source": [
    "23. Which heart rate zone did most participants spend the longest duration of time in?\n",
    "**"
   ]
  },
  {
   "cell_type": "code",
   "execution_count": 21,
   "id": "7c2c4556-6c45-4304-9393-3170740a9a89",
   "metadata": {},
   "outputs": [
    {
     "name": "stdout",
     "output_type": "stream",
     "text": [
      "       ID     time     RR       VO2  power          HR\n",
      "0      11 -168.600  727.0  0.287147      0   82.530949\n",
      "1      11 -167.872  728.0  0.287147      0   82.417582\n",
      "2      11 -167.148  724.0  0.287147      0   82.872928\n",
      "3      11 -166.484  664.0  0.320580      0   90.361446\n",
      "4      11 -165.836  648.0  0.320580      0   92.592593\n",
      "...    ..      ...    ...       ...    ...         ...\n",
      "52057  10  942.700  428.0  0.786363      0  140.186916\n",
      "52058  10  943.124  424.0  0.786363      0  141.509434\n",
      "52059  10  943.552  428.0  0.786363      0  140.186916\n",
      "52060  10  943.976  424.0  0.786363      0  141.509434\n",
      "52061  10  944.404  428.0  0.786363      0  140.186916\n",
      "\n",
      "[52062 rows x 6 columns]\n"
     ]
    }
   ],
   "source": [
    "df_data[\"HR\"]= 60/(df_data[\"RR\"]/1000)\n",
    "\n",
    "df_hr_zone = pd.DataFrame(df_data)\n",
    "\n",
    "def get_hr_zone(HR):\n",
    "    if HR < 120:\n",
    "        return 'Zone 1'\n",
    "    elif 120 <= HR < 140:\n",
    "        return 'Zone 2'\n",
    "    elif 140 <= HR < 160:\n",
    "        return 'Zone 3'\n",
    "    else:\n",
    "        return 'Zone 4'\n",
    "\n",
    "# Apply function to create a 'Zone' column\n",
    "df_hr_zone['Zone'] = df_data['HR'].apply(get_hr_zone)\n",
    "\n",
    "print(df_data)\n"
   ]
  },
  {
   "cell_type": "markdown",
   "id": "d462774f-6663-45bb-beca-d9e0b28c9ce6",
   "metadata": {},
   "source": [
    "24. Store athlete name and sport in a dictionary as a pair of values.\n"
   ]
  },
  {
   "cell_type": "code",
   "execution_count": 51,
   "id": "5a802755-e06b-461d-9901-d85c4f7ccd0e",
   "metadata": {},
   "outputs": [],
   "source": [
    "df_data = pd.concat([df_Kayaking,df_Triathlon,df_Fencing,df_Athletes],ignore_index=True)"
   ]
  },
  {
   "cell_type": "code",
   "execution_count": 3,
   "id": "3c9506b8-21f3-4d5d-b31c-85e16713674d",
   "metadata": {},
   "outputs": [],
   "source": [
    "#df_Athletes.describe()"
   ]
  },
  {
   "cell_type": "code",
   "execution_count": 53,
   "id": "8bc08ea7-e2f4-4002-9149-2bc5bc22c8da",
   "metadata": {},
   "outputs": [
    {
     "name": "stdout",
     "output_type": "stream",
     "text": [
      "{'First Name': {0: 'Olivia', 1: 'Ethan', 2: 'Jackson', 3: 'Liam', 4: 'Ava', 5: 'Sophia', 6: 'Grace', 7: 'Aiden', 8: 'Chloe', 9: 'Lily', 10: 'Isabella', 11: 'Caleb', 12: 'Mia', 13: 'Harper', 14: 'Mason', 15: 'Logan', 16: 'Lucas', 17: 'Owen'}, 'sport': {0: 'fencing', 1: 'fencing', 2: 'fencing', 3: 'fencing', 4: 'fencing', 5: 'fencing', 6: 'fencing', 7: 'fencing', 8: 'fencing', 9: 'fencing', 10: 'kayak', 11: 'kayak', 12: 'kayak', 13: 'kayak', 14: 'kayak', 15: 'kayak', 16: 'triathlon', 17: 'triathlon'}}\n"
     ]
    }
   ],
   "source": [
    "\n",
    "\n",
    "selected_data = df_Athletes.loc[:,['First Name', 'sport']]\n",
    "\n",
    "\n",
    "athlete_dict = selected_data.to_dict(orient='dict')\n",
    "\n",
    "print(athlete_dict)"
   ]
  },
  {
   "cell_type": "markdown",
   "id": "7bf3b933-f651-44a7-b3ee-3696229d2fd2",
   "metadata": {},
   "source": [
    "25. Using arrays and loops, find the count of athletes based on gender.\n"
   ]
  },
  {
   "cell_type": "code",
   "execution_count": 55,
   "id": "61525133-ce7b-4378-abb6-4f28abe3a451",
   "metadata": {},
   "outputs": [
    {
     "name": "stdout",
     "output_type": "stream",
     "text": [
      "male 8\n",
      "female 10\n"
     ]
    }
   ],
   "source": [
    "male_count = 0\n",
    "female_count = 0\n",
    "\n",
    "for Gender in df_data['Gender']:\n",
    "    if Gender == 'Male':\n",
    "        male_count += 1\n",
    "    elif Gender == 'Female':\n",
    "        female_count += 1\n",
    "\n",
    "\n",
    "print(\"male\", male_count)\n",
    "print(\"female\", female_count)"
   ]
  },
  {
   "cell_type": "markdown",
   "id": "95cec375-43f4-4101-a1ae-12de6781d10b",
   "metadata": {},
   "source": [
    "26. Create a sankey diagram to show the groups of race within each sport\n"
   ]
  },
  {
   "cell_type": "code",
   "execution_count": 41,
   "id": "f3057136-bd99-4883-b47d-ba2ab351fa34",
   "metadata": {},
   "outputs": [
    {
     "data": {
      "application/vnd.plotly.v1+json": {
       "config": {
        "plotlyServerURL": "https://plot.ly"
       },
       "data": [
        {
         "link": {
          "source": [
           0,
           0,
           1,
           2,
           3,
           3
          ],
          "target": [
           4,
           5,
           4,
           5,
           5,
           6
          ],
          "value": [
           4,
           2,
           6,
           2,
           2,
           2
          ]
         },
         "node": {
          "label": [
           "African",
           "White",
           "Asian",
           "Latino",
           "fencing",
           "kayak",
           "triathlon"
          ],
          "line": {
           "color": "black",
           "width": 0.5
          },
          "pad": 15,
          "thickness": 20
         },
         "type": "sankey"
        }
       ],
       "layout": {
        "autosize": true,
        "font": {
         "size": 10
        },
        "template": {
         "data": {
          "bar": [
           {
            "error_x": {
             "color": "#2a3f5f"
            },
            "error_y": {
             "color": "#2a3f5f"
            },
            "marker": {
             "line": {
              "color": "#E5ECF6",
              "width": 0.5
             },
             "pattern": {
              "fillmode": "overlay",
              "size": 10,
              "solidity": 0.2
             }
            },
            "type": "bar"
           }
          ],
          "barpolar": [
           {
            "marker": {
             "line": {
              "color": "#E5ECF6",
              "width": 0.5
             },
             "pattern": {
              "fillmode": "overlay",
              "size": 10,
              "solidity": 0.2
             }
            },
            "type": "barpolar"
           }
          ],
          "carpet": [
           {
            "aaxis": {
             "endlinecolor": "#2a3f5f",
             "gridcolor": "white",
             "linecolor": "white",
             "minorgridcolor": "white",
             "startlinecolor": "#2a3f5f"
            },
            "baxis": {
             "endlinecolor": "#2a3f5f",
             "gridcolor": "white",
             "linecolor": "white",
             "minorgridcolor": "white",
             "startlinecolor": "#2a3f5f"
            },
            "type": "carpet"
           }
          ],
          "choropleth": [
           {
            "colorbar": {
             "outlinewidth": 0,
             "ticks": ""
            },
            "type": "choropleth"
           }
          ],
          "contour": [
           {
            "colorbar": {
             "outlinewidth": 0,
             "ticks": ""
            },
            "colorscale": [
             [
              0,
              "#0d0887"
             ],
             [
              0.1111111111111111,
              "#46039f"
             ],
             [
              0.2222222222222222,
              "#7201a8"
             ],
             [
              0.3333333333333333,
              "#9c179e"
             ],
             [
              0.4444444444444444,
              "#bd3786"
             ],
             [
              0.5555555555555556,
              "#d8576b"
             ],
             [
              0.6666666666666666,
              "#ed7953"
             ],
             [
              0.7777777777777778,
              "#fb9f3a"
             ],
             [
              0.8888888888888888,
              "#fdca26"
             ],
             [
              1,
              "#f0f921"
             ]
            ],
            "type": "contour"
           }
          ],
          "contourcarpet": [
           {
            "colorbar": {
             "outlinewidth": 0,
             "ticks": ""
            },
            "type": "contourcarpet"
           }
          ],
          "heatmap": [
           {
            "colorbar": {
             "outlinewidth": 0,
             "ticks": ""
            },
            "colorscale": [
             [
              0,
              "#0d0887"
             ],
             [
              0.1111111111111111,
              "#46039f"
             ],
             [
              0.2222222222222222,
              "#7201a8"
             ],
             [
              0.3333333333333333,
              "#9c179e"
             ],
             [
              0.4444444444444444,
              "#bd3786"
             ],
             [
              0.5555555555555556,
              "#d8576b"
             ],
             [
              0.6666666666666666,
              "#ed7953"
             ],
             [
              0.7777777777777778,
              "#fb9f3a"
             ],
             [
              0.8888888888888888,
              "#fdca26"
             ],
             [
              1,
              "#f0f921"
             ]
            ],
            "type": "heatmap"
           }
          ],
          "heatmapgl": [
           {
            "colorbar": {
             "outlinewidth": 0,
             "ticks": ""
            },
            "colorscale": [
             [
              0,
              "#0d0887"
             ],
             [
              0.1111111111111111,
              "#46039f"
             ],
             [
              0.2222222222222222,
              "#7201a8"
             ],
             [
              0.3333333333333333,
              "#9c179e"
             ],
             [
              0.4444444444444444,
              "#bd3786"
             ],
             [
              0.5555555555555556,
              "#d8576b"
             ],
             [
              0.6666666666666666,
              "#ed7953"
             ],
             [
              0.7777777777777778,
              "#fb9f3a"
             ],
             [
              0.8888888888888888,
              "#fdca26"
             ],
             [
              1,
              "#f0f921"
             ]
            ],
            "type": "heatmapgl"
           }
          ],
          "histogram": [
           {
            "marker": {
             "pattern": {
              "fillmode": "overlay",
              "size": 10,
              "solidity": 0.2
             }
            },
            "type": "histogram"
           }
          ],
          "histogram2d": [
           {
            "colorbar": {
             "outlinewidth": 0,
             "ticks": ""
            },
            "colorscale": [
             [
              0,
              "#0d0887"
             ],
             [
              0.1111111111111111,
              "#46039f"
             ],
             [
              0.2222222222222222,
              "#7201a8"
             ],
             [
              0.3333333333333333,
              "#9c179e"
             ],
             [
              0.4444444444444444,
              "#bd3786"
             ],
             [
              0.5555555555555556,
              "#d8576b"
             ],
             [
              0.6666666666666666,
              "#ed7953"
             ],
             [
              0.7777777777777778,
              "#fb9f3a"
             ],
             [
              0.8888888888888888,
              "#fdca26"
             ],
             [
              1,
              "#f0f921"
             ]
            ],
            "type": "histogram2d"
           }
          ],
          "histogram2dcontour": [
           {
            "colorbar": {
             "outlinewidth": 0,
             "ticks": ""
            },
            "colorscale": [
             [
              0,
              "#0d0887"
             ],
             [
              0.1111111111111111,
              "#46039f"
             ],
             [
              0.2222222222222222,
              "#7201a8"
             ],
             [
              0.3333333333333333,
              "#9c179e"
             ],
             [
              0.4444444444444444,
              "#bd3786"
             ],
             [
              0.5555555555555556,
              "#d8576b"
             ],
             [
              0.6666666666666666,
              "#ed7953"
             ],
             [
              0.7777777777777778,
              "#fb9f3a"
             ],
             [
              0.8888888888888888,
              "#fdca26"
             ],
             [
              1,
              "#f0f921"
             ]
            ],
            "type": "histogram2dcontour"
           }
          ],
          "mesh3d": [
           {
            "colorbar": {
             "outlinewidth": 0,
             "ticks": ""
            },
            "type": "mesh3d"
           }
          ],
          "parcoords": [
           {
            "line": {
             "colorbar": {
              "outlinewidth": 0,
              "ticks": ""
             }
            },
            "type": "parcoords"
           }
          ],
          "pie": [
           {
            "automargin": true,
            "type": "pie"
           }
          ],
          "scatter": [
           {
            "fillpattern": {
             "fillmode": "overlay",
             "size": 10,
             "solidity": 0.2
            },
            "type": "scatter"
           }
          ],
          "scatter3d": [
           {
            "line": {
             "colorbar": {
              "outlinewidth": 0,
              "ticks": ""
             }
            },
            "marker": {
             "colorbar": {
              "outlinewidth": 0,
              "ticks": ""
             }
            },
            "type": "scatter3d"
           }
          ],
          "scattercarpet": [
           {
            "marker": {
             "colorbar": {
              "outlinewidth": 0,
              "ticks": ""
             }
            },
            "type": "scattercarpet"
           }
          ],
          "scattergeo": [
           {
            "marker": {
             "colorbar": {
              "outlinewidth": 0,
              "ticks": ""
             }
            },
            "type": "scattergeo"
           }
          ],
          "scattergl": [
           {
            "marker": {
             "colorbar": {
              "outlinewidth": 0,
              "ticks": ""
             }
            },
            "type": "scattergl"
           }
          ],
          "scattermapbox": [
           {
            "marker": {
             "colorbar": {
              "outlinewidth": 0,
              "ticks": ""
             }
            },
            "type": "scattermapbox"
           }
          ],
          "scatterpolar": [
           {
            "marker": {
             "colorbar": {
              "outlinewidth": 0,
              "ticks": ""
             }
            },
            "type": "scatterpolar"
           }
          ],
          "scatterpolargl": [
           {
            "marker": {
             "colorbar": {
              "outlinewidth": 0,
              "ticks": ""
             }
            },
            "type": "scatterpolargl"
           }
          ],
          "scatterternary": [
           {
            "marker": {
             "colorbar": {
              "outlinewidth": 0,
              "ticks": ""
             }
            },
            "type": "scatterternary"
           }
          ],
          "surface": [
           {
            "colorbar": {
             "outlinewidth": 0,
             "ticks": ""
            },
            "colorscale": [
             [
              0,
              "#0d0887"
             ],
             [
              0.1111111111111111,
              "#46039f"
             ],
             [
              0.2222222222222222,
              "#7201a8"
             ],
             [
              0.3333333333333333,
              "#9c179e"
             ],
             [
              0.4444444444444444,
              "#bd3786"
             ],
             [
              0.5555555555555556,
              "#d8576b"
             ],
             [
              0.6666666666666666,
              "#ed7953"
             ],
             [
              0.7777777777777778,
              "#fb9f3a"
             ],
             [
              0.8888888888888888,
              "#fdca26"
             ],
             [
              1,
              "#f0f921"
             ]
            ],
            "type": "surface"
           }
          ],
          "table": [
           {
            "cells": {
             "fill": {
              "color": "#EBF0F8"
             },
             "line": {
              "color": "white"
             }
            },
            "header": {
             "fill": {
              "color": "#C8D4E3"
             },
             "line": {
              "color": "white"
             }
            },
            "type": "table"
           }
          ]
         },
         "layout": {
          "annotationdefaults": {
           "arrowcolor": "#2a3f5f",
           "arrowhead": 0,
           "arrowwidth": 1
          },
          "autotypenumbers": "strict",
          "coloraxis": {
           "colorbar": {
            "outlinewidth": 0,
            "ticks": ""
           }
          },
          "colorscale": {
           "diverging": [
            [
             0,
             "#8e0152"
            ],
            [
             0.1,
             "#c51b7d"
            ],
            [
             0.2,
             "#de77ae"
            ],
            [
             0.3,
             "#f1b6da"
            ],
            [
             0.4,
             "#fde0ef"
            ],
            [
             0.5,
             "#f7f7f7"
            ],
            [
             0.6,
             "#e6f5d0"
            ],
            [
             0.7,
             "#b8e186"
            ],
            [
             0.8,
             "#7fbc41"
            ],
            [
             0.9,
             "#4d9221"
            ],
            [
             1,
             "#276419"
            ]
           ],
           "sequential": [
            [
             0,
             "#0d0887"
            ],
            [
             0.1111111111111111,
             "#46039f"
            ],
            [
             0.2222222222222222,
             "#7201a8"
            ],
            [
             0.3333333333333333,
             "#9c179e"
            ],
            [
             0.4444444444444444,
             "#bd3786"
            ],
            [
             0.5555555555555556,
             "#d8576b"
            ],
            [
             0.6666666666666666,
             "#ed7953"
            ],
            [
             0.7777777777777778,
             "#fb9f3a"
            ],
            [
             0.8888888888888888,
             "#fdca26"
            ],
            [
             1,
             "#f0f921"
            ]
           ],
           "sequentialminus": [
            [
             0,
             "#0d0887"
            ],
            [
             0.1111111111111111,
             "#46039f"
            ],
            [
             0.2222222222222222,
             "#7201a8"
            ],
            [
             0.3333333333333333,
             "#9c179e"
            ],
            [
             0.4444444444444444,
             "#bd3786"
            ],
            [
             0.5555555555555556,
             "#d8576b"
            ],
            [
             0.6666666666666666,
             "#ed7953"
            ],
            [
             0.7777777777777778,
             "#fb9f3a"
            ],
            [
             0.8888888888888888,
             "#fdca26"
            ],
            [
             1,
             "#f0f921"
            ]
           ]
          },
          "colorway": [
           "#636efa",
           "#EF553B",
           "#00cc96",
           "#ab63fa",
           "#FFA15A",
           "#19d3f3",
           "#FF6692",
           "#B6E880",
           "#FF97FF",
           "#FECB52"
          ],
          "font": {
           "color": "#2a3f5f"
          },
          "geo": {
           "bgcolor": "white",
           "lakecolor": "white",
           "landcolor": "#E5ECF6",
           "showlakes": true,
           "showland": true,
           "subunitcolor": "white"
          },
          "hoverlabel": {
           "align": "left"
          },
          "hovermode": "closest",
          "mapbox": {
           "style": "light"
          },
          "paper_bgcolor": "white",
          "plot_bgcolor": "#E5ECF6",
          "polar": {
           "angularaxis": {
            "gridcolor": "white",
            "linecolor": "white",
            "ticks": ""
           },
           "bgcolor": "#E5ECF6",
           "radialaxis": {
            "gridcolor": "white",
            "linecolor": "white",
            "ticks": ""
           }
          },
          "scene": {
           "xaxis": {
            "backgroundcolor": "#E5ECF6",
            "gridcolor": "white",
            "gridwidth": 2,
            "linecolor": "white",
            "showbackground": true,
            "ticks": "",
            "zerolinecolor": "white"
           },
           "yaxis": {
            "backgroundcolor": "#E5ECF6",
            "gridcolor": "white",
            "gridwidth": 2,
            "linecolor": "white",
            "showbackground": true,
            "ticks": "",
            "zerolinecolor": "white"
           },
           "zaxis": {
            "backgroundcolor": "#E5ECF6",
            "gridcolor": "white",
            "gridwidth": 2,
            "linecolor": "white",
            "showbackground": true,
            "ticks": "",
            "zerolinecolor": "white"
           }
          },
          "shapedefaults": {
           "line": {
            "color": "#2a3f5f"
           }
          },
          "ternary": {
           "aaxis": {
            "gridcolor": "white",
            "linecolor": "white",
            "ticks": ""
           },
           "baxis": {
            "gridcolor": "white",
            "linecolor": "white",
            "ticks": ""
           },
           "bgcolor": "#E5ECF6",
           "caxis": {
            "gridcolor": "white",
            "linecolor": "white",
            "ticks": ""
           }
          },
          "title": {
           "x": 0.05
          },
          "xaxis": {
           "automargin": true,
           "gridcolor": "white",
           "linecolor": "white",
           "ticks": "",
           "title": {
            "standoff": 15
           },
           "zerolinecolor": "white",
           "zerolinewidth": 2
          },
          "yaxis": {
           "automargin": true,
           "gridcolor": "white",
           "linecolor": "white",
           "ticks": "",
           "title": {
            "standoff": 15
           },
           "zerolinecolor": "white",
           "zerolinewidth": 2
          }
         }
        },
        "title": {
         "text": "Sankey Diagram: Distribution of Race within Each Sport"
        }
       }
      },
      "image/png": "[encoded data removed]",
      "text/html": [
       "<div>                            <div id=\"3ebf1c25-9323-43ac-97d8-013eead82e75\" class=\"plotly-graph-div\" style=\"height:525px; width:100%;\"></div>            <script type=\"text/javascript\">                require([\"plotly\"], function(Plotly) {                    window.PLOTLYENV=window.PLOTLYENV || {};                                    if (document.getElementById(\"3ebf1c25-9323-43ac-97d8-013eead82e75\")) {                    Plotly.newPlot(                        \"3ebf1c25-9323-43ac-97d8-013eead82e75\",                        [{\"link\":{\"source\":[0,0,1,2,3,3],\"target\":[4,5,4,5,5,6],\"value\":[4,2,6,2,2,2]},\"node\":{\"label\":[\"African\",\"White\",\"Asian\",\"Latino\",\"fencing\",\"kayak\",\"triathlon\"],\"line\":{\"color\":\"black\",\"width\":0.5},\"pad\":15,\"thickness\":20},\"type\":\"sankey\"}],                        {\"template\":{\"data\":{\"histogram2dcontour\":[{\"type\":\"histogram2dcontour\",\"colorbar\":{\"outlinewidth\":0,\"ticks\":\"\"},\"colorscale\":[[0.0,\"#0d0887\"],[0.1111111111111111,\"#46039f\"],[0.2222222222222222,\"#7201a8\"],[0.3333333333333333,\"#9c179e\"],[0.4444444444444444,\"#bd3786\"],[0.5555555555555556,\"#d8576b\"],[0.6666666666666666,\"#ed7953\"],[0.7777777777777778,\"#fb9f3a\"],[0.8888888888888888,\"#fdca26\"],[1.0,\"#f0f921\"]]}],\"choropleth\":[{\"type\":\"choropleth\",\"colorbar\":{\"outlinewidth\":0,\"ticks\":\"\"}}],\"histogram2d\":[{\"type\":\"histogram2d\",\"colorbar\":{\"outlinewidth\":0,\"ticks\":\"\"},\"colorscale\":[[0.0,\"#0d0887\"],[0.1111111111111111,\"#46039f\"],[0.2222222222222222,\"#7201a8\"],[0.3333333333333333,\"#9c179e\"],[0.4444444444444444,\"#bd3786\"],[0.5555555555555556,\"#d8576b\"],[0.6666666666666666,\"#ed7953\"],[0.7777777777777778,\"#fb9f3a\"],[0.8888888888888888,\"#fdca26\"],[1.0,\"#f0f921\"]]}],\"heatmap\":[{\"type\":\"heatmap\",\"colorbar\":{\"outlinewidth\":0,\"ticks\":\"\"},\"colorscale\":[[0.0,\"#0d0887\"],[0.1111111111111111,\"#46039f\"],[0.2222222222222222,\"#7201a8\"],[0.3333333333333333,\"#9c179e\"],[0.4444444444444444,\"#bd3786\"],[0.5555555555555556,\"#d8576b\"],[0.6666666666666666,\"#ed7953\"],[0.7777777777777778,\"#fb9f3a\"],[0.8888888888888888,\"#fdca26\"],[1.0,\"#f0f921\"]]}],\"heatmapgl\":[{\"type\":\"heatmapgl\",\"colorbar\":{\"outlinewidth\":0,\"ticks\":\"\"},\"colorscale\":[[0.0,\"#0d0887\"],[0.1111111111111111,\"#46039f\"],[0.2222222222222222,\"#7201a8\"],[0.3333333333333333,\"#9c179e\"],[0.4444444444444444,\"#bd3786\"],[0.5555555555555556,\"#d8576b\"],[0.6666666666666666,\"#ed7953\"],[0.7777777777777778,\"#fb9f3a\"],[0.8888888888888888,\"#fdca26\"],[1.0,\"#f0f921\"]]}],\"contourcarpet\":[{\"type\":\"contourcarpet\",\"colorbar\":{\"outlinewidth\":0,\"ticks\":\"\"}}],\"contour\":[{\"type\":\"contour\",\"colorbar\":{\"outlinewidth\":0,\"ticks\":\"\"},\"colorscale\":[[0.0,\"#0d0887\"],[0.1111111111111111,\"#46039f\"],[0.2222222222222222,\"#7201a8\"],[0.3333333333333333,\"#9c179e\"],[0.4444444444444444,\"#bd3786\"],[0.5555555555555556,\"#d8576b\"],[0.6666666666666666,\"#ed7953\"],[0.7777777777777778,\"#fb9f3a\"],[0.8888888888888888,\"#fdca26\"],[1.0,\"#f0f921\"]]}],\"surface\":[{\"type\":\"surface\",\"colorbar\":{\"outlinewidth\":0,\"ticks\":\"\"},\"colorscale\":[[0.0,\"#0d0887\"],[0.1111111111111111,\"#46039f\"],[0.2222222222222222,\"#7201a8\"],[0.3333333333333333,\"#9c179e\"],[0.4444444444444444,\"#bd3786\"],[0.5555555555555556,\"#d8576b\"],[0.6666666666666666,\"#ed7953\"],[0.7777777777777778,\"#fb9f3a\"],[0.8888888888888888,\"#fdca26\"],[1.0,\"#f0f921\"]]}],\"mesh3d\":[{\"type\":\"mesh3d\",\"colorbar\":{\"outlinewidth\":0,\"ticks\":\"\"}}],\"scatter\":[{\"fillpattern\":{\"fillmode\":\"overlay\",\"size\":10,\"solidity\":0.2},\"type\":\"scatter\"}],\"parcoords\":[{\"type\":\"parcoords\",\"line\":{\"colorbar\":{\"outlinewidth\":0,\"ticks\":\"\"}}}],\"scatterpolargl\":[{\"type\":\"scatterpolargl\",\"marker\":{\"colorbar\":{\"outlinewidth\":0,\"ticks\":\"\"}}}],\"bar\":[{\"error_x\":{\"color\":\"#2a3f5f\"},\"error_y\":{\"color\":\"#2a3f5f\"},\"marker\":{\"line\":{\"color\":\"#E5ECF6\",\"width\":0.5},\"pattern\":{\"fillmode\":\"overlay\",\"size\":10,\"solidity\":0.2}},\"type\":\"bar\"}],\"scattergeo\":[{\"type\":\"scattergeo\",\"marker\":{\"colorbar\":{\"outlinewidth\":0,\"ticks\":\"\"}}}],\"scatterpolar\":[{\"type\":\"scatterpolar\",\"marker\":{\"colorbar\":{\"outlinewidth\":0,\"ticks\":\"\"}}}],\"histogram\":[{\"marker\":{\"pattern\":{\"fillmode\":\"overlay\",\"size\":10,\"solidity\":0.2}},\"type\":\"histogram\"}],\"scattergl\":[{\"type\":\"scattergl\",\"marker\":{\"colorbar\":{\"outlinewidth\":0,\"ticks\":\"\"}}}],\"scatter3d\":[{\"type\":\"scatter3d\",\"line\":{\"colorbar\":{\"outlinewidth\":0,\"ticks\":\"\"}},\"marker\":{\"colorbar\":{\"outlinewidth\":0,\"ticks\":\"\"}}}],\"scattermapbox\":[{\"type\":\"scattermapbox\",\"marker\":{\"colorbar\":{\"outlinewidth\":0,\"ticks\":\"\"}}}],\"scatterternary\":[{\"type\":\"scatterternary\",\"marker\":{\"colorbar\":{\"outlinewidth\":0,\"ticks\":\"\"}}}],\"scattercarpet\":[{\"type\":\"scattercarpet\",\"marker\":{\"colorbar\":{\"outlinewidth\":0,\"ticks\":\"\"}}}],\"carpet\":[{\"aaxis\":{\"endlinecolor\":\"#2a3f5f\",\"gridcolor\":\"white\",\"linecolor\":\"white\",\"minorgridcolor\":\"white\",\"startlinecolor\":\"#2a3f5f\"},\"baxis\":{\"endlinecolor\":\"#2a3f5f\",\"gridcolor\":\"white\",\"linecolor\":\"white\",\"minorgridcolor\":\"white\",\"startlinecolor\":\"#2a3f5f\"},\"type\":\"carpet\"}],\"table\":[{\"cells\":{\"fill\":{\"color\":\"#EBF0F8\"},\"line\":{\"color\":\"white\"}},\"header\":{\"fill\":{\"color\":\"#C8D4E3\"},\"line\":{\"color\":\"white\"}},\"type\":\"table\"}],\"barpolar\":[{\"marker\":{\"line\":{\"color\":\"#E5ECF6\",\"width\":0.5},\"pattern\":{\"fillmode\":\"overlay\",\"size\":10,\"solidity\":0.2}},\"type\":\"barpolar\"}],\"pie\":[{\"automargin\":true,\"type\":\"pie\"}]},\"layout\":{\"autotypenumbers\":\"strict\",\"colorway\":[\"#636efa\",\"#EF553B\",\"#00cc96\",\"#ab63fa\",\"#FFA15A\",\"#19d3f3\",\"#FF6692\",\"#B6E880\",\"#FF97FF\",\"#FECB52\"],\"font\":{\"color\":\"#2a3f5f\"},\"hovermode\":\"closest\",\"hoverlabel\":{\"align\":\"left\"},\"paper_bgcolor\":\"white\",\"plot_bgcolor\":\"#E5ECF6\",\"polar\":{\"bgcolor\":\"#E5ECF6\",\"angularaxis\":{\"gridcolor\":\"white\",\"linecolor\":\"white\",\"ticks\":\"\"},\"radialaxis\":{\"gridcolor\":\"white\",\"linecolor\":\"white\",\"ticks\":\"\"}},\"ternary\":{\"bgcolor\":\"#E5ECF6\",\"aaxis\":{\"gridcolor\":\"white\",\"linecolor\":\"white\",\"ticks\":\"\"},\"baxis\":{\"gridcolor\":\"white\",\"linecolor\":\"white\",\"ticks\":\"\"},\"caxis\":{\"gridcolor\":\"white\",\"linecolor\":\"white\",\"ticks\":\"\"}},\"coloraxis\":{\"colorbar\":{\"outlinewidth\":0,\"ticks\":\"\"}},\"colorscale\":{\"sequential\":[[0.0,\"#0d0887\"],[0.1111111111111111,\"#46039f\"],[0.2222222222222222,\"#7201a8\"],[0.3333333333333333,\"#9c179e\"],[0.4444444444444444,\"#bd3786\"],[0.5555555555555556,\"#d8576b\"],[0.6666666666666666,\"#ed7953\"],[0.7777777777777778,\"#fb9f3a\"],[0.8888888888888888,\"#fdca26\"],[1.0,\"#f0f921\"]],\"sequentialminus\":[[0.0,\"#0d0887\"],[0.1111111111111111,\"#46039f\"],[0.2222222222222222,\"#7201a8\"],[0.3333333333333333,\"#9c179e\"],[0.4444444444444444,\"#bd3786\"],[0.5555555555555556,\"#d8576b\"],[0.6666666666666666,\"#ed7953\"],[0.7777777777777778,\"#fb9f3a\"],[0.8888888888888888,\"#fdca26\"],[1.0,\"#f0f921\"]],\"diverging\":[[0,\"#8e0152\"],[0.1,\"#c51b7d\"],[0.2,\"#de77ae\"],[0.3,\"#f1b6da\"],[0.4,\"#fde0ef\"],[0.5,\"#f7f7f7\"],[0.6,\"#e6f5d0\"],[0.7,\"#b8e186\"],[0.8,\"#7fbc41\"],[0.9,\"#4d9221\"],[1,\"#276419\"]]},\"xaxis\":{\"gridcolor\":\"white\",\"linecolor\":\"white\",\"ticks\":\"\",\"title\":{\"standoff\":15},\"zerolinecolor\":\"white\",\"automargin\":true,\"zerolinewidth\":2},\"yaxis\":{\"gridcolor\":\"white\",\"linecolor\":\"white\",\"ticks\":\"\",\"title\":{\"standoff\":15},\"zerolinecolor\":\"white\",\"automargin\":true,\"zerolinewidth\":2},\"scene\":{\"xaxis\":{\"backgroundcolor\":\"#E5ECF6\",\"gridcolor\":\"white\",\"linecolor\":\"white\",\"showbackground\":true,\"ticks\":\"\",\"zerolinecolor\":\"white\",\"gridwidth\":2},\"yaxis\":{\"backgroundcolor\":\"#E5ECF6\",\"gridcolor\":\"white\",\"linecolor\":\"white\",\"showbackground\":true,\"ticks\":\"\",\"zerolinecolor\":\"white\",\"gridwidth\":2},\"zaxis\":{\"backgroundcolor\":\"#E5ECF6\",\"gridcolor\":\"white\",\"linecolor\":\"white\",\"showbackground\":true,\"ticks\":\"\",\"zerolinecolor\":\"white\",\"gridwidth\":2}},\"shapedefaults\":{\"line\":{\"color\":\"#2a3f5f\"}},\"annotationdefaults\":{\"arrowcolor\":\"#2a3f5f\",\"arrowhead\":0,\"arrowwidth\":1},\"geo\":{\"bgcolor\":\"white\",\"landcolor\":\"#E5ECF6\",\"subunitcolor\":\"white\",\"showland\":true,\"showlakes\":true,\"lakecolor\":\"white\"},\"title\":{\"x\":0.05},\"mapbox\":{\"style\":\"light\"}}},\"title\":{\"text\":\"Sankey Diagram: Distribution of Race within Each Sport\"},\"font\":{\"size\":10}},                        {\"responsive\": true}                    ).then(function(){\n",
       "                            \n",
       "var gd = document.getElementById('3ebf1c25-9323-43ac-97d8-013eead82e75');\n",
       "var x = new MutationObserver(function (mutations, observer) {{\n",
       "        var display = window.getComputedStyle(gd).display;\n",
       "        if (!display || display === 'none') {{\n",
       "            console.log([gd, 'removed!']);\n",
       "            Plotly.purge(gd);\n",
       "            observer.disconnect();\n",
       "        }}\n",
       "}});\n",
       "\n",
       "// Listen for the removal of the full notebook cells\n",
       "var notebookContainer = gd.closest('#notebook-container');\n",
       "if (notebookContainer) {{\n",
       "    x.observe(notebookContainer, {childList: true});\n",
       "}}\n",
       "\n",
       "// Listen for the clearing of the current output cell\n",
       "var outputEl = gd.closest('.output');\n",
       "if (outputEl) {{\n",
       "    x.observe(outputEl, {childList: true});\n",
       "}}\n",
       "\n",
       "                        })                };                });            </script>        </div>"
      ]
     },
     "metadata": {},
     "output_type": "display_data"
    }
   ],
   "source": [
    "import pandas as pd\n",
    "import plotly.graph_objects as go\n",
    "\n",
    "\n",
    "ethni_col = 'Ethnicity' \n",
    "sport_col = 'sport' \n",
    "\n",
    "races = df_Athletes[ethni_col].unique()\n",
    "sports = df_Athletes[sport_col].unique()\n",
    "\n",
    "labels = list(races) + list(sports)\n",
    "\n",
    "source = []\n",
    "target = []\n",
    "value = []\n",
    "\n",
    "for i, race in enumerate(races):\n",
    "    for j, sport in enumerate(sports):\n",
    "        count = df_Athletes[(df_Athletes[ethni_col] == race) & (df_Athletes[sport_col] == sport)].shape[0]\n",
    "        if count > 0:\n",
    "            source.append(i)  # Index of the race in the labels list\n",
    "            target.append(len(races) + j)  # Index of the sport in the labels list\n",
    "            value.append(count)\n",
    "\n",
    "\n",
    "fig = go.Figure(data=[go.Sankey(\n",
    "    node=dict(\n",
    "        pad=15,\n",
    "        thickness=20,\n",
    "        line=dict(color=\"black\", width=0.5),\n",
    "        label=labels,\n",
    "    ),\n",
    "    link=dict(\n",
    "        source=source,\n",
    "        target=target,\n",
    "        value=value,\n",
    "    )\n",
    ")])\n",
    "\n",
    "fig.update_layout(title_text=\"Sankey Diagram: Distribution of Race within Each Sport\", font_size=10)\n",
    "fig.show()\n"
   ]
  },
  {
   "cell_type": "markdown",
   "id": "a8407755-2a38-4f75-b70b-a4a9cd1181df",
   "metadata": {},
   "source": [
    "27. Calculate the average heart rate for every minute for every athlete and add it as a column in the same dataframe.\n"
   ]
  },
  {
   "cell_type": "code",
   "execution_count": 69,
   "id": "a01588bd-0708-4505-bf6c-85c4d0136402",
   "metadata": {},
   "outputs": [],
   "source": [
    "df_data[\"HR\"] = 60/(df_data.RR/1000)\n",
    "df_data.head(10)\n",
    "df_data['time'] = pd.to_datetime(df_data['time'])"
   ]
  },
  {
   "cell_type": "code",
   "execution_count": 73,
   "id": "439e3397-c073-41c0-9e77-a452e7b6b759",
   "metadata": {},
   "outputs": [
    {
     "name": "stdout",
     "output_type": "stream",
     "text": [
      "Empty DataFrame\n",
      "Columns: [First Name, Minute, HR]\n",
      "Index: []\n"
     ]
    }
   ],
   "source": [
    "df_data['Minute'] = df_data['time'].dt.floor('T')\n",
    "avg_hr_rate = df_data.groupby(['First Name', 'Minute'])['HR'].mean().reset_index()\n",
    "print(avg_hr_rate)"
   ]
  },
  {
   "cell_type": "markdown",
   "id": "f177869f-9af4-4279-adc0-ac3b05bdc10d",
   "metadata": {},
   "source": [
    "28.  Print athlete 15s Age and Pvt1 using the format() function\n"
   ]
  },
  {
   "cell_type": "code",
   "execution_count": 117,
   "id": "f6cd4879-bb20-4639-851f-f78393aa8177",
   "metadata": {},
   "outputs": [
    {
     "name": "stdout",
     "output_type": "stream",
     "text": [
      "Athlete 15's Age is 15 and Pvt1 is 50\n"
     ]
    }
   ],
   "source": [
    "age_athlete = df_Athletes[df_Athletes['age'] == 15].iloc[0] \n",
    "\n",
    "age = age_athlete['age']\n",
    "pvt1 = age_athlete['P_vt1']\n",
    "\n",
    "\n",
    "print(\"Athlete 15's Age is {} and Pvt1 is {}\".format(age, pvt1))\n"
   ]
  },
  {
   "cell_type": "markdown",
   "id": "9ee49021-4830-4a07-ac80-d3cc7f21660c",
   "metadata": {},
   "source": [
    "29. On average how long was each participants’ warm up?\n"
   ]
  },
  {
   "cell_type": "code",
   "execution_count": null,
   "id": "e4fab89b-3e28-480a-8e54-43984438b3c8",
   "metadata": {},
   "outputs": [],
   "source": [
    "\n",
    "df_data[\"stage\"] = \"\"\n",
    "df_data.loc[df_data[\"power\"] == 0, \"stage\"] = \"cooldown\"\n",
    "df_data.loc[df_data[\"time\"] < 0, \"stage\"] = \"warmup\"\n",
    "df_data.loc[df_data[\"power\"] > 0, \"stage\"] = \"GET\"\n",
    "df_data.head()\n"
   ]
  },
  {
   "cell_type": "code",
   "execution_count": 135,
   "id": "c2b63b2a-aded-447a-a3cc-70c5418a48b9",
   "metadata": {},
   "outputs": [
    {
     "name": "stdout",
     "output_type": "stream",
     "text": [
      "On average, each participant's warm-up time was 90.06 minutes.\n"
     ]
    }
   ],
   "source": [
    "\n",
    "\n",
    "warmup_times = df_data.loc[df_data['stage'] == 'warmup', 'time'].abs()\n",
    "\n",
    "avg_wp_time = warmup_times.mean()\n",
    "\n",
    "print(f\"On average, each participant's warm-up time was {avg_wp_time:.2f} minutes.\")\n"
   ]
  },
  {
   "cell_type": "markdown",
   "id": "f94ad84c-2e3b-4aa6-bc47-885fb5d03478",
   "metadata": {},
   "source": [
    "30. Display the HRV of each athlete?\n"
   ]
  },
  {
   "cell_type": "code",
   "execution_count": null,
   "id": "11073923-dc5e-47ab-90ab-e0e6fe448d0f",
   "metadata": {},
   "outputs": [],
   "source": [
    "df_RR = df_data.copy()\n",
    "#calculated differences of RR_intervals\n",
    "df_RR[\"HRV\"]= df_RR.groupby(\"ID\")[\"RR\"].diff()\n",
    "# Calculated HRV as standard deviation of RR_interval diffrences and updated to the athelete dataframe. \n",
    "df_Athletes = pd.merge(df_Athletes,df_RR.groupby(\"ID\")[\"HRV\"].std(), on=\"ID\")\n"
   ]
  },
  {
   "cell_type": "code",
   "execution_count": null,
   "id": "3b6a253f-44fa-4c21-a257-b4c3db28cca4",
   "metadata": {},
   "outputs": [],
   "source": [
    "df_Athletes.reset_index()[[\"First Name\",\"Last Name\",\"HRV\"]].values.tolist()"
   ]
  },
  {
   "cell_type": "markdown",
   "id": "140a8209-c2c4-4d47-bc7b-33029713d009",
   "metadata": {},
   "source": [
    "31. Return the count of athletes for any sport that the user inputs.\n"
   ]
  },
  {
   "cell_type": "code",
   "execution_count": null,
   "id": "68385da0-a29d-4ecb-b1c3-3a15f231305a",
   "metadata": {},
   "outputs": [],
   "source": [
    "df_data = pd.concat([df_Kayaking,df_Triathlon,df_Fencing,df_Athletes],ignore_index=True)"
   ]
  },
  {
   "cell_type": "code",
   "execution_count": 174,
   "id": "5edfb1ce-3053-4793-afc2-c1cdff8ccd01",
   "metadata": {},
   "outputs": [
    {
     "name": "stdout",
     "output_type": "stream",
     "text": [
      "Number of athletes participating in fencing: 10\n"
     ]
    }
   ],
   "source": [
    "\n",
    "df_data = pd.concat([df_Kayaking,df_Triathlon,df_Fencing,df_Athletes],ignore_index=True)\n",
    "def count_athletes_for_sport(sport):\n",
    "    # Check if the sport exists in the DataFrame\n",
    "    if sport in df_data['sport'].values:\n",
    "        # Filter DataFrame for the specified sport and count unique athletes\n",
    "        count = df_data[df_data['sport'] == sport]['ID'].nunique()\n",
    "        return count\n",
    "    else:\n",
    "        return \"Sport not found in the DataFrame.\"\n",
    "\n",
    "# Example user input\n",
    "user_input_sport = 'fencing'\n",
    "athlete_count = count_athletes_for_sport(user_input_sport)\n",
    "print(f\"Number of athletes participating in {user_input_sport}: {athlete_count}\")"
   ]
  },
  {
   "cell_type": "code",
   "execution_count": null,
   "id": "d647d90c-d82c-4208-affa-b15c05b9ff81",
   "metadata": {},
   "outputs": [],
   "source": [
    "32.Insert the name of every athlete into an array and display the length of that array.\n"
   ]
  },
  {
   "cell_type": "code",
   "execution_count": 94,
   "id": "89307058-7e97-429e-8629-8f4fd1335b10",
   "metadata": {},
   "outputs": [
    {
     "name": "stdout",
     "output_type": "stream",
     "text": [
      "Index(['ID', 'time', 'RR', 'VO2', 'power'], dtype='object')\n"
     ]
    }
   ],
   "source": [
    "print(df_data.columns)"
   ]
  },
  {
   "cell_type": "code",
   "execution_count": 100,
   "id": "2ffcc97b-22cf-4c68-9db3-20be290fe5d7",
   "metadata": {},
   "outputs": [],
   "source": [
    "df_data = pd.concat([df_Kayaking,df_Triathlon,df_Fencing,df_Athletes], axis = 1)"
   ]
  },
  {
   "cell_type": "code",
   "execution_count": 102,
   "id": "e5cbb354-30ab-496a-bb47-3f2c7866754c",
   "metadata": {},
   "outputs": [
    {
     "name": "stdout",
     "output_type": "stream",
     "text": [
      "Length of the list: 27603\n"
     ]
    }
   ],
   "source": [
    "athlete_names = df_data['First Name'].tolist()\n",
    "print(\"Length of the list:\", len(athlete_names))"
   ]
  },
  {
   "cell_type": "code",
   "execution_count": null,
   "id": "f61d3704-dc6a-47b4-81fd-016f28f0987b",
   "metadata": {},
   "outputs": [],
   "source": []
  }
 ],
 "metadata": {
  "kernelspec": {
   "display_name": "Python 3 (ipykernel)",
   "language": "python",
   "name": "python3"
  },
  "language_info": {
   "codemirror_mode": {
    "name": "ipython",
    "version": 3
   },
   "file_extension": ".py",
   "mimetype": "text/x-python",
   "name": "python",
   "nbconvert_exporter": "python",
   "pygments_lexer": "ipython3",
   "version": "3.12.4"
  }
 },
 "nbformat": 4,
 "nbformat_minor": 5
}
